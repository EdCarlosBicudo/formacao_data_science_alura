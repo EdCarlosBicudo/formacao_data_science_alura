{
 "cells": [
  {
   "cell_type": "markdown",
   "metadata": {
    "colab_type": "text",
    "id": "WvMflodMjQKe"
   },
   "source": [
    "***\n",
    "# <font color=green size=10>CURSO DE ESTATÍSTICA - PARTE 2</font>\n",
    "***"
   ]
  },
  {
   "cell_type": "markdown",
   "metadata": {
    "colab_type": "text",
    "id": "cVgsZ_E3jQKg"
   },
   "source": [
    "# <font color=green>1 CONHECENDO OS DADOS</font>\n",
    "***"
   ]
  },
  {
   "cell_type": "markdown",
   "metadata": {
    "colab_type": "text",
    "id": "TDjqYYNojQKh"
   },
   "source": [
    "## <font color=green>1.1 Dataset do projeto</font>\n",
    "***"
   ]
  },
  {
   "cell_type": "markdown",
   "metadata": {
    "colab_type": "text",
    "id": "iN1gIbaKjQKh"
   },
   "source": [
    "### Pesquisa Nacional por Amostra de Domicílios - 2015\n",
    "\n",
    "A **Pesquisa Nacional por Amostra de Domicílios - PNAD** investiga anualmente, de forma permanente, características gerais da população, de educação, trabalho, rendimento e habitação e outras, com periodicidade variável, de acordo com as necessidades de informação para o país, como as características sobre migração, fecundidade, nupcialidade, saúde, segurança alimentar, entre outros temas. O levantamento dessas estatísticas constitui, ao longo dos 49 anos de realização da pesquisa, um importante instrumento para formulação, validação e avaliação de políticas orientadas para o desenvolvimento socioeconômico e a melhoria das condições de vida no Brasil."
   ]
  },
  {
   "cell_type": "markdown",
   "metadata": {
    "colab_type": "text",
    "id": "U6V7br1RjQKi"
   },
   "source": [
    "### Fonte dos Dados\n",
    "\n",
    "https://ww2.ibge.gov.br/home/estatistica/populacao/trabalhoerendimento/pnad2015/microdados.shtm"
   ]
  },
  {
   "cell_type": "markdown",
   "metadata": {
    "colab_type": "text",
    "id": "r0Fe_qnzjQKj"
   },
   "source": [
    "### Variáveis utilizadas\n",
    "\n",
    "> ### Renda\n",
    "> ***\n",
    "\n",
    "Rendimento mensal do trabalho principal para pessoas de 10 anos ou mais de idade.\n",
    "\n",
    "> ### Idade\n",
    "> ***\n",
    "\n",
    "Idade do morador na data de referência em anos.\n",
    "\n",
    "> ### Altura (elaboração própria)\n",
    "> ***\n",
    "\n",
    "Altura do morador em metros.\n",
    "\n",
    "> ### UF\n",
    "> ***\n",
    "\n",
    "|Código|Descrição|\n",
    "|---|---|\n",
    "|11|Rondônia|\n",
    "|12|Acre|\n",
    "|13|Amazonas|\n",
    "|14|Roraima|\n",
    "|15|Pará|\n",
    "|16|Amapá|\n",
    "|17|Tocantins|\n",
    "|21|Maranhão|\n",
    "|22|Piauí|\n",
    "|23|Ceará|\n",
    "|24|Rio Grande do Norte|\n",
    "|25|Paraíba|\n",
    "|26|Pernambuco|\n",
    "|27|Alagoas|\n",
    "|28|Sergipe|\n",
    "|29|Bahia|\n",
    "|31|Minas Gerais|\n",
    "|32|Espírito Santo|\n",
    "|33|Rio de Janeiro|\n",
    "|35|São Paulo|\n",
    "|41|Paraná|\n",
    "|42|Santa Catarina|\n",
    "|43|Rio Grande do Sul|\n",
    "|50|Mato Grosso do Sul|\n",
    "|51|Mato Grosso|\n",
    "|52|Goiás|\n",
    "|53|Distrito Federal|\n",
    "\n",
    "> ### Sexo\t\n",
    "> ***\n",
    "\n",
    "|Código|Descrição|\n",
    "|---|---|\n",
    "|0|Masculino|\n",
    "|1|Feminino|\n",
    "\n",
    "> ### Anos de Estudo\n",
    "> ***\n",
    "\n",
    "|Código|Descrição|\n",
    "|---|---|\n",
    "|1|Sem instrução e menos de 1 ano|\n",
    "|2|1 ano|\n",
    "|3|2 anos|\n",
    "|4|3 anos|\n",
    "|5|4 anos|\n",
    "|6|5 anos|\n",
    "|7|6 anos|\n",
    "|8|7 anos|\n",
    "|9|8 anos|\n",
    "|10|9 anos|\n",
    "|11|10 anos|\n",
    "|12|11 anos|\n",
    "|13|12 anos|\n",
    "|14|13 anos|\n",
    "|15|14 anos|\n",
    "|16|15 anos ou mais|\n",
    "|17|Não determinados| \n",
    "||Não aplicável|\n",
    "\n",
    "> ### Cor\n",
    "> ***\n",
    "\n",
    "|Código|Descrição|\n",
    "|---|---|\n",
    "|0|Indígena|\n",
    "|2|Branca|\n",
    "|4|Preta|\n",
    "|6|Amarela|\n",
    "|8|Parda|\n",
    "|9|Sem declaração|"
   ]
  },
  {
   "cell_type": "markdown",
   "metadata": {
    "colab_type": "text",
    "id": "OK1IQH5cX7Gb"
   },
   "source": [
    "#### <font color='red'>Observação</font>\n",
    "***\n",
    "> Os seguintes tratamentos foram realizados nos dados originais:\n",
    "> 1. Foram eliminados os registros onde a **Renda** era inválida (999 999 999 999);\n",
    "> 2. Foram eliminados os registros onde a **Renda** era missing;\n",
    "> 3. Foram considerados somente os registros das **Pessoas de Referência** de cada domicílio (responsável pelo domicílio)."
   ]
  },
  {
   "cell_type": "markdown",
   "metadata": {
    "colab_type": "text",
    "id": "8Rw70V6ojQKk"
   },
   "source": [
    "### Importando pandas e lendo o dataset do projeto\n",
    "\n",
    "https://pandas.pydata.org/"
   ]
  },
  {
   "cell_type": "code",
   "execution_count": 2,
   "metadata": {
    "colab": {},
    "colab_type": "code",
    "id": "8QgOpE-wjQKl"
   },
   "outputs": [],
   "source": [
    "import pandas as pd"
   ]
  },
  {
   "cell_type": "code",
   "execution_count": 3,
   "metadata": {
    "colab": {},
    "colab_type": "code",
    "id": "ufRZ7TLwjQKo"
   },
   "outputs": [],
   "source": [
    "dados = pd.read_csv(\"dados.csv\")"
   ]
  },
  {
   "cell_type": "code",
   "execution_count": 4,
   "metadata": {
    "colab": {
     "base_uri": "https://localhost:8080/",
     "height": 204
    },
    "colab_type": "code",
    "id": "GsC_WhLFjQKq",
    "outputId": "36b6565f-bb67-47b7-ea64-8d2695c60e6b",
    "scrolled": true
   },
   "outputs": [
    {
     "output_type": "execute_result",
     "data": {
      "text/plain": [
       "   UF  Sexo  Idade  Cor  Anos de Estudo  Renda    Altura\n",
       "0  11     0     23    8              12    800  1.603808\n",
       "1  11     1     23    2              12   1150  1.739790\n",
       "2  11     1     35    8              15    880  1.760444\n",
       "3  11     0     46    2               6   3500  1.783158\n",
       "4  11     1     47    8               9    150  1.690631"
      ],
      "text/html": "<div>\n<style scoped>\n    .dataframe tbody tr th:only-of-type {\n        vertical-align: middle;\n    }\n\n    .dataframe tbody tr th {\n        vertical-align: top;\n    }\n\n    .dataframe thead th {\n        text-align: right;\n    }\n</style>\n<table border=\"1\" class=\"dataframe\">\n  <thead>\n    <tr style=\"text-align: right;\">\n      <th></th>\n      <th>UF</th>\n      <th>Sexo</th>\n      <th>Idade</th>\n      <th>Cor</th>\n      <th>Anos de Estudo</th>\n      <th>Renda</th>\n      <th>Altura</th>\n    </tr>\n  </thead>\n  <tbody>\n    <tr>\n      <th>0</th>\n      <td>11</td>\n      <td>0</td>\n      <td>23</td>\n      <td>8</td>\n      <td>12</td>\n      <td>800</td>\n      <td>1.603808</td>\n    </tr>\n    <tr>\n      <th>1</th>\n      <td>11</td>\n      <td>1</td>\n      <td>23</td>\n      <td>2</td>\n      <td>12</td>\n      <td>1150</td>\n      <td>1.739790</td>\n    </tr>\n    <tr>\n      <th>2</th>\n      <td>11</td>\n      <td>1</td>\n      <td>35</td>\n      <td>8</td>\n      <td>15</td>\n      <td>880</td>\n      <td>1.760444</td>\n    </tr>\n    <tr>\n      <th>3</th>\n      <td>11</td>\n      <td>0</td>\n      <td>46</td>\n      <td>2</td>\n      <td>6</td>\n      <td>3500</td>\n      <td>1.783158</td>\n    </tr>\n    <tr>\n      <th>4</th>\n      <td>11</td>\n      <td>1</td>\n      <td>47</td>\n      <td>8</td>\n      <td>9</td>\n      <td>150</td>\n      <td>1.690631</td>\n    </tr>\n  </tbody>\n</table>\n</div>"
     },
     "metadata": {},
     "execution_count": 4
    }
   ],
   "source": [
    "dados.head()"
   ]
  },
  {
   "cell_type": "markdown",
   "metadata": {
    "colab_type": "text",
    "id": "-z3bLQIUG3Hv"
   },
   "source": [
    "---\n",
    "---"
   ]
  },
  {
   "cell_type": "markdown",
   "metadata": {
    "colab_type": "text",
    "id": "tL9xVLwTX07g"
   },
   "source": [
    "# <font color=green>2 DISTRIBUIÇÕES DE PROBABILIDADE</font>\n",
    "***"
   ]
  },
  {
   "cell_type": "markdown",
   "metadata": {
    "colab_type": "text",
    "id": "3nlvC-5qG3Bj"
   },
   "source": [
    "## <font color=red>Problema</font>\n",
    "***"
   ]
  },
  {
   "cell_type": "markdown",
   "metadata": {
    "colab_type": "text",
    "id": "8CclIz9oG3Bk"
   },
   "source": [
    "Em um concurso para preencher uma vaga de cientista de dados temos um total de **10 questões** de múltipla escolha com **3 alternativas possíveis** em cada questão. **Cada questão tem o mesmo valor.** Suponha que um candidato resolva se aventurar sem ter estudado absolutamente nada. Ele resolve fazer a prova de olhos vendados e chutar todas as resposta. Assumindo que a prova **vale 10 pontos e a nota de corte seja 5**, obtenha a probabilidade deste candidato **acertar 5 questões** e também a probabilidade deste candidato **passar para a próxima etapa do processo seletivo**."
   ]
  },
  {
   "cell_type": "markdown",
   "metadata": {
    "colab_type": "text",
    "id": "KJxd2KFSYLML"
   },
   "source": [
    "## <font color=green>2.1 Distribuição Binomial</font>\n",
    "***"
   ]
  },
  {
   "cell_type": "markdown",
   "metadata": {
    "colab_type": "text",
    "id": "mcbl3KbnG3Bq"
   },
   "source": [
    "Um evento **binomial** é caracterizado pela possibilidade de ocorrência de apenas duas categorias. Estas categorias somadas representam todo o espaço amostral, sendo também mutuamente excludentes, ou seja, a ocorrência de uma implica na não ocorrência da outra.\n",
    "\n",
    "Em análises estatísticas o uso mais comum da distribuição binomial é na solução de problemas que envolvem situações de **sucesso** e **fracasso**."
   ]
  },
  {
   "cell_type": "markdown",
   "metadata": {
    "colab_type": "text",
    "id": "iLoYAuJ9G3Bs"
   },
   "source": [
    "# $$P(k)=\\binom{n}{k} p^k q^{n-k}$$\n",
    "\n",
    "Onde:\n",
    "\n",
    "$p$ = probabilidade de sucesso\n",
    "\n",
    "$q = (1 - p)$ = probabilidade de fracasso\n",
    "\n",
    "$n$ = número de eventos estudados\n",
    "\n",
    "$k$ = número de eventos desejados que tenham sucesso"
   ]
  },
  {
   "cell_type": "markdown",
   "metadata": {
    "colab_type": "text",
    "id": "PxEgWbFdG3Bt"
   },
   "source": [
    "### Experimento Binomial"
   ]
  },
  {
   "cell_type": "markdown",
   "metadata": {
    "colab_type": "text",
    "id": "eqQK3Ny-G3Bv"
   },
   "source": [
    "1. Realização de $n$ ensaios idênticos.\n",
    "\n",
    "2. Os ensaios são independentes.\n",
    "\n",
    "3. Somente dois resultados são possíveis, exemplo: Verdadeiro ou falso; Cara ou coroa; Sucesso ou fracasso.\n",
    "\n",
    "4. A probabilidade de sucesso é representada por $p$ e a de fracasso por $1-p=q$. Estas probabilidades não se modificam de ensaio para ensaio."
   ]
  },
  {
   "cell_type": "markdown",
   "metadata": {
    "colab_type": "text",
    "id": "mT77udQ0G3Bx"
   },
   "source": [
    "### Média da distribuição binomial"
   ]
  },
  {
   "cell_type": "markdown",
   "metadata": {
    "colab_type": "text",
    "id": "EGiuemgqG3By"
   },
   "source": [
    "O valor esperado ou a média da distribuição binomial é igual ao número de experimentos realizados multiplicado pela chance de ocorrência do evento.\n",
    "\n",
    "# $$\\mu = n \\times p$$"
   ]
  },
  {
   "cell_type": "markdown",
   "metadata": {
    "colab_type": "text",
    "id": "1fDLi96OG3Bz"
   },
   "source": [
    "### Desvio padrão da distribuição binomial"
   ]
  },
  {
   "cell_type": "markdown",
   "metadata": {
    "colab_type": "text",
    "id": "EZojizotG3B1"
   },
   "source": [
    "O desvio padrão é o produto entre o número de experimentos, a probabilidade de sucesso e a probabilidade de fracasso.\n",
    "\n",
    "# $$\\sigma = \\sqrt{n \\times p \\times q}$$"
   ]
  },
  {
   "cell_type": "markdown",
   "metadata": {
    "colab_type": "text",
    "id": "udqnjFnsG3B2"
   },
   "source": [
    "### Importando bibliotecas\n",
    "https://docs.scipy.org/doc/scipy/reference/generated/scipy.special.comb.html"
   ]
  },
  {
   "cell_type": "code",
   "execution_count": 5,
   "metadata": {
    "colab": {},
    "colab_type": "code",
    "id": "-U2sGssNG3B4"
   },
   "outputs": [],
   "source": [
    "from scipy.special import comb"
   ]
  },
  {
   "cell_type": "markdown",
   "metadata": {
    "colab_type": "text",
    "id": "MxxuJNSwG3B7"
   },
   "source": [
    "### Combinações\n",
    "\n",
    "Número de combinações de $n$ objetos, tomados $k$ a cada vez, é:\n",
    "\n",
    "# $$C_{k}^{n} = \\binom{n}{k} = \\frac{n!}{k!(n - k)!}$$\n",
    "\n",
    "Onde\n",
    "\n",
    "## $$n! = n\\times(n-1)\\times(n-2)\\times...\\times(2)\\times(1)$$\n",
    "## $$k! = k\\times(k-1)\\times(k-2)\\times...\\times(2)\\times(1)$$\n",
    "\n",
    "Por definição\n",
    "\n",
    "## $$0! = 1$$"
   ]
  },
  {
   "cell_type": "markdown",
   "metadata": {
    "colab_type": "text",
    "id": "Udz87Pq3G3B8"
   },
   "source": [
    "## <font color='blue'>Exemplo: Mega Sena</font>"
   ]
  },
  {
   "cell_type": "markdown",
   "metadata": {
    "colab_type": "text",
    "id": "h1Mo9AxyG3B8"
   },
   "source": [
    "Em um volante de loteria da Mega Sena temos um total de **60 números** para escolher onde a aposta mínima é de **seis números**. Você que é curiosa(o) resolve calcular a probabilidade de se acertar na Mega Sena com apenas **um jogo**. Para isso precisamos saber quantas **combinações de seis números podem ser formadas com os 60 números disponíveis**.\n",
    "\n",
    "### $$C_{6}^{60} = \\binom{60}{6} = \\frac{60!}{6!(60 - 6)!}$$"
   ]
  },
  {
   "cell_type": "code",
   "execution_count": 6,
   "metadata": {
    "colab": {
     "base_uri": "https://localhost:8080/",
     "height": 34
    },
    "colab_type": "code",
    "id": "c2t7yHl7G3B9",
    "outputId": "6d1e9337-9d68-4866-9e48-3dbb3f81d07d"
   },
   "outputs": [
    {
     "output_type": "execute_result",
     "data": {
      "text/plain": [
       "50063860.0"
      ]
     },
     "metadata": {},
     "execution_count": 6
    }
   ],
   "source": [
    "combinacoes = comb(60, 6)\n",
    "combinacoes"
   ]
  },
  {
   "cell_type": "code",
   "execution_count": 7,
   "metadata": {
    "colab": {
     "base_uri": "https://localhost:8080/",
     "height": 34
    },
    "colab_type": "code",
    "id": "LpioeTSXG3CB",
    "outputId": "d1e0ab82-be84-423c-e206-a9f8e1437df4"
   },
   "outputs": [
    {
     "output_type": "stream",
     "name": "stdout",
     "text": [
      "0.000000019974489\n"
     ]
    }
   ],
   "source": [
    "probabilidade = 1 / combinacoes\n",
    "print(f\"{probabilidade:.15f}\")"
   ]
  },
  {
   "cell_type": "markdown",
   "metadata": {
    "colab_type": "text",
    "id": "t1rA1yJpG3CF"
   },
   "source": [
    "## <font color='blue'>Exemplo: Concurso para cientista de dados</font>"
   ]
  },
  {
   "cell_type": "markdown",
   "metadata": {
    "colab_type": "text",
    "id": "K0DPDD37G3CG"
   },
   "source": [
    "Em um concurso para preencher uma vaga de cientista de dados temos um total de **10 questões** de múltipla escolha com **3 alternativas possíveis** em cada questão. **Cada questão tem o mesmo valor.** Suponha que um candidato resolva se aventurar sem ter estudado absolutamente nada. Ele resolve fazer a prova de olhos vendados e chutar todas as resposta. Assumindo que a prova **vale 10 pontos e a nota de corte seja 5**, obtenha a probabilidade deste candidato **acertar 5 questões** e também a probabilidade deste candidato **passar para a próxima etapa do processo seletivo**."
   ]
  },
  {
   "cell_type": "markdown",
   "metadata": {
    "colab_type": "text",
    "id": "sf-NMPfxG3CH"
   },
   "source": [
    "### Qual o número de ensaios ($n$)?"
   ]
  },
  {
   "cell_type": "code",
   "execution_count": 8,
   "metadata": {
    "colab": {
     "base_uri": "https://localhost:8080/",
     "height": 34
    },
    "colab_type": "code",
    "id": "WmnjMTnYG3CH",
    "outputId": "859f37e5-992a-4ccf-fbfb-4e2cf52c4373"
   },
   "outputs": [
    {
     "output_type": "execute_result",
     "data": {
      "text/plain": [
       "10"
      ]
     },
     "metadata": {},
     "execution_count": 8
    }
   ],
   "source": [
    "n = 10\n",
    "n"
   ]
  },
  {
   "cell_type": "markdown",
   "metadata": {
    "colab_type": "text",
    "id": "1USf9Ro8G3CK"
   },
   "source": [
    "### Os ensaios são independentes?"
   ]
  },
  {
   "cell_type": "markdown",
   "metadata": {
    "colab_type": "text",
    "id": "82xf2XIkG3CM"
   },
   "source": [
    "Sim. A opção escolhida em uma questão não influencia em nada a opção escolhida em outra questão."
   ]
  },
  {
   "cell_type": "markdown",
   "metadata": {
    "colab_type": "text",
    "id": "7jN0H5e7G3CN"
   },
   "source": [
    "### Somente dois resultados são possíveis em cada ensaio?"
   ]
  },
  {
   "cell_type": "markdown",
   "metadata": {
    "colab_type": "text",
    "id": "gGxcY7K8G3CO"
   },
   "source": [
    "Sim. O candidato tem duas possibilidades, ACERTA ou ERRAR uma questão. "
   ]
  },
  {
   "cell_type": "markdown",
   "metadata": {
    "colab_type": "text",
    "id": "MZw2LDQjG3CR"
   },
   "source": [
    "### Qual a probabilidade de sucesso ($p$)?"
   ]
  },
  {
   "cell_type": "code",
   "execution_count": 9,
   "metadata": {
    "colab": {
     "base_uri": "https://localhost:8080/",
     "height": 34
    },
    "colab_type": "code",
    "id": "AazGDtt0G3CS",
    "outputId": "ccb9e561-0413-43c8-c462-ebea4b6c1097"
   },
   "outputs": [
    {
     "output_type": "execute_result",
     "data": {
      "text/plain": [
       "0.3333333333333333"
      ]
     },
     "metadata": {},
     "execution_count": 9
    }
   ],
   "source": [
    "numero_de_alternativas_por_questao = 3\n",
    "p = 1 / numero_de_alternativas_por_questao\n",
    "p"
   ]
  },
  {
   "cell_type": "markdown",
   "metadata": {
    "colab_type": "text",
    "id": "KPCw41OlG3CX"
   },
   "source": [
    "### Qual a probabilidade de fracasso ($q$)?"
   ]
  },
  {
   "cell_type": "code",
   "execution_count": 10,
   "metadata": {
    "colab": {
     "base_uri": "https://localhost:8080/",
     "height": 34
    },
    "colab_type": "code",
    "id": "FRhmjCnpG3CZ",
    "outputId": "f521f041-ecf4-4c4c-b696-da7b949d657a"
   },
   "outputs": [
    {
     "output_type": "execute_result",
     "data": {
      "text/plain": [
       "0.6666666666666667"
      ]
     },
     "metadata": {},
     "execution_count": 10
    }
   ],
   "source": [
    "q = 1 - p\n",
    "q"
   ]
  },
  {
   "cell_type": "markdown",
   "metadata": {
    "colab_type": "text",
    "id": "W2htpmzaG3Ce"
   },
   "source": [
    "### Qual o total de eventos que se deseja obter sucesso ($k$)?"
   ]
  },
  {
   "cell_type": "code",
   "execution_count": 11,
   "metadata": {
    "colab": {
     "base_uri": "https://localhost:8080/",
     "height": 34
    },
    "colab_type": "code",
    "id": "MmHpiIIuG3Cj",
    "outputId": "6975cb4f-5cd3-4234-f7b0-b5d01ceb0430"
   },
   "outputs": [
    {
     "output_type": "execute_result",
     "data": {
      "text/plain": [
       "5"
      ]
     },
     "metadata": {},
     "execution_count": 11
    }
   ],
   "source": [
    "k = 5\n",
    "k"
   ]
  },
  {
   "cell_type": "markdown",
   "metadata": {
    "colab_type": "text",
    "id": "r8TZ6DSuG3Cm"
   },
   "source": [
    "### Solução 1"
   ]
  },
  {
   "cell_type": "code",
   "execution_count": 12,
   "metadata": {
    "colab": {
     "base_uri": "https://localhost:8080/",
     "height": 34
    },
    "colab_type": "code",
    "id": "tZBbMIzKG3Cn",
    "outputId": "cb9ddc72-bd3a-40e6-f432-ad02048a3047"
   },
   "outputs": [
    {
     "output_type": "stream",
     "name": "stdout",
     "text": [
      "0.13656455\n"
     ]
    }
   ],
   "source": [
    "probabilidade = (comb(n, k)) * (p ** k) * (q ** (n - k))\n",
    "print(f\"{probabilidade:.8f}\")"
   ]
  },
  {
   "cell_type": "markdown",
   "metadata": {
    "colab_type": "text",
    "id": "rDwUvW5UG3Cq"
   },
   "source": [
    "### Importando bibliotecas\n",
    "https://docs.scipy.org/doc/scipy/reference/generated/scipy.stats.binom.html"
   ]
  },
  {
   "cell_type": "code",
   "execution_count": 13,
   "metadata": {
    "colab": {},
    "colab_type": "code",
    "id": "rhlsI3iLG3Cr"
   },
   "outputs": [],
   "source": [
    "from scipy.stats import binom"
   ]
  },
  {
   "cell_type": "markdown",
   "metadata": {
    "colab_type": "text",
    "id": "hvj2sYaSG3Ct"
   },
   "source": [
    "### Solução 2"
   ]
  },
  {
   "cell_type": "code",
   "execution_count": 14,
   "metadata": {
    "colab": {
     "base_uri": "https://localhost:8080/",
     "height": 34
    },
    "colab_type": "code",
    "id": "OjS1xsz5G3Cu",
    "outputId": "e5406623-9e3e-4d41-d1de-c774dc96bc17"
   },
   "outputs": [
    {
     "output_type": "stream",
     "name": "stdout",
     "text": [
      "0.13656455\n"
     ]
    }
   ],
   "source": [
    "probabilidade = binom.pmf(k, n, p)\n",
    "print('%0.8f' % probabilidade)"
   ]
  },
  {
   "cell_type": "markdown",
   "metadata": {},
   "source": [
    "### Obter a probabilidade do candidato passar"
   ]
  },
  {
   "cell_type": "markdown",
   "metadata": {},
   "source": [
    "### $$P(acertar \\geq 5) = P(5) + P(6) + P(7) + P(8) + P(9) + P10)$$"
   ]
  },
  {
   "cell_type": "code",
   "execution_count": 15,
   "metadata": {},
   "outputs": [
    {
     "output_type": "execute_result",
     "data": {
      "text/plain": [
       "0.2131280800690952"
      ]
     },
     "metadata": {},
     "execution_count": 15
    }
   ],
   "source": [
    "binom.pmf(5, n, p) + binom.pmf(6, n, p) + binom.pmf(7, n, p) + binom.pmf(8, n, p) + binom.pmf(9, n, p) + binom.pmf(10, n, p)"
   ]
  },
  {
   "cell_type": "code",
   "execution_count": 16,
   "metadata": {},
   "outputs": [
    {
     "output_type": "execute_result",
     "data": {
      "text/plain": [
       "0.2131280800690952"
      ]
     },
     "metadata": {},
     "execution_count": 16
    }
   ],
   "source": [
    "binom.pmf([5, 6, 7, 8, 9, 10], n, p).sum()"
   ]
  },
  {
   "cell_type": "code",
   "execution_count": 17,
   "metadata": {},
   "outputs": [
    {
     "output_type": "execute_result",
     "data": {
      "text/plain": [
       "0.21312808006909512"
      ]
     },
     "metadata": {},
     "execution_count": 17
    }
   ],
   "source": [
    "1 - binom.cdf(4, n, p)"
   ]
  },
  {
   "cell_type": "code",
   "execution_count": 18,
   "metadata": {},
   "outputs": [
    {
     "output_type": "execute_result",
     "data": {
      "text/plain": [
       "0.21312808006909517"
      ]
     },
     "metadata": {},
     "execution_count": 18
    }
   ],
   "source": [
    "binom.sf(4, n, p)"
   ]
  },
  {
   "cell_type": "markdown",
   "metadata": {
    "colab_type": "text",
    "id": "7hAZ4XkMG3Cx"
   },
   "source": [
    "## <font color='blue'>Exemplo: Gincana</font>"
   ]
  },
  {
   "cell_type": "markdown",
   "metadata": {
    "colab_type": "text",
    "id": "l42alRhOG3Cy"
   },
   "source": [
    "Uma cidade do interior realiza todos os anos uma gincana para arrecadar fundos para o hospital da cidade. Na última gincana se sabe que a **proporção de participantes do sexo feminino foi de 60%**. **O total de equipes, com 12 integrantes, inscritas na gincana deste ano é de 30**. Com as informações acima responda: Quantas equipes deverão ser formadas por **8 mulheres**?"
   ]
  },
  {
   "cell_type": "markdown",
   "metadata": {
    "colab_type": "text",
    "id": "dqBGf6d7G3C0"
   },
   "source": [
    "### Solução"
   ]
  },
  {
   "cell_type": "code",
   "execution_count": 19,
   "metadata": {
    "colab": {
     "base_uri": "https://localhost:8080/",
     "height": 34
    },
    "colab_type": "code",
    "id": "Xw9b6ch3G3C1",
    "outputId": "b4bb8b11-5113-4cc9-bac1-59e9acaf67e6"
   },
   "outputs": [
    {
     "output_type": "execute_result",
     "data": {
      "text/plain": [
       "12"
      ]
     },
     "metadata": {},
     "execution_count": 19
    }
   ],
   "source": [
    "n = 12\n",
    "n"
   ]
  },
  {
   "cell_type": "code",
   "execution_count": 20,
   "metadata": {
    "colab": {
     "base_uri": "https://localhost:8080/",
     "height": 34
    },
    "colab_type": "code",
    "id": "R3-RaxP5G3C3",
    "outputId": "180b09ba-666e-47c9-b476-224c71fdd5c0"
   },
   "outputs": [
    {
     "output_type": "execute_result",
     "data": {
      "text/plain": [
       "0.6"
      ]
     },
     "metadata": {},
     "execution_count": 20
    }
   ],
   "source": [
    "p = 0.6\n",
    "p"
   ]
  },
  {
   "cell_type": "code",
   "execution_count": 21,
   "metadata": {
    "colab": {
     "base_uri": "https://localhost:8080/",
     "height": 34
    },
    "colab_type": "code",
    "id": "otBHHyD0G3C6",
    "outputId": "c3bdd1ab-763a-43db-ec2e-fb890aa78e3f"
   },
   "outputs": [
    {
     "output_type": "execute_result",
     "data": {
      "text/plain": [
       "8"
      ]
     },
     "metadata": {},
     "execution_count": 21
    }
   ],
   "source": [
    "k = 8\n",
    "k"
   ]
  },
  {
   "cell_type": "code",
   "execution_count": 22,
   "metadata": {
    "colab": {
     "base_uri": "https://localhost:8080/",
     "height": 34
    },
    "colab_type": "code",
    "id": "ZAoBvbQqG3C9",
    "outputId": "62d68ce0-f87f-4879-cc48-4358a7f23a68"
   },
   "outputs": [
    {
     "output_type": "stream",
     "name": "stdout",
     "text": [
      "0.21284094\n"
     ]
    }
   ],
   "source": [
    "probabilidade = binom.pmf(k, n, p)\n",
    "print(f\"{probabilidade:.8f}\")"
   ]
  },
  {
   "cell_type": "code",
   "execution_count": 23,
   "metadata": {
    "colab": {
     "base_uri": "https://localhost:8080/",
     "height": 34
    },
    "colab_type": "code",
    "id": "Tg53uGL4G3DA",
    "outputId": "cf68634d-68fd-41c5-a9a1-98c5ead8b548"
   },
   "outputs": [
    {
     "output_type": "execute_result",
     "data": {
      "text/plain": [
       "6.385228185599988"
      ]
     },
     "metadata": {},
     "execution_count": 23
    }
   ],
   "source": [
    "equipes = 30 * probabilidade\n",
    "equipes"
   ]
  },
  {
   "cell_type": "markdown",
   "metadata": {
    "colab_type": "text",
    "id": "49TiCQRvG3DC"
   },
   "source": [
    "---\n",
    "---"
   ]
  },
  {
   "cell_type": "markdown",
   "metadata": {
    "colab_type": "text",
    "id": "X6bYonAZG3DE"
   },
   "source": [
    "## <font color=red>Problema</font>\n",
    "***"
   ]
  },
  {
   "cell_type": "markdown",
   "metadata": {
    "colab_type": "text",
    "id": "Ccx-Bc9oG3DH"
   },
   "source": [
    "Um restaurante recebe em média **20 pedidos por hora**. Qual a chance de que, em determinada hora escolhida ao acaso, o restaurante receba **15 pedidos**?"
   ]
  },
  {
   "cell_type": "markdown",
   "metadata": {
    "colab_type": "text",
    "id": "k-uV7bgsmand"
   },
   "source": [
    "## <font color=green>2.2 Distribuição Poisson</font>\n",
    "***"
   ]
  },
  {
   "cell_type": "markdown",
   "metadata": {
    "colab_type": "text",
    "id": "H0jPtJICG3DM"
   },
   "source": [
    "É empregada para descrever o número de ocorrências em um intervalo de tempo ou espaço específico. Os eventos são caracterizados pela possibilidade de contagem dos sucessos, mas a não possibilidade de contagem dos fracassos.\n",
    "\n",
    "Como exemplos de processos onde podemos aplicar a distribuição de Poisson temos a determinação do número de clientes que entram em uma loja em determinada hora, o número de carros que chegam em um drive-thru de uma lanchonete na hora do almoço, a determinação do número de acidentes registrados em um trecho de estrada etc."
   ]
  },
  {
   "cell_type": "markdown",
   "metadata": {
    "colab_type": "text",
    "id": "O_XqwANJG3DN"
   },
   "source": [
    "# $$P(k) = \\frac{e^{-\\mu}(\\mu)^k}{k!}$$\n",
    "\n",
    "Onde:\n",
    "\n",
    "$e$ = constante cujo valor aproximado é 2,718281828459045\n",
    "\n",
    "$\\mu$ = representa o número médio de ocorrências em um determinado intervalo de tempo ou espaço\n",
    "\n",
    "$k$ = número de sucessos no intervalo desejado"
   ]
  },
  {
   "cell_type": "markdown",
   "metadata": {
    "colab_type": "text",
    "id": "FqquU8wOG3DO"
   },
   "source": [
    "### Experimento Poisson"
   ]
  },
  {
   "cell_type": "markdown",
   "metadata": {
    "colab_type": "text",
    "id": "ir2odEW3G3DO"
   },
   "source": [
    "1. A probabilidade de uma ocorrência é a mesma em todo o intervalo observado.\n",
    "\n",
    "2. O número de ocorrências em determinado intervalo é independente do número de ocorrências em outros intervalos.\n",
    "\n",
    "3. A probabilidade de uma ocorrência é a mesma em intervalos de igual comprimento."
   ]
  },
  {
   "cell_type": "markdown",
   "metadata": {
    "colab_type": "text",
    "id": "2INlWMa0G3DP"
   },
   "source": [
    "### Média da distribuição Poisson"
   ]
  },
  {
   "cell_type": "markdown",
   "metadata": {
    "colab_type": "text",
    "id": "xywTsniCG3DP"
   },
   "source": [
    "# $$\\mu$$"
   ]
  },
  {
   "cell_type": "markdown",
   "metadata": {
    "colab_type": "text",
    "id": "7-Lh-LpfG3DQ"
   },
   "source": [
    "### Desvio padrão da distribuição Poisson"
   ]
  },
  {
   "cell_type": "markdown",
   "metadata": {
    "colab_type": "text",
    "id": "61uStWUsG3DQ"
   },
   "source": [
    "# $$\\sigma = \\sqrt{\\mu}$$"
   ]
  },
  {
   "cell_type": "markdown",
   "metadata": {
    "colab_type": "text",
    "id": "vniBmzIMG3DR"
   },
   "source": [
    "### Importando bibliotecas\n",
    "\n",
    "http://www.numpy.org/"
   ]
  },
  {
   "cell_type": "code",
   "execution_count": 24,
   "metadata": {
    "colab": {},
    "colab_type": "code",
    "id": "w23fjVT-G3DS"
   },
   "outputs": [],
   "source": [
    "import numpy as np"
   ]
  },
  {
   "cell_type": "code",
   "execution_count": 25,
   "metadata": {
    "colab": {
     "base_uri": "https://localhost:8080/",
     "height": 34
    },
    "colab_type": "code",
    "id": "rdNqMuFNG3DU",
    "outputId": "fad8f9cf-efe3-44e4-8bd3-7495c4161845"
   },
   "outputs": [
    {
     "output_type": "execute_result",
     "data": {
      "text/plain": [
       "2.718281828459045"
      ]
     },
     "metadata": {},
     "execution_count": 25
    }
   ],
   "source": [
    "np.e"
   ]
  },
  {
   "cell_type": "markdown",
   "metadata": {
    "colab_type": "text",
    "id": "RKQWuVgMG3DW"
   },
   "source": [
    "## <font color='blue'>Exemplo: Delivery</font>"
   ]
  },
  {
   "cell_type": "markdown",
   "metadata": {
    "colab_type": "text",
    "id": "ZKc__49bG3DX"
   },
   "source": [
    "Um restaurante recebe em média **20 pedidos por hora**. Qual a chance de que, em determinada hora escolhida ao acaso, o restaurante receba **15 pedidos**?"
   ]
  },
  {
   "cell_type": "markdown",
   "metadata": {
    "colab_type": "text",
    "id": "W-MJ4XBkG3DX"
   },
   "source": [
    "### Qual o número médio de ocorrências por hora ($\\mu$)?"
   ]
  },
  {
   "cell_type": "code",
   "execution_count": 26,
   "metadata": {
    "colab": {
     "base_uri": "https://localhost:8080/",
     "height": 34
    },
    "colab_type": "code",
    "id": "2fVfJxdSG3DY",
    "outputId": "5f93f4cb-eef7-459d-836c-eb825cf3f1d5"
   },
   "outputs": [
    {
     "output_type": "execute_result",
     "data": {
      "text/plain": [
       "20"
      ]
     },
     "metadata": {},
     "execution_count": 26
    }
   ],
   "source": [
    "media = 20\n",
    "media"
   ]
  },
  {
   "cell_type": "markdown",
   "metadata": {
    "colab_type": "text",
    "id": "3SagRtPvG3Da"
   },
   "source": [
    "### Qual o número de ocorrências que queremos obter no período ($k$)?"
   ]
  },
  {
   "cell_type": "code",
   "execution_count": 27,
   "metadata": {
    "colab": {
     "base_uri": "https://localhost:8080/",
     "height": 34
    },
    "colab_type": "code",
    "id": "yXB3QhWyG3Da",
    "outputId": "70e860fe-353f-43ba-98e9-0976282de023"
   },
   "outputs": [
    {
     "output_type": "execute_result",
     "data": {
      "text/plain": [
       "15"
      ]
     },
     "metadata": {},
     "execution_count": 27
    }
   ],
   "source": [
    "k = 15\n",
    "k"
   ]
  },
  {
   "cell_type": "markdown",
   "metadata": {
    "colab_type": "text",
    "id": "3wFh3lFCG3De"
   },
   "source": [
    "### Solução 1"
   ]
  },
  {
   "cell_type": "code",
   "execution_count": 28,
   "metadata": {
    "colab": {
     "base_uri": "https://localhost:8080/",
     "height": 34
    },
    "colab_type": "code",
    "id": "IEGO31WCG3Df",
    "outputId": "3ededd4d-1b97-428a-ad3f-1b8facfc3e38"
   },
   "outputs": [
    {
     "output_type": "stream",
     "name": "stdout",
     "text": [
      "0.05164885\n"
     ]
    }
   ],
   "source": [
    "probabilidade = ((np.e ** (-media)) * (media ** k)) / (np.math.factorial(k))\n",
    "print(f\"{probabilidade:.8f}\")"
   ]
  },
  {
   "cell_type": "markdown",
   "metadata": {
    "colab_type": "text",
    "id": "GoIBvH62G3Di"
   },
   "source": [
    "### Importando bibliotecas"
   ]
  },
  {
   "cell_type": "markdown",
   "metadata": {
    "colab_type": "text",
    "id": "iFSF_9Y4G3Dj"
   },
   "source": [
    "https://docs.scipy.org/doc/scipy/reference/generated/scipy.stats.poisson.html"
   ]
  },
  {
   "cell_type": "markdown",
   "metadata": {
    "colab_type": "text",
    "id": "yAyXh0euG3Dk"
   },
   "source": [
    "### Solução 2"
   ]
  },
  {
   "cell_type": "code",
   "execution_count": 29,
   "metadata": {
    "colab": {
     "base_uri": "https://localhost:8080/",
     "height": 34
    },
    "colab_type": "code",
    "id": "sNw4oCAyG3Dk",
    "outputId": "21ded08e-1fc3-4315-c608-9c016af07e86"
   },
   "outputs": [
    {
     "output_type": "stream",
     "name": "stdout",
     "text": [
      "0.05164885\n"
     ]
    }
   ],
   "source": [
    "from scipy.stats import poisson\n",
    "\n",
    "probabilidade = poisson.pmf(k, media)\n",
    "print(f\"{probabilidade:.8f}\")"
   ]
  },
  {
   "cell_type": "markdown",
   "metadata": {
    "colab_type": "text",
    "id": "g3ng8tQFG3Do"
   },
   "source": [
    "---\n",
    "---"
   ]
  },
  {
   "cell_type": "markdown",
   "metadata": {
    "colab_type": "text",
    "id": "tVPUT9kEG3Dp"
   },
   "source": [
    "## <font color=red>Problema</font>\n",
    "***"
   ]
  },
  {
   "cell_type": "markdown",
   "metadata": {
    "colab_type": "text",
    "id": "j7zVDN0kG3Dq"
   },
   "source": [
    "Em um estudo sobre as alturas dos moradores de uma cidade verificou-se que o conjunto de dados segue uma **distribuição aproximadamente normal**, com **média 1,70** e **desvio padrão de 0,1**. Com estas informações obtenha o seguinte conjunto de probabilidades:\n",
    "\n",
    "> **A.** probabilidade de uma pessoa, selecionada ao acaso, ter menos de 1,80 metros.\n",
    "\n",
    "> **B.** probabilidade de uma pessoa, selecionada ao acaso, ter entre 1,60 metros e 1,80 metros.    \n",
    "\n",
    "> **C.** probabilidade de uma pessoa, selecionada ao acaso, ter mais de 1,90 metros."
   ]
  },
  {
   "cell_type": "markdown",
   "metadata": {
    "colab_type": "text",
    "id": "AowcVaKqpvf2"
   },
   "source": [
    "## <font color=green>2.3 Distribuição Normal</font>\n",
    "***"
   ]
  },
  {
   "cell_type": "markdown",
   "metadata": {
    "colab_type": "text",
    "id": "YOBD21hGG3Dw"
   },
   "source": [
    "A distribuição normal é uma das mais utilizadas em estatística. É uma distribuição contínua, onde a distribuição de frequências de uma variável quantitativa apresenta a forma de sino e é simétrica em relação a sua média."
   ]
  },
  {
   "cell_type": "markdown",
   "metadata": {
    "colab_type": "text",
    "id": "kbPy2ORqqKJA"
   },
   "source": [
    "![Normal](https://caelum-online-public.s3.amazonaws.com/1178-estatistica-parte2/01/img001.png)"
   ]
  },
  {
   "cell_type": "markdown",
   "metadata": {
    "colab_type": "text",
    "id": "J3eKESHTG3Dx"
   },
   "source": [
    "### Características importantes"
   ]
  },
  {
   "cell_type": "markdown",
   "metadata": {
    "colab_type": "text",
    "id": "z8GxAzWZG3Dx"
   },
   "source": [
    "1. É simétrica em torno da média;\n",
    "\n",
    "2. A área sob a curva corresponde à proporção 1 ou 100%;\n",
    "\n",
    "3. As medidas de tendência central (média, mediana e moda) apresentam o mesmo valor;\n",
    "\n",
    "4. Os extremos da curva tendem ao infinito em ambas as direções e, teoricamente, jamais tocam o eixo $x$;\n",
    "\n",
    "5. O desvio padrão define o achatamento e largura da distribuição. Curvas mais largas e mais achatadas apresentam valores maiores de desvio padrão;\n",
    "\n",
    "6. A distribuição é definida por sua média e desvio padrão;\n",
    "\n",
    "7. A probabilidade sempre será igual à área sob a curva, delimitada pelos limites inferior e superior."
   ]
  },
  {
   "cell_type": "markdown",
   "metadata": {
    "colab_type": "text",
    "id": "hoWLlOiwG3Dy"
   },
   "source": [
    "# $$f(x) = \\frac{1}{\\sqrt{2\\pi\\sigma}}e^{-\\frac{1}{2}\\left(\\frac{x-\\mu}{\\sigma}\\right)^2}$$\n",
    "\n",
    "Onde:\n",
    "\n",
    "$x$ = variável normal\n",
    "\n",
    "$\\sigma$ = desvio padrão\n",
    "\n",
    "$\\mu$ = média"
   ]
  },
  {
   "cell_type": "markdown",
   "metadata": {
    "colab_type": "text",
    "id": "8n03Z0VlG3Dz"
   },
   "source": [
    "A probabilidade é obtida a partir da área sob a curva, delimitada pelos limites inferior e superior especificados. Um exemplo pode ser visto na figura abaixo."
   ]
  },
  {
   "cell_type": "markdown",
   "metadata": {
    "colab_type": "text",
    "id": "X1UgmFoxG3Dz"
   },
   "source": [
    "![alt text](https://caelum-online-public.s3.amazonaws.com/1178-estatistica-parte2/01/img002.png)\n"
   ]
  },
  {
   "cell_type": "markdown",
   "metadata": {
    "colab_type": "text",
    "id": "rtKiApHLG3D0"
   },
   "source": [
    "Para obter a área acima basta calcular a integral da função para os intervalos determinados. Conforme equação abaixo:"
   ]
  },
  {
   "cell_type": "markdown",
   "metadata": {
    "colab_type": "text",
    "id": "0r_9CbSOG3D0"
   },
   "source": [
    "# $$P(L_i<x<L_s) = \\int_{L_i}^{L_s}\\frac{1}{\\sqrt{2\\pi\\sigma}}e^{-\\frac{1}{2}\\left(\\frac{x-\\mu}{\\sigma}\\right)^2}$$\n",
    "\n",
    "Onde:\n",
    "\n",
    "$x$ = variável normal\n",
    "\n",
    "$\\sigma$ = desvio padrão\n",
    "\n",
    "$\\mu$ = média\n",
    "\n",
    "$L_i$ = limite inferior\n",
    "\n",
    "$L_s$ = limite superior"
   ]
  },
  {
   "cell_type": "markdown",
   "metadata": {
    "colab_type": "text",
    "id": "qP-Ye-leG3D1"
   },
   "source": [
    "### Tabelas padronizadas"
   ]
  },
  {
   "cell_type": "markdown",
   "metadata": {
    "colab_type": "text",
    "id": "Z1VnLK11G3D1"
   },
   "source": [
    "As tabelas padronizadas foram criadas para facilitar a obtenção dos valores das áreas sob a curva normal e eliminar a necessidade de solucionar integrais definidas.\n",
    "\n",
    "Para consultarmos os valores em uma tabela padronizada basta transformarmos nossa variável em uma variável padronizada $Z$.\n",
    "\n",
    "Esta variável $Z$ representa o afastamento em desvios padrões de um valor da variável original em relação à média."
   ]
  },
  {
   "cell_type": "markdown",
   "metadata": {
    "colab_type": "text",
    "id": "HJcdgdsgG3D2"
   },
   "source": [
    "# $$Z = \\frac{x-\\mu}{\\sigma}$$\n",
    "\n",
    "Onde:\n",
    "\n",
    "$x$ = variável normal com média $\\mu$ e desvio padrão $\\sigma$\n",
    "\n",
    "$\\sigma$ = desvio padrão\n",
    "\n",
    "$\\mu$ = média"
   ]
  },
  {
   "cell_type": "markdown",
   "metadata": {
    "colab_type": "text",
    "id": "hUrVKJH3G3D2"
   },
   "source": [
    "### Construindo tabela normal padronizada\n",
    "https://docs.scipy.org/doc/scipy/reference/generated/scipy.stats.norm.html"
   ]
  },
  {
   "cell_type": "code",
   "execution_count": 30,
   "metadata": {
    "colab": {
     "base_uri": "https://localhost:8080/",
     "height": 1289
    },
    "colab_type": "code",
    "id": "7SudUNlcG3D4",
    "outputId": "963d1484-7b91-4af0-905f-4cbb49a73277"
   },
   "outputs": [
    {
     "output_type": "execute_result",
     "data": {
      "text/plain": [
       "Z       0.00    0.01    0.02    0.03    0.04    0.05    0.06    0.07    0.08  \\\n",
       "0.00  0.5000  0.5040  0.5080  0.5120  0.5160  0.5199  0.5239  0.5279  0.5319   \n",
       "0.10  0.5398  0.5438  0.5478  0.5517  0.5557  0.5596  0.5636  0.5675  0.5714   \n",
       "0.20  0.5793  0.5832  0.5871  0.5910  0.5948  0.5987  0.6026  0.6064  0.6103   \n",
       "0.30  0.6179  0.6217  0.6255  0.6293  0.6331  0.6368  0.6406  0.6443  0.6480   \n",
       "0.40  0.6554  0.6591  0.6628  0.6664  0.6700  0.6736  0.6772  0.6808  0.6844   \n",
       "0.50  0.6915  0.6950  0.6985  0.7019  0.7054  0.7088  0.7123  0.7157  0.7190   \n",
       "0.60  0.7257  0.7291  0.7324  0.7357  0.7389  0.7422  0.7454  0.7486  0.7517   \n",
       "0.70  0.7580  0.7611  0.7642  0.7673  0.7704  0.7734  0.7764  0.7794  0.7823   \n",
       "0.80  0.7881  0.7910  0.7939  0.7967  0.7995  0.8023  0.8051  0.8078  0.8106   \n",
       "0.90  0.8159  0.8186  0.8212  0.8238  0.8264  0.8289  0.8315  0.8340  0.8365   \n",
       "1.00  0.8413  0.8438  0.8461  0.8485  0.8508  0.8531  0.8554  0.8577  0.8599   \n",
       "1.10  0.8643  0.8665  0.8686  0.8708  0.8729  0.8749  0.8770  0.8790  0.8810   \n",
       "1.20  0.8849  0.8869  0.8888  0.8907  0.8925  0.8944  0.8962  0.8980  0.8997   \n",
       "1.30  0.9032  0.9049  0.9066  0.9082  0.9099  0.9115  0.9131  0.9147  0.9162   \n",
       "1.40  0.9192  0.9207  0.9222  0.9236  0.9251  0.9265  0.9279  0.9292  0.9306   \n",
       "1.50  0.9332  0.9345  0.9357  0.9370  0.9382  0.9394  0.9406  0.9418  0.9429   \n",
       "1.60  0.9452  0.9463  0.9474  0.9484  0.9495  0.9505  0.9515  0.9525  0.9535   \n",
       "1.70  0.9554  0.9564  0.9573  0.9582  0.9591  0.9599  0.9608  0.9616  0.9625   \n",
       "1.80  0.9641  0.9649  0.9656  0.9664  0.9671  0.9678  0.9686  0.9693  0.9699   \n",
       "1.90  0.9713  0.9719  0.9726  0.9732  0.9738  0.9744  0.9750  0.9756  0.9761   \n",
       "2.00  0.9772  0.9778  0.9783  0.9788  0.9793  0.9798  0.9803  0.9808  0.9812   \n",
       "2.10  0.9821  0.9826  0.9830  0.9834  0.9838  0.9842  0.9846  0.9850  0.9854   \n",
       "2.20  0.9861  0.9864  0.9868  0.9871  0.9875  0.9878  0.9881  0.9884  0.9887   \n",
       "2.30  0.9893  0.9896  0.9898  0.9901  0.9904  0.9906  0.9909  0.9911  0.9913   \n",
       "2.40  0.9918  0.9920  0.9922  0.9925  0.9927  0.9929  0.9931  0.9932  0.9934   \n",
       "2.50  0.9938  0.9940  0.9941  0.9943  0.9945  0.9946  0.9948  0.9949  0.9951   \n",
       "2.60  0.9953  0.9955  0.9956  0.9957  0.9959  0.9960  0.9961  0.9962  0.9963   \n",
       "2.70  0.9965  0.9966  0.9967  0.9968  0.9969  0.9970  0.9971  0.9972  0.9973   \n",
       "2.80  0.9974  0.9975  0.9976  0.9977  0.9977  0.9978  0.9979  0.9979  0.9980   \n",
       "2.90  0.9981  0.9982  0.9982  0.9983  0.9984  0.9984  0.9985  0.9985  0.9986   \n",
       "3.00  0.9987  0.9987  0.9987  0.9988  0.9988  0.9989  0.9989  0.9989  0.9990   \n",
       "3.10  0.9990  0.9991  0.9991  0.9991  0.9992  0.9992  0.9992  0.9992  0.9993   \n",
       "3.20  0.9993  0.9993  0.9994  0.9994  0.9994  0.9994  0.9994  0.9995  0.9995   \n",
       "3.30  0.9995  0.9995  0.9995  0.9996  0.9996  0.9996  0.9996  0.9996  0.9996   \n",
       "3.40  0.9997  0.9997  0.9997  0.9997  0.9997  0.9997  0.9997  0.9997  0.9997   \n",
       "3.50  0.9998  0.9998  0.9998  0.9998  0.9998  0.9998  0.9998  0.9998  0.9998   \n",
       "3.60  0.9998  0.9998  0.9999  0.9999  0.9999  0.9999  0.9999  0.9999  0.9999   \n",
       "3.70  0.9999  0.9999  0.9999  0.9999  0.9999  0.9999  0.9999  0.9999  0.9999   \n",
       "3.80  0.9999  0.9999  0.9999  0.9999  0.9999  0.9999  0.9999  0.9999  0.9999   \n",
       "3.90  1.0000  1.0000  1.0000  1.0000  1.0000  1.0000  1.0000  1.0000  1.0000   \n",
       "\n",
       "Z       0.09  \n",
       "0.00  0.5359  \n",
       "0.10  0.5753  \n",
       "0.20  0.6141  \n",
       "0.30  0.6517  \n",
       "0.40  0.6879  \n",
       "0.50  0.7224  \n",
       "0.60  0.7549  \n",
       "0.70  0.7852  \n",
       "0.80  0.8133  \n",
       "0.90  0.8389  \n",
       "1.00  0.8621  \n",
       "1.10  0.8830  \n",
       "1.20  0.9015  \n",
       "1.30  0.9177  \n",
       "1.40  0.9319  \n",
       "1.50  0.9441  \n",
       "1.60  0.9545  \n",
       "1.70  0.9633  \n",
       "1.80  0.9706  \n",
       "1.90  0.9767  \n",
       "2.00  0.9817  \n",
       "2.10  0.9857  \n",
       "2.20  0.9890  \n",
       "2.30  0.9916  \n",
       "2.40  0.9936  \n",
       "2.50  0.9952  \n",
       "2.60  0.9964  \n",
       "2.70  0.9974  \n",
       "2.80  0.9981  \n",
       "2.90  0.9986  \n",
       "3.00  0.9990  \n",
       "3.10  0.9993  \n",
       "3.20  0.9995  \n",
       "3.30  0.9997  \n",
       "3.40  0.9998  \n",
       "3.50  0.9998  \n",
       "3.60  0.9999  \n",
       "3.70  0.9999  \n",
       "3.80  0.9999  \n",
       "3.90  1.0000  "
      ],
      "text/html": "<div>\n<style scoped>\n    .dataframe tbody tr th:only-of-type {\n        vertical-align: middle;\n    }\n\n    .dataframe tbody tr th {\n        vertical-align: top;\n    }\n\n    .dataframe thead th {\n        text-align: right;\n    }\n</style>\n<table border=\"1\" class=\"dataframe\">\n  <thead>\n    <tr style=\"text-align: right;\">\n      <th>Z</th>\n      <th>0.00</th>\n      <th>0.01</th>\n      <th>0.02</th>\n      <th>0.03</th>\n      <th>0.04</th>\n      <th>0.05</th>\n      <th>0.06</th>\n      <th>0.07</th>\n      <th>0.08</th>\n      <th>0.09</th>\n    </tr>\n  </thead>\n  <tbody>\n    <tr>\n      <th>0.00</th>\n      <td>0.5000</td>\n      <td>0.5040</td>\n      <td>0.5080</td>\n      <td>0.5120</td>\n      <td>0.5160</td>\n      <td>0.5199</td>\n      <td>0.5239</td>\n      <td>0.5279</td>\n      <td>0.5319</td>\n      <td>0.5359</td>\n    </tr>\n    <tr>\n      <th>0.10</th>\n      <td>0.5398</td>\n      <td>0.5438</td>\n      <td>0.5478</td>\n      <td>0.5517</td>\n      <td>0.5557</td>\n      <td>0.5596</td>\n      <td>0.5636</td>\n      <td>0.5675</td>\n      <td>0.5714</td>\n      <td>0.5753</td>\n    </tr>\n    <tr>\n      <th>0.20</th>\n      <td>0.5793</td>\n      <td>0.5832</td>\n      <td>0.5871</td>\n      <td>0.5910</td>\n      <td>0.5948</td>\n      <td>0.5987</td>\n      <td>0.6026</td>\n      <td>0.6064</td>\n      <td>0.6103</td>\n      <td>0.6141</td>\n    </tr>\n    <tr>\n      <th>0.30</th>\n      <td>0.6179</td>\n      <td>0.6217</td>\n      <td>0.6255</td>\n      <td>0.6293</td>\n      <td>0.6331</td>\n      <td>0.6368</td>\n      <td>0.6406</td>\n      <td>0.6443</td>\n      <td>0.6480</td>\n      <td>0.6517</td>\n    </tr>\n    <tr>\n      <th>0.40</th>\n      <td>0.6554</td>\n      <td>0.6591</td>\n      <td>0.6628</td>\n      <td>0.6664</td>\n      <td>0.6700</td>\n      <td>0.6736</td>\n      <td>0.6772</td>\n      <td>0.6808</td>\n      <td>0.6844</td>\n      <td>0.6879</td>\n    </tr>\n    <tr>\n      <th>0.50</th>\n      <td>0.6915</td>\n      <td>0.6950</td>\n      <td>0.6985</td>\n      <td>0.7019</td>\n      <td>0.7054</td>\n      <td>0.7088</td>\n      <td>0.7123</td>\n      <td>0.7157</td>\n      <td>0.7190</td>\n      <td>0.7224</td>\n    </tr>\n    <tr>\n      <th>0.60</th>\n      <td>0.7257</td>\n      <td>0.7291</td>\n      <td>0.7324</td>\n      <td>0.7357</td>\n      <td>0.7389</td>\n      <td>0.7422</td>\n      <td>0.7454</td>\n      <td>0.7486</td>\n      <td>0.7517</td>\n      <td>0.7549</td>\n    </tr>\n    <tr>\n      <th>0.70</th>\n      <td>0.7580</td>\n      <td>0.7611</td>\n      <td>0.7642</td>\n      <td>0.7673</td>\n      <td>0.7704</td>\n      <td>0.7734</td>\n      <td>0.7764</td>\n      <td>0.7794</td>\n      <td>0.7823</td>\n      <td>0.7852</td>\n    </tr>\n    <tr>\n      <th>0.80</th>\n      <td>0.7881</td>\n      <td>0.7910</td>\n      <td>0.7939</td>\n      <td>0.7967</td>\n      <td>0.7995</td>\n      <td>0.8023</td>\n      <td>0.8051</td>\n      <td>0.8078</td>\n      <td>0.8106</td>\n      <td>0.8133</td>\n    </tr>\n    <tr>\n      <th>0.90</th>\n      <td>0.8159</td>\n      <td>0.8186</td>\n      <td>0.8212</td>\n      <td>0.8238</td>\n      <td>0.8264</td>\n      <td>0.8289</td>\n      <td>0.8315</td>\n      <td>0.8340</td>\n      <td>0.8365</td>\n      <td>0.8389</td>\n    </tr>\n    <tr>\n      <th>1.00</th>\n      <td>0.8413</td>\n      <td>0.8438</td>\n      <td>0.8461</td>\n      <td>0.8485</td>\n      <td>0.8508</td>\n      <td>0.8531</td>\n      <td>0.8554</td>\n      <td>0.8577</td>\n      <td>0.8599</td>\n      <td>0.8621</td>\n    </tr>\n    <tr>\n      <th>1.10</th>\n      <td>0.8643</td>\n      <td>0.8665</td>\n      <td>0.8686</td>\n      <td>0.8708</td>\n      <td>0.8729</td>\n      <td>0.8749</td>\n      <td>0.8770</td>\n      <td>0.8790</td>\n      <td>0.8810</td>\n      <td>0.8830</td>\n    </tr>\n    <tr>\n      <th>1.20</th>\n      <td>0.8849</td>\n      <td>0.8869</td>\n      <td>0.8888</td>\n      <td>0.8907</td>\n      <td>0.8925</td>\n      <td>0.8944</td>\n      <td>0.8962</td>\n      <td>0.8980</td>\n      <td>0.8997</td>\n      <td>0.9015</td>\n    </tr>\n    <tr>\n      <th>1.30</th>\n      <td>0.9032</td>\n      <td>0.9049</td>\n      <td>0.9066</td>\n      <td>0.9082</td>\n      <td>0.9099</td>\n      <td>0.9115</td>\n      <td>0.9131</td>\n      <td>0.9147</td>\n      <td>0.9162</td>\n      <td>0.9177</td>\n    </tr>\n    <tr>\n      <th>1.40</th>\n      <td>0.9192</td>\n      <td>0.9207</td>\n      <td>0.9222</td>\n      <td>0.9236</td>\n      <td>0.9251</td>\n      <td>0.9265</td>\n      <td>0.9279</td>\n      <td>0.9292</td>\n      <td>0.9306</td>\n      <td>0.9319</td>\n    </tr>\n    <tr>\n      <th>1.50</th>\n      <td>0.9332</td>\n      <td>0.9345</td>\n      <td>0.9357</td>\n      <td>0.9370</td>\n      <td>0.9382</td>\n      <td>0.9394</td>\n      <td>0.9406</td>\n      <td>0.9418</td>\n      <td>0.9429</td>\n      <td>0.9441</td>\n    </tr>\n    <tr>\n      <th>1.60</th>\n      <td>0.9452</td>\n      <td>0.9463</td>\n      <td>0.9474</td>\n      <td>0.9484</td>\n      <td>0.9495</td>\n      <td>0.9505</td>\n      <td>0.9515</td>\n      <td>0.9525</td>\n      <td>0.9535</td>\n      <td>0.9545</td>\n    </tr>\n    <tr>\n      <th>1.70</th>\n      <td>0.9554</td>\n      <td>0.9564</td>\n      <td>0.9573</td>\n      <td>0.9582</td>\n      <td>0.9591</td>\n      <td>0.9599</td>\n      <td>0.9608</td>\n      <td>0.9616</td>\n      <td>0.9625</td>\n      <td>0.9633</td>\n    </tr>\n    <tr>\n      <th>1.80</th>\n      <td>0.9641</td>\n      <td>0.9649</td>\n      <td>0.9656</td>\n      <td>0.9664</td>\n      <td>0.9671</td>\n      <td>0.9678</td>\n      <td>0.9686</td>\n      <td>0.9693</td>\n      <td>0.9699</td>\n      <td>0.9706</td>\n    </tr>\n    <tr>\n      <th>1.90</th>\n      <td>0.9713</td>\n      <td>0.9719</td>\n      <td>0.9726</td>\n      <td>0.9732</td>\n      <td>0.9738</td>\n      <td>0.9744</td>\n      <td>0.9750</td>\n      <td>0.9756</td>\n      <td>0.9761</td>\n      <td>0.9767</td>\n    </tr>\n    <tr>\n      <th>2.00</th>\n      <td>0.9772</td>\n      <td>0.9778</td>\n      <td>0.9783</td>\n      <td>0.9788</td>\n      <td>0.9793</td>\n      <td>0.9798</td>\n      <td>0.9803</td>\n      <td>0.9808</td>\n      <td>0.9812</td>\n      <td>0.9817</td>\n    </tr>\n    <tr>\n      <th>2.10</th>\n      <td>0.9821</td>\n      <td>0.9826</td>\n      <td>0.9830</td>\n      <td>0.9834</td>\n      <td>0.9838</td>\n      <td>0.9842</td>\n      <td>0.9846</td>\n      <td>0.9850</td>\n      <td>0.9854</td>\n      <td>0.9857</td>\n    </tr>\n    <tr>\n      <th>2.20</th>\n      <td>0.9861</td>\n      <td>0.9864</td>\n      <td>0.9868</td>\n      <td>0.9871</td>\n      <td>0.9875</td>\n      <td>0.9878</td>\n      <td>0.9881</td>\n      <td>0.9884</td>\n      <td>0.9887</td>\n      <td>0.9890</td>\n    </tr>\n    <tr>\n      <th>2.30</th>\n      <td>0.9893</td>\n      <td>0.9896</td>\n      <td>0.9898</td>\n      <td>0.9901</td>\n      <td>0.9904</td>\n      <td>0.9906</td>\n      <td>0.9909</td>\n      <td>0.9911</td>\n      <td>0.9913</td>\n      <td>0.9916</td>\n    </tr>\n    <tr>\n      <th>2.40</th>\n      <td>0.9918</td>\n      <td>0.9920</td>\n      <td>0.9922</td>\n      <td>0.9925</td>\n      <td>0.9927</td>\n      <td>0.9929</td>\n      <td>0.9931</td>\n      <td>0.9932</td>\n      <td>0.9934</td>\n      <td>0.9936</td>\n    </tr>\n    <tr>\n      <th>2.50</th>\n      <td>0.9938</td>\n      <td>0.9940</td>\n      <td>0.9941</td>\n      <td>0.9943</td>\n      <td>0.9945</td>\n      <td>0.9946</td>\n      <td>0.9948</td>\n      <td>0.9949</td>\n      <td>0.9951</td>\n      <td>0.9952</td>\n    </tr>\n    <tr>\n      <th>2.60</th>\n      <td>0.9953</td>\n      <td>0.9955</td>\n      <td>0.9956</td>\n      <td>0.9957</td>\n      <td>0.9959</td>\n      <td>0.9960</td>\n      <td>0.9961</td>\n      <td>0.9962</td>\n      <td>0.9963</td>\n      <td>0.9964</td>\n    </tr>\n    <tr>\n      <th>2.70</th>\n      <td>0.9965</td>\n      <td>0.9966</td>\n      <td>0.9967</td>\n      <td>0.9968</td>\n      <td>0.9969</td>\n      <td>0.9970</td>\n      <td>0.9971</td>\n      <td>0.9972</td>\n      <td>0.9973</td>\n      <td>0.9974</td>\n    </tr>\n    <tr>\n      <th>2.80</th>\n      <td>0.9974</td>\n      <td>0.9975</td>\n      <td>0.9976</td>\n      <td>0.9977</td>\n      <td>0.9977</td>\n      <td>0.9978</td>\n      <td>0.9979</td>\n      <td>0.9979</td>\n      <td>0.9980</td>\n      <td>0.9981</td>\n    </tr>\n    <tr>\n      <th>2.90</th>\n      <td>0.9981</td>\n      <td>0.9982</td>\n      <td>0.9982</td>\n      <td>0.9983</td>\n      <td>0.9984</td>\n      <td>0.9984</td>\n      <td>0.9985</td>\n      <td>0.9985</td>\n      <td>0.9986</td>\n      <td>0.9986</td>\n    </tr>\n    <tr>\n      <th>3.00</th>\n      <td>0.9987</td>\n      <td>0.9987</td>\n      <td>0.9987</td>\n      <td>0.9988</td>\n      <td>0.9988</td>\n      <td>0.9989</td>\n      <td>0.9989</td>\n      <td>0.9989</td>\n      <td>0.9990</td>\n      <td>0.9990</td>\n    </tr>\n    <tr>\n      <th>3.10</th>\n      <td>0.9990</td>\n      <td>0.9991</td>\n      <td>0.9991</td>\n      <td>0.9991</td>\n      <td>0.9992</td>\n      <td>0.9992</td>\n      <td>0.9992</td>\n      <td>0.9992</td>\n      <td>0.9993</td>\n      <td>0.9993</td>\n    </tr>\n    <tr>\n      <th>3.20</th>\n      <td>0.9993</td>\n      <td>0.9993</td>\n      <td>0.9994</td>\n      <td>0.9994</td>\n      <td>0.9994</td>\n      <td>0.9994</td>\n      <td>0.9994</td>\n      <td>0.9995</td>\n      <td>0.9995</td>\n      <td>0.9995</td>\n    </tr>\n    <tr>\n      <th>3.30</th>\n      <td>0.9995</td>\n      <td>0.9995</td>\n      <td>0.9995</td>\n      <td>0.9996</td>\n      <td>0.9996</td>\n      <td>0.9996</td>\n      <td>0.9996</td>\n      <td>0.9996</td>\n      <td>0.9996</td>\n      <td>0.9997</td>\n    </tr>\n    <tr>\n      <th>3.40</th>\n      <td>0.9997</td>\n      <td>0.9997</td>\n      <td>0.9997</td>\n      <td>0.9997</td>\n      <td>0.9997</td>\n      <td>0.9997</td>\n      <td>0.9997</td>\n      <td>0.9997</td>\n      <td>0.9997</td>\n      <td>0.9998</td>\n    </tr>\n    <tr>\n      <th>3.50</th>\n      <td>0.9998</td>\n      <td>0.9998</td>\n      <td>0.9998</td>\n      <td>0.9998</td>\n      <td>0.9998</td>\n      <td>0.9998</td>\n      <td>0.9998</td>\n      <td>0.9998</td>\n      <td>0.9998</td>\n      <td>0.9998</td>\n    </tr>\n    <tr>\n      <th>3.60</th>\n      <td>0.9998</td>\n      <td>0.9998</td>\n      <td>0.9999</td>\n      <td>0.9999</td>\n      <td>0.9999</td>\n      <td>0.9999</td>\n      <td>0.9999</td>\n      <td>0.9999</td>\n      <td>0.9999</td>\n      <td>0.9999</td>\n    </tr>\n    <tr>\n      <th>3.70</th>\n      <td>0.9999</td>\n      <td>0.9999</td>\n      <td>0.9999</td>\n      <td>0.9999</td>\n      <td>0.9999</td>\n      <td>0.9999</td>\n      <td>0.9999</td>\n      <td>0.9999</td>\n      <td>0.9999</td>\n      <td>0.9999</td>\n    </tr>\n    <tr>\n      <th>3.80</th>\n      <td>0.9999</td>\n      <td>0.9999</td>\n      <td>0.9999</td>\n      <td>0.9999</td>\n      <td>0.9999</td>\n      <td>0.9999</td>\n      <td>0.9999</td>\n      <td>0.9999</td>\n      <td>0.9999</td>\n      <td>0.9999</td>\n    </tr>\n    <tr>\n      <th>3.90</th>\n      <td>1.0000</td>\n      <td>1.0000</td>\n      <td>1.0000</td>\n      <td>1.0000</td>\n      <td>1.0000</td>\n      <td>1.0000</td>\n      <td>1.0000</td>\n      <td>1.0000</td>\n      <td>1.0000</td>\n      <td>1.0000</td>\n    </tr>\n  </tbody>\n</table>\n</div>"
     },
     "metadata": {},
     "execution_count": 30
    }
   ],
   "source": [
    "import pandas as pd\n",
    "import numpy as np\n",
    "from scipy.stats import norm\n",
    "\n",
    "tabela_normal_padronizada = pd.DataFrame(\n",
    "    [], \n",
    "    index=[\"{0:0.2f}\".format(i / 100) for i in range(0, 400, 10)],\n",
    "    columns = [\"{0:0.2f}\".format(i / 100) for i in range(0, 10)])\n",
    "\n",
    "for index in tabela_normal_padronizada.index:\n",
    "    for column in tabela_normal_padronizada.columns:\n",
    "        Z = np.round(float(index) + float(column), 2)\n",
    "        tabela_normal_padronizada.loc[index, column] = \"{0:0.4f}\".format(norm.cdf(Z))\n",
    "\n",
    "tabela_normal_padronizada.rename_axis('Z', axis = 'columns', inplace = True)\n",
    "\n",
    "tabela_normal_padronizada"
   ]
  },
  {
   "cell_type": "markdown",
   "metadata": {
    "colab_type": "text",
    "id": "XHYeMaN3G3D9"
   },
   "source": [
    "<img src='https://caelum-online-public.s3.amazonaws.com/1178-estatistica-parte2/01/img003.png' width='250px'>\n",
    "\n",
    "A tabela acima fornece a área sob a curva entre $-\\infty$ e $Z$ desvios padrão acima da média. Lembrando que por se tratar de valores padronizados temos $\\mu = 0$."
   ]
  },
  {
   "cell_type": "markdown",
   "metadata": {
    "colab_type": "text",
    "id": "Bs-KyZAJG3D-"
   },
   "source": [
    "## <font color='blue'>Exemplo: Qual sua altura?</font>"
   ]
  },
  {
   "cell_type": "markdown",
   "metadata": {
    "colab_type": "text",
    "id": "8PFIjXejG3EA"
   },
   "source": [
    "Em um estudo sobre as alturas dos moradores de uma cidade verificou-se que o conjunto de dados segue uma **distribuição aproximadamente normal**, com **média 1,70** e **desvio padrão de 0,1**. Com estas informações obtenha o seguinte conjunto de probabilidades:\n",
    "\n",
    "> **A.** probabilidade de uma pessoa, selecionada ao acaso, ter menos de 1,80 metros.\n",
    "\n",
    "> **B.** probabilidade de uma pessoa, selecionada ao acaso, ter entre 1,60 metros e 1,80 metros.    \n",
    "\n",
    "> **C.** probabilidade de uma pessoa, selecionada ao acaso, ter mais de 1,90 metros."
   ]
  },
  {
   "cell_type": "markdown",
   "metadata": {
    "colab_type": "text",
    "id": "aHpZLwt1G3EC"
   },
   "source": [
    "### Problema A - Identificação da área sob a curva"
   ]
  },
  {
   "cell_type": "markdown",
   "metadata": {
    "colab_type": "text",
    "id": "V1eC7tydG3EF"
   },
   "source": [
    "<img style='float: left' src='https://caelum-online-public.s3.amazonaws.com/1178-estatistica-parte2/01/img004.png' width='350px'>"
   ]
  },
  {
   "cell_type": "markdown",
   "metadata": {
    "colab_type": "text",
    "id": "X61wEuRrG3EI"
   },
   "source": [
    "### Obter a variável padronizada $Z$"
   ]
  },
  {
   "cell_type": "code",
   "execution_count": 31,
   "metadata": {
    "colab": {
     "base_uri": "https://localhost:8080/",
     "height": 34
    },
    "colab_type": "code",
    "id": "gNSNIMvZG3EK",
    "outputId": "2d4048a7-4c0a-4f51-c964-2f063cbdf092"
   },
   "outputs": [
    {
     "output_type": "execute_result",
     "data": {
      "text/plain": [
       "1.7"
      ]
     },
     "metadata": {},
     "execution_count": 31
    }
   ],
   "source": [
    "media = 1.7\n",
    "media"
   ]
  },
  {
   "cell_type": "code",
   "execution_count": 32,
   "metadata": {
    "colab": {
     "base_uri": "https://localhost:8080/",
     "height": 34
    },
    "colab_type": "code",
    "id": "E_f2lycRG3ES",
    "outputId": "7bb0daf7-7f86-4bdd-f195-429e7b68d239"
   },
   "outputs": [
    {
     "output_type": "execute_result",
     "data": {
      "text/plain": [
       "0.1"
      ]
     },
     "metadata": {},
     "execution_count": 32
    }
   ],
   "source": [
    "desvio_padrao = 0.1\n",
    "desvio_padrao"
   ]
  },
  {
   "cell_type": "code",
   "execution_count": 33,
   "metadata": {
    "colab": {
     "base_uri": "https://localhost:8080/",
     "height": 34
    },
    "colab_type": "code",
    "id": "xnsCkUb6G3EX",
    "outputId": "b3f57dbb-4c23-4b9f-e89d-d8c35383a2d2"
   },
   "outputs": [
    {
     "output_type": "execute_result",
     "data": {
      "text/plain": [
       "1.0000000000000009"
      ]
     },
     "metadata": {},
     "execution_count": 33
    }
   ],
   "source": [
    "z = (1.8 - media) / desvio_padrao\n",
    "z"
   ]
  },
  {
   "cell_type": "markdown",
   "metadata": {
    "colab_type": "text",
    "id": "oj9sgHbkG3Eb"
   },
   "source": [
    "### Solução 1 - Utilizando tabela"
   ]
  },
  {
   "cell_type": "code",
   "execution_count": 34,
   "metadata": {
    "colab": {
     "base_uri": "https://localhost:8080/",
     "height": 34
    },
    "colab_type": "code",
    "id": "ReDTH3WgG3Ec",
    "outputId": "ec542c14-9cd4-405d-a899-dfa92493aa84"
   },
   "outputs": [
    {
     "output_type": "execute_result",
     "data": {
      "text/plain": [
       "0.8413"
      ]
     },
     "metadata": {},
     "execution_count": 34
    }
   ],
   "source": [
    "probabilidade = 0.8413\n",
    "probabilidade"
   ]
  },
  {
   "cell_type": "markdown",
   "metadata": {
    "colab_type": "text",
    "id": "4ud0OnQOG3Eh"
   },
   "source": [
    "### Solução 2 - Utilizando Scipy"
   ]
  },
  {
   "cell_type": "code",
   "execution_count": 35,
   "metadata": {
    "colab": {
     "base_uri": "https://localhost:8080/",
     "height": 34
    },
    "colab_type": "code",
    "id": "sx7riZVlG3Ei",
    "outputId": "c321c9f8-a1a8-44f8-977b-492d2ec65152"
   },
   "outputs": [
    {
     "output_type": "execute_result",
     "data": {
      "text/plain": [
       "0.8413447460685431"
      ]
     },
     "metadata": {},
     "execution_count": 35
    }
   ],
   "source": [
    "norm.cdf(z)"
   ]
  },
  {
   "cell_type": "markdown",
   "metadata": {
    "colab_type": "text",
    "id": "ZsnMjGzJG3Ep"
   },
   "source": [
    "### Problema B - Identificação da área sob a curva"
   ]
  },
  {
   "cell_type": "markdown",
   "metadata": {
    "colab_type": "text",
    "id": "LN2HY-UCG3Ep"
   },
   "source": [
    "<img style='float: left' src='https://caelum-online-public.s3.amazonaws.com/1178-estatistica-parte2/01/img005.png' width='350px'>"
   ]
  },
  {
   "cell_type": "markdown",
   "metadata": {
    "colab_type": "text",
    "id": "FS6WNg88G3Eq"
   },
   "source": [
    "### Obter a variável padronizada $Z$"
   ]
  },
  {
   "cell_type": "code",
   "execution_count": 36,
   "metadata": {
    "colab": {
     "base_uri": "https://localhost:8080/",
     "height": 34
    },
    "colab_type": "code",
    "id": "mxPsPIOYG3Er",
    "outputId": "d86de31f-1ca0-443c-8ed6-81edfe5d36f4"
   },
   "outputs": [
    {
     "output_type": "execute_result",
     "data": {
      "text/plain": [
       "-1.0"
      ]
     },
     "metadata": {},
     "execution_count": 36
    }
   ],
   "source": [
    "z_inferior = (1.6 - media) / desvio_padrao\n",
    "round(z_inferior, 2)"
   ]
  },
  {
   "cell_type": "code",
   "execution_count": 37,
   "metadata": {
    "colab": {
     "base_uri": "https://localhost:8080/",
     "height": 34
    },
    "colab_type": "code",
    "id": "s0Vf0GXHG3Et",
    "outputId": "5237e5e2-547b-4cbf-a5da-52bd4933f6a1"
   },
   "outputs": [
    {
     "output_type": "execute_result",
     "data": {
      "text/plain": [
       "1.0"
      ]
     },
     "metadata": {},
     "execution_count": 37
    }
   ],
   "source": [
    "z_superior = (1.8 - media) / desvio_padrao\n",
    "round(z_superior, 2)"
   ]
  },
  {
   "cell_type": "markdown",
   "metadata": {
    "colab_type": "text",
    "id": "MseXjmZ7G3E0"
   },
   "source": [
    "### Solução 1 - Utilizando tabela"
   ]
  },
  {
   "cell_type": "code",
   "execution_count": 38,
   "metadata": {
    "colab": {
     "base_uri": "https://localhost:8080/",
     "height": 34
    },
    "colab_type": "code",
    "id": "swZ6SVQGG3E0",
    "outputId": "53e30c74-5ec5-4737-f928-600388bfe570"
   },
   "outputs": [
    {
     "output_type": "execute_result",
     "data": {
      "text/plain": [
       "0.6826000000000001"
      ]
     },
     "metadata": {},
     "execution_count": 38
    }
   ],
   "source": [
    "probabilidade = (0.8413 - 0.5) * 2\n",
    "probabilidade"
   ]
  },
  {
   "cell_type": "markdown",
   "metadata": {
    "colab_type": "text",
    "id": "y5e4zAifG3E2"
   },
   "source": [
    "### Solução 2 - Utilizando Scipy"
   ]
  },
  {
   "cell_type": "code",
   "execution_count": 39,
   "metadata": {
    "colab": {
     "base_uri": "https://localhost:8080/",
     "height": 34
    },
    "colab_type": "code",
    "id": "hcps6lkNG3E3",
    "outputId": "c8de38f1-8411-408c-862c-7aa6e099e43f"
   },
   "outputs": [
    {
     "output_type": "execute_result",
     "data": {
      "text/plain": [
       "0.6826894921370857"
      ]
     },
     "metadata": {},
     "execution_count": 39
    }
   ],
   "source": [
    "probabilidade = norm.cdf(z_superior) - norm.cdf(z_inferior)\n",
    "probabilidade"
   ]
  },
  {
   "cell_type": "markdown",
   "metadata": {
    "colab_type": "text",
    "id": "05sqVgdaG3E-"
   },
   "source": [
    "### Problema C - Identificação da área sob a curva"
   ]
  },
  {
   "cell_type": "markdown",
   "metadata": {
    "colab_type": "text",
    "id": "EPKhGTEkG3E_"
   },
   "source": [
    "<img style='float: left' src='https://caelum-online-public.s3.amazonaws.com/1178-estatistica-parte2/01/img006.png' width='350px'>"
   ]
  },
  {
   "cell_type": "markdown",
   "metadata": {
    "colab_type": "text",
    "id": "BA6jYbsSG3E_"
   },
   "source": [
    "### Obter a variável padronizada $Z$"
   ]
  },
  {
   "cell_type": "code",
   "execution_count": 40,
   "metadata": {
    "colab": {
     "base_uri": "https://localhost:8080/",
     "height": 34
    },
    "colab_type": "code",
    "id": "3OVj60MzG3E_",
    "outputId": "71f57b74-bc13-4493-f8ba-6f05a2a07041"
   },
   "outputs": [
    {
     "output_type": "execute_result",
     "data": {
      "text/plain": [
       "1.9999999999999996"
      ]
     },
     "metadata": {},
     "execution_count": 40
    }
   ],
   "source": [
    "z = (1.9 - media) / desvio_padrao\n",
    "z"
   ]
  },
  {
   "cell_type": "markdown",
   "metadata": {
    "colab_type": "text",
    "id": "hCiiWAm_G3FC"
   },
   "source": [
    "### Solução 1 - Utilizando tabela"
   ]
  },
  {
   "cell_type": "code",
   "execution_count": 41,
   "metadata": {
    "colab": {
     "base_uri": "https://localhost:8080/",
     "height": 34
    },
    "colab_type": "code",
    "id": "mSNfoO6VG3FC",
    "outputId": "da00edc8-cd0e-42ae-a27f-02082230f9e6"
   },
   "outputs": [
    {
     "output_type": "execute_result",
     "data": {
      "text/plain": [
       "0.023299999999999987"
      ]
     },
     "metadata": {},
     "execution_count": 41
    }
   ],
   "source": [
    "probabilidade = 1 - 0.9767\n",
    "probabilidade"
   ]
  },
  {
   "cell_type": "markdown",
   "metadata": {
    "colab_type": "text",
    "id": "QCyoVXOdG3FF"
   },
   "source": [
    "### Solução 2 - Utilizando Scipy"
   ]
  },
  {
   "cell_type": "code",
   "execution_count": 42,
   "metadata": {
    "colab": {
     "base_uri": "https://localhost:8080/",
     "height": 34
    },
    "colab_type": "code",
    "id": "caIE-t83G3FF",
    "outputId": "224b72ff-7edd-4b66-a24e-a1f89e4685c9"
   },
   "outputs": [
    {
     "output_type": "execute_result",
     "data": {
      "text/plain": [
       "0.02275013194817921"
      ]
     },
     "metadata": {},
     "execution_count": 42
    }
   ],
   "source": [
    "probabilidade =  1 - norm.cdf(z)\n",
    "probabilidade"
   ]
  },
  {
   "cell_type": "code",
   "execution_count": 43,
   "metadata": {
    "colab": {
     "base_uri": "https://localhost:8080/",
     "height": 34
    },
    "colab_type": "code",
    "id": "wKjqQGgMG3FI",
    "outputId": "7ef30837-195e-4f5b-9bef-68fceaff2397"
   },
   "outputs": [
    {
     "output_type": "execute_result",
     "data": {
      "text/plain": [
       "0.022750131948179216"
      ]
     },
     "metadata": {},
     "execution_count": 43
    }
   ],
   "source": [
    "probabilidade = norm.cdf(z * -1)\n",
    "probabilidade"
   ]
  },
  {
   "cell_type": "markdown",
   "metadata": {
    "colab_type": "text",
    "id": "GmmzChE2t4wW"
   },
   "source": [
    "# <font color=green>3 AMOSTRAGEM</font>\n",
    "***"
   ]
  },
  {
   "cell_type": "markdown",
   "metadata": {
    "colab_type": "text",
    "id": "g8PbtmQZt4Wv"
   },
   "source": [
    "## <font color=green>3.1 População e Amostra</font>\n",
    "***"
   ]
  },
  {
   "cell_type": "markdown",
   "metadata": {
    "colab_type": "text",
    "id": "sedD5gB9G3FV"
   },
   "source": [
    "### População\n",
    "Conjunto de todos os elementos de interesse em um estudo. Diversos elementos podem compor uma população, por exemplo: pessoas, idades, alturas, carros etc.\n",
    "\n",
    "Com relação ao tamanho, as populações podem ser limitadas (populações finitas) ou ilimitadas (populações infinitas)."
   ]
  },
  {
   "cell_type": "markdown",
   "metadata": {
    "colab_type": "text",
    "id": "XBFhAWNcG3FW"
   },
   "source": [
    "### Populações finitas\n",
    "\n",
    "Permitem a contagem de seus elementos. Como exemplos temos o número de funcionário de uma empresa, a quantidade de alunos em uma escola etc."
   ]
  },
  {
   "cell_type": "markdown",
   "metadata": {
    "colab_type": "text",
    "id": "YT8V2GB1G3FW"
   },
   "source": [
    "### Populações infinitas\n",
    "\n",
    "Não é possível contar seus elementos. Como exemplos temos a quantidade de porções que se pode extrair da água do mar para uma análise, temperatura medida em cada ponto de um território etc.\n",
    "\n",
    "<font color=red>Quando os elementos de uma população puderem ser contados, porém apresentando uma quantidade muito grande, assume-se a população como infinita.</font>."
   ]
  },
  {
   "cell_type": "markdown",
   "metadata": {
    "colab_type": "text",
    "id": "a-WtAXv1G3FX"
   },
   "source": [
    "### Amostra\n",
    "Subconjunto representativo da população."
   ]
  },
  {
   "cell_type": "markdown",
   "metadata": {
    "colab_type": "text",
    "id": "QWnDYpPSG3FX"
   },
   "source": [
    "Os atributos numéricos de uma população como sua média, variância e desvio padrão, são conhecidos como **parâmetros**. O principal foco da inferência estatística é justamente gerar estimativas e testar hipóteses sobre os parâmetros populacionais utilizando as informações de amostras."
   ]
  },
  {
   "cell_type": "markdown",
   "metadata": {
    "colab_type": "text",
    "id": "dDz6vFbDG3FZ"
   },
   "source": [
    "## <font color=green>3.2 Quando utilizar uma amostra?</font>\n",
    "***"
   ]
  },
  {
   "cell_type": "markdown",
   "metadata": {
    "colab_type": "text",
    "id": "5X1YwCGlG3Fe"
   },
   "source": [
    "### Populações infinitas\n",
    "\n",
    "O estudo não chegaria nunca ao fim. Não é possível investigar todos os elementos da população."
   ]
  },
  {
   "cell_type": "markdown",
   "metadata": {
    "colab_type": "text",
    "id": "jHLtG8HSG3Ff"
   },
   "source": [
    "### Testes destrutivos\n",
    "\n",
    "Estudos onde os elementos avaliados são totalmente consumidos ou destruídos. Exemplo: testes de vida útil, testes de segurança contra colisões em automóveis."
   ]
  },
  {
   "cell_type": "markdown",
   "metadata": {
    "colab_type": "text",
    "id": "lxYxepmdG3Ff"
   },
   "source": [
    "### Resultados rápidos\n",
    "\n",
    "Pesquisas que precisam de mais agilidade na divulgação. Exemplo: pesquisas de opinião, pesquisas que envolvam problemas de saúde pública."
   ]
  },
  {
   "cell_type": "markdown",
   "metadata": {
    "colab_type": "text",
    "id": "PeUCGL5nG3Fj"
   },
   "source": [
    "### Custos elevados\n",
    "\n",
    "Quando a população é finita mas muito numerosa, o custo de um censo pode tornar o processo inviável."
   ]
  },
  {
   "cell_type": "markdown",
   "metadata": {
    "colab_type": "text",
    "id": "1sbJeMpSG3Fj"
   },
   "source": [
    "## <font color=green>3.3 Amostragem Aleatória Simples</font>\n",
    "***"
   ]
  },
  {
   "cell_type": "markdown",
   "metadata": {
    "colab_type": "text",
    "id": "Kiq9cYMYG3Fp"
   },
   "source": [
    "É uma das principais maneiras de se extrair uma amostra de uma população. A exigência fundamental deste tipo de abordagem é que cada elemeto da população tenha as mesmas chances de ser selecionado para fazer parte da amostra."
   ]
  },
  {
   "cell_type": "code",
   "execution_count": 44,
   "metadata": {
    "colab": {
     "base_uri": "https://localhost:8080/",
     "height": 34
    },
    "colab_type": "code",
    "id": "NtQ8HOYdG3Fq",
    "outputId": "d746a965-c212-4b99-ac1f-a7741b13544f"
   },
   "outputs": [
    {
     "output_type": "execute_result",
     "data": {
      "text/plain": [
       "76840"
      ]
     },
     "metadata": {},
     "execution_count": 44
    }
   ],
   "source": [
    "dados.shape[0]"
   ]
  },
  {
   "cell_type": "code",
   "execution_count": 45,
   "metadata": {
    "colab": {
     "base_uri": "https://localhost:8080/",
     "height": 34
    },
    "colab_type": "code",
    "id": "DsXJHWhMG3Fs",
    "outputId": "b5e5d083-2d89-4f31-e8dd-5ae48375a81c"
   },
   "outputs": [
    {
     "output_type": "execute_result",
     "data": {
      "text/plain": [
       "2000.3831988547631"
      ]
     },
     "metadata": {},
     "execution_count": 45
    }
   ],
   "source": [
    "dados.Renda.mean()"
   ]
  },
  {
   "cell_type": "code",
   "execution_count": 46,
   "metadata": {
    "colab": {},
    "colab_type": "code",
    "id": "k7yJucVMG3Fw"
   },
   "outputs": [
    {
     "output_type": "execute_result",
     "data": {
      "text/plain": [
       "       UF  Sexo  Idade  Cor  Anos de Estudo  Renda    Altura\n",
       "29042  29     0     39    8               5    480  1.719128\n",
       "62672  43     0     55    2               6    250  1.639205\n",
       "29973  29     1     36    2              12    788  1.654122\n",
       "22428  26     0     46    8               8   1680  1.622450\n",
       "55145  41     0     37    2               9   2500  1.625268\n",
       "...    ..   ...    ...  ...             ...    ...       ...\n",
       "28141  29     0     22    4              11    788  1.720672\n",
       "8473   15     0     33    8               5    800  1.782539\n",
       "72127  52     0     33    2              12   2000  1.795621\n",
       "56491  41     0     56    2              12   1000  1.730259\n",
       "14800  23     0     46    8               3    788  1.706331\n",
       "\n",
       "[1000 rows x 7 columns]"
      ],
      "text/html": "<div>\n<style scoped>\n    .dataframe tbody tr th:only-of-type {\n        vertical-align: middle;\n    }\n\n    .dataframe tbody tr th {\n        vertical-align: top;\n    }\n\n    .dataframe thead th {\n        text-align: right;\n    }\n</style>\n<table border=\"1\" class=\"dataframe\">\n  <thead>\n    <tr style=\"text-align: right;\">\n      <th></th>\n      <th>UF</th>\n      <th>Sexo</th>\n      <th>Idade</th>\n      <th>Cor</th>\n      <th>Anos de Estudo</th>\n      <th>Renda</th>\n      <th>Altura</th>\n    </tr>\n  </thead>\n  <tbody>\n    <tr>\n      <th>29042</th>\n      <td>29</td>\n      <td>0</td>\n      <td>39</td>\n      <td>8</td>\n      <td>5</td>\n      <td>480</td>\n      <td>1.719128</td>\n    </tr>\n    <tr>\n      <th>62672</th>\n      <td>43</td>\n      <td>0</td>\n      <td>55</td>\n      <td>2</td>\n      <td>6</td>\n      <td>250</td>\n      <td>1.639205</td>\n    </tr>\n    <tr>\n      <th>29973</th>\n      <td>29</td>\n      <td>1</td>\n      <td>36</td>\n      <td>2</td>\n      <td>12</td>\n      <td>788</td>\n      <td>1.654122</td>\n    </tr>\n    <tr>\n      <th>22428</th>\n      <td>26</td>\n      <td>0</td>\n      <td>46</td>\n      <td>8</td>\n      <td>8</td>\n      <td>1680</td>\n      <td>1.622450</td>\n    </tr>\n    <tr>\n      <th>55145</th>\n      <td>41</td>\n      <td>0</td>\n      <td>37</td>\n      <td>2</td>\n      <td>9</td>\n      <td>2500</td>\n      <td>1.625268</td>\n    </tr>\n    <tr>\n      <th>...</th>\n      <td>...</td>\n      <td>...</td>\n      <td>...</td>\n      <td>...</td>\n      <td>...</td>\n      <td>...</td>\n      <td>...</td>\n    </tr>\n    <tr>\n      <th>28141</th>\n      <td>29</td>\n      <td>0</td>\n      <td>22</td>\n      <td>4</td>\n      <td>11</td>\n      <td>788</td>\n      <td>1.720672</td>\n    </tr>\n    <tr>\n      <th>8473</th>\n      <td>15</td>\n      <td>0</td>\n      <td>33</td>\n      <td>8</td>\n      <td>5</td>\n      <td>800</td>\n      <td>1.782539</td>\n    </tr>\n    <tr>\n      <th>72127</th>\n      <td>52</td>\n      <td>0</td>\n      <td>33</td>\n      <td>2</td>\n      <td>12</td>\n      <td>2000</td>\n      <td>1.795621</td>\n    </tr>\n    <tr>\n      <th>56491</th>\n      <td>41</td>\n      <td>0</td>\n      <td>56</td>\n      <td>2</td>\n      <td>12</td>\n      <td>1000</td>\n      <td>1.730259</td>\n    </tr>\n    <tr>\n      <th>14800</th>\n      <td>23</td>\n      <td>0</td>\n      <td>46</td>\n      <td>8</td>\n      <td>3</td>\n      <td>788</td>\n      <td>1.706331</td>\n    </tr>\n  </tbody>\n</table>\n<p>1000 rows × 7 columns</p>\n</div>"
     },
     "metadata": {},
     "execution_count": 46
    }
   ],
   "source": [
    "amostra = dados.sample(n = 1000, random_state = 101)\n",
    "amostra"
   ]
  },
  {
   "cell_type": "code",
   "execution_count": 47,
   "metadata": {
    "colab": {
     "base_uri": "https://localhost:8080/",
     "height": 34
    },
    "colab_type": "code",
    "id": "wUyXS65sG3F2",
    "outputId": "d3440aaa-c46f-4d44-8d29-5ab5a3c914a1"
   },
   "outputs": [
    {
     "output_type": "execute_result",
     "data": {
      "text/plain": [
       "1000"
      ]
     },
     "metadata": {},
     "execution_count": 47
    }
   ],
   "source": [
    "amostra.shape[0]"
   ]
  },
  {
   "cell_type": "code",
   "execution_count": 48,
   "metadata": {
    "colab": {
     "base_uri": "https://localhost:8080/",
     "height": 34
    },
    "colab_type": "code",
    "id": "y0J4UtOwG3F5",
    "outputId": "f2d60d13-3544-4787-a3b4-876b02666da1"
   },
   "outputs": [
    {
     "output_type": "execute_result",
     "data": {
      "text/plain": [
       "1998.783"
      ]
     },
     "metadata": {},
     "execution_count": 48
    }
   ],
   "source": [
    "amostra.Renda.mean()"
   ]
  },
  {
   "cell_type": "code",
   "execution_count": 49,
   "metadata": {
    "colab": {
     "base_uri": "https://localhost:8080/",
     "height": 68
    },
    "colab_type": "code",
    "id": "WGZT_wnjSgPy",
    "outputId": "f905ff8a-84f8-45d5-d232-927630754b70"
   },
   "outputs": [
    {
     "output_type": "execute_result",
     "data": {
      "text/plain": [
       "0    0.692998\n",
       "1    0.307002\n",
       "Name: Sexo, dtype: float64"
      ]
     },
     "metadata": {},
     "execution_count": 49
    }
   ],
   "source": [
    "dados.Sexo.value_counts(normalize = True)"
   ]
  },
  {
   "cell_type": "code",
   "execution_count": 50,
   "metadata": {
    "colab": {
     "base_uri": "https://localhost:8080/",
     "height": 68
    },
    "colab_type": "code",
    "id": "1la3Y_reSgEM",
    "outputId": "4611d1f3-3903-454b-e136-fb21c708be03"
   },
   "outputs": [
    {
     "output_type": "execute_result",
     "data": {
      "text/plain": [
       "0    0.706\n",
       "1    0.294\n",
       "Name: Sexo, dtype: float64"
      ]
     },
     "metadata": {},
     "execution_count": 50
    }
   ],
   "source": [
    "amostra.Sexo.value_counts(normalize = True)"
   ]
  },
  {
   "cell_type": "markdown",
   "metadata": {
    "colab_type": "text",
    "id": "stcKhnJBG3F7"
   },
   "source": [
    "## <font color=green>3.4 Amostragem Estratificada</font>\n",
    "***"
   ]
  },
  {
   "cell_type": "markdown",
   "metadata": {
    "colab_type": "text",
    "id": "W1uEZMRIG3GA"
   },
   "source": [
    "É uma melhoria do processo de amostragem aleatória simples. Neste método é proposta a divisão da população em subgrupos de elementos com características similares, ou seja, grupos mais homogêneos. Com estes subgrupos separados, aplica-se a técnica de amostragem aleatória simples dentro de cada subgrupo individualmente."
   ]
  },
  {
   "cell_type": "markdown",
   "metadata": {
    "colab_type": "text",
    "id": "xRjUHDAbG3GB"
   },
   "source": [
    "## <font color=green>3.5 Amostragem por Conglomerados</font>\n",
    "***"
   ]
  },
  {
   "cell_type": "markdown",
   "metadata": {
    "colab_type": "text",
    "id": "sW9IuaL9G3GH"
   },
   "source": [
    "Também visa melhorar o critério de amostragem aleatória simples. Na amostragem por conglomerados são também criados subgrupos, porém não serão homogêneas como na amostragem estratificada. Na amostragem por conglomerados os subgrupos serão heterogêneos, onde, em seguida, serão aplicadas a amostragem aleatória simples ou estratificada.\n",
    "\n",
    "Um exemplo bastante comum de aplicação deste tipo de técnica é na divisão da população em grupos territoriais, onde os elementos investigados terão características bastante variadas."
   ]
  },
  {
   "cell_type": "markdown",
   "metadata": {
    "colab_type": "text",
    "id": "2LNJT4FEuzO4"
   },
   "source": [
    "# <font color=green>4 ESTIMAÇÃO</font>\n",
    "***"
   ]
  },
  {
   "cell_type": "markdown",
   "metadata": {
    "colab_type": "text",
    "id": "z69W2sVGmybS"
   },
   "source": [
    "## <font color='red'>Problema </font>"
   ]
  },
  {
   "cell_type": "markdown",
   "metadata": {
    "colab_type": "text",
    "id": "ytP6VpismwDY"
   },
   "source": [
    "Suponha que os pesos dos sacos de arroz de uma indústria alimentícia se distribuem aproximadamente como uma normal de **desvio padrão populacional igual a 150 g**. Selecionada uma **amostra aleatório de 20 sacos** de um lote específico, obteve-se um **peso médio de 5.050 g**. Construa um **intervalo de confiança para a média populacional** assumindo um **nível de significância de 5%**."
   ]
  },
  {
   "cell_type": "markdown",
   "metadata": {
    "colab_type": "text",
    "id": "PCqEvJMOwvUf"
   },
   "source": [
    "---"
   ]
  },
  {
   "cell_type": "markdown",
   "metadata": {
    "colab_type": "text",
    "id": "HU578SXBG3GN"
   },
   "source": [
    "É a forma de se fazer suposições generalizadas sobre os parâmetros de uma população tendo como base as informações de uma amostra.\n",
    "\n",
    "- **Parâmetros** são os atributos numéricos de uma população, tal como a média, desvio padrão etc.\n",
    "\n",
    "- **Estimativa** é o valor obtido para determinado parâmetro a partir dos dados de uma amostra da população."
   ]
  },
  {
   "cell_type": "markdown",
   "metadata": {
    "colab_type": "text",
    "id": "klWVkoUDG3GR"
   },
   "source": [
    "## <font color=green>4.1 Teorema do limite central</font>\n",
    "***"
   ]
  },
  {
   "cell_type": "markdown",
   "metadata": {
    "colab_type": "text",
    "id": "QpgTvbISG3GU"
   },
   "source": [
    "> O **Teorema do Limite Central** afirma que, com o aumento do tamanho da amostra, a distribuição das médias amostrais se aproxima de uma distribuição normal com média igual à média da população e desvio padrão igual ao desvio padrão da variável original dividido pela raiz quadrada do tamanho da amostra. Este fato é assegurado para $n$ maior ou igual a 30."
   ]
  },
  {
   "cell_type": "markdown",
   "metadata": {
    "colab_type": "text",
    "id": "ZIAr6is3wEMp"
   },
   "source": [
    "# $$\\sigma_\\bar{x} = \\frac{\\sigma}{\\sqrt{n}}$$\n",
    "\n",
    "O desvio padrão das médias amostrais é conhecido como **erro padrão da média**"
   ]
  },
  {
   "cell_type": "markdown",
   "metadata": {
    "colab_type": "text",
    "id": "eFtSo6H0iz7z"
   },
   "source": [
    "### Entendendo o Teorema do Limite Central"
   ]
  },
  {
   "cell_type": "code",
   "execution_count": 51,
   "metadata": {
    "colab": {},
    "colab_type": "code",
    "id": "S3q73XpnizTi"
   },
   "outputs": [],
   "source": [
    "n = 2000\n",
    "total_de_amostras = 1500"
   ]
  },
  {
   "cell_type": "code",
   "execution_count": 52,
   "metadata": {
    "colab": {
     "base_uri": "https://localhost:8080/",
     "height": 32
    },
    "colab_type": "code",
    "id": "uXZvARZ0izQp",
    "outputId": "84cfa6fa-e581-4cb6-bb4c-b622db1e85cd"
   },
   "outputs": [
    {
     "output_type": "execute_result",
     "data": {
      "text/plain": [
       "Empty DataFrame\n",
       "Columns: []\n",
       "Index: []"
      ],
      "text/html": "<div>\n<style scoped>\n    .dataframe tbody tr th:only-of-type {\n        vertical-align: middle;\n    }\n\n    .dataframe tbody tr th {\n        vertical-align: top;\n    }\n\n    .dataframe thead th {\n        text-align: right;\n    }\n</style>\n<table border=\"1\" class=\"dataframe\">\n  <thead>\n    <tr style=\"text-align: right;\">\n      <th></th>\n    </tr>\n  </thead>\n  <tbody>\n  </tbody>\n</table>\n</div>"
     },
     "metadata": {},
     "execution_count": 52
    }
   ],
   "source": [
    "amostras = pd.DataFrame()\n",
    "amostras"
   ]
  },
  {
   "cell_type": "code",
   "execution_count": 53,
   "metadata": {
    "colab": {
     "base_uri": "https://localhost:8080/",
     "height": 1989
    },
    "colab_type": "code",
    "id": "tXa7XKhKTyMu",
    "outputId": "2fe05b86-ecc8-48af-be13-17e8c7c235ce",
    "scrolled": true
   },
   "outputs": [
    {
     "output_type": "execute_result",
     "data": {
      "text/plain": [
       "      Amostra_0  Amostra_1  Amostra_2  Amostra_3  Amostra_4  Amostra_5  \\\n",
       "0            59         46         53         38         45         33   \n",
       "1            55         31         37         39         48         56   \n",
       "2            45         36         27         47         41         50   \n",
       "3            50         44         60         24         22         62   \n",
       "4            39         44         45         34         35         41   \n",
       "...         ...        ...        ...        ...        ...        ...   \n",
       "1995         59         33         40         38         50         39   \n",
       "1996         38         68         48         66         43         37   \n",
       "1997         37         51         64         34         29         29   \n",
       "1998         25         28         32         65         57         25   \n",
       "1999         25         31         57         22         35         52   \n",
       "\n",
       "      Amostra_6  Amostra_7  Amostra_8  Amostra_9  ...  Amostra_1490  \\\n",
       "0            33         45         53         29  ...            32   \n",
       "1            46         35         25         56  ...            39   \n",
       "2            52         55         49         62  ...            43   \n",
       "3            79         47         64         45  ...            51   \n",
       "4            50         45         29         36  ...            33   \n",
       "...         ...        ...        ...        ...  ...           ...   \n",
       "1995         46         41         31         49  ...            57   \n",
       "1996         69         32         36         73  ...            32   \n",
       "1997         51         31         74         31  ...            37   \n",
       "1998         27         37         35         37  ...            42   \n",
       "1999         49         43         48         36  ...            36   \n",
       "\n",
       "      Amostra_1491  Amostra_1492  Amostra_1493  Amostra_1494  Amostra_1495  \\\n",
       "0               42            56            56            51            43   \n",
       "1               35            60            48            48            34   \n",
       "2               46            36            51            50            32   \n",
       "3               26            44            37            39            67   \n",
       "4               42            34            61            46            28   \n",
       "...            ...           ...           ...           ...           ...   \n",
       "1995            25            45            38            38            43   \n",
       "1996            34            38            34            52            58   \n",
       "1997            35            54            55            50            24   \n",
       "1998            22            32            44            58            40   \n",
       "1999            27            72            66            66            49   \n",
       "\n",
       "      Amostra_1496  Amostra_1497  Amostra_1498  Amostra_1499  \n",
       "0               39            59            28            26  \n",
       "1               49            56            18            50  \n",
       "2               68            52            43            34  \n",
       "3               44            35            40            51  \n",
       "4               40            63            59            37  \n",
       "...            ...           ...           ...           ...  \n",
       "1995            33            51            30            32  \n",
       "1996            29            47            26            38  \n",
       "1997            52            20            58            53  \n",
       "1998            41            28            46            44  \n",
       "1999            56            38            48            54  \n",
       "\n",
       "[2000 rows x 1500 columns]"
      ],
      "text/html": "<div>\n<style scoped>\n    .dataframe tbody tr th:only-of-type {\n        vertical-align: middle;\n    }\n\n    .dataframe tbody tr th {\n        vertical-align: top;\n    }\n\n    .dataframe thead th {\n        text-align: right;\n    }\n</style>\n<table border=\"1\" class=\"dataframe\">\n  <thead>\n    <tr style=\"text-align: right;\">\n      <th></th>\n      <th>Amostra_0</th>\n      <th>Amostra_1</th>\n      <th>Amostra_2</th>\n      <th>Amostra_3</th>\n      <th>Amostra_4</th>\n      <th>Amostra_5</th>\n      <th>Amostra_6</th>\n      <th>Amostra_7</th>\n      <th>Amostra_8</th>\n      <th>Amostra_9</th>\n      <th>...</th>\n      <th>Amostra_1490</th>\n      <th>Amostra_1491</th>\n      <th>Amostra_1492</th>\n      <th>Amostra_1493</th>\n      <th>Amostra_1494</th>\n      <th>Amostra_1495</th>\n      <th>Amostra_1496</th>\n      <th>Amostra_1497</th>\n      <th>Amostra_1498</th>\n      <th>Amostra_1499</th>\n    </tr>\n  </thead>\n  <tbody>\n    <tr>\n      <th>0</th>\n      <td>59</td>\n      <td>46</td>\n      <td>53</td>\n      <td>38</td>\n      <td>45</td>\n      <td>33</td>\n      <td>33</td>\n      <td>45</td>\n      <td>53</td>\n      <td>29</td>\n      <td>...</td>\n      <td>32</td>\n      <td>42</td>\n      <td>56</td>\n      <td>56</td>\n      <td>51</td>\n      <td>43</td>\n      <td>39</td>\n      <td>59</td>\n      <td>28</td>\n      <td>26</td>\n    </tr>\n    <tr>\n      <th>1</th>\n      <td>55</td>\n      <td>31</td>\n      <td>37</td>\n      <td>39</td>\n      <td>48</td>\n      <td>56</td>\n      <td>46</td>\n      <td>35</td>\n      <td>25</td>\n      <td>56</td>\n      <td>...</td>\n      <td>39</td>\n      <td>35</td>\n      <td>60</td>\n      <td>48</td>\n      <td>48</td>\n      <td>34</td>\n      <td>49</td>\n      <td>56</td>\n      <td>18</td>\n      <td>50</td>\n    </tr>\n    <tr>\n      <th>2</th>\n      <td>45</td>\n      <td>36</td>\n      <td>27</td>\n      <td>47</td>\n      <td>41</td>\n      <td>50</td>\n      <td>52</td>\n      <td>55</td>\n      <td>49</td>\n      <td>62</td>\n      <td>...</td>\n      <td>43</td>\n      <td>46</td>\n      <td>36</td>\n      <td>51</td>\n      <td>50</td>\n      <td>32</td>\n      <td>68</td>\n      <td>52</td>\n      <td>43</td>\n      <td>34</td>\n    </tr>\n    <tr>\n      <th>3</th>\n      <td>50</td>\n      <td>44</td>\n      <td>60</td>\n      <td>24</td>\n      <td>22</td>\n      <td>62</td>\n      <td>79</td>\n      <td>47</td>\n      <td>64</td>\n      <td>45</td>\n      <td>...</td>\n      <td>51</td>\n      <td>26</td>\n      <td>44</td>\n      <td>37</td>\n      <td>39</td>\n      <td>67</td>\n      <td>44</td>\n      <td>35</td>\n      <td>40</td>\n      <td>51</td>\n    </tr>\n    <tr>\n      <th>4</th>\n      <td>39</td>\n      <td>44</td>\n      <td>45</td>\n      <td>34</td>\n      <td>35</td>\n      <td>41</td>\n      <td>50</td>\n      <td>45</td>\n      <td>29</td>\n      <td>36</td>\n      <td>...</td>\n      <td>33</td>\n      <td>42</td>\n      <td>34</td>\n      <td>61</td>\n      <td>46</td>\n      <td>28</td>\n      <td>40</td>\n      <td>63</td>\n      <td>59</td>\n      <td>37</td>\n    </tr>\n    <tr>\n      <th>...</th>\n      <td>...</td>\n      <td>...</td>\n      <td>...</td>\n      <td>...</td>\n      <td>...</td>\n      <td>...</td>\n      <td>...</td>\n      <td>...</td>\n      <td>...</td>\n      <td>...</td>\n      <td>...</td>\n      <td>...</td>\n      <td>...</td>\n      <td>...</td>\n      <td>...</td>\n      <td>...</td>\n      <td>...</td>\n      <td>...</td>\n      <td>...</td>\n      <td>...</td>\n      <td>...</td>\n    </tr>\n    <tr>\n      <th>1995</th>\n      <td>59</td>\n      <td>33</td>\n      <td>40</td>\n      <td>38</td>\n      <td>50</td>\n      <td>39</td>\n      <td>46</td>\n      <td>41</td>\n      <td>31</td>\n      <td>49</td>\n      <td>...</td>\n      <td>57</td>\n      <td>25</td>\n      <td>45</td>\n      <td>38</td>\n      <td>38</td>\n      <td>43</td>\n      <td>33</td>\n      <td>51</td>\n      <td>30</td>\n      <td>32</td>\n    </tr>\n    <tr>\n      <th>1996</th>\n      <td>38</td>\n      <td>68</td>\n      <td>48</td>\n      <td>66</td>\n      <td>43</td>\n      <td>37</td>\n      <td>69</td>\n      <td>32</td>\n      <td>36</td>\n      <td>73</td>\n      <td>...</td>\n      <td>32</td>\n      <td>34</td>\n      <td>38</td>\n      <td>34</td>\n      <td>52</td>\n      <td>58</td>\n      <td>29</td>\n      <td>47</td>\n      <td>26</td>\n      <td>38</td>\n    </tr>\n    <tr>\n      <th>1997</th>\n      <td>37</td>\n      <td>51</td>\n      <td>64</td>\n      <td>34</td>\n      <td>29</td>\n      <td>29</td>\n      <td>51</td>\n      <td>31</td>\n      <td>74</td>\n      <td>31</td>\n      <td>...</td>\n      <td>37</td>\n      <td>35</td>\n      <td>54</td>\n      <td>55</td>\n      <td>50</td>\n      <td>24</td>\n      <td>52</td>\n      <td>20</td>\n      <td>58</td>\n      <td>53</td>\n    </tr>\n    <tr>\n      <th>1998</th>\n      <td>25</td>\n      <td>28</td>\n      <td>32</td>\n      <td>65</td>\n      <td>57</td>\n      <td>25</td>\n      <td>27</td>\n      <td>37</td>\n      <td>35</td>\n      <td>37</td>\n      <td>...</td>\n      <td>42</td>\n      <td>22</td>\n      <td>32</td>\n      <td>44</td>\n      <td>58</td>\n      <td>40</td>\n      <td>41</td>\n      <td>28</td>\n      <td>46</td>\n      <td>44</td>\n    </tr>\n    <tr>\n      <th>1999</th>\n      <td>25</td>\n      <td>31</td>\n      <td>57</td>\n      <td>22</td>\n      <td>35</td>\n      <td>52</td>\n      <td>49</td>\n      <td>43</td>\n      <td>48</td>\n      <td>36</td>\n      <td>...</td>\n      <td>36</td>\n      <td>27</td>\n      <td>72</td>\n      <td>66</td>\n      <td>66</td>\n      <td>49</td>\n      <td>56</td>\n      <td>38</td>\n      <td>48</td>\n      <td>54</td>\n    </tr>\n  </tbody>\n</table>\n<p>2000 rows × 1500 columns</p>\n</div>"
     },
     "metadata": {},
     "execution_count": 53
    }
   ],
   "source": [
    "for i in range(total_de_amostras):\n",
    "    _ = dados.Idade.sample(n)\n",
    "    _.index = range(0, len(_))\n",
    "    amostras['Amostra_' + str(i)] = _\n",
    "amostras"
   ]
  },
  {
   "cell_type": "code",
   "execution_count": 54,
   "metadata": {},
   "outputs": [
    {
     "output_type": "execute_result",
     "data": {
      "text/plain": [
       "Amostra_0       44.3300\n",
       "Amostra_1       44.2335\n",
       "Amostra_2       44.0280\n",
       "Amostra_3       44.1875\n",
       "Amostra_4       43.5035\n",
       "                 ...   \n",
       "Amostra_1495    44.1425\n",
       "Amostra_1496    44.1675\n",
       "Amostra_1497    43.9960\n",
       "Amostra_1498    43.6280\n",
       "Amostra_1499    43.5875\n",
       "Length: 1500, dtype: float64"
      ]
     },
     "metadata": {},
     "execution_count": 54
    }
   ],
   "source": [
    "amostras.mean()"
   ]
  },
  {
   "cell_type": "markdown",
   "metadata": {
    "colab_type": "text",
    "id": "JfgEBDx0jDzf"
   },
   "source": [
    "> O Teorema do Limite Central afirma que, **com o aumento do tamanho da amostra, a distribuição das médias amostrais se aproxima de uma distribuição normal** com média igual à média da população e desvio padrão igual ao desvio padrão da variável original dividido pela raiz quadrada do tamanho da amostra. Este fato é assegurado para n maior ou igual a 30."
   ]
  },
  {
   "cell_type": "code",
   "execution_count": 55,
   "metadata": {
    "colab": {
     "base_uri": "https://localhost:8080/",
     "height": 286
    },
    "colab_type": "code",
    "id": "giJKqa_9izKF",
    "outputId": "a90fdc6d-9970-42dd-85c3-0da9e0977ef0"
   },
   "outputs": [
    {
     "output_type": "execute_result",
     "data": {
      "text/plain": [
       "<AxesSubplot:>"
      ]
     },
     "metadata": {},
     "execution_count": 55
    },
    {
     "output_type": "display_data",
     "data": {
      "text/plain": "<Figure size 432x288 with 1 Axes>",
      "image/svg+xml": "<?xml version=\"1.0\" encoding=\"utf-8\" standalone=\"no\"?>\n<!DOCTYPE svg PUBLIC \"-//W3C//DTD SVG 1.1//EN\"\n  \"http://www.w3.org/Graphics/SVG/1.1/DTD/svg11.dtd\">\n<!-- Created with matplotlib (https://matplotlib.org/) -->\n<svg height=\"251.721024pt\" version=\"1.1\" viewBox=\"0 0 383.509075 251.721024\" width=\"383.509075pt\" xmlns=\"http://www.w3.org/2000/svg\" xmlns:xlink=\"http://www.w3.org/1999/xlink\">\n <metadata>\n  <rdf:RDF xmlns:cc=\"http://creativecommons.org/ns#\" xmlns:dc=\"http://purl.org/dc/elements/1.1/\" xmlns:rdf=\"http://www.w3.org/1999/02/22-rdf-syntax-ns#\">\n   <cc:Work>\n    <dc:type rdf:resource=\"http://purl.org/dc/dcmitype/StillImage\"/>\n    <dc:date>2021-03-18T22:15:51.574619</dc:date>\n    <dc:format>image/svg+xml</dc:format>\n    <dc:creator>\n     <cc:Agent>\n      <dc:title>Matplotlib v3.3.4, https://matplotlib.org/</dc:title>\n     </cc:Agent>\n    </dc:creator>\n   </cc:Work>\n  </rdf:RDF>\n </metadata>\n <defs>\n  <style type=\"text/css\">*{stroke-linecap:butt;stroke-linejoin:round;}</style>\n </defs>\n <g id=\"figure_1\">\n  <g id=\"patch_1\">\n   <path d=\"M 0 251.721024 \nL 383.509075 251.721024 \nL 383.509075 0 \nL 0 0 \nz\n\" style=\"fill:none;\"/>\n  </g>\n  <g id=\"axes_1\">\n   <g id=\"patch_2\">\n    <path d=\"M 33.2875 227.842899 \nL 368.0875 227.842899 \nL 368.0875 10.402899 \nL 33.2875 10.402899 \nz\n\" style=\"fill:#ffffff;\"/>\n   </g>\n   <g id=\"patch_3\">\n    <path clip-path=\"url(#p162334b709)\" d=\"M 48.505682 227.842899 \nL 78.942045 227.842899 \nL 78.942045 225.132353 \nL 48.505682 225.132353 \nz\n\" style=\"fill:#1f77b4;\"/>\n   </g>\n   <g id=\"patch_4\">\n    <path clip-path=\"url(#p162334b709)\" d=\"M 78.942045 227.842899 \nL 109.378409 227.842899 \nL 109.378409 213.20595 \nL 78.942045 213.20595 \nz\n\" style=\"fill:#1f77b4;\"/>\n   </g>\n   <g id=\"patch_5\">\n    <path clip-path=\"url(#p162334b709)\" d=\"M 109.378409 227.842899 \nL 139.814773 227.842899 \nL 139.814773 168.210887 \nL 109.378409 168.210887 \nz\n\" style=\"fill:#1f77b4;\"/>\n   </g>\n   <g id=\"patch_6\">\n    <path clip-path=\"url(#p162334b709)\" d=\"M 139.814773 227.842899 \nL 170.251136 227.842899 \nL 170.251136 91.23138 \nL 139.814773 91.23138 \nz\n\" style=\"fill:#1f77b4;\"/>\n   </g>\n   <g id=\"patch_7\">\n    <path clip-path=\"url(#p162334b709)\" d=\"M 170.251136 227.842899 \nL 200.6875 227.842899 \nL 200.6875 47.320535 \nL 170.251136 47.320535 \nz\n\" style=\"fill:#1f77b4;\"/>\n   </g>\n   <g id=\"patch_8\">\n    <path clip-path=\"url(#p162334b709)\" d=\"M 200.6875 227.842899 \nL 231.123864 227.842899 \nL 231.123864 20.757184 \nL 200.6875 20.757184 \nz\n\" style=\"fill:#1f77b4;\"/>\n   </g>\n   <g id=\"patch_9\">\n    <path clip-path=\"url(#p162334b709)\" d=\"M 231.123864 227.842899 \nL 261.560227 227.842899 \nL 261.560227 96.110363 \nL 231.123864 96.110363 \nz\n\" style=\"fill:#1f77b4;\"/>\n   </g>\n   <g id=\"patch_10\">\n    <path clip-path=\"url(#p162334b709)\" d=\"M 261.560227 227.842899 \nL 291.996591 227.842899 \nL 291.996591 167.668777 \nL 261.560227 167.668777 \nz\n\" style=\"fill:#1f77b4;\"/>\n   </g>\n   <g id=\"patch_11\">\n    <path clip-path=\"url(#p162334b709)\" d=\"M 291.996591 227.842899 \nL 322.432955 227.842899 \nL 322.432955 210.495404 \nL 291.996591 210.495404 \nz\n\" style=\"fill:#1f77b4;\"/>\n   </g>\n   <g id=\"patch_12\">\n    <path clip-path=\"url(#p162334b709)\" d=\"M 322.432955 227.842899 \nL 352.869318 227.842899 \nL 352.869318 225.132353 \nL 322.432955 225.132353 \nz\n\" style=\"fill:#1f77b4;\"/>\n   </g>\n   <g id=\"matplotlib.axis_1\">\n    <g id=\"xtick_1\">\n     <g id=\"line2d_1\">\n      <path clip-path=\"url(#p162334b709)\" d=\"M 57.805199 227.842899 \nL 57.805199 10.402899 \n\" style=\"fill:none;stroke:#b0b0b0;stroke-linecap:square;stroke-width:0.8;\"/>\n     </g>\n     <g id=\"line2d_2\">\n      <defs>\n       <path d=\"M 0 0 \nL 0 3.5 \n\" id=\"m6f7de3ec2e\" style=\"stroke:#000000;stroke-width:0.8;\"/>\n      </defs>\n      <g>\n       <use style=\"stroke:#000000;stroke-width:0.8;\" x=\"57.805199\" xlink:href=\"#m6f7de3ec2e\" y=\"227.842899\"/>\n      </g>\n     </g>\n     <g id=\"text_1\">\n      <!-- 43.25 -->\n      <g transform=\"translate(43.491136 242.441336)scale(0.1 -0.1)\">\n       <defs>\n        <path d=\"M 37.796875 64.3125 \nL 12.890625 25.390625 \nL 37.796875 25.390625 \nz\nM 35.203125 72.90625 \nL 47.609375 72.90625 \nL 47.609375 25.390625 \nL 58.015625 25.390625 \nL 58.015625 17.1875 \nL 47.609375 17.1875 \nL 47.609375 0 \nL 37.796875 0 \nL 37.796875 17.1875 \nL 4.890625 17.1875 \nL 4.890625 26.703125 \nz\n\" id=\"DejaVuSans-52\"/>\n        <path d=\"M 40.578125 39.3125 \nQ 47.65625 37.796875 51.625 33 \nQ 55.609375 28.21875 55.609375 21.1875 \nQ 55.609375 10.40625 48.1875 4.484375 \nQ 40.765625 -1.421875 27.09375 -1.421875 \nQ 22.515625 -1.421875 17.65625 -0.515625 \nQ 12.796875 0.390625 7.625 2.203125 \nL 7.625 11.71875 \nQ 11.71875 9.328125 16.59375 8.109375 \nQ 21.484375 6.890625 26.8125 6.890625 \nQ 36.078125 6.890625 40.9375 10.546875 \nQ 45.796875 14.203125 45.796875 21.1875 \nQ 45.796875 27.640625 41.28125 31.265625 \nQ 36.765625 34.90625 28.71875 34.90625 \nL 20.21875 34.90625 \nL 20.21875 43.015625 \nL 29.109375 43.015625 \nQ 36.375 43.015625 40.234375 45.921875 \nQ 44.09375 48.828125 44.09375 54.296875 \nQ 44.09375 59.90625 40.109375 62.90625 \nQ 36.140625 65.921875 28.71875 65.921875 \nQ 24.65625 65.921875 20.015625 65.03125 \nQ 15.375 64.15625 9.8125 62.3125 \nL 9.8125 71.09375 \nQ 15.4375 72.65625 20.34375 73.4375 \nQ 25.25 74.21875 29.59375 74.21875 \nQ 40.828125 74.21875 47.359375 69.109375 \nQ 53.90625 64.015625 53.90625 55.328125 \nQ 53.90625 49.265625 50.4375 45.09375 \nQ 46.96875 40.921875 40.578125 39.3125 \nz\n\" id=\"DejaVuSans-51\"/>\n        <path d=\"M 10.6875 12.40625 \nL 21 12.40625 \nL 21 0 \nL 10.6875 0 \nz\n\" id=\"DejaVuSans-46\"/>\n        <path d=\"M 19.1875 8.296875 \nL 53.609375 8.296875 \nL 53.609375 0 \nL 7.328125 0 \nL 7.328125 8.296875 \nQ 12.9375 14.109375 22.625 23.890625 \nQ 32.328125 33.6875 34.8125 36.53125 \nQ 39.546875 41.84375 41.421875 45.53125 \nQ 43.3125 49.21875 43.3125 52.78125 \nQ 43.3125 58.59375 39.234375 62.25 \nQ 35.15625 65.921875 28.609375 65.921875 \nQ 23.96875 65.921875 18.8125 64.3125 \nQ 13.671875 62.703125 7.8125 59.421875 \nL 7.8125 69.390625 \nQ 13.765625 71.78125 18.9375 73 \nQ 24.125 74.21875 28.421875 74.21875 \nQ 39.75 74.21875 46.484375 68.546875 \nQ 53.21875 62.890625 53.21875 53.421875 \nQ 53.21875 48.921875 51.53125 44.890625 \nQ 49.859375 40.875 45.40625 35.40625 \nQ 44.1875 33.984375 37.640625 27.21875 \nQ 31.109375 20.453125 19.1875 8.296875 \nz\n\" id=\"DejaVuSans-50\"/>\n        <path d=\"M 10.796875 72.90625 \nL 49.515625 72.90625 \nL 49.515625 64.59375 \nL 19.828125 64.59375 \nL 19.828125 46.734375 \nQ 21.96875 47.46875 24.109375 47.828125 \nQ 26.265625 48.1875 28.421875 48.1875 \nQ 40.625 48.1875 47.75 41.5 \nQ 54.890625 34.8125 54.890625 23.390625 \nQ 54.890625 11.625 47.5625 5.09375 \nQ 40.234375 -1.421875 26.90625 -1.421875 \nQ 22.3125 -1.421875 17.546875 -0.640625 \nQ 12.796875 0.140625 7.71875 1.703125 \nL 7.71875 11.625 \nQ 12.109375 9.234375 16.796875 8.0625 \nQ 21.484375 6.890625 26.703125 6.890625 \nQ 35.15625 6.890625 40.078125 11.328125 \nQ 45.015625 15.765625 45.015625 23.390625 \nQ 45.015625 31 40.078125 35.4375 \nQ 35.15625 39.890625 26.703125 39.890625 \nQ 22.75 39.890625 18.8125 39.015625 \nQ 14.890625 38.140625 10.796875 36.28125 \nz\n\" id=\"DejaVuSans-53\"/>\n       </defs>\n       <use xlink:href=\"#DejaVuSans-52\"/>\n       <use x=\"63.623047\" xlink:href=\"#DejaVuSans-51\"/>\n       <use x=\"127.246094\" xlink:href=\"#DejaVuSans-46\"/>\n       <use x=\"159.033203\" xlink:href=\"#DejaVuSans-50\"/>\n       <use x=\"222.65625\" xlink:href=\"#DejaVuSans-53\"/>\n      </g>\n     </g>\n    </g>\n    <g id=\"xtick_2\">\n     <g id=\"line2d_3\">\n      <path clip-path=\"url(#p162334b709)\" d=\"M 101.260887 227.842899 \nL 101.260887 10.402899 \n\" style=\"fill:none;stroke:#b0b0b0;stroke-linecap:square;stroke-width:0.8;\"/>\n     </g>\n     <g id=\"line2d_4\">\n      <g>\n       <use style=\"stroke:#000000;stroke-width:0.8;\" x=\"101.260887\" xlink:href=\"#m6f7de3ec2e\" y=\"227.842899\"/>\n      </g>\n     </g>\n     <g id=\"text_2\">\n      <!-- 43.50 -->\n      <g transform=\"translate(86.946824 242.441336)scale(0.1 -0.1)\">\n       <defs>\n        <path d=\"M 31.78125 66.40625 \nQ 24.171875 66.40625 20.328125 58.90625 \nQ 16.5 51.421875 16.5 36.375 \nQ 16.5 21.390625 20.328125 13.890625 \nQ 24.171875 6.390625 31.78125 6.390625 \nQ 39.453125 6.390625 43.28125 13.890625 \nQ 47.125 21.390625 47.125 36.375 \nQ 47.125 51.421875 43.28125 58.90625 \nQ 39.453125 66.40625 31.78125 66.40625 \nz\nM 31.78125 74.21875 \nQ 44.046875 74.21875 50.515625 64.515625 \nQ 56.984375 54.828125 56.984375 36.375 \nQ 56.984375 17.96875 50.515625 8.265625 \nQ 44.046875 -1.421875 31.78125 -1.421875 \nQ 19.53125 -1.421875 13.0625 8.265625 \nQ 6.59375 17.96875 6.59375 36.375 \nQ 6.59375 54.828125 13.0625 64.515625 \nQ 19.53125 74.21875 31.78125 74.21875 \nz\n\" id=\"DejaVuSans-48\"/>\n       </defs>\n       <use xlink:href=\"#DejaVuSans-52\"/>\n       <use x=\"63.623047\" xlink:href=\"#DejaVuSans-51\"/>\n       <use x=\"127.246094\" xlink:href=\"#DejaVuSans-46\"/>\n       <use x=\"159.033203\" xlink:href=\"#DejaVuSans-53\"/>\n       <use x=\"222.65625\" xlink:href=\"#DejaVuSans-48\"/>\n      </g>\n     </g>\n    </g>\n    <g id=\"xtick_3\">\n     <g id=\"line2d_5\">\n      <path clip-path=\"url(#p162334b709)\" d=\"M 144.716574 227.842899 \nL 144.716574 10.402899 \n\" style=\"fill:none;stroke:#b0b0b0;stroke-linecap:square;stroke-width:0.8;\"/>\n     </g>\n     <g id=\"line2d_6\">\n      <g>\n       <use style=\"stroke:#000000;stroke-width:0.8;\" x=\"144.716574\" xlink:href=\"#m6f7de3ec2e\" y=\"227.842899\"/>\n      </g>\n     </g>\n     <g id=\"text_3\">\n      <!-- 43.75 -->\n      <g transform=\"translate(130.402512 242.441336)scale(0.1 -0.1)\">\n       <defs>\n        <path d=\"M 8.203125 72.90625 \nL 55.078125 72.90625 \nL 55.078125 68.703125 \nL 28.609375 0 \nL 18.3125 0 \nL 43.21875 64.59375 \nL 8.203125 64.59375 \nz\n\" id=\"DejaVuSans-55\"/>\n       </defs>\n       <use xlink:href=\"#DejaVuSans-52\"/>\n       <use x=\"63.623047\" xlink:href=\"#DejaVuSans-51\"/>\n       <use x=\"127.246094\" xlink:href=\"#DejaVuSans-46\"/>\n       <use x=\"159.033203\" xlink:href=\"#DejaVuSans-55\"/>\n       <use x=\"222.65625\" xlink:href=\"#DejaVuSans-53\"/>\n      </g>\n     </g>\n    </g>\n    <g id=\"xtick_4\">\n     <g id=\"line2d_7\">\n      <path clip-path=\"url(#p162334b709)\" d=\"M 188.172262 227.842899 \nL 188.172262 10.402899 \n\" style=\"fill:none;stroke:#b0b0b0;stroke-linecap:square;stroke-width:0.8;\"/>\n     </g>\n     <g id=\"line2d_8\">\n      <g>\n       <use style=\"stroke:#000000;stroke-width:0.8;\" x=\"188.172262\" xlink:href=\"#m6f7de3ec2e\" y=\"227.842899\"/>\n      </g>\n     </g>\n     <g id=\"text_4\">\n      <!-- 44.00 -->\n      <g transform=\"translate(173.858199 242.441336)scale(0.1 -0.1)\">\n       <use xlink:href=\"#DejaVuSans-52\"/>\n       <use x=\"63.623047\" xlink:href=\"#DejaVuSans-52\"/>\n       <use x=\"127.246094\" xlink:href=\"#DejaVuSans-46\"/>\n       <use x=\"159.033203\" xlink:href=\"#DejaVuSans-48\"/>\n       <use x=\"222.65625\" xlink:href=\"#DejaVuSans-48\"/>\n      </g>\n     </g>\n    </g>\n    <g id=\"xtick_5\">\n     <g id=\"line2d_9\">\n      <path clip-path=\"url(#p162334b709)\" d=\"M 231.62795 227.842899 \nL 231.62795 10.402899 \n\" style=\"fill:none;stroke:#b0b0b0;stroke-linecap:square;stroke-width:0.8;\"/>\n     </g>\n     <g id=\"line2d_10\">\n      <g>\n       <use style=\"stroke:#000000;stroke-width:0.8;\" x=\"231.62795\" xlink:href=\"#m6f7de3ec2e\" y=\"227.842899\"/>\n      </g>\n     </g>\n     <g id=\"text_5\">\n      <!-- 44.25 -->\n      <g transform=\"translate(217.313887 242.441336)scale(0.1 -0.1)\">\n       <use xlink:href=\"#DejaVuSans-52\"/>\n       <use x=\"63.623047\" xlink:href=\"#DejaVuSans-52\"/>\n       <use x=\"127.246094\" xlink:href=\"#DejaVuSans-46\"/>\n       <use x=\"159.033203\" xlink:href=\"#DejaVuSans-50\"/>\n       <use x=\"222.65625\" xlink:href=\"#DejaVuSans-53\"/>\n      </g>\n     </g>\n    </g>\n    <g id=\"xtick_6\">\n     <g id=\"line2d_11\">\n      <path clip-path=\"url(#p162334b709)\" d=\"M 275.083637 227.842899 \nL 275.083637 10.402899 \n\" style=\"fill:none;stroke:#b0b0b0;stroke-linecap:square;stroke-width:0.8;\"/>\n     </g>\n     <g id=\"line2d_12\">\n      <g>\n       <use style=\"stroke:#000000;stroke-width:0.8;\" x=\"275.083637\" xlink:href=\"#m6f7de3ec2e\" y=\"227.842899\"/>\n      </g>\n     </g>\n     <g id=\"text_6\">\n      <!-- 44.50 -->\n      <g transform=\"translate(260.769575 242.441336)scale(0.1 -0.1)\">\n       <use xlink:href=\"#DejaVuSans-52\"/>\n       <use x=\"63.623047\" xlink:href=\"#DejaVuSans-52\"/>\n       <use x=\"127.246094\" xlink:href=\"#DejaVuSans-46\"/>\n       <use x=\"159.033203\" xlink:href=\"#DejaVuSans-53\"/>\n       <use x=\"222.65625\" xlink:href=\"#DejaVuSans-48\"/>\n      </g>\n     </g>\n    </g>\n    <g id=\"xtick_7\">\n     <g id=\"line2d_13\">\n      <path clip-path=\"url(#p162334b709)\" d=\"M 318.539325 227.842899 \nL 318.539325 10.402899 \n\" style=\"fill:none;stroke:#b0b0b0;stroke-linecap:square;stroke-width:0.8;\"/>\n     </g>\n     <g id=\"line2d_14\">\n      <g>\n       <use style=\"stroke:#000000;stroke-width:0.8;\" x=\"318.539325\" xlink:href=\"#m6f7de3ec2e\" y=\"227.842899\"/>\n      </g>\n     </g>\n     <g id=\"text_7\">\n      <!-- 44.75 -->\n      <g transform=\"translate(304.225262 242.441336)scale(0.1 -0.1)\">\n       <use xlink:href=\"#DejaVuSans-52\"/>\n       <use x=\"63.623047\" xlink:href=\"#DejaVuSans-52\"/>\n       <use x=\"127.246094\" xlink:href=\"#DejaVuSans-46\"/>\n       <use x=\"159.033203\" xlink:href=\"#DejaVuSans-55\"/>\n       <use x=\"222.65625\" xlink:href=\"#DejaVuSans-53\"/>\n      </g>\n     </g>\n    </g>\n    <g id=\"xtick_8\">\n     <g id=\"line2d_15\">\n      <path clip-path=\"url(#p162334b709)\" d=\"M 361.995013 227.842899 \nL 361.995013 10.402899 \n\" style=\"fill:none;stroke:#b0b0b0;stroke-linecap:square;stroke-width:0.8;\"/>\n     </g>\n     <g id=\"line2d_16\">\n      <g>\n       <use style=\"stroke:#000000;stroke-width:0.8;\" x=\"361.995013\" xlink:href=\"#m6f7de3ec2e\" y=\"227.842899\"/>\n      </g>\n     </g>\n     <g id=\"text_8\">\n      <!-- 45.00 -->\n      <g transform=\"translate(347.68095 242.441336)scale(0.1 -0.1)\">\n       <use xlink:href=\"#DejaVuSans-52\"/>\n       <use x=\"63.623047\" xlink:href=\"#DejaVuSans-53\"/>\n       <use x=\"127.246094\" xlink:href=\"#DejaVuSans-46\"/>\n       <use x=\"159.033203\" xlink:href=\"#DejaVuSans-48\"/>\n       <use x=\"222.65625\" xlink:href=\"#DejaVuSans-48\"/>\n      </g>\n     </g>\n    </g>\n   </g>\n   <g id=\"matplotlib.axis_2\">\n    <g id=\"ytick_1\">\n     <g id=\"line2d_17\">\n      <path clip-path=\"url(#p162334b709)\" d=\"M 33.2875 227.842899 \nL 368.0875 227.842899 \n\" style=\"fill:none;stroke:#b0b0b0;stroke-linecap:square;stroke-width:0.8;\"/>\n     </g>\n     <g id=\"line2d_18\">\n      <defs>\n       <path d=\"M 0 0 \nL -3.5 0 \n\" id=\"m47bde7a7f9\" style=\"stroke:#000000;stroke-width:0.8;\"/>\n      </defs>\n      <g>\n       <use style=\"stroke:#000000;stroke-width:0.8;\" x=\"33.2875\" xlink:href=\"#m47bde7a7f9\" y=\"227.842899\"/>\n      </g>\n     </g>\n     <g id=\"text_9\">\n      <!-- 0 -->\n      <g transform=\"translate(19.925 231.642117)scale(0.1 -0.1)\">\n       <use xlink:href=\"#DejaVuSans-48\"/>\n      </g>\n     </g>\n    </g>\n    <g id=\"ytick_2\">\n     <g id=\"line2d_19\">\n      <path clip-path=\"url(#p162334b709)\" d=\"M 33.2875 200.737439 \nL 368.0875 200.737439 \n\" style=\"fill:none;stroke:#b0b0b0;stroke-linecap:square;stroke-width:0.8;\"/>\n     </g>\n     <g id=\"line2d_20\">\n      <g>\n       <use style=\"stroke:#000000;stroke-width:0.8;\" x=\"33.2875\" xlink:href=\"#m47bde7a7f9\" y=\"200.737439\"/>\n      </g>\n     </g>\n     <g id=\"text_10\">\n      <!-- 50 -->\n      <g transform=\"translate(13.5625 204.536657)scale(0.1 -0.1)\">\n       <use xlink:href=\"#DejaVuSans-53\"/>\n       <use x=\"63.623047\" xlink:href=\"#DejaVuSans-48\"/>\n      </g>\n     </g>\n    </g>\n    <g id=\"ytick_3\">\n     <g id=\"line2d_21\">\n      <path clip-path=\"url(#p162334b709)\" d=\"M 33.2875 173.631979 \nL 368.0875 173.631979 \n\" style=\"fill:none;stroke:#b0b0b0;stroke-linecap:square;stroke-width:0.8;\"/>\n     </g>\n     <g id=\"line2d_22\">\n      <g>\n       <use style=\"stroke:#000000;stroke-width:0.8;\" x=\"33.2875\" xlink:href=\"#m47bde7a7f9\" y=\"173.631979\"/>\n      </g>\n     </g>\n     <g id=\"text_11\">\n      <!-- 100 -->\n      <g transform=\"translate(7.2 177.431197)scale(0.1 -0.1)\">\n       <defs>\n        <path d=\"M 12.40625 8.296875 \nL 28.515625 8.296875 \nL 28.515625 63.921875 \nL 10.984375 60.40625 \nL 10.984375 69.390625 \nL 28.421875 72.90625 \nL 38.28125 72.90625 \nL 38.28125 8.296875 \nL 54.390625 8.296875 \nL 54.390625 0 \nL 12.40625 0 \nz\n\" id=\"DejaVuSans-49\"/>\n       </defs>\n       <use xlink:href=\"#DejaVuSans-49\"/>\n       <use x=\"63.623047\" xlink:href=\"#DejaVuSans-48\"/>\n       <use x=\"127.246094\" xlink:href=\"#DejaVuSans-48\"/>\n      </g>\n     </g>\n    </g>\n    <g id=\"ytick_4\">\n     <g id=\"line2d_23\">\n      <path clip-path=\"url(#p162334b709)\" d=\"M 33.2875 146.526519 \nL 368.0875 146.526519 \n\" style=\"fill:none;stroke:#b0b0b0;stroke-linecap:square;stroke-width:0.8;\"/>\n     </g>\n     <g id=\"line2d_24\">\n      <g>\n       <use style=\"stroke:#000000;stroke-width:0.8;\" x=\"33.2875\" xlink:href=\"#m47bde7a7f9\" y=\"146.526519\"/>\n      </g>\n     </g>\n     <g id=\"text_12\">\n      <!-- 150 -->\n      <g transform=\"translate(7.2 150.325737)scale(0.1 -0.1)\">\n       <use xlink:href=\"#DejaVuSans-49\"/>\n       <use x=\"63.623047\" xlink:href=\"#DejaVuSans-53\"/>\n       <use x=\"127.246094\" xlink:href=\"#DejaVuSans-48\"/>\n      </g>\n     </g>\n    </g>\n    <g id=\"ytick_5\">\n     <g id=\"line2d_25\">\n      <path clip-path=\"url(#p162334b709)\" d=\"M 33.2875 119.421059 \nL 368.0875 119.421059 \n\" style=\"fill:none;stroke:#b0b0b0;stroke-linecap:square;stroke-width:0.8;\"/>\n     </g>\n     <g id=\"line2d_26\">\n      <g>\n       <use style=\"stroke:#000000;stroke-width:0.8;\" x=\"33.2875\" xlink:href=\"#m47bde7a7f9\" y=\"119.421059\"/>\n      </g>\n     </g>\n     <g id=\"text_13\">\n      <!-- 200 -->\n      <g transform=\"translate(7.2 123.220277)scale(0.1 -0.1)\">\n       <use xlink:href=\"#DejaVuSans-50\"/>\n       <use x=\"63.623047\" xlink:href=\"#DejaVuSans-48\"/>\n       <use x=\"127.246094\" xlink:href=\"#DejaVuSans-48\"/>\n      </g>\n     </g>\n    </g>\n    <g id=\"ytick_6\">\n     <g id=\"line2d_27\">\n      <path clip-path=\"url(#p162334b709)\" d=\"M 33.2875 92.315599 \nL 368.0875 92.315599 \n\" style=\"fill:none;stroke:#b0b0b0;stroke-linecap:square;stroke-width:0.8;\"/>\n     </g>\n     <g id=\"line2d_28\">\n      <g>\n       <use style=\"stroke:#000000;stroke-width:0.8;\" x=\"33.2875\" xlink:href=\"#m47bde7a7f9\" y=\"92.315599\"/>\n      </g>\n     </g>\n     <g id=\"text_14\">\n      <!-- 250 -->\n      <g transform=\"translate(7.2 96.114817)scale(0.1 -0.1)\">\n       <use xlink:href=\"#DejaVuSans-50\"/>\n       <use x=\"63.623047\" xlink:href=\"#DejaVuSans-53\"/>\n       <use x=\"127.246094\" xlink:href=\"#DejaVuSans-48\"/>\n      </g>\n     </g>\n    </g>\n    <g id=\"ytick_7\">\n     <g id=\"line2d_29\">\n      <path clip-path=\"url(#p162334b709)\" d=\"M 33.2875 65.210139 \nL 368.0875 65.210139 \n\" style=\"fill:none;stroke:#b0b0b0;stroke-linecap:square;stroke-width:0.8;\"/>\n     </g>\n     <g id=\"line2d_30\">\n      <g>\n       <use style=\"stroke:#000000;stroke-width:0.8;\" x=\"33.2875\" xlink:href=\"#m47bde7a7f9\" y=\"65.210139\"/>\n      </g>\n     </g>\n     <g id=\"text_15\">\n      <!-- 300 -->\n      <g transform=\"translate(7.2 69.009357)scale(0.1 -0.1)\">\n       <use xlink:href=\"#DejaVuSans-51\"/>\n       <use x=\"63.623047\" xlink:href=\"#DejaVuSans-48\"/>\n       <use x=\"127.246094\" xlink:href=\"#DejaVuSans-48\"/>\n      </g>\n     </g>\n    </g>\n    <g id=\"ytick_8\">\n     <g id=\"line2d_31\">\n      <path clip-path=\"url(#p162334b709)\" d=\"M 33.2875 38.104679 \nL 368.0875 38.104679 \n\" style=\"fill:none;stroke:#b0b0b0;stroke-linecap:square;stroke-width:0.8;\"/>\n     </g>\n     <g id=\"line2d_32\">\n      <g>\n       <use style=\"stroke:#000000;stroke-width:0.8;\" x=\"33.2875\" xlink:href=\"#m47bde7a7f9\" y=\"38.104679\"/>\n      </g>\n     </g>\n     <g id=\"text_16\">\n      <!-- 350 -->\n      <g transform=\"translate(7.2 41.903897)scale(0.1 -0.1)\">\n       <use xlink:href=\"#DejaVuSans-51\"/>\n       <use x=\"63.623047\" xlink:href=\"#DejaVuSans-53\"/>\n       <use x=\"127.246094\" xlink:href=\"#DejaVuSans-48\"/>\n      </g>\n     </g>\n    </g>\n    <g id=\"ytick_9\">\n     <g id=\"line2d_33\">\n      <path clip-path=\"url(#p162334b709)\" d=\"M 33.2875 10.999219 \nL 368.0875 10.999219 \n\" style=\"fill:none;stroke:#b0b0b0;stroke-linecap:square;stroke-width:0.8;\"/>\n     </g>\n     <g id=\"line2d_34\">\n      <g>\n       <use style=\"stroke:#000000;stroke-width:0.8;\" x=\"33.2875\" xlink:href=\"#m47bde7a7f9\" y=\"10.999219\"/>\n      </g>\n     </g>\n     <g id=\"text_17\">\n      <!-- 400 -->\n      <g transform=\"translate(7.2 14.798437)scale(0.1 -0.1)\">\n       <use xlink:href=\"#DejaVuSans-52\"/>\n       <use x=\"63.623047\" xlink:href=\"#DejaVuSans-48\"/>\n       <use x=\"127.246094\" xlink:href=\"#DejaVuSans-48\"/>\n      </g>\n     </g>\n    </g>\n   </g>\n   <g id=\"patch_13\">\n    <path d=\"M 33.2875 227.842899 \nL 33.2875 10.402899 \n\" style=\"fill:none;stroke:#000000;stroke-linecap:square;stroke-linejoin:miter;stroke-width:0.8;\"/>\n   </g>\n   <g id=\"patch_14\">\n    <path d=\"M 368.0875 227.842899 \nL 368.0875 10.402899 \n\" style=\"fill:none;stroke:#000000;stroke-linecap:square;stroke-linejoin:miter;stroke-width:0.8;\"/>\n   </g>\n   <g id=\"patch_15\">\n    <path d=\"M 33.2875 227.842899 \nL 368.0875 227.842899 \n\" style=\"fill:none;stroke:#000000;stroke-linecap:square;stroke-linejoin:miter;stroke-width:0.8;\"/>\n   </g>\n   <g id=\"patch_16\">\n    <path d=\"M 33.2875 10.402899 \nL 368.0875 10.402899 \n\" style=\"fill:none;stroke:#000000;stroke-linecap:square;stroke-linejoin:miter;stroke-width:0.8;\"/>\n   </g>\n  </g>\n </g>\n <defs>\n  <clipPath id=\"p162334b709\">\n   <rect height=\"217.44\" width=\"334.8\" x=\"33.2875\" y=\"10.402899\"/>\n  </clipPath>\n </defs>\n</svg>\n",
      "image/png": "[encoded data removed]"
     },
     "metadata": {
      "needs_background": "light"
     }
    }
   ],
   "source": [
    "amostras.mean().hist()"
   ]
  },
  {
   "cell_type": "markdown",
   "metadata": {
    "colab_type": "text",
    "id": "_A4RKStwjkLI"
   },
   "source": [
    "> O Teorema do Limite Central afirma que, com o aumento do tamanho da amostra, a distribuição das médias amostrais se aproxima de uma distribuição normal **com média igual à média da população** e desvio padrão igual ao desvio padrão da variável original dividido pela raiz quadrada do tamanho da amostra. Este fato é assegurado para n maior ou igual a 30."
   ]
  },
  {
   "cell_type": "code",
   "execution_count": 56,
   "metadata": {
    "colab": {
     "base_uri": "https://localhost:8080/",
     "height": 34
    },
    "colab_type": "code",
    "id": "vXE-UOj_izGZ",
    "outputId": "6eecc478-100a-4b55-eec3-896dbfc2079d"
   },
   "outputs": [
    {
     "output_type": "execute_result",
     "data": {
      "text/plain": [
       "44.07142113482561"
      ]
     },
     "metadata": {},
     "execution_count": 56
    }
   ],
   "source": [
    "dados.Idade.mean()"
   ]
  },
  {
   "cell_type": "code",
   "execution_count": 57,
   "metadata": {
    "colab": {
     "base_uri": "https://localhost:8080/",
     "height": 34
    },
    "colab_type": "code",
    "id": "bahA7_WYizC6",
    "outputId": "c95ef032-57b3-479d-b78e-b05efbaa9510"
   },
   "outputs": [
    {
     "output_type": "execute_result",
     "data": {
      "text/plain": [
       "44.07700833333334"
      ]
     },
     "metadata": {},
     "execution_count": 57
    }
   ],
   "source": [
    "amostras.mean().mean()"
   ]
  },
  {
   "cell_type": "markdown",
   "metadata": {
    "colab_type": "text",
    "id": "7lIWJCAKlPmA"
   },
   "source": [
    "> O Teorema do Limite Central afirma que, com o aumento do tamanho da amostra, a distribuição das médias amostrais se aproxima de uma distribuição normal com média igual à média da população e **desvio padrão igual ao desvio padrão da variável original dividido pela raiz quadrada do tamanho da amostra**. Este fato é assegurado para n maior ou igual a 30.\n",
    "\n",
    "# $$\\sigma_\\bar{x} = \\frac{\\sigma}{\\sqrt{n}}$$"
   ]
  },
  {
   "cell_type": "code",
   "execution_count": 58,
   "metadata": {
    "colab": {
     "base_uri": "https://localhost:8080/",
     "height": 34
    },
    "colab_type": "code",
    "id": "qKrG0zqhVNzn",
    "outputId": "90ab25da-d1bd-4f27-ebe7-af4bb0563d54"
   },
   "outputs": [
    {
     "output_type": "execute_result",
     "data": {
      "text/plain": [
       "0.2699701768000739"
      ]
     },
     "metadata": {},
     "execution_count": 58
    }
   ],
   "source": [
    "amostras.mean().std()"
   ]
  },
  {
   "cell_type": "code",
   "execution_count": 59,
   "metadata": {
    "colab": {
     "base_uri": "https://localhost:8080/",
     "height": 34
    },
    "colab_type": "code",
    "id": "83ILp8Quiy_W",
    "outputId": "9f16b942-f1dd-47c3-f1bc-adfb0e4be636"
   },
   "outputs": [
    {
     "output_type": "execute_result",
     "data": {
      "text/plain": [
       "12.48058346535974"
      ]
     },
     "metadata": {},
     "execution_count": 59
    }
   ],
   "source": [
    "dados.Idade.std()"
   ]
  },
  {
   "cell_type": "code",
   "execution_count": 60,
   "metadata": {
    "colab": {
     "base_uri": "https://localhost:8080/",
     "height": 34
    },
    "colab_type": "code",
    "id": "IQ7wC-Nkiy75",
    "outputId": "c70c88bd-52f6-41fd-a29d-a88f1641072e"
   },
   "outputs": [
    {
     "output_type": "execute_result",
     "data": {
      "text/plain": [
       "0.27907433027404266"
      ]
     },
     "metadata": {},
     "execution_count": 60
    }
   ],
   "source": [
    "dados.Idade.std() / np.sqrt(n)"
   ]
  },
  {
   "cell_type": "markdown",
   "metadata": {
    "colab_type": "text",
    "id": "ku8CE67iG3Ge"
   },
   "source": [
    "## <font color=green>4.2 Níveis de confiança e significância</font>\n",
    "***"
   ]
  },
  {
   "cell_type": "markdown",
   "metadata": {
    "colab_type": "text",
    "id": "mk6ZsvgyG3Gf"
   },
   "source": [
    "O **nível de confiança** ($1 - \\alpha$) representa a probabilidade de acerto da estimativa. De forma complementar o **nível de significância** ($\\alpha$) expressa a probabilidade de erro da estimativa.\n",
    "\n",
    "O **nível de confiança** representa o grau de confiabilidade do resultado da estimativa estar dentro de determinado intervalo. Quando fixamos em uma pesquisa um **nível de confiança** de 95%, por exemplo, estamos assumindo que existe uma probabilidade de 95% dos resultados da pesquisa representarem bem a realidade, ou seja, estarem corretos.\n",
    "\n",
    "O **nível de confiança** de uma estimativa pode ser obtido a partir da área sob a curva normal como ilustrado na figura abaixo."
   ]
  },
  {
   "cell_type": "markdown",
   "metadata": {
    "colab_type": "text",
    "id": "WeGyDfvaG3Gg"
   },
   "source": [
    "![alt text](https://caelum-online-public.s3.amazonaws.com/1178-estatistica-parte2/01/img007.png)"
   ]
  },
  {
   "cell_type": "markdown",
   "metadata": {
    "colab_type": "text",
    "id": "AN8WDZ-HG3Gi"
   },
   "source": [
    "## <font color=green>4.3 Erro inferencial</font>\n",
    "***"
   ]
  },
  {
   "cell_type": "markdown",
   "metadata": {
    "colab_type": "text",
    "id": "tk-TwhhfG3Gi"
   },
   "source": [
    "O **erro inferencial** é definido pelo **desvio padrão das médias amostrais** $\\sigma_\\bar{x}$ e pelo **nível de confiança** determinado para o processo."
   ]
  },
  {
   "cell_type": "markdown",
   "metadata": {
    "colab_type": "text",
    "id": "FKOQUPYHG3Gk"
   },
   "source": [
    "# $$e = z \\frac{\\sigma}{\\sqrt{n}}$$"
   ]
  },
  {
   "cell_type": "markdown",
   "metadata": {
    "colab_type": "text",
    "id": "ELbWQW4sG3HS"
   },
   "source": [
    "## <font color=green>4.4 Intervalos de confiança</font>\n",
    "***"
   ]
  },
  {
   "cell_type": "markdown",
   "metadata": {
    "colab_type": "text",
    "id": "-r6EMnH-G3HT"
   },
   "source": [
    "### Intevalo de confiança para a média da população"
   ]
  },
  {
   "cell_type": "markdown",
   "metadata": {
    "colab_type": "text",
    "id": "QWgBFeRnG3HT"
   },
   "source": [
    "#### Com desvio padrão populacional conhecido\n",
    "\n",
    "## $$\\mu = \\bar{x} \\pm z\\frac{\\sigma}{\\sqrt{n}}$$\n",
    "\n",
    "#### Com desvio padrão populacional desconhecido\n",
    "\n",
    "## $$\\mu = \\bar{x} \\pm z\\frac{s}{\\sqrt{n}}$$"
   ]
  },
  {
   "cell_type": "markdown",
   "metadata": {
    "colab_type": "text",
    "id": "R2qqLneeG3HT"
   },
   "source": [
    "## <font color='blue'>Exemplo: </font>"
   ]
  },
  {
   "cell_type": "markdown",
   "metadata": {
    "colab_type": "text",
    "id": "AgnrFjdMG3HT"
   },
   "source": [
    "Suponha que os pesos dos sacos de arroz de uma indústria alimentícia se distribuem aproximadamente como uma normal de **desvio padrão populacional igual a 150 g**. Selecionada uma **amostra aleatório de 20 sacos** de um lote específico, obteve-se um **peso médio de 5.050 g**. Construa um intervalo de confiança para a **média populacional** assumindo um **nível de significância de 5%**."
   ]
  },
  {
   "cell_type": "markdown",
   "metadata": {
    "colab_type": "text",
    "id": "LpGQGksTG3HU"
   },
   "source": [
    "### Média amostral"
   ]
  },
  {
   "cell_type": "code",
   "execution_count": 61,
   "metadata": {
    "colab": {
     "base_uri": "https://localhost:8080/",
     "height": 34
    },
    "colab_type": "code",
    "id": "aF2QQ0z3G3HU",
    "outputId": "31b20b10-a4f7-49fe-b113-f0fff1e2f30f"
   },
   "outputs": [
    {
     "output_type": "execute_result",
     "data": {
      "text/plain": [
       "5050"
      ]
     },
     "metadata": {},
     "execution_count": 61
    }
   ],
   "source": [
    "media_amostral = 5050\n",
    "media_amostral"
   ]
  },
  {
   "cell_type": "markdown",
   "metadata": {
    "colab_type": "text",
    "id": "Jly1bVP9G3HY"
   },
   "source": [
    "### Nível de significância ($\\alpha$)"
   ]
  },
  {
   "cell_type": "code",
   "execution_count": 62,
   "metadata": {
    "colab": {
     "base_uri": "https://localhost:8080/",
     "height": 34
    },
    "colab_type": "code",
    "id": "BzIgN3C7G3HY",
    "outputId": "53b76a9a-fce9-41dc-829e-4c7b318b7d75"
   },
   "outputs": [
    {
     "output_type": "execute_result",
     "data": {
      "text/plain": [
       "0.05"
      ]
     },
     "metadata": {},
     "execution_count": 62
    }
   ],
   "source": [
    "significancia = 0.05\n",
    "significancia"
   ]
  },
  {
   "cell_type": "markdown",
   "metadata": {
    "colab_type": "text",
    "id": "SrZAbQRKG3Ha"
   },
   "source": [
    "### Nível de confiança ($1 - \\alpha$)"
   ]
  },
  {
   "cell_type": "code",
   "execution_count": 63,
   "metadata": {
    "colab": {
     "base_uri": "https://localhost:8080/",
     "height": 34
    },
    "colab_type": "code",
    "id": "1JeWXwA6G3Ha",
    "outputId": "8ac9e63f-f2e5-46a5-b693-e221203ada3f"
   },
   "outputs": [
    {
     "output_type": "execute_result",
     "data": {
      "text/plain": [
       "0.95"
      ]
     },
     "metadata": {},
     "execution_count": 63
    }
   ],
   "source": [
    "confianca = 1 - significancia\n",
    "confianca"
   ]
  },
  {
   "cell_type": "markdown",
   "metadata": {
    "colab_type": "text",
    "id": "mZoUFr1nG3Hf"
   },
   "source": [
    "### Obtendo $z$"
   ]
  },
  {
   "cell_type": "code",
   "execution_count": 64,
   "metadata": {
    "colab": {
     "base_uri": "https://localhost:8080/",
     "height": 359
    },
    "colab_type": "code",
    "id": "f9IMOwY2Xeva",
    "outputId": "e8efe36b-5dfd-4272-de0c-fdab162d3582"
   },
   "outputs": [
    {
     "output_type": "execute_result",
     "data": {
      "text/plain": [
       "Z       0.00    0.01    0.02    0.03    0.04    0.05    0.06    0.07    0.08  \\\n",
       "1.60  0.9452  0.9463  0.9474  0.9484  0.9495  0.9505  0.9515  0.9525  0.9535   \n",
       "1.70  0.9554  0.9564  0.9573  0.9582  0.9591  0.9599  0.9608  0.9616  0.9625   \n",
       "1.80  0.9641  0.9649  0.9656  0.9664  0.9671  0.9678  0.9686  0.9693  0.9699   \n",
       "1.90  0.9713  0.9719  0.9726  0.9732  0.9738  0.9744  0.9750  0.9756  0.9761   \n",
       "2.00  0.9772  0.9778  0.9783  0.9788  0.9793  0.9798  0.9803  0.9808  0.9812   \n",
       "2.10  0.9821  0.9826  0.9830  0.9834  0.9838  0.9842  0.9846  0.9850  0.9854   \n",
       "2.20  0.9861  0.9864  0.9868  0.9871  0.9875  0.9878  0.9881  0.9884  0.9887   \n",
       "2.30  0.9893  0.9896  0.9898  0.9901  0.9904  0.9906  0.9909  0.9911  0.9913   \n",
       "2.40  0.9918  0.9920  0.9922  0.9925  0.9927  0.9929  0.9931  0.9932  0.9934   \n",
       "2.50  0.9938  0.9940  0.9941  0.9943  0.9945  0.9946  0.9948  0.9949  0.9951   \n",
       "\n",
       "Z       0.09  \n",
       "1.60  0.9545  \n",
       "1.70  0.9633  \n",
       "1.80  0.9706  \n",
       "1.90  0.9767  \n",
       "2.00  0.9817  \n",
       "2.10  0.9857  \n",
       "2.20  0.9890  \n",
       "2.30  0.9916  \n",
       "2.40  0.9936  \n",
       "2.50  0.9952  "
      ],
      "text/html": "<div>\n<style scoped>\n    .dataframe tbody tr th:only-of-type {\n        vertical-align: middle;\n    }\n\n    .dataframe tbody tr th {\n        vertical-align: top;\n    }\n\n    .dataframe thead th {\n        text-align: right;\n    }\n</style>\n<table border=\"1\" class=\"dataframe\">\n  <thead>\n    <tr style=\"text-align: right;\">\n      <th>Z</th>\n      <th>0.00</th>\n      <th>0.01</th>\n      <th>0.02</th>\n      <th>0.03</th>\n      <th>0.04</th>\n      <th>0.05</th>\n      <th>0.06</th>\n      <th>0.07</th>\n      <th>0.08</th>\n      <th>0.09</th>\n    </tr>\n  </thead>\n  <tbody>\n    <tr>\n      <th>1.60</th>\n      <td>0.9452</td>\n      <td>0.9463</td>\n      <td>0.9474</td>\n      <td>0.9484</td>\n      <td>0.9495</td>\n      <td>0.9505</td>\n      <td>0.9515</td>\n      <td>0.9525</td>\n      <td>0.9535</td>\n      <td>0.9545</td>\n    </tr>\n    <tr>\n      <th>1.70</th>\n      <td>0.9554</td>\n      <td>0.9564</td>\n      <td>0.9573</td>\n      <td>0.9582</td>\n      <td>0.9591</td>\n      <td>0.9599</td>\n      <td>0.9608</td>\n      <td>0.9616</td>\n      <td>0.9625</td>\n      <td>0.9633</td>\n    </tr>\n    <tr>\n      <th>1.80</th>\n      <td>0.9641</td>\n      <td>0.9649</td>\n      <td>0.9656</td>\n      <td>0.9664</td>\n      <td>0.9671</td>\n      <td>0.9678</td>\n      <td>0.9686</td>\n      <td>0.9693</td>\n      <td>0.9699</td>\n      <td>0.9706</td>\n    </tr>\n    <tr>\n      <th>1.90</th>\n      <td>0.9713</td>\n      <td>0.9719</td>\n      <td>0.9726</td>\n      <td>0.9732</td>\n      <td>0.9738</td>\n      <td>0.9744</td>\n      <td>0.9750</td>\n      <td>0.9756</td>\n      <td>0.9761</td>\n      <td>0.9767</td>\n    </tr>\n    <tr>\n      <th>2.00</th>\n      <td>0.9772</td>\n      <td>0.9778</td>\n      <td>0.9783</td>\n      <td>0.9788</td>\n      <td>0.9793</td>\n      <td>0.9798</td>\n      <td>0.9803</td>\n      <td>0.9808</td>\n      <td>0.9812</td>\n      <td>0.9817</td>\n    </tr>\n    <tr>\n      <th>2.10</th>\n      <td>0.9821</td>\n      <td>0.9826</td>\n      <td>0.9830</td>\n      <td>0.9834</td>\n      <td>0.9838</td>\n      <td>0.9842</td>\n      <td>0.9846</td>\n      <td>0.9850</td>\n      <td>0.9854</td>\n      <td>0.9857</td>\n    </tr>\n    <tr>\n      <th>2.20</th>\n      <td>0.9861</td>\n      <td>0.9864</td>\n      <td>0.9868</td>\n      <td>0.9871</td>\n      <td>0.9875</td>\n      <td>0.9878</td>\n      <td>0.9881</td>\n      <td>0.9884</td>\n      <td>0.9887</td>\n      <td>0.9890</td>\n    </tr>\n    <tr>\n      <th>2.30</th>\n      <td>0.9893</td>\n      <td>0.9896</td>\n      <td>0.9898</td>\n      <td>0.9901</td>\n      <td>0.9904</td>\n      <td>0.9906</td>\n      <td>0.9909</td>\n      <td>0.9911</td>\n      <td>0.9913</td>\n      <td>0.9916</td>\n    </tr>\n    <tr>\n      <th>2.40</th>\n      <td>0.9918</td>\n      <td>0.9920</td>\n      <td>0.9922</td>\n      <td>0.9925</td>\n      <td>0.9927</td>\n      <td>0.9929</td>\n      <td>0.9931</td>\n      <td>0.9932</td>\n      <td>0.9934</td>\n      <td>0.9936</td>\n    </tr>\n    <tr>\n      <th>2.50</th>\n      <td>0.9938</td>\n      <td>0.9940</td>\n      <td>0.9941</td>\n      <td>0.9943</td>\n      <td>0.9945</td>\n      <td>0.9946</td>\n      <td>0.9948</td>\n      <td>0.9949</td>\n      <td>0.9951</td>\n      <td>0.9952</td>\n    </tr>\n  </tbody>\n</table>\n</div>"
     },
     "metadata": {},
     "execution_count": 64
    }
   ],
   "source": [
    "tabela_normal_padronizada[16:26]"
   ]
  },
  {
   "cell_type": "markdown",
   "metadata": {
    "colab_type": "text",
    "id": "rMRmnaNPG3Go"
   },
   "source": [
    "### Obtendo $z$"
   ]
  },
  {
   "cell_type": "markdown",
   "metadata": {
    "colab_type": "text",
    "id": "T-3mV1qlUj1t"
   },
   "source": [
    "![alt text](https://caelum-online-public.s3.amazonaws.com/1178-estatistica-parte2/01/img008.png)"
   ]
  },
  {
   "cell_type": "code",
   "execution_count": 65,
   "metadata": {
    "colab": {
     "base_uri": "https://localhost:8080/",
     "height": 34
    },
    "colab_type": "code",
    "id": "nT5ZTwjOG3Go",
    "outputId": "9c20d5b5-fb36-40f1-b901-3969a2fa8ea0"
   },
   "outputs": [
    {
     "output_type": "execute_result",
     "data": {
      "text/plain": [
       "0.475"
      ]
     },
     "metadata": {},
     "execution_count": 65
    }
   ],
   "source": [
    "0.95 / 2"
   ]
  },
  {
   "cell_type": "code",
   "execution_count": 66,
   "metadata": {
    "colab": {
     "base_uri": "https://localhost:8080/",
     "height": 34
    },
    "colab_type": "code",
    "id": "vMjck-3ZU_sz",
    "outputId": "56a3f3ba-e5d4-40c7-dc4c-b31ed5d07262"
   },
   "outputs": [
    {
     "output_type": "execute_result",
     "data": {
      "text/plain": [
       "0.975"
      ]
     },
     "metadata": {},
     "execution_count": 66
    }
   ],
   "source": [
    "0.5 + (0.95 / 2)"
   ]
  },
  {
   "cell_type": "code",
   "execution_count": 67,
   "metadata": {
    "colab": {
     "base_uri": "https://localhost:8080/",
     "height": 34
    },
    "colab_type": "code",
    "id": "L4CMGZ3oVHLX",
    "outputId": "60470140-1dfa-4d5c-9627-097378b2fc8e"
   },
   "outputs": [
    {
     "output_type": "execute_result",
     "data": {
      "text/plain": [
       "1.96"
      ]
     },
     "metadata": {},
     "execution_count": 67
    }
   ],
   "source": [
    "z = 1.96\n",
    "z"
   ]
  },
  {
   "cell_type": "code",
   "execution_count": 68,
   "metadata": {
    "colab": {
     "base_uri": "https://localhost:8080/",
     "height": 34
    },
    "colab_type": "code",
    "id": "JJS6Z-85G3Hf",
    "outputId": "4cc8e179-05a4-4237-f099-06550ac200bf"
   },
   "outputs": [
    {
     "output_type": "execute_result",
     "data": {
      "text/plain": [
       "1.959963984540054"
      ]
     },
     "metadata": {},
     "execution_count": 68
    }
   ],
   "source": [
    "z = norm.ppf(0.5 + (0.95 / 2))\n",
    "z"
   ]
  },
  {
   "cell_type": "markdown",
   "metadata": {
    "colab_type": "text",
    "id": "ggXXP8QqTyNA"
   },
   "source": [
    "### Valores de $z$ para os níveis de confiança mais utilizados\n",
    "\n",
    "|Nível de<br>confiança|Valor da área sob<br>a curva normal| $z$ |\n",
    "|:----------------:|:---------------------------------:|:---:|\n",
    "|90%               |0,95                               |1,645|\n",
    "|95%               |0,975                              |1,96 |\n",
    "|99%               |0,995                              |2,575|"
   ]
  },
  {
   "cell_type": "markdown",
   "metadata": {
    "colab_type": "text",
    "id": "MfE1ru0AG3Hg"
   },
   "source": [
    "### Obtendo $\\sigma_\\bar{x}$"
   ]
  },
  {
   "cell_type": "code",
   "execution_count": 69,
   "metadata": {
    "colab": {
     "base_uri": "https://localhost:8080/",
     "height": 34
    },
    "colab_type": "code",
    "id": "LyQ6UUYtG3Hh",
    "outputId": "4c066583-4272-4e26-daf5-575ea4815371"
   },
   "outputs": [
    {
     "output_type": "execute_result",
     "data": {
      "text/plain": [
       "150"
      ]
     },
     "metadata": {},
     "execution_count": 69
    }
   ],
   "source": [
    "desvio_padrao = 150\n",
    "desvio_padrao"
   ]
  },
  {
   "cell_type": "code",
   "execution_count": 70,
   "metadata": {
    "colab": {
     "base_uri": "https://localhost:8080/",
     "height": 34
    },
    "colab_type": "code",
    "id": "ebvikT95G3Hi",
    "outputId": "bfbc2f5c-e706-46a6-aa6c-e94632aed4fc"
   },
   "outputs": [
    {
     "output_type": "execute_result",
     "data": {
      "text/plain": [
       "20"
      ]
     },
     "metadata": {},
     "execution_count": 70
    }
   ],
   "source": [
    "n = 20\n",
    "n"
   ]
  },
  {
   "cell_type": "code",
   "execution_count": 71,
   "metadata": {
    "colab": {
     "base_uri": "https://localhost:8080/",
     "height": 34
    },
    "colab_type": "code",
    "id": "TxM3yTpjG3Hk",
    "outputId": "a38a0bfc-2c3b-48f4-cea7-ee5f5147a251"
   },
   "outputs": [
    {
     "output_type": "execute_result",
     "data": {
      "text/plain": [
       "4.47213595499958"
      ]
     },
     "metadata": {},
     "execution_count": 71
    }
   ],
   "source": [
    "raiz_de_n = np.sqrt(n)\n",
    "raiz_de_n"
   ]
  },
  {
   "cell_type": "code",
   "execution_count": 72,
   "metadata": {
    "colab": {
     "base_uri": "https://localhost:8080/",
     "height": 34
    },
    "colab_type": "code",
    "id": "HNAcOpl0G3Hl",
    "outputId": "3b37c2d5-b02d-40af-897d-6c588e2696aa"
   },
   "outputs": [
    {
     "output_type": "execute_result",
     "data": {
      "text/plain": [
       "33.54101966249684"
      ]
     },
     "metadata": {},
     "execution_count": 72
    }
   ],
   "source": [
    "sigma = desvio_padrao / raiz_de_n\n",
    "sigma"
   ]
  },
  {
   "cell_type": "markdown",
   "metadata": {
    "colab_type": "text",
    "id": "NHbXlLk-G3Hn"
   },
   "source": [
    "### Obtendo $e$"
   ]
  },
  {
   "cell_type": "code",
   "execution_count": 73,
   "metadata": {
    "colab": {
     "base_uri": "https://localhost:8080/",
     "height": 34
    },
    "colab_type": "code",
    "id": "gAfakih5G3Ho",
    "outputId": "48958fa3-2cf8-4bc5-dfc3-0fb925798b38"
   },
   "outputs": [
    {
     "output_type": "execute_result",
     "data": {
      "text/plain": [
       "65.73919054324361"
      ]
     },
     "metadata": {},
     "execution_count": 73
    }
   ],
   "source": [
    "e = z * sigma\n",
    "e"
   ]
  },
  {
   "cell_type": "markdown",
   "metadata": {
    "colab_type": "text",
    "id": "sx1QTfNrG3Hq"
   },
   "source": [
    "### Solução 1 - Calculando o intervalo de confiança para a média"
   ]
  },
  {
   "cell_type": "code",
   "execution_count": 74,
   "metadata": {
    "colab": {
     "base_uri": "https://localhost:8080/",
     "height": 34
    },
    "colab_type": "code",
    "id": "NlJCcPZnG3Hq",
    "outputId": "09cee323-103e-4832-c23f-97daf4b9929f"
   },
   "outputs": [
    {
     "output_type": "execute_result",
     "data": {
      "text/plain": [
       "(4984.260809456757, 5115.739190543243)"
      ]
     },
     "metadata": {},
     "execution_count": 74
    }
   ],
   "source": [
    "intervalo = (\n",
    "    media_amostral - e,\n",
    "    media_amostral + e\n",
    "    )\n",
    "intervalo"
   ]
  },
  {
   "cell_type": "markdown",
   "metadata": {
    "colab_type": "text",
    "id": "DkFJL7fcG3Ht"
   },
   "source": [
    "### Solução 2 - Calculando o intervalo de confiança para a média"
   ]
  },
  {
   "cell_type": "code",
   "execution_count": 75,
   "metadata": {
    "colab": {
     "base_uri": "https://localhost:8080/",
     "height": 34
    },
    "colab_type": "code",
    "id": "U92vSYMkG3Hu",
    "outputId": "45923471-3d21-42ad-a922-5067ff21067b"
   },
   "outputs": [
    {
     "output_type": "execute_result",
     "data": {
      "text/plain": [
       "(4984.260809456757, 5115.739190543243)"
      ]
     },
     "metadata": {},
     "execution_count": 75
    }
   ],
   "source": [
    "norm.interval(alpha = 0.95, loc = media_amostral, scale = sigma)"
   ]
  },
  {
   "cell_type": "markdown",
   "metadata": {
    "colab_type": "text",
    "id": "aF9jAC6yG3Gl"
   },
   "source": [
    "# <font color=green>5 CÁLCULO DO TAMANHO DA AMOSTRA</font>\n",
    "***"
   ]
  },
  {
   "cell_type": "markdown",
   "metadata": {
    "colab_type": "text",
    "id": "BwiygaNqnjrr"
   },
   "source": [
    "## <font color='red'>Problema </font>"
   ]
  },
  {
   "cell_type": "markdown",
   "metadata": {
    "colab_type": "text",
    "id": "a7RjjVVUnlI3"
   },
   "source": [
    "Estamos estudando o rendimento mensal dos chefes de domicílios com renda até R$\\$$ 5.000,00 no Brasil. Nosso supervisor determinou que o **erro máximo em relação a média seja de R$\\$$ 10,00**. Sabemos que o **desvio padrão populacional** deste grupo de trabalhadores é de **R$\\$$ 1.082,79**. Para um **nível de confiança de 95%**, qual deve ser o tamanho da amostra de nosso estudo?"
   ]
  },
  {
   "cell_type": "markdown",
   "metadata": {
    "colab_type": "text",
    "id": "za2sGJt6G3Gm"
   },
   "source": [
    "## <font color=green>5.1 Variáveis quantitativas e população infinita</font>\n",
    "***"
   ]
  },
  {
   "cell_type": "markdown",
   "metadata": {
    "colab_type": "text",
    "id": "3wqMjJWR5sVq"
   },
   "source": [
    "# $$e = z \\frac{\\sigma}{\\sqrt{n}}$$"
   ]
  },
  {
   "cell_type": "markdown",
   "metadata": {
    "colab_type": "text",
    "id": "X1AxpKtIG3Gn"
   },
   "source": [
    "#### Com desvio padrão conhecido\n",
    "\n",
    "## $$n = \\left(z\\frac{\\sigma}{e}\\right)^2$$\n",
    "\n",
    "#### Com desvio padrão desconhecido\n",
    "\n",
    "## $$n = \\left(z\\frac{s}{e}\\right)^2$$\n",
    "\n",
    "Onde:\n",
    "\n",
    "$z$ = variável normal padronizada\n",
    "\n",
    "$\\sigma$ = desvio padrão populacional\n",
    "\n",
    "$s$ = desvio padrão amostral\n",
    "\n",
    "$e$ = erro inferencial"
   ]
  },
  {
   "cell_type": "markdown",
   "metadata": {
    "colab_type": "text",
    "id": "T0fysCyDG3Gn"
   },
   "source": [
    "### <font color='red'>Observações</font>\n",
    "\n",
    "1. O desvio padrão ($\\sigma$ ou $s$) e o erro ($e$) devem estar na mesma unidade de medida.\n",
    "\n",
    "2. Quando o erro ($e$) for representado em termos percentuais, deve ser interpretado como um percentual relacionado à média."
   ]
  },
  {
   "cell_type": "markdown",
   "metadata": {
    "colab_type": "text",
    "id": "WHYBTaupG3Gn"
   },
   "source": [
    "## <font color='blue'>Exemplo: Rendimento médio</font>"
   ]
  },
  {
   "cell_type": "markdown",
   "metadata": {
    "colab_type": "text",
    "id": "dcdzo7EgG3Go"
   },
   "source": [
    "Estamos estudando o rendimento mensal dos chefes de domicílios no Brasil. Nosso supervisor determinou que o **erro máximo em relação a média seja de R$\\$$ 100,00**. Sabemos que o **desvio padrão populacional** deste grupo de trabalhadores é de **R$\\$$ 3.323,39**. Para um **nível de confiança de 95%**, qual deve ser o tamanho da amostra de nosso estudo?"
   ]
  },
  {
   "cell_type": "code",
   "execution_count": 76,
   "metadata": {
    "colab": {
     "base_uri": "https://localhost:8080/",
     "height": 34
    },
    "colab_type": "code",
    "id": "XtJ5I_kaKDN3",
    "outputId": "a519e330-ddf0-492c-f42d-5cef36fed4c9"
   },
   "outputs": [
    {
     "output_type": "execute_result",
     "data": {
      "text/plain": [
       "1.959963984540054"
      ]
     },
     "metadata": {},
     "execution_count": 76
    }
   ],
   "source": [
    "z = norm.ppf(0.975)\n",
    "z"
   ]
  },
  {
   "cell_type": "markdown",
   "metadata": {
    "colab_type": "text",
    "id": "6uCkW4KlG3Gr"
   },
   "source": [
    "### Obtendo $\\sigma$"
   ]
  },
  {
   "cell_type": "code",
   "execution_count": 77,
   "metadata": {
    "colab": {
     "base_uri": "https://localhost:8080/",
     "height": 34
    },
    "colab_type": "code",
    "id": "1RmtZfj-G3Gr",
    "outputId": "d3e77bf1-b933-4ade-846f-95e25f4e1d6e"
   },
   "outputs": [
    {
     "output_type": "execute_result",
     "data": {
      "text/plain": [
       "3323.39"
      ]
     },
     "metadata": {},
     "execution_count": 77
    }
   ],
   "source": [
    "sigma = 3323.39\n",
    "sigma"
   ]
  },
  {
   "cell_type": "markdown",
   "metadata": {
    "colab_type": "text",
    "id": "Cl39PIZ2G3Gt"
   },
   "source": [
    "### Obtendo $e$"
   ]
  },
  {
   "cell_type": "code",
   "execution_count": 78,
   "metadata": {
    "colab": {
     "base_uri": "https://localhost:8080/",
     "height": 34
    },
    "colab_type": "code",
    "id": "NTRMt2gWG3Gt",
    "outputId": "f7d7ae3f-7e33-41cc-a11a-5b09de70cc2c"
   },
   "outputs": [
    {
     "output_type": "execute_result",
     "data": {
      "text/plain": [
       "100"
      ]
     },
     "metadata": {},
     "execution_count": 78
    }
   ],
   "source": [
    "e = 100\n",
    "e"
   ]
  },
  {
   "cell_type": "markdown",
   "metadata": {
    "colab_type": "text",
    "id": "OlAX3Gj6G3Gv"
   },
   "source": [
    "### Obtendo $n$"
   ]
  },
  {
   "cell_type": "code",
   "execution_count": 80,
   "metadata": {
    "colab": {
     "base_uri": "https://localhost:8080/",
     "height": 34
    },
    "colab_type": "code",
    "id": "0MjluwHPG3Gv",
    "outputId": "8f74510a-4f4b-4129-d3c3-d31be24567fa",
    "scrolled": true
   },
   "outputs": [
    {
     "output_type": "execute_result",
     "data": {
      "text/plain": [
       "4243"
      ]
     },
     "metadata": {},
     "execution_count": 80
    }
   ],
   "source": [
    "n = (z * (sigma / e)) ** 2\n",
    "int(n.round())"
   ]
  },
  {
   "cell_type": "markdown",
   "metadata": {
    "colab_type": "text",
    "id": "MjP0xsqyTyNO"
   },
   "source": [
    "---\n",
    "---"
   ]
  },
  {
   "cell_type": "markdown",
   "metadata": {
    "colab_type": "text",
    "id": "dx2vyLC-TyNP"
   },
   "source": [
    "## <font color='red'>Problema</font>"
   ]
  },
  {
   "cell_type": "markdown",
   "metadata": {
    "colab_type": "text",
    "id": "uzK2fAOFTyNP"
   },
   "source": [
    "Em um lote de **10.000 latas** de refrigerante foi realizada uma amostra aleatória simples de **100 latas** e foi obtido o **desvio padrão amostral do conteúdo das latas igual a 12 ml**. O fabricante estipula um **erro máximo sobre a média populacional de apenas 5 ml**. Para garantir um **nível de confiança de 95%** qual o tamanho de amostra deve ser selecionado para este estudo?"
   ]
  },
  {
   "cell_type": "markdown",
   "metadata": {
    "colab_type": "text",
    "id": "FlAz5kycTyNQ"
   },
   "source": [
    "## <font color=green>5.2 Variáveis quantitativas e população finita</font>\n",
    "***"
   ]
  },
  {
   "cell_type": "markdown",
   "metadata": {
    "colab_type": "text",
    "id": "UOe02McSTyNR"
   },
   "source": [
    "#### Com desvio padrão conhecido\n",
    "\n",
    "## $$n = \\frac{z^2 \\sigma^2 N}{z^2 \\sigma^2 + e^2(N-1)}$$\n",
    "\n",
    "#### Com desvio padrão desconhecido\n",
    "\n",
    "## $$n = \\frac{z^2 s^2 N}{z^2 s^2 + e^2(N-1)}$$\n",
    "\n",
    "Onde:\n",
    "\n",
    "$N$ = tamanho da população\n",
    "\n",
    "$z$ = variável normal padronizada\n",
    "\n",
    "$\\sigma$ = desvio padrão populacional\n",
    "\n",
    "$s$ = desvio padrão amostral\n",
    "\n",
    "$e$ = erro inferencial"
   ]
  },
  {
   "cell_type": "markdown",
   "metadata": {
    "colab_type": "text",
    "id": "cUELtYTKTyNS"
   },
   "source": [
    "## <font color='blue'>Exemplo: Indústria de refrigerantes</font>"
   ]
  },
  {
   "cell_type": "markdown",
   "metadata": {
    "colab_type": "text",
    "id": "upv1mM7fTyNS"
   },
   "source": [
    "Em um lote de **10.000 latas** de refrigerante foi realizada uma amostra aleatória simples de **100 latas** e foi obtido o **desvio padrão amostral do conteúdo das latas igual a 12 ml**. O fabricante estipula um **erro máximo sobre a média populacional de apenas 5 ml**. Para garantir um **nível de confiança de 95%** qual o tamanho de amostra deve ser selecionado para este estudo?"
   ]
  },
  {
   "cell_type": "markdown",
   "metadata": {
    "colab_type": "text",
    "id": "_y3-3VIBTyNS"
   },
   "source": [
    "### Obtendo $N$"
   ]
  },
  {
   "cell_type": "code",
   "execution_count": 81,
   "metadata": {
    "colab": {
     "base_uri": "https://localhost:8080/",
     "height": 34
    },
    "colab_type": "code",
    "id": "gXWn9zTETyNS",
    "outputId": "4daa26ff-4a96-47fb-9f0e-53a4390d701e"
   },
   "outputs": [
    {
     "output_type": "execute_result",
     "data": {
      "text/plain": [
       "10000"
      ]
     },
     "metadata": {},
     "execution_count": 81
    }
   ],
   "source": [
    "N = 10000\n",
    "N"
   ]
  },
  {
   "cell_type": "markdown",
   "metadata": {
    "colab_type": "text",
    "id": "xCgZ1JSjTyNT"
   },
   "source": [
    "### Obtendo $z$"
   ]
  },
  {
   "cell_type": "code",
   "execution_count": 82,
   "metadata": {
    "colab": {
     "base_uri": "https://localhost:8080/",
     "height": 34
    },
    "colab_type": "code",
    "id": "ZUs9aYJRTyNT",
    "outputId": "02560c9f-57ee-41c7-cdf4-5fd382365a74"
   },
   "outputs": [
    {
     "output_type": "execute_result",
     "data": {
      "text/plain": [
       "1.959963984540054"
      ]
     },
     "metadata": {},
     "execution_count": 82
    }
   ],
   "source": [
    "z = norm.ppf(0.975)\n",
    "z"
   ]
  },
  {
   "cell_type": "markdown",
   "metadata": {
    "colab_type": "text",
    "id": "KCnigJd8TyNU"
   },
   "source": [
    "### Obtendo $s$"
   ]
  },
  {
   "cell_type": "code",
   "execution_count": 83,
   "metadata": {
    "colab": {
     "base_uri": "https://localhost:8080/",
     "height": 34
    },
    "colab_type": "code",
    "id": "fKqFI_TZTyNU",
    "outputId": "68a9ee2f-428a-4d18-9148-f33704968fb7"
   },
   "outputs": [
    {
     "output_type": "execute_result",
     "data": {
      "text/plain": [
       "12"
      ]
     },
     "metadata": {},
     "execution_count": 83
    }
   ],
   "source": [
    "s = 12\n",
    "s"
   ]
  },
  {
   "cell_type": "markdown",
   "metadata": {
    "colab_type": "text",
    "id": "K9gDEIUdTyNX"
   },
   "source": [
    "### Obtendo $e$"
   ]
  },
  {
   "cell_type": "code",
   "execution_count": 84,
   "metadata": {
    "colab": {
     "base_uri": "https://localhost:8080/",
     "height": 34
    },
    "colab_type": "code",
    "id": "hyhJ3MQKTyNX",
    "outputId": "2849bd05-6c70-4d97-980d-67e140f27850"
   },
   "outputs": [
    {
     "output_type": "execute_result",
     "data": {
      "text/plain": [
       "5"
      ]
     },
     "metadata": {},
     "execution_count": 84
    }
   ],
   "source": [
    "e = 5\n",
    "e"
   ]
  },
  {
   "cell_type": "markdown",
   "metadata": {
    "colab_type": "text",
    "id": "Dsm3bg9gTyNX"
   },
   "source": [
    "### Obtendo $n$\n",
    "\n",
    "## $$n = \\frac{z^2 s^2 N}{z^2 s^2 + e^2(N-1)}$$"
   ]
  },
  {
   "cell_type": "code",
   "execution_count": 86,
   "metadata": {
    "colab": {
     "base_uri": "https://localhost:8080/",
     "height": 34
    },
    "colab_type": "code",
    "id": "0XxWfaPdTyNY",
    "outputId": "8494180f-9149-419f-dee9-f02ec3e81b93",
    "scrolled": true
   },
   "outputs": [
    {
     "output_type": "execute_result",
     "data": {
      "text/plain": [
       "22"
      ]
     },
     "metadata": {},
     "execution_count": 86
    }
   ],
   "source": [
    "n = ((z ** 2) * (s ** 2) * (N)) / (((z ** 2) * (s ** 2)) + ((e ** 2) * (N - 1)))\n",
    "int(n.round())"
   ]
  },
  {
   "cell_type": "markdown",
   "metadata": {
    "colab_type": "text",
    "id": "XNH7CMglG3Hv"
   },
   "source": [
    "# <font color=green>6 FIXANDO O CONTEÚDO</font>\n",
    "***"
   ]
  },
  {
   "cell_type": "markdown",
   "metadata": {
    "colab_type": "text",
    "id": "iRYqVAxuG3Hv"
   },
   "source": [
    "## <font color='blue'>Exemplo: Rendimento médio</font>"
   ]
  },
  {
   "cell_type": "markdown",
   "metadata": {
    "colab_type": "text",
    "id": "ggloHI5sG3Hw"
   },
   "source": [
    "Estamos estudando o **rendimento mensal dos chefes de domicílios com renda até R$\\$$ 5.000,00 no Brasil**. Nosso supervisor determinou que o **erro máximo em relação a média seja de R$\\$$ 10,00**. Sabemos que o **desvio padrão populacional** deste grupo de trabalhadores é de **R$\\$$ 1.082,79** e que a **média populacional** é de **R$\\$$ 1.426,54**. Para um **nível de confiança de 95%**, qual deve ser o tamanho da amostra de nosso estudo? Qual o intervalo de confiança para a média considerando o tamanho de amostra obtido?"
   ]
  },
  {
   "cell_type": "markdown",
   "metadata": {
    "colab_type": "text",
    "id": "JZDvLD-NG3Hw"
   },
   "source": [
    "### Construindo o dataset conforme especificado pelo problema"
   ]
  },
  {
   "cell_type": "code",
   "execution_count": 87,
   "metadata": {
    "colab": {},
    "colab_type": "code",
    "id": "qlnYQeaKG3Hw"
   },
   "outputs": [],
   "source": [
    "renda_5k = dados.query(\"Renda <= 5000\").Renda"
   ]
  },
  {
   "cell_type": "code",
   "execution_count": 88,
   "metadata": {
    "colab": {
     "base_uri": "https://localhost:8080/",
     "height": 34
    },
    "colab_type": "code",
    "id": "VKuxbygIG3Hy",
    "outputId": "98078826-90d1-488e-b11d-cf4e6f5bdc3c"
   },
   "outputs": [
    {
     "output_type": "execute_result",
     "data": {
      "text/plain": [
       "1082.7945490306845"
      ]
     },
     "metadata": {},
     "execution_count": 88
    }
   ],
   "source": [
    "sigma = renda_5k.std()\n",
    "sigma"
   ]
  },
  {
   "cell_type": "code",
   "execution_count": 89,
   "metadata": {
    "colab": {
     "base_uri": "https://localhost:8080/",
     "height": 34
    },
    "colab_type": "code",
    "id": "Q2Ku3mVPG3Hz",
    "outputId": "bb079fb4-3e59-4e05-920a-b369c04744eb"
   },
   "outputs": [
    {
     "output_type": "execute_result",
     "data": {
      "text/plain": [
       "1426.5372144947232"
      ]
     },
     "metadata": {},
     "execution_count": 89
    }
   ],
   "source": [
    "media = renda_5k.mean()\n",
    "media"
   ]
  },
  {
   "cell_type": "markdown",
   "metadata": {
    "colab_type": "text",
    "id": "F33TdkXdG3H2"
   },
   "source": [
    "### Calculando o tamanho da amostra"
   ]
  },
  {
   "cell_type": "code",
   "execution_count": 94,
   "metadata": {
    "colab": {
     "base_uri": "https://localhost:8080/",
     "height": 34
    },
    "colab_type": "code",
    "id": "sWIvnmygG3H2",
    "outputId": "42b7f8db-3a43-4e5f-f61a-9000e4e5e94b"
   },
   "outputs": [
    {
     "output_type": "execute_result",
     "data": {
      "text/plain": [
       "45039"
      ]
     },
     "metadata": {},
     "execution_count": 94
    }
   ],
   "source": [
    "z = norm.ppf(0.975)\n",
    "e = 10\n",
    "n = (z * (sigma / e)) ** 2\n",
    "n = int(n.round())\n",
    "n"
   ]
  },
  {
   "cell_type": "markdown",
   "metadata": {
    "colab_type": "text",
    "id": "xRN_gmmLG3H6"
   },
   "source": [
    "### Calculando o intervalo de confiança para a média"
   ]
  },
  {
   "cell_type": "code",
   "execution_count": 95,
   "metadata": {
    "colab": {
     "base_uri": "https://localhost:8080/",
     "height": 34
    },
    "colab_type": "code",
    "id": "HoG6JKxxG3H6",
    "outputId": "3ca552e4-f7f6-4992-f65a-6a4601dfd877"
   },
   "outputs": [
    {
     "output_type": "execute_result",
     "data": {
      "text/plain": [
       "(1416.5372195108237, 1436.5372094786228)"
      ]
     },
     "metadata": {},
     "execution_count": 95
    }
   ],
   "source": [
    "intervalo = norm.interval(alpha = 0.95, loc = media, scale = sigma / np.sqrt(n))\n",
    "intervalo"
   ]
  },
  {
   "cell_type": "markdown",
   "metadata": {
    "colab_type": "text",
    "id": "xWAG8q8oG3H8"
   },
   "source": [
    "### Realizando uma prova gráfica"
   ]
  },
  {
   "cell_type": "code",
   "execution_count": 96,
   "metadata": {
    "colab": {
     "base_uri": "https://localhost:8080/",
     "height": 395
    },
    "colab_type": "code",
    "id": "pxjJyWnNG3H8",
    "outputId": "c339160b-a6e1-403d-b996-3c81fd8d0f73"
   },
   "outputs": [
    {
     "output_type": "execute_result",
     "data": {
      "text/plain": [
       "<AxesSubplot:>"
      ]
     },
     "metadata": {},
     "execution_count": 96
    },
    {
     "output_type": "display_data",
     "data": {
      "text/plain": "<Figure size 864x432 with 1 Axes>",
      "image/svg+xml": "<?xml version=\"1.0\" encoding=\"utf-8\" standalone=\"no\"?>\n<!DOCTYPE svg PUBLIC \"-//W3C//DTD SVG 1.1//EN\"\n  \"http://www.w3.org/Graphics/SVG/1.1/DTD/svg11.dtd\">\n<!-- Created with matplotlib (https://matplotlib.org/) -->\n<svg height=\"357.238125pt\" version=\"1.1\" viewBox=\"0 0 716.45 357.238125\" width=\"716.45pt\" xmlns=\"http://www.w3.org/2000/svg\" xmlns:xlink=\"http://www.w3.org/1999/xlink\">\n <metadata>\n  <rdf:RDF xmlns:cc=\"http://creativecommons.org/ns#\" xmlns:dc=\"http://purl.org/dc/elements/1.1/\" xmlns:rdf=\"http://www.w3.org/1999/02/22-rdf-syntax-ns#\">\n   <cc:Work>\n    <dc:type rdf:resource=\"http://purl.org/dc/dcmitype/StillImage\"/>\n    <dc:date>2021-03-18T22:43:38.955674</dc:date>\n    <dc:format>image/svg+xml</dc:format>\n    <dc:creator>\n     <cc:Agent>\n      <dc:title>Matplotlib v3.3.4, https://matplotlib.org/</dc:title>\n     </cc:Agent>\n    </dc:creator>\n   </cc:Work>\n  </rdf:RDF>\n </metadata>\n <defs>\n  <style type=\"text/css\">*{stroke-linecap:butt;stroke-linejoin:round;}</style>\n </defs>\n <g id=\"figure_1\">\n  <g id=\"patch_1\">\n   <path d=\"M 0 357.238125 \nL 716.45 357.238125 \nL 716.45 0 \nL 0 0 \nz\n\" style=\"fill:none;\"/>\n  </g>\n  <g id=\"axes_1\">\n   <g id=\"patch_2\">\n    <path d=\"M 39.65 333.36 \nL 709.25 333.36 \nL 709.25 7.2 \nL 39.65 7.2 \nz\n\" style=\"fill:#ffffff;\"/>\n   </g>\n   <g id=\"matplotlib.axis_1\">\n    <g id=\"xtick_1\">\n     <g id=\"line2d_1\">\n      <defs>\n       <path d=\"M 0 0 \nL 0 3.5 \n\" id=\"m021737ba25\" style=\"stroke:#000000;stroke-width:0.8;\"/>\n      </defs>\n      <g>\n       <use style=\"stroke:#000000;stroke-width:0.8;\" x=\"70.086364\" xlink:href=\"#m021737ba25\" y=\"333.36\"/>\n      </g>\n     </g>\n     <g id=\"text_1\">\n      <!-- 0 -->\n      <g transform=\"translate(66.905114 347.958438)scale(0.1 -0.1)\">\n       <defs>\n        <path d=\"M 31.78125 66.40625 \nQ 24.171875 66.40625 20.328125 58.90625 \nQ 16.5 51.421875 16.5 36.375 \nQ 16.5 21.390625 20.328125 13.890625 \nQ 24.171875 6.390625 31.78125 6.390625 \nQ 39.453125 6.390625 43.28125 13.890625 \nQ 47.125 21.390625 47.125 36.375 \nQ 47.125 51.421875 43.28125 58.90625 \nQ 39.453125 66.40625 31.78125 66.40625 \nz\nM 31.78125 74.21875 \nQ 44.046875 74.21875 50.515625 64.515625 \nQ 56.984375 54.828125 56.984375 36.375 \nQ 56.984375 17.96875 50.515625 8.265625 \nQ 44.046875 -1.421875 31.78125 -1.421875 \nQ 19.53125 -1.421875 13.0625 8.265625 \nQ 6.59375 17.96875 6.59375 36.375 \nQ 6.59375 54.828125 13.0625 64.515625 \nQ 19.53125 74.21875 31.78125 74.21875 \nz\n\" id=\"DejaVuSans-48\"/>\n       </defs>\n       <use xlink:href=\"#DejaVuSans-48\"/>\n      </g>\n     </g>\n    </g>\n    <g id=\"xtick_2\">\n     <g id=\"line2d_2\">\n      <g>\n       <use style=\"stroke:#000000;stroke-width:0.8;\" x=\"191.831818\" xlink:href=\"#m021737ba25\" y=\"333.36\"/>\n      </g>\n     </g>\n     <g id=\"text_2\">\n      <!-- 200 -->\n      <g transform=\"translate(182.288068 347.958438)scale(0.1 -0.1)\">\n       <defs>\n        <path d=\"M 19.1875 8.296875 \nL 53.609375 8.296875 \nL 53.609375 0 \nL 7.328125 0 \nL 7.328125 8.296875 \nQ 12.9375 14.109375 22.625 23.890625 \nQ 32.328125 33.6875 34.8125 36.53125 \nQ 39.546875 41.84375 41.421875 45.53125 \nQ 43.3125 49.21875 43.3125 52.78125 \nQ 43.3125 58.59375 39.234375 62.25 \nQ 35.15625 65.921875 28.609375 65.921875 \nQ 23.96875 65.921875 18.8125 64.3125 \nQ 13.671875 62.703125 7.8125 59.421875 \nL 7.8125 69.390625 \nQ 13.765625 71.78125 18.9375 73 \nQ 24.125 74.21875 28.421875 74.21875 \nQ 39.75 74.21875 46.484375 68.546875 \nQ 53.21875 62.890625 53.21875 53.421875 \nQ 53.21875 48.921875 51.53125 44.890625 \nQ 49.859375 40.875 45.40625 35.40625 \nQ 44.1875 33.984375 37.640625 27.21875 \nQ 31.109375 20.453125 19.1875 8.296875 \nz\n\" id=\"DejaVuSans-50\"/>\n       </defs>\n       <use xlink:href=\"#DejaVuSans-50\"/>\n       <use x=\"63.623047\" xlink:href=\"#DejaVuSans-48\"/>\n       <use x=\"127.246094\" xlink:href=\"#DejaVuSans-48\"/>\n      </g>\n     </g>\n    </g>\n    <g id=\"xtick_3\">\n     <g id=\"line2d_3\">\n      <g>\n       <use style=\"stroke:#000000;stroke-width:0.8;\" x=\"313.577273\" xlink:href=\"#m021737ba25\" y=\"333.36\"/>\n      </g>\n     </g>\n     <g id=\"text_3\">\n      <!-- 400 -->\n      <g transform=\"translate(304.033523 347.958438)scale(0.1 -0.1)\">\n       <defs>\n        <path d=\"M 37.796875 64.3125 \nL 12.890625 25.390625 \nL 37.796875 25.390625 \nz\nM 35.203125 72.90625 \nL 47.609375 72.90625 \nL 47.609375 25.390625 \nL 58.015625 25.390625 \nL 58.015625 17.1875 \nL 47.609375 17.1875 \nL 47.609375 0 \nL 37.796875 0 \nL 37.796875 17.1875 \nL 4.890625 17.1875 \nL 4.890625 26.703125 \nz\n\" id=\"DejaVuSans-52\"/>\n       </defs>\n       <use xlink:href=\"#DejaVuSans-52\"/>\n       <use x=\"63.623047\" xlink:href=\"#DejaVuSans-48\"/>\n       <use x=\"127.246094\" xlink:href=\"#DejaVuSans-48\"/>\n      </g>\n     </g>\n    </g>\n    <g id=\"xtick_4\">\n     <g id=\"line2d_4\">\n      <g>\n       <use style=\"stroke:#000000;stroke-width:0.8;\" x=\"435.322727\" xlink:href=\"#m021737ba25\" y=\"333.36\"/>\n      </g>\n     </g>\n     <g id=\"text_4\">\n      <!-- 600 -->\n      <g transform=\"translate(425.778977 347.958438)scale(0.1 -0.1)\">\n       <defs>\n        <path d=\"M 33.015625 40.375 \nQ 26.375 40.375 22.484375 35.828125 \nQ 18.609375 31.296875 18.609375 23.390625 \nQ 18.609375 15.53125 22.484375 10.953125 \nQ 26.375 6.390625 33.015625 6.390625 \nQ 39.65625 6.390625 43.53125 10.953125 \nQ 47.40625 15.53125 47.40625 23.390625 \nQ 47.40625 31.296875 43.53125 35.828125 \nQ 39.65625 40.375 33.015625 40.375 \nz\nM 52.59375 71.296875 \nL 52.59375 62.3125 \nQ 48.875 64.0625 45.09375 64.984375 \nQ 41.3125 65.921875 37.59375 65.921875 \nQ 27.828125 65.921875 22.671875 59.328125 \nQ 17.53125 52.734375 16.796875 39.40625 \nQ 19.671875 43.65625 24.015625 45.921875 \nQ 28.375 48.1875 33.59375 48.1875 \nQ 44.578125 48.1875 50.953125 41.515625 \nQ 57.328125 34.859375 57.328125 23.390625 \nQ 57.328125 12.15625 50.6875 5.359375 \nQ 44.046875 -1.421875 33.015625 -1.421875 \nQ 20.359375 -1.421875 13.671875 8.265625 \nQ 6.984375 17.96875 6.984375 36.375 \nQ 6.984375 53.65625 15.1875 63.9375 \nQ 23.390625 74.21875 37.203125 74.21875 \nQ 40.921875 74.21875 44.703125 73.484375 \nQ 48.484375 72.75 52.59375 71.296875 \nz\n\" id=\"DejaVuSans-54\"/>\n       </defs>\n       <use xlink:href=\"#DejaVuSans-54\"/>\n       <use x=\"63.623047\" xlink:href=\"#DejaVuSans-48\"/>\n       <use x=\"127.246094\" xlink:href=\"#DejaVuSans-48\"/>\n      </g>\n     </g>\n    </g>\n    <g id=\"xtick_5\">\n     <g id=\"line2d_5\">\n      <g>\n       <use style=\"stroke:#000000;stroke-width:0.8;\" x=\"557.068182\" xlink:href=\"#m021737ba25\" y=\"333.36\"/>\n      </g>\n     </g>\n     <g id=\"text_5\">\n      <!-- 800 -->\n      <g transform=\"translate(547.524432 347.958438)scale(0.1 -0.1)\">\n       <defs>\n        <path d=\"M 31.78125 34.625 \nQ 24.75 34.625 20.71875 30.859375 \nQ 16.703125 27.09375 16.703125 20.515625 \nQ 16.703125 13.921875 20.71875 10.15625 \nQ 24.75 6.390625 31.78125 6.390625 \nQ 38.8125 6.390625 42.859375 10.171875 \nQ 46.921875 13.96875 46.921875 20.515625 \nQ 46.921875 27.09375 42.890625 30.859375 \nQ 38.875 34.625 31.78125 34.625 \nz\nM 21.921875 38.8125 \nQ 15.578125 40.375 12.03125 44.71875 \nQ 8.5 49.078125 8.5 55.328125 \nQ 8.5 64.0625 14.71875 69.140625 \nQ 20.953125 74.21875 31.78125 74.21875 \nQ 42.671875 74.21875 48.875 69.140625 \nQ 55.078125 64.0625 55.078125 55.328125 \nQ 55.078125 49.078125 51.53125 44.71875 \nQ 48 40.375 41.703125 38.8125 \nQ 48.828125 37.15625 52.796875 32.3125 \nQ 56.78125 27.484375 56.78125 20.515625 \nQ 56.78125 9.90625 50.3125 4.234375 \nQ 43.84375 -1.421875 31.78125 -1.421875 \nQ 19.734375 -1.421875 13.25 4.234375 \nQ 6.78125 9.90625 6.78125 20.515625 \nQ 6.78125 27.484375 10.78125 32.3125 \nQ 14.796875 37.15625 21.921875 38.8125 \nz\nM 18.3125 54.390625 \nQ 18.3125 48.734375 21.84375 45.5625 \nQ 25.390625 42.390625 31.78125 42.390625 \nQ 38.140625 42.390625 41.71875 45.5625 \nQ 45.3125 48.734375 45.3125 54.390625 \nQ 45.3125 60.0625 41.71875 63.234375 \nQ 38.140625 66.40625 31.78125 66.40625 \nQ 25.390625 66.40625 21.84375 63.234375 \nQ 18.3125 60.0625 18.3125 54.390625 \nz\n\" id=\"DejaVuSans-56\"/>\n       </defs>\n       <use xlink:href=\"#DejaVuSans-56\"/>\n       <use x=\"63.623047\" xlink:href=\"#DejaVuSans-48\"/>\n       <use x=\"127.246094\" xlink:href=\"#DejaVuSans-48\"/>\n      </g>\n     </g>\n    </g>\n    <g id=\"xtick_6\">\n     <g id=\"line2d_6\">\n      <g>\n       <use style=\"stroke:#000000;stroke-width:0.8;\" x=\"678.813636\" xlink:href=\"#m021737ba25\" y=\"333.36\"/>\n      </g>\n     </g>\n     <g id=\"text_6\">\n      <!-- 1000 -->\n      <g transform=\"translate(666.088636 347.958438)scale(0.1 -0.1)\">\n       <defs>\n        <path d=\"M 12.40625 8.296875 \nL 28.515625 8.296875 \nL 28.515625 63.921875 \nL 10.984375 60.40625 \nL 10.984375 69.390625 \nL 28.421875 72.90625 \nL 38.28125 72.90625 \nL 38.28125 8.296875 \nL 54.390625 8.296875 \nL 54.390625 0 \nL 12.40625 0 \nz\n\" id=\"DejaVuSans-49\"/>\n       </defs>\n       <use xlink:href=\"#DejaVuSans-49\"/>\n       <use x=\"63.623047\" xlink:href=\"#DejaVuSans-48\"/>\n       <use x=\"127.246094\" xlink:href=\"#DejaVuSans-48\"/>\n       <use x=\"190.869141\" xlink:href=\"#DejaVuSans-48\"/>\n      </g>\n     </g>\n    </g>\n   </g>\n   <g id=\"matplotlib.axis_2\">\n    <g id=\"ytick_1\">\n     <g id=\"line2d_7\">\n      <defs>\n       <path d=\"M 0 0 \nL -3.5 0 \n\" id=\"m1d903c7206\" style=\"stroke:#000000;stroke-width:0.8;\"/>\n      </defs>\n      <g>\n       <use style=\"stroke:#000000;stroke-width:0.8;\" x=\"39.65\" xlink:href=\"#m1d903c7206\" y=\"331.705322\"/>\n      </g>\n     </g>\n     <g id=\"text_7\">\n      <!-- 1415 -->\n      <g transform=\"translate(7.2 335.504541)scale(0.1 -0.1)\">\n       <defs>\n        <path d=\"M 10.796875 72.90625 \nL 49.515625 72.90625 \nL 49.515625 64.59375 \nL 19.828125 64.59375 \nL 19.828125 46.734375 \nQ 21.96875 47.46875 24.109375 47.828125 \nQ 26.265625 48.1875 28.421875 48.1875 \nQ 40.625 48.1875 47.75 41.5 \nQ 54.890625 34.8125 54.890625 23.390625 \nQ 54.890625 11.625 47.5625 5.09375 \nQ 40.234375 -1.421875 26.90625 -1.421875 \nQ 22.3125 -1.421875 17.546875 -0.640625 \nQ 12.796875 0.140625 7.71875 1.703125 \nL 7.71875 11.625 \nQ 12.109375 9.234375 16.796875 8.0625 \nQ 21.484375 6.890625 26.703125 6.890625 \nQ 35.15625 6.890625 40.078125 11.328125 \nQ 45.015625 15.765625 45.015625 23.390625 \nQ 45.015625 31 40.078125 35.4375 \nQ 35.15625 39.890625 26.703125 39.890625 \nQ 22.75 39.890625 18.8125 39.015625 \nQ 14.890625 38.140625 10.796875 36.28125 \nz\n\" id=\"DejaVuSans-53\"/>\n       </defs>\n       <use xlink:href=\"#DejaVuSans-49\"/>\n       <use x=\"63.623047\" xlink:href=\"#DejaVuSans-52\"/>\n       <use x=\"127.246094\" xlink:href=\"#DejaVuSans-49\"/>\n       <use x=\"190.869141\" xlink:href=\"#DejaVuSans-53\"/>\n      </g>\n     </g>\n    </g>\n    <g id=\"ytick_2\">\n     <g id=\"line2d_8\">\n      <g>\n       <use style=\"stroke:#000000;stroke-width:0.8;\" x=\"39.65\" xlink:href=\"#m1d903c7206\" y=\"259.811174\"/>\n      </g>\n     </g>\n     <g id=\"text_8\">\n      <!-- 1420 -->\n      <g transform=\"translate(7.2 263.610392)scale(0.1 -0.1)\">\n       <use xlink:href=\"#DejaVuSans-49\"/>\n       <use x=\"63.623047\" xlink:href=\"#DejaVuSans-52\"/>\n       <use x=\"127.246094\" xlink:href=\"#DejaVuSans-50\"/>\n       <use x=\"190.869141\" xlink:href=\"#DejaVuSans-48\"/>\n      </g>\n     </g>\n    </g>\n    <g id=\"ytick_3\">\n     <g id=\"line2d_9\">\n      <g>\n       <use style=\"stroke:#000000;stroke-width:0.8;\" x=\"39.65\" xlink:href=\"#m1d903c7206\" y=\"187.917025\"/>\n      </g>\n     </g>\n     <g id=\"text_9\">\n      <!-- 1425 -->\n      <g transform=\"translate(7.2 191.716244)scale(0.1 -0.1)\">\n       <use xlink:href=\"#DejaVuSans-49\"/>\n       <use x=\"63.623047\" xlink:href=\"#DejaVuSans-52\"/>\n       <use x=\"127.246094\" xlink:href=\"#DejaVuSans-50\"/>\n       <use x=\"190.869141\" xlink:href=\"#DejaVuSans-53\"/>\n      </g>\n     </g>\n    </g>\n    <g id=\"ytick_4\">\n     <g id=\"line2d_10\">\n      <g>\n       <use style=\"stroke:#000000;stroke-width:0.8;\" x=\"39.65\" xlink:href=\"#m1d903c7206\" y=\"116.022877\"/>\n      </g>\n     </g>\n     <g id=\"text_10\">\n      <!-- 1430 -->\n      <g transform=\"translate(7.2 119.822095)scale(0.1 -0.1)\">\n       <defs>\n        <path d=\"M 40.578125 39.3125 \nQ 47.65625 37.796875 51.625 33 \nQ 55.609375 28.21875 55.609375 21.1875 \nQ 55.609375 10.40625 48.1875 4.484375 \nQ 40.765625 -1.421875 27.09375 -1.421875 \nQ 22.515625 -1.421875 17.65625 -0.515625 \nQ 12.796875 0.390625 7.625 2.203125 \nL 7.625 11.71875 \nQ 11.71875 9.328125 16.59375 8.109375 \nQ 21.484375 6.890625 26.8125 6.890625 \nQ 36.078125 6.890625 40.9375 10.546875 \nQ 45.796875 14.203125 45.796875 21.1875 \nQ 45.796875 27.640625 41.28125 31.265625 \nQ 36.765625 34.90625 28.71875 34.90625 \nL 20.21875 34.90625 \nL 20.21875 43.015625 \nL 29.109375 43.015625 \nQ 36.375 43.015625 40.234375 45.921875 \nQ 44.09375 48.828125 44.09375 54.296875 \nQ 44.09375 59.90625 40.109375 62.90625 \nQ 36.140625 65.921875 28.71875 65.921875 \nQ 24.65625 65.921875 20.015625 65.03125 \nQ 15.375 64.15625 9.8125 62.3125 \nL 9.8125 71.09375 \nQ 15.4375 72.65625 20.34375 73.4375 \nQ 25.25 74.21875 29.59375 74.21875 \nQ 40.828125 74.21875 47.359375 69.109375 \nQ 53.90625 64.015625 53.90625 55.328125 \nQ 53.90625 49.265625 50.4375 45.09375 \nQ 46.96875 40.921875 40.578125 39.3125 \nz\n\" id=\"DejaVuSans-51\"/>\n       </defs>\n       <use xlink:href=\"#DejaVuSans-49\"/>\n       <use x=\"63.623047\" xlink:href=\"#DejaVuSans-52\"/>\n       <use x=\"127.246094\" xlink:href=\"#DejaVuSans-51\"/>\n       <use x=\"190.869141\" xlink:href=\"#DejaVuSans-48\"/>\n      </g>\n     </g>\n    </g>\n    <g id=\"ytick_5\">\n     <g id=\"line2d_11\">\n      <g>\n       <use style=\"stroke:#000000;stroke-width:0.8;\" x=\"39.65\" xlink:href=\"#m1d903c7206\" y=\"44.128728\"/>\n      </g>\n     </g>\n     <g id=\"text_11\">\n      <!-- 1435 -->\n      <g transform=\"translate(7.2 47.927947)scale(0.1 -0.1)\">\n       <use xlink:href=\"#DejaVuSans-49\"/>\n       <use x=\"63.623047\" xlink:href=\"#DejaVuSans-52\"/>\n       <use x=\"127.246094\" xlink:href=\"#DejaVuSans-51\"/>\n       <use x=\"190.869141\" xlink:href=\"#DejaVuSans-53\"/>\n      </g>\n     </g>\n    </g>\n   </g>\n   <g id=\"LineCollection_1\">\n    <path clip-path=\"url(#p10be098d85)\" d=\"M 70.086364 165.81368 \nL 678.813636 165.81368 \n\" style=\"fill:none;stroke:#000000;stroke-dasharray:5.55,2.4;stroke-dashoffset:0;stroke-width:1.5;\"/>\n   </g>\n   <g id=\"LineCollection_2\">\n    <path clip-path=\"url(#p10be098d85)\" d=\"M 70.086364 309.601905 \nL 678.813636 309.601905 \n\" style=\"fill:none;stroke:#ff0000;stroke-dasharray:5.55,2.4;stroke-dashoffset:0;stroke-width:1.5;\"/>\n   </g>\n   <g id=\"LineCollection_3\">\n    <path clip-path=\"url(#p10be098d85)\" d=\"M 70.086364 22.025455 \nL 678.813636 22.025455 \n\" style=\"fill:none;stroke:#ff0000;stroke-dasharray:5.55,2.4;stroke-dashoffset:0;stroke-width:1.5;\"/>\n   </g>\n   <g id=\"line2d_12\">\n    <defs>\n     <path d=\"M 0 1.5 \nC 0.397805 1.5 0.77937 1.341951 1.06066 1.06066 \nC 1.341951 0.77937 1.5 0.397805 1.5 0 \nC 1.5 -0.397805 1.341951 -0.77937 1.06066 -1.06066 \nC 0.77937 -1.341951 0.397805 -1.5 0 -1.5 \nC -0.397805 -1.5 -0.77937 -1.341951 -1.06066 -1.06066 \nC -1.341951 -0.77937 -1.5 -0.397805 -1.5 0 \nC -1.5 0.397805 -1.341951 0.77937 -1.06066 1.06066 \nC -0.77937 1.341951 -0.397805 1.5 0 1.5 \nz\n\" id=\"m68abf0a98d\" style=\"stroke:#1f77b4;\"/>\n    </defs>\n    <g clip-path=\"url(#p10be098d85)\">\n     <use style=\"fill:#1f77b4;stroke:#1f77b4;\" x=\"70.086364\" xlink:href=\"#m68abf0a98d\" y=\"261.542482\"/>\n     <use style=\"fill:#1f77b4;stroke:#1f77b4;\" x=\"70.695091\" xlink:href=\"#m68abf0a98d\" y=\"211.421379\"/>\n     <use style=\"fill:#1f77b4;stroke:#1f77b4;\" x=\"71.303818\" xlink:href=\"#m68abf0a98d\" y=\"112.3039\"/>\n     <use style=\"fill:#1f77b4;stroke:#1f77b4;\" x=\"71.912545\" xlink:href=\"#m68abf0a98d\" y=\"184.488888\"/>\n     <use style=\"fill:#1f77b4;stroke:#1f77b4;\" x=\"72.521273\" xlink:href=\"#m68abf0a98d\" y=\"267.612117\"/>\n     <use style=\"fill:#1f77b4;stroke:#1f77b4;\" x=\"73.13\" xlink:href=\"#m68abf0a98d\" y=\"191.771365\"/>\n     <use style=\"fill:#1f77b4;stroke:#1f77b4;\" x=\"73.738727\" xlink:href=\"#m68abf0a98d\" y=\"205.094425\"/>\n     <use style=\"fill:#1f77b4;stroke:#1f77b4;\" x=\"74.347455\" xlink:href=\"#m68abf0a98d\" y=\"128.440536\"/>\n     <use style=\"fill:#1f77b4;stroke:#1f77b4;\" x=\"74.956182\" xlink:href=\"#m68abf0a98d\" y=\"202.244774\"/>\n     <use style=\"fill:#1f77b4;stroke:#1f77b4;\" x=\"75.564909\" xlink:href=\"#m68abf0a98d\" y=\"31.126197\"/>\n     <use style=\"fill:#1f77b4;stroke:#1f77b4;\" x=\"76.173636\" xlink:href=\"#m68abf0a98d\" y=\"64.736819\"/>\n     <use style=\"fill:#1f77b4;stroke:#1f77b4;\" x=\"76.782364\" xlink:href=\"#m68abf0a98d\" y=\"211.392646\"/>\n     <use style=\"fill:#1f77b4;stroke:#1f77b4;\" x=\"77.391091\" xlink:href=\"#m68abf0a98d\" y=\"184.354482\"/>\n     <use style=\"fill:#1f77b4;stroke:#1f77b4;\" x=\"77.999818\" xlink:href=\"#m68abf0a98d\" y=\"184.077371\"/>\n     <use style=\"fill:#1f77b4;stroke:#1f77b4;\" x=\"78.608545\" xlink:href=\"#m68abf0a98d\" y=\"168.821873\"/>\n     <use style=\"fill:#1f77b4;stroke:#1f77b4;\" x=\"79.217273\" xlink:href=\"#m68abf0a98d\" y=\"217.970213\"/>\n     <use style=\"fill:#1f77b4;stroke:#1f77b4;\" x=\"79.826\" xlink:href=\"#m68abf0a98d\" y=\"153.241695\"/>\n     <use style=\"fill:#1f77b4;stroke:#1f77b4;\" x=\"80.434727\" xlink:href=\"#m68abf0a98d\" y=\"146.461722\"/>\n     <use style=\"fill:#1f77b4;stroke:#1f77b4;\" x=\"81.043455\" xlink:href=\"#m68abf0a98d\" y=\"144.591858\"/>\n     <use style=\"fill:#1f77b4;stroke:#1f77b4;\" x=\"81.652182\" xlink:href=\"#m68abf0a98d\" y=\"231.97839\"/>\n     <use style=\"fill:#1f77b4;stroke:#1f77b4;\" x=\"82.260909\" xlink:href=\"#m68abf0a98d\" y=\"132.299984\"/>\n     <use style=\"fill:#1f77b4;stroke:#1f77b4;\" x=\"82.869636\" xlink:href=\"#m68abf0a98d\" y=\"132.414915\"/>\n     <use style=\"fill:#1f77b4;stroke:#1f77b4;\" x=\"83.478364\" xlink:href=\"#m68abf0a98d\" y=\"209.828945\"/>\n     <use style=\"fill:#1f77b4;stroke:#1f77b4;\" x=\"84.087091\" xlink:href=\"#m68abf0a98d\" y=\"92.060076\"/>\n     <use style=\"fill:#1f77b4;stroke:#1f77b4;\" x=\"84.695818\" xlink:href=\"#m68abf0a98d\" y=\"155.729951\"/>\n     <use style=\"fill:#1f77b4;stroke:#1f77b4;\" x=\"85.304545\" xlink:href=\"#m68abf0a98d\" y=\"263.874305\"/>\n     <use style=\"fill:#1f77b4;stroke:#1f77b4;\" x=\"85.913273\" xlink:href=\"#m68abf0a98d\" y=\"124.065495\"/>\n     <use style=\"fill:#1f77b4;stroke:#1f77b4;\" x=\"86.522\" xlink:href=\"#m68abf0a98d\" y=\"145.797995\"/>\n     <use style=\"fill:#1f77b4;stroke:#1f77b4;\" x=\"87.130727\" xlink:href=\"#m68abf0a98d\" y=\"196.149599\"/>\n     <use style=\"fill:#1f77b4;stroke:#1f77b4;\" x=\"87.739455\" xlink:href=\"#m68abf0a98d\" y=\"118.385028\"/>\n     <use style=\"fill:#1f77b4;stroke:#1f77b4;\" x=\"88.348182\" xlink:href=\"#m68abf0a98d\" y=\"106.384952\"/>\n     <use style=\"fill:#1f77b4;stroke:#1f77b4;\" x=\"88.956909\" xlink:href=\"#m68abf0a98d\" y=\"112.858442\"/>\n     <use style=\"fill:#1f77b4;stroke:#1f77b4;\" x=\"89.565636\" xlink:href=\"#m68abf0a98d\" y=\"206.57512\"/>\n     <use style=\"fill:#1f77b4;stroke:#1f77b4;\" x=\"90.174364\" xlink:href=\"#m68abf0a98d\" y=\"101.128773\"/>\n     <use style=\"fill:#1f77b4;stroke:#1f77b4;\" x=\"90.783091\" xlink:href=\"#m68abf0a98d\" y=\"145.57771\"/>\n     <use style=\"fill:#1f77b4;stroke:#1f77b4;\" x=\"91.391818\" xlink:href=\"#m68abf0a98d\" y=\"192.474679\"/>\n     <use style=\"fill:#1f77b4;stroke:#1f77b4;\" x=\"92.000545\" xlink:href=\"#m68abf0a98d\" y=\"168.357998\"/>\n     <use style=\"fill:#1f77b4;stroke:#1f77b4;\" x=\"92.609273\" xlink:href=\"#m68abf0a98d\" y=\"190.264172\"/>\n     <use style=\"fill:#1f77b4;stroke:#1f77b4;\" x=\"93.218\" xlink:href=\"#m68abf0a98d\" y=\"214.030952\"/>\n     <use style=\"fill:#1f77b4;stroke:#1f77b4;\" x=\"93.826727\" xlink:href=\"#m68abf0a98d\" y=\"148.793544\"/>\n     <use style=\"fill:#1f77b4;stroke:#1f77b4;\" x=\"94.435455\" xlink:href=\"#m68abf0a98d\" y=\"129.947409\"/>\n     <use style=\"fill:#1f77b4;stroke:#1f77b4;\" x=\"95.044182\" xlink:href=\"#m68abf0a98d\" y=\"132.7546\"/>\n     <use style=\"fill:#1f77b4;stroke:#1f77b4;\" x=\"95.652909\" xlink:href=\"#m68abf0a98d\" y=\"117.785791\"/>\n     <use style=\"fill:#1f77b4;stroke:#1f77b4;\" x=\"96.261636\" xlink:href=\"#m68abf0a98d\" y=\"84.944887\"/>\n     <use style=\"fill:#1f77b4;stroke:#1f77b4;\" x=\"96.870364\" xlink:href=\"#m68abf0a98d\" y=\"160.112335\"/>\n     <use style=\"fill:#1f77b4;stroke:#1f77b4;\" x=\"97.479091\" xlink:href=\"#m68abf0a98d\" y=\"198.725331\"/>\n     <use style=\"fill:#1f77b4;stroke:#1f77b4;\" x=\"98.087818\" xlink:href=\"#m68abf0a98d\" y=\"154.567232\"/>\n     <use style=\"fill:#1f77b4;stroke:#1f77b4;\" x=\"98.696545\" xlink:href=\"#m68abf0a98d\" y=\"158.772112\"/>\n     <use style=\"fill:#1f77b4;stroke:#1f77b4;\" x=\"99.305273\" xlink:href=\"#m68abf0a98d\" y=\"173.676432\"/>\n     <use style=\"fill:#1f77b4;stroke:#1f77b4;\" x=\"99.914\" xlink:href=\"#m68abf0a98d\" y=\"175.464567\"/>\n     <use style=\"fill:#1f77b4;stroke:#1f77b4;\" x=\"100.522727\" xlink:href=\"#m68abf0a98d\" y=\"118.818893\"/>\n     <use style=\"fill:#1f77b4;stroke:#1f77b4;\" x=\"101.131455\" xlink:href=\"#m68abf0a98d\" y=\"174.230655\"/>\n     <use style=\"fill:#1f77b4;stroke:#1f77b4;\" x=\"101.740182\" xlink:href=\"#m68abf0a98d\" y=\"259.349853\"/>\n     <use style=\"fill:#1f77b4;stroke:#1f77b4;\" x=\"102.348909\" xlink:href=\"#m68abf0a98d\" y=\"128.555148\"/>\n     <use style=\"fill:#1f77b4;stroke:#1f77b4;\" x=\"102.957636\" xlink:href=\"#m68abf0a98d\" y=\"187.007793\"/>\n     <use style=\"fill:#1f77b4;stroke:#1f77b4;\" x=\"103.566364\" xlink:href=\"#m68abf0a98d\" y=\"131.782156\"/>\n     <use style=\"fill:#1f77b4;stroke:#1f77b4;\" x=\"104.175091\" xlink:href=\"#m68abf0a98d\" y=\"94.310809\"/>\n     <use style=\"fill:#1f77b4;stroke:#1f77b4;\" x=\"104.783818\" xlink:href=\"#m68abf0a98d\" y=\"136.23701\"/>\n     <use style=\"fill:#1f77b4;stroke:#1f77b4;\" x=\"105.392545\" xlink:href=\"#m68abf0a98d\" y=\"237.929263\"/>\n     <use style=\"fill:#1f77b4;stroke:#1f77b4;\" x=\"106.001273\" xlink:href=\"#m68abf0a98d\" y=\"171.540311\"/>\n     <use style=\"fill:#1f77b4;stroke:#1f77b4;\" x=\"106.61\" xlink:href=\"#m68abf0a98d\" y=\"206.571608\"/>\n     <use style=\"fill:#1f77b4;stroke:#1f77b4;\" x=\"107.218727\" xlink:href=\"#m68abf0a98d\" y=\"123.603855\"/>\n     <use style=\"fill:#1f77b4;stroke:#1f77b4;\" x=\"107.827455\" xlink:href=\"#m68abf0a98d\" y=\"174.537776\"/>\n     <use style=\"fill:#1f77b4;stroke:#1f77b4;\" x=\"108.436182\" xlink:href=\"#m68abf0a98d\" y=\"137.932243\"/>\n     <use style=\"fill:#1f77b4;stroke:#1f77b4;\" x=\"109.044909\" xlink:href=\"#m68abf0a98d\" y=\"100.420989\"/>\n     <use style=\"fill:#1f77b4;stroke:#1f77b4;\" x=\"109.653636\" xlink:href=\"#m68abf0a98d\" y=\"64.285396\"/>\n     <use style=\"fill:#1f77b4;stroke:#1f77b4;\" x=\"110.262364\" xlink:href=\"#m68abf0a98d\" y=\"148.763854\"/>\n     <use style=\"fill:#1f77b4;stroke:#1f77b4;\" x=\"110.871091\" xlink:href=\"#m68abf0a98d\" y=\"109.560879\"/>\n     <use style=\"fill:#1f77b4;stroke:#1f77b4;\" x=\"111.479818\" xlink:href=\"#m68abf0a98d\" y=\"258.62898\"/>\n     <use style=\"fill:#1f77b4;stroke:#1f77b4;\" x=\"112.088545\" xlink:href=\"#m68abf0a98d\" y=\"205.835411\"/>\n     <use style=\"fill:#1f77b4;stroke:#1f77b4;\" x=\"112.697273\" xlink:href=\"#m68abf0a98d\" y=\"162.706903\"/>\n     <use style=\"fill:#1f77b4;stroke:#1f77b4;\" x=\"113.306\" xlink:href=\"#m68abf0a98d\" y=\"131.203989\"/>\n     <use style=\"fill:#1f77b4;stroke:#1f77b4;\" x=\"113.914727\" xlink:href=\"#m68abf0a98d\" y=\"164.942951\"/>\n     <use style=\"fill:#1f77b4;stroke:#1f77b4;\" x=\"114.523455\" xlink:href=\"#m68abf0a98d\" y=\"189.862552\"/>\n     <use style=\"fill:#1f77b4;stroke:#1f77b4;\" x=\"115.132182\" xlink:href=\"#m68abf0a98d\" y=\"180.951885\"/>\n     <use style=\"fill:#1f77b4;stroke:#1f77b4;\" x=\"115.740909\" xlink:href=\"#m68abf0a98d\" y=\"106.775717\"/>\n     <use style=\"fill:#1f77b4;stroke:#1f77b4;\" x=\"116.349636\" xlink:href=\"#m68abf0a98d\" y=\"121.600224\"/>\n     <use style=\"fill:#1f77b4;stroke:#1f77b4;\" x=\"116.958364\" xlink:href=\"#m68abf0a98d\" y=\"136.838802\"/>\n     <use style=\"fill:#1f77b4;stroke:#1f77b4;\" x=\"117.567091\" xlink:href=\"#m68abf0a98d\" y=\"258.503195\"/>\n     <use style=\"fill:#1f77b4;stroke:#1f77b4;\" x=\"118.175818\" xlink:href=\"#m68abf0a98d\" y=\"157.200111\"/>\n     <use style=\"fill:#1f77b4;stroke:#1f77b4;\" x=\"118.784545\" xlink:href=\"#m68abf0a98d\" y=\"139.638011\"/>\n     <use style=\"fill:#1f77b4;stroke:#1f77b4;\" x=\"119.393273\" xlink:href=\"#m68abf0a98d\" y=\"118.223167\"/>\n     <use style=\"fill:#1f77b4;stroke:#1f77b4;\" x=\"120.002\" xlink:href=\"#m68abf0a98d\" y=\"151.056089\"/>\n     <use style=\"fill:#1f77b4;stroke:#1f77b4;\" x=\"120.610727\" xlink:href=\"#m68abf0a98d\" y=\"123.825097\"/>\n     <use style=\"fill:#1f77b4;stroke:#1f77b4;\" x=\"121.219455\" xlink:href=\"#m68abf0a98d\" y=\"61.470224\"/>\n     <use style=\"fill:#1f77b4;stroke:#1f77b4;\" x=\"121.828182\" xlink:href=\"#m68abf0a98d\" y=\"227.000599\"/>\n     <use style=\"fill:#1f77b4;stroke:#1f77b4;\" x=\"122.436909\" xlink:href=\"#m68abf0a98d\" y=\"210.987195\"/>\n     <use style=\"fill:#1f77b4;stroke:#1f77b4;\" x=\"123.045636\" xlink:href=\"#m68abf0a98d\" y=\"150.012133\"/>\n     <use style=\"fill:#1f77b4;stroke:#1f77b4;\" x=\"123.654364\" xlink:href=\"#m68abf0a98d\" y=\"99.214532\"/>\n     <use style=\"fill:#1f77b4;stroke:#1f77b4;\" x=\"124.263091\" xlink:href=\"#m68abf0a98d\" y=\"200.197406\"/>\n     <use style=\"fill:#1f77b4;stroke:#1f77b4;\" x=\"124.871818\" xlink:href=\"#m68abf0a98d\" y=\"151.394498\"/>\n     <use style=\"fill:#1f77b4;stroke:#1f77b4;\" x=\"125.480545\" xlink:href=\"#m68abf0a98d\" y=\"152.212743\"/>\n     <use style=\"fill:#1f77b4;stroke:#1f77b4;\" x=\"126.089273\" xlink:href=\"#m68abf0a98d\" y=\"145.487681\"/>\n     <use style=\"fill:#1f77b4;stroke:#1f77b4;\" x=\"126.698\" xlink:href=\"#m68abf0a98d\" y=\"160.460002\"/>\n     <use style=\"fill:#1f77b4;stroke:#1f77b4;\" x=\"127.306727\" xlink:href=\"#m68abf0a98d\" y=\"226.993256\"/>\n     <use style=\"fill:#1f77b4;stroke:#1f77b4;\" x=\"127.915455\" xlink:href=\"#m68abf0a98d\" y=\"77.294312\"/>\n     <use style=\"fill:#1f77b4;stroke:#1f77b4;\" x=\"128.524182\" xlink:href=\"#m68abf0a98d\" y=\"85.517308\"/>\n     <use style=\"fill:#1f77b4;stroke:#1f77b4;\" x=\"129.132909\" xlink:href=\"#m68abf0a98d\" y=\"133.734068\"/>\n     <use style=\"fill:#1f77b4;stroke:#1f77b4;\" x=\"129.741636\" xlink:href=\"#m68abf0a98d\" y=\"201.728862\"/>\n     <use style=\"fill:#1f77b4;stroke:#1f77b4;\" x=\"130.350364\" xlink:href=\"#m68abf0a98d\" y=\"213.838123\"/>\n     <use style=\"fill:#1f77b4;stroke:#1f77b4;\" x=\"130.959091\" xlink:href=\"#m68abf0a98d\" y=\"182.534741\"/>\n     <use style=\"fill:#1f77b4;stroke:#1f77b4;\" x=\"131.567818\" xlink:href=\"#m68abf0a98d\" y=\"97.882929\"/>\n     <use style=\"fill:#1f77b4;stroke:#1f77b4;\" x=\"132.176545\" xlink:href=\"#m68abf0a98d\" y=\"219.388653\"/>\n     <use style=\"fill:#1f77b4;stroke:#1f77b4;\" x=\"132.785273\" xlink:href=\"#m68abf0a98d\" y=\"168.17794\"/>\n     <use style=\"fill:#1f77b4;stroke:#1f77b4;\" x=\"133.394\" xlink:href=\"#m68abf0a98d\" y=\"175.983672\"/>\n     <use style=\"fill:#1f77b4;stroke:#1f77b4;\" x=\"134.002727\" xlink:href=\"#m68abf0a98d\" y=\"177.197791\"/>\n     <use style=\"fill:#1f77b4;stroke:#1f77b4;\" x=\"134.611455\" xlink:href=\"#m68abf0a98d\" y=\"202.493153\"/>\n     <use style=\"fill:#1f77b4;stroke:#1f77b4;\" x=\"135.220182\" xlink:href=\"#m68abf0a98d\" y=\"227.911747\"/>\n     <use style=\"fill:#1f77b4;stroke:#1f77b4;\" x=\"135.828909\" xlink:href=\"#m68abf0a98d\" y=\"146.694138\"/>\n     <use style=\"fill:#1f77b4;stroke:#1f77b4;\" x=\"136.437636\" xlink:href=\"#m68abf0a98d\" y=\"143.251634\"/>\n     <use style=\"fill:#1f77b4;stroke:#1f77b4;\" x=\"137.046364\" xlink:href=\"#m68abf0a98d\" y=\"203.86179\"/>\n     <use style=\"fill:#1f77b4;stroke:#1f77b4;\" x=\"137.655091\" xlink:href=\"#m68abf0a98d\" y=\"126.828947\"/>\n     <use style=\"fill:#1f77b4;stroke:#1f77b4;\" x=\"138.263818\" xlink:href=\"#m68abf0a98d\" y=\"185.31703\"/>\n     <use style=\"fill:#1f77b4;stroke:#1f77b4;\" x=\"138.872545\" xlink:href=\"#m68abf0a98d\" y=\"78.105214\"/>\n     <use style=\"fill:#1f77b4;stroke:#1f77b4;\" x=\"139.481273\" xlink:href=\"#m68abf0a98d\" y=\"109.907269\"/>\n     <use style=\"fill:#1f77b4;stroke:#1f77b4;\" x=\"140.09\" xlink:href=\"#m68abf0a98d\" y=\"201.798459\"/>\n     <use style=\"fill:#1f77b4;stroke:#1f77b4;\" x=\"140.698727\" xlink:href=\"#m68abf0a98d\" y=\"268.834856\"/>\n     <use style=\"fill:#1f77b4;stroke:#1f77b4;\" x=\"141.307455\" xlink:href=\"#m68abf0a98d\" y=\"171.586603\"/>\n     <use style=\"fill:#1f77b4;stroke:#1f77b4;\" x=\"141.916182\" xlink:href=\"#m68abf0a98d\" y=\"198.594756\"/>\n     <use style=\"fill:#1f77b4;stroke:#1f77b4;\" x=\"142.524909\" xlink:href=\"#m68abf0a98d\" y=\"172.562239\"/>\n     <use style=\"fill:#1f77b4;stroke:#1f77b4;\" x=\"143.133636\" xlink:href=\"#m68abf0a98d\" y=\"191.992288\"/>\n     <use style=\"fill:#1f77b4;stroke:#1f77b4;\" x=\"143.742364\" xlink:href=\"#m68abf0a98d\" y=\"184.841662\"/>\n     <use style=\"fill:#1f77b4;stroke:#1f77b4;\" x=\"144.351091\" xlink:href=\"#m68abf0a98d\" y=\"147.591238\"/>\n     <use style=\"fill:#1f77b4;stroke:#1f77b4;\" x=\"144.959818\" xlink:href=\"#m68abf0a98d\" y=\"89.275233\"/>\n     <use style=\"fill:#1f77b4;stroke:#1f77b4;\" x=\"145.568545\" xlink:href=\"#m68abf0a98d\" y=\"188.978222\"/>\n     <use style=\"fill:#1f77b4;stroke:#1f77b4;\" x=\"146.177273\" xlink:href=\"#m68abf0a98d\" y=\"133.964568\"/>\n     <use style=\"fill:#1f77b4;stroke:#1f77b4;\" x=\"146.786\" xlink:href=\"#m68abf0a98d\" y=\"167.504955\"/>\n     <use style=\"fill:#1f77b4;stroke:#1f77b4;\" x=\"147.394727\" xlink:href=\"#m68abf0a98d\" y=\"136.4292\"/>\n     <use style=\"fill:#1f77b4;stroke:#1f77b4;\" x=\"148.003455\" xlink:href=\"#m68abf0a98d\" y=\"185.798782\"/>\n     <use style=\"fill:#1f77b4;stroke:#1f77b4;\" x=\"148.612182\" xlink:href=\"#m68abf0a98d\" y=\"172.528718\"/>\n     <use style=\"fill:#1f77b4;stroke:#1f77b4;\" x=\"149.220909\" xlink:href=\"#m68abf0a98d\" y=\"167.59658\"/>\n     <use style=\"fill:#1f77b4;stroke:#1f77b4;\" x=\"149.829636\" xlink:href=\"#m68abf0a98d\" y=\"138.522861\"/>\n     <use style=\"fill:#1f77b4;stroke:#1f77b4;\" x=\"150.438364\" xlink:href=\"#m68abf0a98d\" y=\"181.253899\"/>\n     <use style=\"fill:#1f77b4;stroke:#1f77b4;\" x=\"151.047091\" xlink:href=\"#m68abf0a98d\" y=\"158.614401\"/>\n     <use style=\"fill:#1f77b4;stroke:#1f77b4;\" x=\"151.655818\" xlink:href=\"#m68abf0a98d\" y=\"132.141954\"/>\n     <use style=\"fill:#1f77b4;stroke:#1f77b4;\" x=\"152.264545\" xlink:href=\"#m68abf0a98d\" y=\"242.159364\"/>\n     <use style=\"fill:#1f77b4;stroke:#1f77b4;\" x=\"152.873273\" xlink:href=\"#m68abf0a98d\" y=\"206.238308\"/>\n     <use style=\"fill:#1f77b4;stroke:#1f77b4;\" x=\"153.482\" xlink:href=\"#m68abf0a98d\" y=\"120.074515\"/>\n     <use style=\"fill:#1f77b4;stroke:#1f77b4;\" x=\"154.090727\" xlink:href=\"#m68abf0a98d\" y=\"99.453653\"/>\n     <use style=\"fill:#1f77b4;stroke:#1f77b4;\" x=\"154.699455\" xlink:href=\"#m68abf0a98d\" y=\"142.656227\"/>\n     <use style=\"fill:#1f77b4;stroke:#1f77b4;\" x=\"155.308182\" xlink:href=\"#m68abf0a98d\" y=\"183.095988\"/>\n     <use style=\"fill:#1f77b4;stroke:#1f77b4;\" x=\"155.916909\" xlink:href=\"#m68abf0a98d\" y=\"169.849548\"/>\n     <use style=\"fill:#1f77b4;stroke:#1f77b4;\" x=\"156.525636\" xlink:href=\"#m68abf0a98d\" y=\"128.495128\"/>\n     <use style=\"fill:#1f77b4;stroke:#1f77b4;\" x=\"157.134364\" xlink:href=\"#m68abf0a98d\" y=\"134.468668\"/>\n     <use style=\"fill:#1f77b4;stroke:#1f77b4;\" x=\"157.743091\" xlink:href=\"#m68abf0a98d\" y=\"116.414281\"/>\n     <use style=\"fill:#1f77b4;stroke:#1f77b4;\" x=\"158.351818\" xlink:href=\"#m68abf0a98d\" y=\"197.928156\"/>\n     <use style=\"fill:#1f77b4;stroke:#1f77b4;\" x=\"158.960545\" xlink:href=\"#m68abf0a98d\" y=\"180.60805\"/>\n     <use style=\"fill:#1f77b4;stroke:#1f77b4;\" x=\"159.569273\" xlink:href=\"#m68abf0a98d\" y=\"115.360746\"/>\n     <use style=\"fill:#1f77b4;stroke:#1f77b4;\" x=\"160.178\" xlink:href=\"#m68abf0a98d\" y=\"236.749305\"/>\n     <use style=\"fill:#1f77b4;stroke:#1f77b4;\" x=\"160.786727\" xlink:href=\"#m68abf0a98d\" y=\"171.05345\"/>\n     <use style=\"fill:#1f77b4;stroke:#1f77b4;\" x=\"161.395455\" xlink:href=\"#m68abf0a98d\" y=\"169.25031\"/>\n     <use style=\"fill:#1f77b4;stroke:#1f77b4;\" x=\"162.004182\" xlink:href=\"#m68abf0a98d\" y=\"224.054215\"/>\n     <use style=\"fill:#1f77b4;stroke:#1f77b4;\" x=\"162.612909\" xlink:href=\"#m68abf0a98d\" y=\"177.604838\"/>\n     <use style=\"fill:#1f77b4;stroke:#1f77b4;\" x=\"163.221636\" xlink:href=\"#m68abf0a98d\" y=\"126.483835\"/>\n     <use style=\"fill:#1f77b4;stroke:#1f77b4;\" x=\"163.830364\" xlink:href=\"#m68abf0a98d\" y=\"123.358988\"/>\n     <use style=\"fill:#1f77b4;stroke:#1f77b4;\" x=\"164.439091\" xlink:href=\"#m68abf0a98d\" y=\"139.260654\"/>\n     <use style=\"fill:#1f77b4;stroke:#1f77b4;\" x=\"165.047818\" xlink:href=\"#m68abf0a98d\" y=\"193.5595\"/>\n     <use style=\"fill:#1f77b4;stroke:#1f77b4;\" x=\"165.656545\" xlink:href=\"#m68abf0a98d\" y=\"221.978752\"/>\n     <use style=\"fill:#1f77b4;stroke:#1f77b4;\" x=\"166.265273\" xlink:href=\"#m68abf0a98d\" y=\"153.327574\"/>\n     <use style=\"fill:#1f77b4;stroke:#1f77b4;\" x=\"166.874\" xlink:href=\"#m68abf0a98d\" y=\"80.312847\"/>\n     <use style=\"fill:#1f77b4;stroke:#1f77b4;\" x=\"167.482727\" xlink:href=\"#m68abf0a98d\" y=\"135.74121\"/>\n     <use style=\"fill:#1f77b4;stroke:#1f77b4;\" x=\"168.091455\" xlink:href=\"#m68abf0a98d\" y=\"178.103831\"/>\n     <use style=\"fill:#1f77b4;stroke:#1f77b4;\" x=\"168.700182\" xlink:href=\"#m68abf0a98d\" y=\"224.831914\"/>\n     <use style=\"fill:#1f77b4;stroke:#1f77b4;\" x=\"169.308909\" xlink:href=\"#m68abf0a98d\" y=\"148.53495\"/>\n     <use style=\"fill:#1f77b4;stroke:#1f77b4;\" x=\"169.917636\" xlink:href=\"#m68abf0a98d\" y=\"218.682466\"/>\n     <use style=\"fill:#1f77b4;stroke:#1f77b4;\" x=\"170.526364\" xlink:href=\"#m68abf0a98d\" y=\"199.19591\"/>\n     <use style=\"fill:#1f77b4;stroke:#1f77b4;\" x=\"171.135091\" xlink:href=\"#m68abf0a98d\" y=\"114.084373\"/>\n     <use style=\"fill:#1f77b4;stroke:#1f77b4;\" x=\"171.743818\" xlink:href=\"#m68abf0a98d\" y=\"145.326458\"/>\n     <use style=\"fill:#1f77b4;stroke:#1f77b4;\" x=\"172.352545\" xlink:href=\"#m68abf0a98d\" y=\"181.604119\"/>\n     <use style=\"fill:#1f77b4;stroke:#1f77b4;\" x=\"172.961273\" xlink:href=\"#m68abf0a98d\" y=\"157.663985\"/>\n     <use style=\"fill:#1f77b4;stroke:#1f77b4;\" x=\"173.57\" xlink:href=\"#m68abf0a98d\" y=\"150.183891\"/>\n     <use style=\"fill:#1f77b4;stroke:#1f77b4;\" x=\"174.178727\" xlink:href=\"#m68abf0a98d\" y=\"143.019856\"/>\n     <use style=\"fill:#1f77b4;stroke:#1f77b4;\" x=\"174.787455\" xlink:href=\"#m68abf0a98d\" y=\"160.657939\"/>\n     <use style=\"fill:#1f77b4;stroke:#1f77b4;\" x=\"175.396182\" xlink:href=\"#m68abf0a98d\" y=\"95.516946\"/>\n     <use style=\"fill:#1f77b4;stroke:#1f77b4;\" x=\"176.004909\" xlink:href=\"#m68abf0a98d\" y=\"158.00399\"/>\n     <use style=\"fill:#1f77b4;stroke:#1f77b4;\" x=\"176.613636\" xlink:href=\"#m68abf0a98d\" y=\"240.922897\"/>\n     <use style=\"fill:#1f77b4;stroke:#1f77b4;\" x=\"177.222364\" xlink:href=\"#m68abf0a98d\" y=\"154.238721\"/>\n     <use style=\"fill:#1f77b4;stroke:#1f77b4;\" x=\"177.831091\" xlink:href=\"#m68abf0a98d\" y=\"159.642395\"/>\n     <use style=\"fill:#1f77b4;stroke:#1f77b4;\" x=\"178.439818\" xlink:href=\"#m68abf0a98d\" y=\"100.614776\"/>\n     <use style=\"fill:#1f77b4;stroke:#1f77b4;\" x=\"179.048545\" xlink:href=\"#m68abf0a98d\" y=\"113.949329\"/>\n     <use style=\"fill:#1f77b4;stroke:#1f77b4;\" x=\"179.657273\" xlink:href=\"#m68abf0a98d\" y=\"141.0871\"/>\n     <use style=\"fill:#1f77b4;stroke:#1f77b4;\" x=\"180.266\" xlink:href=\"#m68abf0a98d\" y=\"206.157218\"/>\n     <use style=\"fill:#1f77b4;stroke:#1f77b4;\" x=\"180.874727\" xlink:href=\"#m68abf0a98d\" y=\"197.473221\"/>\n     <use style=\"fill:#1f77b4;stroke:#1f77b4;\" x=\"181.483455\" xlink:href=\"#m68abf0a98d\" y=\"159.911525\"/>\n     <use style=\"fill:#1f77b4;stroke:#1f77b4;\" x=\"182.092182\" xlink:href=\"#m68abf0a98d\" y=\"188.887235\"/>\n     <use style=\"fill:#1f77b4;stroke:#1f77b4;\" x=\"182.700909\" xlink:href=\"#m68abf0a98d\" y=\"124.298549\"/>\n     <use style=\"fill:#1f77b4;stroke:#1f77b4;\" x=\"183.309636\" xlink:href=\"#m68abf0a98d\" y=\"223.015685\"/>\n     <use style=\"fill:#1f77b4;stroke:#1f77b4;\" x=\"183.918364\" xlink:href=\"#m68abf0a98d\" y=\"238.623957\"/>\n     <use style=\"fill:#1f77b4;stroke:#1f77b4;\" x=\"184.527091\" xlink:href=\"#m68abf0a98d\" y=\"146.228986\"/>\n     <use style=\"fill:#1f77b4;stroke:#1f77b4;\" x=\"185.135818\" xlink:href=\"#m68abf0a98d\" y=\"151.402798\"/>\n     <use style=\"fill:#1f77b4;stroke:#1f77b4;\" x=\"185.744545\" xlink:href=\"#m68abf0a98d\" y=\"259.510757\"/>\n     <use style=\"fill:#1f77b4;stroke:#1f77b4;\" x=\"186.353273\" xlink:href=\"#m68abf0a98d\" y=\"86.009596\"/>\n     <use style=\"fill:#1f77b4;stroke:#1f77b4;\" x=\"186.962\" xlink:href=\"#m68abf0a98d\" y=\"104.691315\"/>\n     <use style=\"fill:#1f77b4;stroke:#1f77b4;\" x=\"187.570727\" xlink:href=\"#m68abf0a98d\" y=\"214.716707\"/>\n     <use style=\"fill:#1f77b4;stroke:#1f77b4;\" x=\"188.179455\" xlink:href=\"#m68abf0a98d\" y=\"230.000618\"/>\n     <use style=\"fill:#1f77b4;stroke:#1f77b4;\" x=\"188.788182\" xlink:href=\"#m68abf0a98d\" y=\"235.689704\"/>\n     <use style=\"fill:#1f77b4;stroke:#1f77b4;\" x=\"189.396909\" xlink:href=\"#m68abf0a98d\" y=\"209.778184\"/>\n     <use style=\"fill:#1f77b4;stroke:#1f77b4;\" x=\"190.005636\" xlink:href=\"#m68abf0a98d\" y=\"103.817201\"/>\n     <use style=\"fill:#1f77b4;stroke:#1f77b4;\" x=\"190.614364\" xlink:href=\"#m68abf0a98d\" y=\"160.403494\"/>\n     <use style=\"fill:#1f77b4;stroke:#1f77b4;\" x=\"191.223091\" xlink:href=\"#m68abf0a98d\" y=\"134.636595\"/>\n     <use style=\"fill:#1f77b4;stroke:#1f77b4;\" x=\"191.831818\" xlink:href=\"#m68abf0a98d\" y=\"256.442418\"/>\n     <use style=\"fill:#1f77b4;stroke:#1f77b4;\" x=\"192.440545\" xlink:href=\"#m68abf0a98d\" y=\"238.108045\"/>\n     <use style=\"fill:#1f77b4;stroke:#1f77b4;\" x=\"193.049273\" xlink:href=\"#m68abf0a98d\" y=\"99.009572\"/>\n     <use style=\"fill:#1f77b4;stroke:#1f77b4;\" x=\"193.658\" xlink:href=\"#m68abf0a98d\" y=\"110.698696\"/>\n     <use style=\"fill:#1f77b4;stroke:#1f77b4;\" x=\"194.266727\" xlink:href=\"#m68abf0a98d\" y=\"153.148154\"/>\n     <use style=\"fill:#1f77b4;stroke:#1f77b4;\" x=\"194.875455\" xlink:href=\"#m68abf0a98d\" y=\"231.562403\"/>\n     <use style=\"fill:#1f77b4;stroke:#1f77b4;\" x=\"195.484182\" xlink:href=\"#m68abf0a98d\" y=\"232.829199\"/>\n     <use style=\"fill:#1f77b4;stroke:#1f77b4;\" x=\"196.092909\" xlink:href=\"#m68abf0a98d\" y=\"160.406367\"/>\n     <use style=\"fill:#1f77b4;stroke:#1f77b4;\" x=\"196.701636\" xlink:href=\"#m68abf0a98d\" y=\"202.514862\"/>\n     <use style=\"fill:#1f77b4;stroke:#1f77b4;\" x=\"197.310364\" xlink:href=\"#m68abf0a98d\" y=\"103.269363\"/>\n     <use style=\"fill:#1f77b4;stroke:#1f77b4;\" x=\"197.919091\" xlink:href=\"#m68abf0a98d\" y=\"156.657381\"/>\n     <use style=\"fill:#1f77b4;stroke:#1f77b4;\" x=\"198.527818\" xlink:href=\"#m68abf0a98d\" y=\"112.992209\"/>\n     <use style=\"fill:#1f77b4;stroke:#1f77b4;\" x=\"199.136545\" xlink:href=\"#m68abf0a98d\" y=\"141.521922\"/>\n     <use style=\"fill:#1f77b4;stroke:#1f77b4;\" x=\"199.745273\" xlink:href=\"#m68abf0a98d\" y=\"155.52978\"/>\n     <use style=\"fill:#1f77b4;stroke:#1f77b4;\" x=\"200.354\" xlink:href=\"#m68abf0a98d\" y=\"255.40708\"/>\n     <use style=\"fill:#1f77b4;stroke:#1f77b4;\" x=\"200.962727\" xlink:href=\"#m68abf0a98d\" y=\"114.537074\"/>\n     <use style=\"fill:#1f77b4;stroke:#1f77b4;\" x=\"201.571455\" xlink:href=\"#m68abf0a98d\" y=\"170.101438\"/>\n     <use style=\"fill:#1f77b4;stroke:#1f77b4;\" x=\"202.180182\" xlink:href=\"#m68abf0a98d\" y=\"111.168956\"/>\n     <use style=\"fill:#1f77b4;stroke:#1f77b4;\" x=\"202.788909\" xlink:href=\"#m68abf0a98d\" y=\"193.727746\"/>\n     <use style=\"fill:#1f77b4;stroke:#1f77b4;\" x=\"203.397636\" xlink:href=\"#m68abf0a98d\" y=\"160.059978\"/>\n     <use style=\"fill:#1f77b4;stroke:#1f77b4;\" x=\"204.006364\" xlink:href=\"#m68abf0a98d\" y=\"202.744405\"/>\n     <use style=\"fill:#1f77b4;stroke:#1f77b4;\" x=\"204.615091\" xlink:href=\"#m68abf0a98d\" y=\"147.687972\"/>\n     <use style=\"fill:#1f77b4;stroke:#1f77b4;\" x=\"205.223818\" xlink:href=\"#m68abf0a98d\" y=\"84.255301\"/>\n     <use style=\"fill:#1f77b4;stroke:#1f77b4;\" x=\"205.832545\" xlink:href=\"#m68abf0a98d\" y=\"209.377841\"/>\n     <use style=\"fill:#1f77b4;stroke:#1f77b4;\" x=\"206.441273\" xlink:href=\"#m68abf0a98d\" y=\"122.017807\"/>\n     <use style=\"fill:#1f77b4;stroke:#1f77b4;\" x=\"207.05\" xlink:href=\"#m68abf0a98d\" y=\"191.025909\"/>\n     <use style=\"fill:#1f77b4;stroke:#1f77b4;\" x=\"207.658727\" xlink:href=\"#m68abf0a98d\" y=\"142.562686\"/>\n     <use style=\"fill:#1f77b4;stroke:#1f77b4;\" x=\"208.267455\" xlink:href=\"#m68abf0a98d\" y=\"249.814728\"/>\n     <use style=\"fill:#1f77b4;stroke:#1f77b4;\" x=\"208.876182\" xlink:href=\"#m68abf0a98d\" y=\"178.161296\"/>\n     <use style=\"fill:#1f77b4;stroke:#1f77b4;\" x=\"209.484909\" xlink:href=\"#m68abf0a98d\" y=\"209.748174\"/>\n     <use style=\"fill:#1f77b4;stroke:#1f77b4;\" x=\"210.093636\" xlink:href=\"#m68abf0a98d\" y=\"230.545264\"/>\n     <use style=\"fill:#1f77b4;stroke:#1f77b4;\" x=\"210.702364\" xlink:href=\"#m68abf0a98d\" y=\"173.239055\"/>\n     <use style=\"fill:#1f77b4;stroke:#1f77b4;\" x=\"211.311091\" xlink:href=\"#m68abf0a98d\" y=\"155.06814\"/>\n     <use style=\"fill:#1f77b4;stroke:#1f77b4;\" x=\"211.919818\" xlink:href=\"#m68abf0a98d\" y=\"104.877759\"/>\n     <use style=\"fill:#1f77b4;stroke:#1f77b4;\" x=\"212.528545\" xlink:href=\"#m68abf0a98d\" y=\"220.89393\"/>\n     <use style=\"fill:#1f77b4;stroke:#1f77b4;\" x=\"213.137273\" xlink:href=\"#m68abf0a98d\" y=\"170.514871\"/>\n     <use style=\"fill:#1f77b4;stroke:#1f77b4;\" x=\"213.746\" xlink:href=\"#m68abf0a98d\" y=\"121.809654\"/>\n     <use style=\"fill:#1f77b4;stroke:#1f77b4;\" x=\"214.354727\" xlink:href=\"#m68abf0a98d\" y=\"81.411397\"/>\n     <use style=\"fill:#1f77b4;stroke:#1f77b4;\" x=\"214.963455\" xlink:href=\"#m68abf0a98d\" y=\"153.272662\"/>\n     <use style=\"fill:#1f77b4;stroke:#1f77b4;\" x=\"215.572182\" xlink:href=\"#m68abf0a98d\" y=\"133.537727\"/>\n     <use style=\"fill:#1f77b4;stroke:#1f77b4;\" x=\"216.180909\" xlink:href=\"#m68abf0a98d\" y=\"189.712503\"/>\n     <use style=\"fill:#1f77b4;stroke:#1f77b4;\" x=\"216.789636\" xlink:href=\"#m68abf0a98d\" y=\"195.770646\"/>\n     <use style=\"fill:#1f77b4;stroke:#1f77b4;\" x=\"217.398364\" xlink:href=\"#m68abf0a98d\" y=\"176.575567\"/>\n     <use style=\"fill:#1f77b4;stroke:#1f77b4;\" x=\"218.007091\" xlink:href=\"#m68abf0a98d\" y=\"201.559338\"/>\n     <use style=\"fill:#1f77b4;stroke:#1f77b4;\" x=\"218.615818\" xlink:href=\"#m68abf0a98d\" y=\"204.673012\"/>\n     <use style=\"fill:#1f77b4;stroke:#1f77b4;\" x=\"219.224545\" xlink:href=\"#m68abf0a98d\" y=\"201.050769\"/>\n     <use style=\"fill:#1f77b4;stroke:#1f77b4;\" x=\"219.833273\" xlink:href=\"#m68abf0a98d\" y=\"161.146395\"/>\n     <use style=\"fill:#1f77b4;stroke:#1f77b4;\" x=\"220.442\" xlink:href=\"#m68abf0a98d\" y=\"111.387963\"/>\n     <use style=\"fill:#1f77b4;stroke:#1f77b4;\" x=\"221.050727\" xlink:href=\"#m68abf0a98d\" y=\"161.957936\"/>\n     <use style=\"fill:#1f77b4;stroke:#1f77b4;\" x=\"221.659455\" xlink:href=\"#m68abf0a98d\" y=\"186.991511\"/>\n     <use style=\"fill:#1f77b4;stroke:#1f77b4;\" x=\"222.268182\" xlink:href=\"#m68abf0a98d\" y=\"214.507277\"/>\n     <use style=\"fill:#1f77b4;stroke:#1f77b4;\" x=\"222.876909\" xlink:href=\"#m68abf0a98d\" y=\"228.844284\"/>\n     <use style=\"fill:#1f77b4;stroke:#1f77b4;\" x=\"223.485636\" xlink:href=\"#m68abf0a98d\" y=\"175.027829\"/>\n     <use style=\"fill:#1f77b4;stroke:#1f77b4;\" x=\"224.094364\" xlink:href=\"#m68abf0a98d\" y=\"105.242665\"/>\n     <use style=\"fill:#1f77b4;stroke:#1f77b4;\" x=\"224.703091\" xlink:href=\"#m68abf0a98d\" y=\"184.337881\"/>\n     <use style=\"fill:#1f77b4;stroke:#1f77b4;\" x=\"225.311818\" xlink:href=\"#m68abf0a98d\" y=\"221.318217\"/>\n     <use style=\"fill:#1f77b4;stroke:#1f77b4;\" x=\"225.920545\" xlink:href=\"#m68abf0a98d\" y=\"130.471942\"/>\n     <use style=\"fill:#1f77b4;stroke:#1f77b4;\" x=\"226.529273\" xlink:href=\"#m68abf0a98d\" y=\"153.358222\"/>\n     <use style=\"fill:#1f77b4;stroke:#1f77b4;\" x=\"227.138\" xlink:href=\"#m68abf0a98d\" y=\"220.786342\"/>\n     <use style=\"fill:#1f77b4;stroke:#1f77b4;\" x=\"227.746727\" xlink:href=\"#m68abf0a98d\" y=\"285.882959\"/>\n     <use style=\"fill:#1f77b4;stroke:#1f77b4;\" x=\"228.355455\" xlink:href=\"#m68abf0a98d\" y=\"182.491642\"/>\n     <use style=\"fill:#1f77b4;stroke:#1f77b4;\" x=\"228.964182\" xlink:href=\"#m68abf0a98d\" y=\"161.66997\"/>\n     <use style=\"fill:#1f77b4;stroke:#1f77b4;\" x=\"229.572909\" xlink:href=\"#m68abf0a98d\" y=\"124.72571\"/>\n     <use style=\"fill:#1f77b4;stroke:#1f77b4;\" x=\"230.181636\" xlink:href=\"#m68abf0a98d\" y=\"112.436071\"/>\n     <use style=\"fill:#1f77b4;stroke:#1f77b4;\" x=\"230.790364\" xlink:href=\"#m68abf0a98d\" y=\"161.09308\"/>\n     <use style=\"fill:#1f77b4;stroke:#1f77b4;\" x=\"231.399091\" xlink:href=\"#m68abf0a98d\" y=\"123.62716\"/>\n     <use style=\"fill:#1f77b4;stroke:#1f77b4;\" x=\"232.007818\" xlink:href=\"#m68abf0a98d\" y=\"152.535188\"/>\n     <use style=\"fill:#1f77b4;stroke:#1f77b4;\" x=\"232.616545\" xlink:href=\"#m68abf0a98d\" y=\"207.163184\"/>\n     <use style=\"fill:#1f77b4;stroke:#1f77b4;\" x=\"233.225273\" xlink:href=\"#m68abf0a98d\" y=\"182.090341\"/>\n     <use style=\"fill:#1f77b4;stroke:#1f77b4;\" x=\"233.834\" xlink:href=\"#m68abf0a98d\" y=\"114.628061\"/>\n     <use style=\"fill:#1f77b4;stroke:#1f77b4;\" x=\"234.442727\" xlink:href=\"#m68abf0a98d\" y=\"178.67657\"/>\n     <use style=\"fill:#1f77b4;stroke:#1f77b4;\" x=\"235.051455\" xlink:href=\"#m68abf0a98d\" y=\"115.562833\"/>\n     <use style=\"fill:#1f77b4;stroke:#1f77b4;\" x=\"235.660182\" xlink:href=\"#m68abf0a98d\" y=\"154.81625\"/>\n     <use style=\"fill:#1f77b4;stroke:#1f77b4;\" x=\"236.268909\" xlink:href=\"#m68abf0a98d\" y=\"120.052805\"/>\n     <use style=\"fill:#1f77b4;stroke:#1f77b4;\" x=\"236.877636\" xlink:href=\"#m68abf0a98d\" y=\"162.990719\"/>\n     <use style=\"fill:#1f77b4;stroke:#1f77b4;\" x=\"237.486364\" xlink:href=\"#m68abf0a98d\" y=\"140.641103\"/>\n     <use style=\"fill:#1f77b4;stroke:#1f77b4;\" x=\"238.095091\" xlink:href=\"#m68abf0a98d\" y=\"147.52643\"/>\n     <use style=\"fill:#1f77b4;stroke:#1f77b4;\" x=\"238.703818\" xlink:href=\"#m68abf0a98d\" y=\"222.425067\"/>\n     <use style=\"fill:#1f77b4;stroke:#1f77b4;\" x=\"239.312545\" xlink:href=\"#m68abf0a98d\" y=\"206.256187\"/>\n     <use style=\"fill:#1f77b4;stroke:#1f77b4;\" x=\"239.921273\" xlink:href=\"#m68abf0a98d\" y=\"167.860283\"/>\n     <use style=\"fill:#1f77b4;stroke:#1f77b4;\" x=\"240.53\" xlink:href=\"#m68abf0a98d\" y=\"224.205221\"/>\n     <use style=\"fill:#1f77b4;stroke:#1f77b4;\" x=\"241.138727\" xlink:href=\"#m68abf0a98d\" y=\"125.43892\"/>\n     <use style=\"fill:#1f77b4;stroke:#1f77b4;\" x=\"241.747455\" xlink:href=\"#m68abf0a98d\" y=\"190.291947\"/>\n     <use style=\"fill:#1f77b4;stroke:#1f77b4;\" x=\"242.356182\" xlink:href=\"#m68abf0a98d\" y=\"229.799489\"/>\n     <use style=\"fill:#1f77b4;stroke:#1f77b4;\" x=\"242.964909\" xlink:href=\"#m68abf0a98d\" y=\"134.68608\"/>\n     <use style=\"fill:#1f77b4;stroke:#1f77b4;\" x=\"243.573636\" xlink:href=\"#m68abf0a98d\" y=\"318.534545\"/>\n     <use style=\"fill:#1f77b4;stroke:#1f77b4;\" x=\"244.182364\" xlink:href=\"#m68abf0a98d\" y=\"180.268365\"/>\n     <use style=\"fill:#1f77b4;stroke:#1f77b4;\" x=\"244.791091\" xlink:href=\"#m68abf0a98d\" y=\"174.473287\"/>\n     <use style=\"fill:#1f77b4;stroke:#1f77b4;\" x=\"245.399818\" xlink:href=\"#m68abf0a98d\" y=\"184.740459\"/>\n     <use style=\"fill:#1f77b4;stroke:#1f77b4;\" x=\"246.008545\" xlink:href=\"#m68abf0a98d\" y=\"105.023338\"/>\n     <use style=\"fill:#1f77b4;stroke:#1f77b4;\" x=\"246.617273\" xlink:href=\"#m68abf0a98d\" y=\"188.321838\"/>\n     <use style=\"fill:#1f77b4;stroke:#1f77b4;\" x=\"247.226\" xlink:href=\"#m68abf0a98d\" y=\"140.00579\"/>\n     <use style=\"fill:#1f77b4;stroke:#1f77b4;\" x=\"247.834727\" xlink:href=\"#m68abf0a98d\" y=\"155.907775\"/>\n     <use style=\"fill:#1f77b4;stroke:#1f77b4;\" x=\"248.443455\" xlink:href=\"#m68abf0a98d\" y=\"66.293816\"/>\n     <use style=\"fill:#1f77b4;stroke:#1f77b4;\" x=\"249.052182\" xlink:href=\"#m68abf0a98d\" y=\"250.39928\"/>\n     <use style=\"fill:#1f77b4;stroke:#1f77b4;\" x=\"249.660909\" xlink:href=\"#m68abf0a98d\" y=\"148.555382\"/>\n     <use style=\"fill:#1f77b4;stroke:#1f77b4;\" x=\"250.269636\" xlink:href=\"#m68abf0a98d\" y=\"127.198323\"/>\n     <use style=\"fill:#1f77b4;stroke:#1f77b4;\" x=\"250.878364\" xlink:href=\"#m68abf0a98d\" y=\"201.163146\"/>\n     <use style=\"fill:#1f77b4;stroke:#1f77b4;\" x=\"251.487091\" xlink:href=\"#m68abf0a98d\" y=\"94.33571\"/>\n     <use style=\"fill:#1f77b4;stroke:#1f77b4;\" x=\"252.095818\" xlink:href=\"#m68abf0a98d\" y=\"175.752214\"/>\n     <use style=\"fill:#1f77b4;stroke:#1f77b4;\" x=\"252.704545\" xlink:href=\"#m68abf0a98d\" y=\"185.011505\"/>\n     <use style=\"fill:#1f77b4;stroke:#1f77b4;\" x=\"253.313273\" xlink:href=\"#m68abf0a98d\" y=\"133.920192\"/>\n     <use style=\"fill:#1f77b4;stroke:#1f77b4;\" x=\"253.922\" xlink:href=\"#m68abf0a98d\" y=\"179.108839\"/>\n     <use style=\"fill:#1f77b4;stroke:#1f77b4;\" x=\"254.530727\" xlink:href=\"#m68abf0a98d\" y=\"156.148173\"/>\n     <use style=\"fill:#1f77b4;stroke:#1f77b4;\" x=\"255.139455\" xlink:href=\"#m68abf0a98d\" y=\"169.146872\"/>\n     <use style=\"fill:#1f77b4;stroke:#1f77b4;\" x=\"255.748182\" xlink:href=\"#m68abf0a98d\" y=\"137.54052\"/>\n     <use style=\"fill:#1f77b4;stroke:#1f77b4;\" x=\"256.356909\" xlink:href=\"#m68abf0a98d\" y=\"115.912096\"/>\n     <use style=\"fill:#1f77b4;stroke:#1f77b4;\" x=\"256.965636\" xlink:href=\"#m68abf0a98d\" y=\"103.900207\"/>\n     <use style=\"fill:#1f77b4;stroke:#1f77b4;\" x=\"257.574364\" xlink:href=\"#m68abf0a98d\" y=\"132.067248\"/>\n     <use style=\"fill:#1f77b4;stroke:#1f77b4;\" x=\"258.183091\" xlink:href=\"#m68abf0a98d\" y=\"101.098444\"/>\n     <use style=\"fill:#1f77b4;stroke:#1f77b4;\" x=\"258.791818\" xlink:href=\"#m68abf0a98d\" y=\"222.88543\"/>\n     <use style=\"fill:#1f77b4;stroke:#1f77b4;\" x=\"259.400545\" xlink:href=\"#m68abf0a98d\" y=\"205.708668\"/>\n     <use style=\"fill:#1f77b4;stroke:#1f77b4;\" x=\"260.009273\" xlink:href=\"#m68abf0a98d\" y=\"156.363349\"/>\n     <use style=\"fill:#1f77b4;stroke:#1f77b4;\" x=\"260.618\" xlink:href=\"#m68abf0a98d\" y=\"67.896146\"/>\n     <use style=\"fill:#1f77b4;stroke:#1f77b4;\" x=\"261.226727\" xlink:href=\"#m68abf0a98d\" y=\"145.269312\"/>\n     <use style=\"fill:#1f77b4;stroke:#1f77b4;\" x=\"261.835455\" xlink:href=\"#m68abf0a98d\" y=\"207.852132\"/>\n     <use style=\"fill:#1f77b4;stroke:#1f77b4;\" x=\"262.444182\" xlink:href=\"#m68abf0a98d\" y=\"191.44892\"/>\n     <use style=\"fill:#1f77b4;stroke:#1f77b4;\" x=\"263.052909\" xlink:href=\"#m68abf0a98d\" y=\"146.683922\"/>\n     <use style=\"fill:#1f77b4;stroke:#1f77b4;\" x=\"263.661636\" xlink:href=\"#m68abf0a98d\" y=\"177.563655\"/>\n     <use style=\"fill:#1f77b4;stroke:#1f77b4;\" x=\"264.270364\" xlink:href=\"#m68abf0a98d\" y=\"199.316268\"/>\n     <use style=\"fill:#1f77b4;stroke:#1f77b4;\" x=\"264.879091\" xlink:href=\"#m68abf0a98d\" y=\"135.98065\"/>\n     <use style=\"fill:#1f77b4;stroke:#1f77b4;\" x=\"265.487818\" xlink:href=\"#m68abf0a98d\" y=\"105.702389\"/>\n     <use style=\"fill:#1f77b4;stroke:#1f77b4;\" x=\"266.096545\" xlink:href=\"#m68abf0a98d\" y=\"178.835239\"/>\n     <use style=\"fill:#1f77b4;stroke:#1f77b4;\" x=\"266.705273\" xlink:href=\"#m68abf0a98d\" y=\"143.20215\"/>\n     <use style=\"fill:#1f77b4;stroke:#1f77b4;\" x=\"267.314\" xlink:href=\"#m68abf0a98d\" y=\"162.793421\"/>\n     <use style=\"fill:#1f77b4;stroke:#1f77b4;\" x=\"267.922727\" xlink:href=\"#m68abf0a98d\" y=\"125.737422\"/>\n     <use style=\"fill:#1f77b4;stroke:#1f77b4;\" x=\"268.531455\" xlink:href=\"#m68abf0a98d\" y=\"132.692026\"/>\n     <use style=\"fill:#1f77b4;stroke:#1f77b4;\" x=\"269.140182\" xlink:href=\"#m68abf0a98d\" y=\"154.794221\"/>\n     <use style=\"fill:#1f77b4;stroke:#1f77b4;\" x=\"269.748909\" xlink:href=\"#m68abf0a98d\" y=\"221.427402\"/>\n     <use style=\"fill:#1f77b4;stroke:#1f77b4;\" x=\"270.357636\" xlink:href=\"#m68abf0a98d\" y=\"146.412557\"/>\n     <use style=\"fill:#1f77b4;stroke:#1f77b4;\" x=\"270.966364\" xlink:href=\"#m68abf0a98d\" y=\"188.566385\"/>\n     <use style=\"fill:#1f77b4;stroke:#1f77b4;\" x=\"271.575091\" xlink:href=\"#m68abf0a98d\" y=\"223.034202\"/>\n     <use style=\"fill:#1f77b4;stroke:#1f77b4;\" x=\"272.183818\" xlink:href=\"#m68abf0a98d\" y=\"172.757622\"/>\n     <use style=\"fill:#1f77b4;stroke:#1f77b4;\" x=\"272.792545\" xlink:href=\"#m68abf0a98d\" y=\"115.524204\"/>\n     <use style=\"fill:#1f77b4;stroke:#1f77b4;\" x=\"273.401273\" xlink:href=\"#m68abf0a98d\" y=\"88.424743\"/>\n     <use style=\"fill:#1f77b4;stroke:#1f77b4;\" x=\"274.01\" xlink:href=\"#m68abf0a98d\" y=\"146.122356\"/>\n     <use style=\"fill:#1f77b4;stroke:#1f77b4;\" x=\"274.618727\" xlink:href=\"#m68abf0a98d\" y=\"115.134396\"/>\n     <use style=\"fill:#1f77b4;stroke:#1f77b4;\" x=\"275.227455\" xlink:href=\"#m68abf0a98d\" y=\"155.142207\"/>\n     <use style=\"fill:#1f77b4;stroke:#1f77b4;\" x=\"275.836182\" xlink:href=\"#m68abf0a98d\" y=\"170.143899\"/>\n     <use style=\"fill:#1f77b4;stroke:#1f77b4;\" x=\"276.444909\" xlink:href=\"#m68abf0a98d\" y=\"178.47991\"/>\n     <use style=\"fill:#1f77b4;stroke:#1f77b4;\" x=\"277.053636\" xlink:href=\"#m68abf0a98d\" y=\"205.095064\"/>\n     <use style=\"fill:#1f77b4;stroke:#1f77b4;\" x=\"277.662364\" xlink:href=\"#m68abf0a98d\" y=\"241.87459\"/>\n     <use style=\"fill:#1f77b4;stroke:#1f77b4;\" x=\"278.271091\" xlink:href=\"#m68abf0a98d\" y=\"250.714063\"/>\n     <use style=\"fill:#1f77b4;stroke:#1f77b4;\" x=\"278.879818\" xlink:href=\"#m68abf0a98d\" y=\"246.76299\"/>\n     <use style=\"fill:#1f77b4;stroke:#1f77b4;\" x=\"279.488545\" xlink:href=\"#m68abf0a98d\" y=\"227.185127\"/>\n     <use style=\"fill:#1f77b4;stroke:#1f77b4;\" x=\"280.097273\" xlink:href=\"#m68abf0a98d\" y=\"167.691079\"/>\n     <use style=\"fill:#1f77b4;stroke:#1f77b4;\" x=\"280.706\" xlink:href=\"#m68abf0a98d\" y=\"191.459774\"/>\n     <use style=\"fill:#1f77b4;stroke:#1f77b4;\" x=\"281.314727\" xlink:href=\"#m68abf0a98d\" y=\"207.460089\"/>\n     <use style=\"fill:#1f77b4;stroke:#1f77b4;\" x=\"281.923455\" xlink:href=\"#m68abf0a98d\" y=\"34.208264\"/>\n     <use style=\"fill:#1f77b4;stroke:#1f77b4;\" x=\"282.532182\" xlink:href=\"#m68abf0a98d\" y=\"237.877225\"/>\n     <use style=\"fill:#1f77b4;stroke:#1f77b4;\" x=\"283.140909\" xlink:href=\"#m68abf0a98d\" y=\"103.422924\"/>\n     <use style=\"fill:#1f77b4;stroke:#1f77b4;\" x=\"283.749636\" xlink:href=\"#m68abf0a98d\" y=\"198.703941\"/>\n     <use style=\"fill:#1f77b4;stroke:#1f77b4;\" x=\"284.358364\" xlink:href=\"#m68abf0a98d\" y=\"153.951713\"/>\n     <use style=\"fill:#1f77b4;stroke:#1f77b4;\" x=\"284.967091\" xlink:href=\"#m68abf0a98d\" y=\"110.44489\"/>\n     <use style=\"fill:#1f77b4;stroke:#1f77b4;\" x=\"285.575818\" xlink:href=\"#m68abf0a98d\" y=\"203.205406\"/>\n     <use style=\"fill:#1f77b4;stroke:#1f77b4;\" x=\"286.184545\" xlink:href=\"#m68abf0a98d\" y=\"185.450477\"/>\n     <use style=\"fill:#1f77b4;stroke:#1f77b4;\" x=\"286.793273\" xlink:href=\"#m68abf0a98d\" y=\"245.306878\"/>\n     <use style=\"fill:#1f77b4;stroke:#1f77b4;\" x=\"287.402\" xlink:href=\"#m68abf0a98d\" y=\"66.100348\"/>\n     <use style=\"fill:#1f77b4;stroke:#1f77b4;\" x=\"288.010727\" xlink:href=\"#m68abf0a98d\" y=\"135.795164\"/>\n     <use style=\"fill:#1f77b4;stroke:#1f77b4;\" x=\"288.619455\" xlink:href=\"#m68abf0a98d\" y=\"124.839364\"/>\n     <use style=\"fill:#1f77b4;stroke:#1f77b4;\" x=\"289.228182\" xlink:href=\"#m68abf0a98d\" y=\"248.064265\"/>\n     <use style=\"fill:#1f77b4;stroke:#1f77b4;\" x=\"289.836909\" xlink:href=\"#m68abf0a98d\" y=\"187.144433\"/>\n     <use style=\"fill:#1f77b4;stroke:#1f77b4;\" x=\"290.445636\" xlink:href=\"#m68abf0a98d\" y=\"252.770052\"/>\n     <use style=\"fill:#1f77b4;stroke:#1f77b4;\" x=\"291.054364\" xlink:href=\"#m68abf0a98d\" y=\"189.005997\"/>\n     <use style=\"fill:#1f77b4;stroke:#1f77b4;\" x=\"291.663091\" xlink:href=\"#m68abf0a98d\" y=\"201.978198\"/>\n     <use style=\"fill:#1f77b4;stroke:#1f77b4;\" x=\"292.271818\" xlink:href=\"#m68abf0a98d\" y=\"174.342393\"/>\n     <use style=\"fill:#1f77b4;stroke:#1f77b4;\" x=\"292.880545\" xlink:href=\"#m68abf0a98d\" y=\"206.249482\"/>\n     <use style=\"fill:#1f77b4;stroke:#1f77b4;\" x=\"293.489273\" xlink:href=\"#m68abf0a98d\" y=\"107.250127\"/>\n     <use style=\"fill:#1f77b4;stroke:#1f77b4;\" x=\"294.098\" xlink:href=\"#m68abf0a98d\" y=\"229.211745\"/>\n     <use style=\"fill:#1f77b4;stroke:#1f77b4;\" x=\"294.706727\" xlink:href=\"#m68abf0a98d\" y=\"230.937945\"/>\n     <use style=\"fill:#1f77b4;stroke:#1f77b4;\" x=\"295.315455\" xlink:href=\"#m68abf0a98d\" y=\"157.562144\"/>\n     <use style=\"fill:#1f77b4;stroke:#1f77b4;\" x=\"295.924182\" xlink:href=\"#m68abf0a98d\" y=\"132.915503\"/>\n     <use style=\"fill:#1f77b4;stroke:#1f77b4;\" x=\"296.532909\" xlink:href=\"#m68abf0a98d\" y=\"106.521911\"/>\n     <use style=\"fill:#1f77b4;stroke:#1f77b4;\" x=\"297.141636\" xlink:href=\"#m68abf0a98d\" y=\"115.543039\"/>\n     <use style=\"fill:#1f77b4;stroke:#1f77b4;\" x=\"297.750364\" xlink:href=\"#m68abf0a98d\" y=\"193.965271\"/>\n     <use style=\"fill:#1f77b4;stroke:#1f77b4;\" x=\"298.359091\" xlink:href=\"#m68abf0a98d\" y=\"218.094721\"/>\n     <use style=\"fill:#1f77b4;stroke:#1f77b4;\" x=\"298.967818\" xlink:href=\"#m68abf0a98d\" y=\"131.452367\"/>\n     <use style=\"fill:#1f77b4;stroke:#1f77b4;\" x=\"299.576545\" xlink:href=\"#m68abf0a98d\" y=\"162.710735\"/>\n     <use style=\"fill:#1f77b4;stroke:#1f77b4;\" x=\"300.185273\" xlink:href=\"#m68abf0a98d\" y=\"106.93279\"/>\n     <use style=\"fill:#1f77b4;stroke:#1f77b4;\" x=\"300.794\" xlink:href=\"#m68abf0a98d\" y=\"192.718588\"/>\n     <use style=\"fill:#1f77b4;stroke:#1f77b4;\" x=\"301.402727\" xlink:href=\"#m68abf0a98d\" y=\"110.706359\"/>\n     <use style=\"fill:#1f77b4;stroke:#1f77b4;\" x=\"302.011455\" xlink:href=\"#m68abf0a98d\" y=\"202.912651\"/>\n     <use style=\"fill:#1f77b4;stroke:#1f77b4;\" x=\"302.620182\" xlink:href=\"#m68abf0a98d\" y=\"211.456177\"/>\n     <use style=\"fill:#1f77b4;stroke:#1f77b4;\" x=\"303.228909\" xlink:href=\"#m68abf0a98d\" y=\"264.130665\"/>\n     <use style=\"fill:#1f77b4;stroke:#1f77b4;\" x=\"303.837636\" xlink:href=\"#m68abf0a98d\" y=\"228.596544\"/>\n     <use style=\"fill:#1f77b4;stroke:#1f77b4;\" x=\"304.446364\" xlink:href=\"#m68abf0a98d\" y=\"129.982208\"/>\n     <use style=\"fill:#1f77b4;stroke:#1f77b4;\" x=\"305.055091\" xlink:href=\"#m68abf0a98d\" y=\"163.9903\"/>\n     <use style=\"fill:#1f77b4;stroke:#1f77b4;\" x=\"305.663818\" xlink:href=\"#m68abf0a98d\" y=\"186.357156\"/>\n     <use style=\"fill:#1f77b4;stroke:#1f77b4;\" x=\"306.272545\" xlink:href=\"#m68abf0a98d\" y=\"252.984909\"/>\n     <use style=\"fill:#1f77b4;stroke:#1f77b4;\" x=\"306.881273\" xlink:href=\"#m68abf0a98d\" y=\"138.858076\"/>\n     <use style=\"fill:#1f77b4;stroke:#1f77b4;\" x=\"307.49\" xlink:href=\"#m68abf0a98d\" y=\"134.861988\"/>\n     <use style=\"fill:#1f77b4;stroke:#1f77b4;\" x=\"308.098727\" xlink:href=\"#m68abf0a98d\" y=\"215.173558\"/>\n     <use style=\"fill:#1f77b4;stroke:#1f77b4;\" x=\"308.707455\" xlink:href=\"#m68abf0a98d\" y=\"155.440389\"/>\n     <use style=\"fill:#1f77b4;stroke:#1f77b4;\" x=\"309.316182\" xlink:href=\"#m68abf0a98d\" y=\"154.594688\"/>\n     <use style=\"fill:#1f77b4;stroke:#1f77b4;\" x=\"309.924909\" xlink:href=\"#m68abf0a98d\" y=\"109.694327\"/>\n     <use style=\"fill:#1f77b4;stroke:#1f77b4;\" x=\"310.533636\" xlink:href=\"#m68abf0a98d\" y=\"118.658309\"/>\n     <use style=\"fill:#1f77b4;stroke:#1f77b4;\" x=\"311.142364\" xlink:href=\"#m68abf0a98d\" y=\"228.757448\"/>\n     <use style=\"fill:#1f77b4;stroke:#1f77b4;\" x=\"311.751091\" xlink:href=\"#m68abf0a98d\" y=\"104.673437\"/>\n     <use style=\"fill:#1f77b4;stroke:#1f77b4;\" x=\"312.359818\" xlink:href=\"#m68abf0a98d\" y=\"209.636755\"/>\n     <use style=\"fill:#1f77b4;stroke:#1f77b4;\" x=\"312.968545\" xlink:href=\"#m68abf0a98d\" y=\"166.736513\"/>\n     <use style=\"fill:#1f77b4;stroke:#1f77b4;\" x=\"313.577273\" xlink:href=\"#m68abf0a98d\" y=\"181.014459\"/>\n     <use style=\"fill:#1f77b4;stroke:#1f77b4;\" x=\"314.186\" xlink:href=\"#m68abf0a98d\" y=\"234.35842\"/>\n     <use style=\"fill:#1f77b4;stroke:#1f77b4;\" x=\"314.794727\" xlink:href=\"#m68abf0a98d\" y=\"138.53595\"/>\n     <use style=\"fill:#1f77b4;stroke:#1f77b4;\" x=\"315.403455\" xlink:href=\"#m68abf0a98d\" y=\"230.521639\"/>\n     <use style=\"fill:#1f77b4;stroke:#1f77b4;\" x=\"316.012182\" xlink:href=\"#m68abf0a98d\" y=\"138.359403\"/>\n     <use style=\"fill:#1f77b4;stroke:#1f77b4;\" x=\"316.620909\" xlink:href=\"#m68abf0a98d\" y=\"171.141883\"/>\n     <use style=\"fill:#1f77b4;stroke:#1f77b4;\" x=\"317.229636\" xlink:href=\"#m68abf0a98d\" y=\"203.032371\"/>\n     <use style=\"fill:#1f77b4;stroke:#1f77b4;\" x=\"317.838364\" xlink:href=\"#m68abf0a98d\" y=\"164.937204\"/>\n     <use style=\"fill:#1f77b4;stroke:#1f77b4;\" x=\"318.447091\" xlink:href=\"#m68abf0a98d\" y=\"136.956925\"/>\n     <use style=\"fill:#1f77b4;stroke:#1f77b4;\" x=\"319.055818\" xlink:href=\"#m68abf0a98d\" y=\"139.622048\"/>\n     <use style=\"fill:#1f77b4;stroke:#1f77b4;\" x=\"319.664545\" xlink:href=\"#m68abf0a98d\" y=\"96.892926\"/>\n     <use style=\"fill:#1f77b4;stroke:#1f77b4;\" x=\"320.273273\" xlink:href=\"#m68abf0a98d\" y=\"184.887954\"/>\n     <use style=\"fill:#1f77b4;stroke:#1f77b4;\" x=\"320.882\" xlink:href=\"#m68abf0a98d\" y=\"183.615412\"/>\n     <use style=\"fill:#1f77b4;stroke:#1f77b4;\" x=\"321.490727\" xlink:href=\"#m68abf0a98d\" y=\"151.545823\"/>\n     <use style=\"fill:#1f77b4;stroke:#1f77b4;\" x=\"322.099455\" xlink:href=\"#m68abf0a98d\" y=\"166.675855\"/>\n     <use style=\"fill:#1f77b4;stroke:#1f77b4;\" x=\"322.708182\" xlink:href=\"#m68abf0a98d\" y=\"192.663996\"/>\n     <use style=\"fill:#1f77b4;stroke:#1f77b4;\" x=\"323.316909\" xlink:href=\"#m68abf0a98d\" y=\"127.243338\"/>\n     <use style=\"fill:#1f77b4;stroke:#1f77b4;\" x=\"323.925636\" xlink:href=\"#m68abf0a98d\" y=\"147.741606\"/>\n     <use style=\"fill:#1f77b4;stroke:#1f77b4;\" x=\"324.534364\" xlink:href=\"#m68abf0a98d\" y=\"154.255322\"/>\n     <use style=\"fill:#1f77b4;stroke:#1f77b4;\" x=\"325.143091\" xlink:href=\"#m68abf0a98d\" y=\"195.597611\"/>\n     <use style=\"fill:#1f77b4;stroke:#1f77b4;\" x=\"325.751818\" xlink:href=\"#m68abf0a98d\" y=\"160.462875\"/>\n     <use style=\"fill:#1f77b4;stroke:#1f77b4;\" x=\"326.360545\" xlink:href=\"#m68abf0a98d\" y=\"118.387902\"/>\n     <use style=\"fill:#1f77b4;stroke:#1f77b4;\" x=\"326.969273\" xlink:href=\"#m68abf0a98d\" y=\"216.096518\"/>\n     <use style=\"fill:#1f77b4;stroke:#1f77b4;\" x=\"327.578\" xlink:href=\"#m68abf0a98d\" y=\"131.365531\"/>\n     <use style=\"fill:#1f77b4;stroke:#1f77b4;\" x=\"328.186727\" xlink:href=\"#m68abf0a98d\" y=\"100.344688\"/>\n     <use style=\"fill:#1f77b4;stroke:#1f77b4;\" x=\"328.795455\" xlink:href=\"#m68abf0a98d\" y=\"148.239002\"/>\n     <use style=\"fill:#1f77b4;stroke:#1f77b4;\" x=\"329.404182\" xlink:href=\"#m68abf0a98d\" y=\"95.041898\"/>\n     <use style=\"fill:#1f77b4;stroke:#1f77b4;\" x=\"330.012909\" xlink:href=\"#m68abf0a98d\" y=\"189.927999\"/>\n     <use style=\"fill:#1f77b4;stroke:#1f77b4;\" x=\"330.621636\" xlink:href=\"#m68abf0a98d\" y=\"88.719095\"/>\n     <use style=\"fill:#1f77b4;stroke:#1f77b4;\" x=\"331.230364\" xlink:href=\"#m68abf0a98d\" y=\"194.241424\"/>\n     <use style=\"fill:#1f77b4;stroke:#1f77b4;\" x=\"331.839091\" xlink:href=\"#m68abf0a98d\" y=\"99.123545\"/>\n     <use style=\"fill:#1f77b4;stroke:#1f77b4;\" x=\"332.447818\" xlink:href=\"#m68abf0a98d\" y=\"149.322227\"/>\n     <use style=\"fill:#1f77b4;stroke:#1f77b4;\" x=\"333.056545\" xlink:href=\"#m68abf0a98d\" y=\"135.515499\"/>\n     <use style=\"fill:#1f77b4;stroke:#1f77b4;\" x=\"333.665273\" xlink:href=\"#m68abf0a98d\" y=\"151.204223\"/>\n     <use style=\"fill:#1f77b4;stroke:#1f77b4;\" x=\"334.274\" xlink:href=\"#m68abf0a98d\" y=\"170.982257\"/>\n     <use style=\"fill:#1f77b4;stroke:#1f77b4;\" x=\"334.882727\" xlink:href=\"#m68abf0a98d\" y=\"154.250853\"/>\n     <use style=\"fill:#1f77b4;stroke:#1f77b4;\" x=\"335.491455\" xlink:href=\"#m68abf0a98d\" y=\"153.607558\"/>\n     <use style=\"fill:#1f77b4;stroke:#1f77b4;\" x=\"336.100182\" xlink:href=\"#m68abf0a98d\" y=\"249.619345\"/>\n     <use style=\"fill:#1f77b4;stroke:#1f77b4;\" x=\"336.708909\" xlink:href=\"#m68abf0a98d\" y=\"171.674078\"/>\n     <use style=\"fill:#1f77b4;stroke:#1f77b4;\" x=\"337.317636\" xlink:href=\"#m68abf0a98d\" y=\"182.423322\"/>\n     <use style=\"fill:#1f77b4;stroke:#1f77b4;\" x=\"337.926364\" xlink:href=\"#m68abf0a98d\" y=\"248.504514\"/>\n     <use style=\"fill:#1f77b4;stroke:#1f77b4;\" x=\"338.535091\" xlink:href=\"#m68abf0a98d\" y=\"261.849923\"/>\n     <use style=\"fill:#1f77b4;stroke:#1f77b4;\" x=\"339.143818\" xlink:href=\"#m68abf0a98d\" y=\"124.085288\"/>\n     <use style=\"fill:#1f77b4;stroke:#1f77b4;\" x=\"339.752545\" xlink:href=\"#m68abf0a98d\" y=\"106.031858\"/>\n     <use style=\"fill:#1f77b4;stroke:#1f77b4;\" x=\"340.361273\" xlink:href=\"#m68abf0a98d\" y=\"300.298183\"/>\n     <use style=\"fill:#1f77b4;stroke:#1f77b4;\" x=\"340.97\" xlink:href=\"#m68abf0a98d\" y=\"160.194703\"/>\n     <use style=\"fill:#1f77b4;stroke:#1f77b4;\" x=\"341.578727\" xlink:href=\"#m68abf0a98d\" y=\"187.972575\"/>\n     <use style=\"fill:#1f77b4;stroke:#1f77b4;\" x=\"342.187455\" xlink:href=\"#m68abf0a98d\" y=\"197.094587\"/>\n     <use style=\"fill:#1f77b4;stroke:#1f77b4;\" x=\"342.796182\" xlink:href=\"#m68abf0a98d\" y=\"166.042457\"/>\n     <use style=\"fill:#1f77b4;stroke:#1f77b4;\" x=\"343.404909\" xlink:href=\"#m68abf0a98d\" y=\"216.419602\"/>\n     <use style=\"fill:#1f77b4;stroke:#1f77b4;\" x=\"344.013636\" xlink:href=\"#m68abf0a98d\" y=\"181.501958\"/>\n     <use style=\"fill:#1f77b4;stroke:#1f77b4;\" x=\"344.622364\" xlink:href=\"#m68abf0a98d\" y=\"153.416964\"/>\n     <use style=\"fill:#1f77b4;stroke:#1f77b4;\" x=\"345.231091\" xlink:href=\"#m68abf0a98d\" y=\"124.800415\"/>\n     <use style=\"fill:#1f77b4;stroke:#1f77b4;\" x=\"345.839818\" xlink:href=\"#m68abf0a98d\" y=\"212.016466\"/>\n     <use style=\"fill:#1f77b4;stroke:#1f77b4;\" x=\"346.448545\" xlink:href=\"#m68abf0a98d\" y=\"131.376704\"/>\n     <use style=\"fill:#1f77b4;stroke:#1f77b4;\" x=\"347.057273\" xlink:href=\"#m68abf0a98d\" y=\"104.78326\"/>\n     <use style=\"fill:#1f77b4;stroke:#1f77b4;\" x=\"347.666\" xlink:href=\"#m68abf0a98d\" y=\"193.611219\"/>\n     <use style=\"fill:#1f77b4;stroke:#1f77b4;\" x=\"348.274727\" xlink:href=\"#m68abf0a98d\" y=\"223.786681\"/>\n     <use style=\"fill:#1f77b4;stroke:#1f77b4;\" x=\"348.883455\" xlink:href=\"#m68abf0a98d\" y=\"225.147336\"/>\n     <use style=\"fill:#1f77b4;stroke:#1f77b4;\" x=\"349.492182\" xlink:href=\"#m68abf0a98d\" y=\"156.397828\"/>\n     <use style=\"fill:#1f77b4;stroke:#1f77b4;\" x=\"350.100909\" xlink:href=\"#m68abf0a98d\" y=\"239.530955\"/>\n     <use style=\"fill:#1f77b4;stroke:#1f77b4;\" x=\"350.709636\" xlink:href=\"#m68abf0a98d\" y=\"223.823395\"/>\n     <use style=\"fill:#1f77b4;stroke:#1f77b4;\" x=\"351.318364\" xlink:href=\"#m68abf0a98d\" y=\"231.261986\"/>\n     <use style=\"fill:#1f77b4;stroke:#1f77b4;\" x=\"351.927091\" xlink:href=\"#m68abf0a98d\" y=\"115.408953\"/>\n     <use style=\"fill:#1f77b4;stroke:#1f77b4;\" x=\"352.535818\" xlink:href=\"#m68abf0a98d\" y=\"136.422177\"/>\n     <use style=\"fill:#1f77b4;stroke:#1f77b4;\" x=\"353.144545\" xlink:href=\"#m68abf0a98d\" y=\"197.994561\"/>\n     <use style=\"fill:#1f77b4;stroke:#1f77b4;\" x=\"353.753273\" xlink:href=\"#m68abf0a98d\" y=\"77.851727\"/>\n     <use style=\"fill:#1f77b4;stroke:#1f77b4;\" x=\"354.362\" xlink:href=\"#m68abf0a98d\" y=\"198.294978\"/>\n     <use style=\"fill:#1f77b4;stroke:#1f77b4;\" x=\"354.970727\" xlink:href=\"#m68abf0a98d\" y=\"112.676149\"/>\n     <use style=\"fill:#1f77b4;stroke:#1f77b4;\" x=\"355.579455\" xlink:href=\"#m68abf0a98d\" y=\"183.579975\"/>\n     <use style=\"fill:#1f77b4;stroke:#1f77b4;\" x=\"356.188182\" xlink:href=\"#m68abf0a98d\" y=\"221.993437\"/>\n     <use style=\"fill:#1f77b4;stroke:#1f77b4;\" x=\"356.796909\" xlink:href=\"#m68abf0a98d\" y=\"182.398739\"/>\n     <use style=\"fill:#1f77b4;stroke:#1f77b4;\" x=\"357.405636\" xlink:href=\"#m68abf0a98d\" y=\"129.483535\"/>\n     <use style=\"fill:#1f77b4;stroke:#1f77b4;\" x=\"358.014364\" xlink:href=\"#m68abf0a98d\" y=\"100.714702\"/>\n     <use style=\"fill:#1f77b4;stroke:#1f77b4;\" x=\"358.623091\" xlink:href=\"#m68abf0a98d\" y=\"129.380736\"/>\n     <use style=\"fill:#1f77b4;stroke:#1f77b4;\" x=\"359.231818\" xlink:href=\"#m68abf0a98d\" y=\"130.74203\"/>\n     <use style=\"fill:#1f77b4;stroke:#1f77b4;\" x=\"359.840545\" xlink:href=\"#m68abf0a98d\" y=\"148.452902\"/>\n     <use style=\"fill:#1f77b4;stroke:#1f77b4;\" x=\"360.449273\" xlink:href=\"#m68abf0a98d\" y=\"104.776556\"/>\n     <use style=\"fill:#1f77b4;stroke:#1f77b4;\" x=\"361.058\" xlink:href=\"#m68abf0a98d\" y=\"170.714723\"/>\n     <use style=\"fill:#1f77b4;stroke:#1f77b4;\" x=\"361.666727\" xlink:href=\"#m68abf0a98d\" y=\"200.445146\"/>\n     <use style=\"fill:#1f77b4;stroke:#1f77b4;\" x=\"362.275455\" xlink:href=\"#m68abf0a98d\" y=\"189.495731\"/>\n     <use style=\"fill:#1f77b4;stroke:#1f77b4;\" x=\"362.884182\" xlink:href=\"#m68abf0a98d\" y=\"217.985537\"/>\n     <use style=\"fill:#1f77b4;stroke:#1f77b4;\" x=\"363.492909\" xlink:href=\"#m68abf0a98d\" y=\"171.124324\"/>\n     <use style=\"fill:#1f77b4;stroke:#1f77b4;\" x=\"364.101636\" xlink:href=\"#m68abf0a98d\" y=\"196.922829\"/>\n     <use style=\"fill:#1f77b4;stroke:#1f77b4;\" x=\"364.710364\" xlink:href=\"#m68abf0a98d\" y=\"101.512834\"/>\n     <use style=\"fill:#1f77b4;stroke:#1f77b4;\" x=\"365.319091\" xlink:href=\"#m68abf0a98d\" y=\"151.526668\"/>\n     <use style=\"fill:#1f77b4;stroke:#1f77b4;\" x=\"365.927818\" xlink:href=\"#m68abf0a98d\" y=\"190.562035\"/>\n     <use style=\"fill:#1f77b4;stroke:#1f77b4;\" x=\"366.536545\" xlink:href=\"#m68abf0a98d\" y=\"78.114791\"/>\n     <use style=\"fill:#1f77b4;stroke:#1f77b4;\" x=\"367.145273\" xlink:href=\"#m68abf0a98d\" y=\"192.618981\"/>\n     <use style=\"fill:#1f77b4;stroke:#1f77b4;\" x=\"367.754\" xlink:href=\"#m68abf0a98d\" y=\"72.144124\"/>\n     <use style=\"fill:#1f77b4;stroke:#1f77b4;\" x=\"368.362727\" xlink:href=\"#m68abf0a98d\" y=\"176.254399\"/>\n     <use style=\"fill:#1f77b4;stroke:#1f77b4;\" x=\"368.971455\" xlink:href=\"#m68abf0a98d\" y=\"174.036549\"/>\n     <use style=\"fill:#1f77b4;stroke:#1f77b4;\" x=\"369.580182\" xlink:href=\"#m68abf0a98d\" y=\"124.082096\"/>\n     <use style=\"fill:#1f77b4;stroke:#1f77b4;\" x=\"370.188909\" xlink:href=\"#m68abf0a98d\" y=\"240.882671\"/>\n     <use style=\"fill:#1f77b4;stroke:#1f77b4;\" x=\"370.797636\" xlink:href=\"#m68abf0a98d\" y=\"179.244202\"/>\n     <use style=\"fill:#1f77b4;stroke:#1f77b4;\" x=\"371.406364\" xlink:href=\"#m68abf0a98d\" y=\"205.362598\"/>\n     <use style=\"fill:#1f77b4;stroke:#1f77b4;\" x=\"372.015091\" xlink:href=\"#m68abf0a98d\" y=\"103.333852\"/>\n     <use style=\"fill:#1f77b4;stroke:#1f77b4;\" x=\"372.623818\" xlink:href=\"#m68abf0a98d\" y=\"146.94539\"/>\n     <use style=\"fill:#1f77b4;stroke:#1f77b4;\" x=\"373.232545\" xlink:href=\"#m68abf0a98d\" y=\"203.421221\"/>\n     <use style=\"fill:#1f77b4;stroke:#1f77b4;\" x=\"373.841273\" xlink:href=\"#m68abf0a98d\" y=\"158.245983\"/>\n     <use style=\"fill:#1f77b4;stroke:#1f77b4;\" x=\"374.45\" xlink:href=\"#m68abf0a98d\" y=\"169.989381\"/>\n     <use style=\"fill:#1f77b4;stroke:#1f77b4;\" x=\"375.058727\" xlink:href=\"#m68abf0a98d\" y=\"178.08276\"/>\n     <use style=\"fill:#1f77b4;stroke:#1f77b4;\" x=\"375.667455\" xlink:href=\"#m68abf0a98d\" y=\"183.595299\"/>\n     <use style=\"fill:#1f77b4;stroke:#1f77b4;\" x=\"376.276182\" xlink:href=\"#m68abf0a98d\" y=\"234.108764\"/>\n     <use style=\"fill:#1f77b4;stroke:#1f77b4;\" x=\"376.884909\" xlink:href=\"#m68abf0a98d\" y=\"235.936806\"/>\n     <use style=\"fill:#1f77b4;stroke:#1f77b4;\" x=\"377.493636\" xlink:href=\"#m68abf0a98d\" y=\"175.818619\"/>\n     <use style=\"fill:#1f77b4;stroke:#1f77b4;\" x=\"378.102364\" xlink:href=\"#m68abf0a98d\" y=\"55.174877\"/>\n     <use style=\"fill:#1f77b4;stroke:#1f77b4;\" x=\"378.711091\" xlink:href=\"#m68abf0a98d\" y=\"150.090988\"/>\n     <use style=\"fill:#1f77b4;stroke:#1f77b4;\" x=\"379.319818\" xlink:href=\"#m68abf0a98d\" y=\"163.726916\"/>\n     <use style=\"fill:#1f77b4;stroke:#1f77b4;\" x=\"379.928545\" xlink:href=\"#m68abf0a98d\" y=\"223.336534\"/>\n     <use style=\"fill:#1f77b4;stroke:#1f77b4;\" x=\"380.537273\" xlink:href=\"#m68abf0a98d\" y=\"202.040133\"/>\n     <use style=\"fill:#1f77b4;stroke:#1f77b4;\" x=\"381.146\" xlink:href=\"#m68abf0a98d\" y=\"240.761994\"/>\n     <use style=\"fill:#1f77b4;stroke:#1f77b4;\" x=\"381.754727\" xlink:href=\"#m68abf0a98d\" y=\"201.689274\"/>\n     <use style=\"fill:#1f77b4;stroke:#1f77b4;\" x=\"382.363455\" xlink:href=\"#m68abf0a98d\" y=\"147.555482\"/>\n     <use style=\"fill:#1f77b4;stroke:#1f77b4;\" x=\"382.972182\" xlink:href=\"#m68abf0a98d\" y=\"138.226594\"/>\n     <use style=\"fill:#1f77b4;stroke:#1f77b4;\" x=\"383.580909\" xlink:href=\"#m68abf0a98d\" y=\"128.929312\"/>\n     <use style=\"fill:#1f77b4;stroke:#1f77b4;\" x=\"384.189636\" xlink:href=\"#m68abf0a98d\" y=\"184.234763\"/>\n     <use style=\"fill:#1f77b4;stroke:#1f77b4;\" x=\"384.798364\" xlink:href=\"#m68abf0a98d\" y=\"156.922361\"/>\n     <use style=\"fill:#1f77b4;stroke:#1f77b4;\" x=\"385.407091\" xlink:href=\"#m68abf0a98d\" y=\"152.434304\"/>\n     <use style=\"fill:#1f77b4;stroke:#1f77b4;\" x=\"386.015818\" xlink:href=\"#m68abf0a98d\" y=\"165.970945\"/>\n     <use style=\"fill:#1f77b4;stroke:#1f77b4;\" x=\"386.624545\" xlink:href=\"#m68abf0a98d\" y=\"154.145819\"/>\n     <use style=\"fill:#1f77b4;stroke:#1f77b4;\" x=\"387.233273\" xlink:href=\"#m68abf0a98d\" y=\"166.017556\"/>\n     <use style=\"fill:#1f77b4;stroke:#1f77b4;\" x=\"387.842\" xlink:href=\"#m68abf0a98d\" y=\"180.634867\"/>\n     <use style=\"fill:#1f77b4;stroke:#1f77b4;\" x=\"388.450727\" xlink:href=\"#m68abf0a98d\" y=\"126.958883\"/>\n     <use style=\"fill:#1f77b4;stroke:#1f77b4;\" x=\"389.059455\" xlink:href=\"#m68abf0a98d\" y=\"154.265858\"/>\n     <use style=\"fill:#1f77b4;stroke:#1f77b4;\" x=\"389.668182\" xlink:href=\"#m68abf0a98d\" y=\"158.515113\"/>\n     <use style=\"fill:#1f77b4;stroke:#1f77b4;\" x=\"390.276909\" xlink:href=\"#m68abf0a98d\" y=\"105.102832\"/>\n     <use style=\"fill:#1f77b4;stroke:#1f77b4;\" x=\"390.885636\" xlink:href=\"#m68abf0a98d\" y=\"174.769554\"/>\n     <use style=\"fill:#1f77b4;stroke:#1f77b4;\" x=\"391.494364\" xlink:href=\"#m68abf0a98d\" y=\"91.03719\"/>\n     <use style=\"fill:#1f77b4;stroke:#1f77b4;\" x=\"392.103091\" xlink:href=\"#m68abf0a98d\" y=\"172.381542\"/>\n     <use style=\"fill:#1f77b4;stroke:#1f77b4;\" x=\"392.711818\" xlink:href=\"#m68abf0a98d\" y=\"246.209086\"/>\n     <use style=\"fill:#1f77b4;stroke:#1f77b4;\" x=\"393.320545\" xlink:href=\"#m68abf0a98d\" y=\"202.283723\"/>\n     <use style=\"fill:#1f77b4;stroke:#1f77b4;\" x=\"393.929273\" xlink:href=\"#m68abf0a98d\" y=\"198.680955\"/>\n     <use style=\"fill:#1f77b4;stroke:#1f77b4;\" x=\"394.538\" xlink:href=\"#m68abf0a98d\" y=\"120.053444\"/>\n     <use style=\"fill:#1f77b4;stroke:#1f77b4;\" x=\"395.146727\" xlink:href=\"#m68abf0a98d\" y=\"124.671437\"/>\n     <use style=\"fill:#1f77b4;stroke:#1f77b4;\" x=\"395.755455\" xlink:href=\"#m68abf0a98d\" y=\"181.224847\"/>\n     <use style=\"fill:#1f77b4;stroke:#1f77b4;\" x=\"396.364182\" xlink:href=\"#m68abf0a98d\" y=\"184.948931\"/>\n     <use style=\"fill:#1f77b4;stroke:#1f77b4;\" x=\"396.972909\" xlink:href=\"#m68abf0a98d\" y=\"155.272462\"/>\n     <use style=\"fill:#1f77b4;stroke:#1f77b4;\" x=\"397.581636\" xlink:href=\"#m68abf0a98d\" y=\"169.784739\"/>\n     <use style=\"fill:#1f77b4;stroke:#1f77b4;\" x=\"398.190364\" xlink:href=\"#m68abf0a98d\" y=\"187.904255\"/>\n     <use style=\"fill:#1f77b4;stroke:#1f77b4;\" x=\"398.799091\" xlink:href=\"#m68abf0a98d\" y=\"143.745199\"/>\n     <use style=\"fill:#1f77b4;stroke:#1f77b4;\" x=\"399.407818\" xlink:href=\"#m68abf0a98d\" y=\"175.690279\"/>\n     <use style=\"fill:#1f77b4;stroke:#1f77b4;\" x=\"400.016545\" xlink:href=\"#m68abf0a98d\" y=\"188.204991\"/>\n     <use style=\"fill:#1f77b4;stroke:#1f77b4;\" x=\"400.625273\" xlink:href=\"#m68abf0a98d\" y=\"116.711824\"/>\n     <use style=\"fill:#1f77b4;stroke:#1f77b4;\" x=\"401.234\" xlink:href=\"#m68abf0a98d\" y=\"163.088411\"/>\n     <use style=\"fill:#1f77b4;stroke:#1f77b4;\" x=\"401.842727\" xlink:href=\"#m68abf0a98d\" y=\"205.680574\"/>\n     <use style=\"fill:#1f77b4;stroke:#1f77b4;\" x=\"402.451455\" xlink:href=\"#m68abf0a98d\" y=\"173.146153\"/>\n     <use style=\"fill:#1f77b4;stroke:#1f77b4;\" x=\"403.060182\" xlink:href=\"#m68abf0a98d\" y=\"121.865842\"/>\n     <use style=\"fill:#1f77b4;stroke:#1f77b4;\" x=\"403.668909\" xlink:href=\"#m68abf0a98d\" y=\"205.113581\"/>\n     <use style=\"fill:#1f77b4;stroke:#1f77b4;\" x=\"404.277636\" xlink:href=\"#m68abf0a98d\" y=\"173.019409\"/>\n     <use style=\"fill:#1f77b4;stroke:#1f77b4;\" x=\"404.886364\" xlink:href=\"#m68abf0a98d\" y=\"238.987586\"/>\n     <use style=\"fill:#1f77b4;stroke:#1f77b4;\" x=\"405.495091\" xlink:href=\"#m68abf0a98d\" y=\"175.000374\"/>\n     <use style=\"fill:#1f77b4;stroke:#1f77b4;\" x=\"406.103818\" xlink:href=\"#m68abf0a98d\" y=\"194.177893\"/>\n     <use style=\"fill:#1f77b4;stroke:#1f77b4;\" x=\"406.712545\" xlink:href=\"#m68abf0a98d\" y=\"189.866383\"/>\n     <use style=\"fill:#1f77b4;stroke:#1f77b4;\" x=\"407.321273\" xlink:href=\"#m68abf0a98d\" y=\"128.807038\"/>\n     <use style=\"fill:#1f77b4;stroke:#1f77b4;\" x=\"407.93\" xlink:href=\"#m68abf0a98d\" y=\"172.209784\"/>\n     <use style=\"fill:#1f77b4;stroke:#1f77b4;\" x=\"408.538727\" xlink:href=\"#m68abf0a98d\" y=\"149.442266\"/>\n     <use style=\"fill:#1f77b4;stroke:#1f77b4;\" x=\"409.147455\" xlink:href=\"#m68abf0a98d\" y=\"160.825546\"/>\n     <use style=\"fill:#1f77b4;stroke:#1f77b4;\" x=\"409.756182\" xlink:href=\"#m68abf0a98d\" y=\"232.156852\"/>\n     <use style=\"fill:#1f77b4;stroke:#1f77b4;\" x=\"410.364909\" xlink:href=\"#m68abf0a98d\" y=\"255.939914\"/>\n     <use style=\"fill:#1f77b4;stroke:#1f77b4;\" x=\"410.973636\" xlink:href=\"#m68abf0a98d\" y=\"232.549214\"/>\n     <use style=\"fill:#1f77b4;stroke:#1f77b4;\" x=\"411.582364\" xlink:href=\"#m68abf0a98d\" y=\"177.029545\"/>\n     <use style=\"fill:#1f77b4;stroke:#1f77b4;\" x=\"412.191091\" xlink:href=\"#m68abf0a98d\" y=\"140.35186\"/>\n     <use style=\"fill:#1f77b4;stroke:#1f77b4;\" x=\"412.799818\" xlink:href=\"#m68abf0a98d\" y=\"158.034638\"/>\n     <use style=\"fill:#1f77b4;stroke:#1f77b4;\" x=\"413.408545\" xlink:href=\"#m68abf0a98d\" y=\"179.051054\"/>\n     <use style=\"fill:#1f77b4;stroke:#1f77b4;\" x=\"414.017273\" xlink:href=\"#m68abf0a98d\" y=\"200.843254\"/>\n     <use style=\"fill:#1f77b4;stroke:#1f77b4;\" x=\"414.626\" xlink:href=\"#m68abf0a98d\" y=\"159.487238\"/>\n     <use style=\"fill:#1f77b4;stroke:#1f77b4;\" x=\"415.234727\" xlink:href=\"#m68abf0a98d\" y=\"160.161181\"/>\n     <use style=\"fill:#1f77b4;stroke:#1f77b4;\" x=\"415.843455\" xlink:href=\"#m68abf0a98d\" y=\"157.374104\"/>\n     <use style=\"fill:#1f77b4;stroke:#1f77b4;\" x=\"416.452182\" xlink:href=\"#m68abf0a98d\" y=\"211.541737\"/>\n     <use style=\"fill:#1f77b4;stroke:#1f77b4;\" x=\"417.060909\" xlink:href=\"#m68abf0a98d\" y=\"161.431488\"/>\n     <use style=\"fill:#1f77b4;stroke:#1f77b4;\" x=\"417.669636\" xlink:href=\"#m68abf0a98d\" y=\"143.44542\"/>\n     <use style=\"fill:#1f77b4;stroke:#1f77b4;\" x=\"418.278364\" xlink:href=\"#m68abf0a98d\" y=\"238.713348\"/>\n     <use style=\"fill:#1f77b4;stroke:#1f77b4;\" x=\"418.887091\" xlink:href=\"#m68abf0a98d\" y=\"137.67716\"/>\n     <use style=\"fill:#1f77b4;stroke:#1f77b4;\" x=\"419.495818\" xlink:href=\"#m68abf0a98d\" y=\"171.412929\"/>\n     <use style=\"fill:#1f77b4;stroke:#1f77b4;\" x=\"420.104545\" xlink:href=\"#m68abf0a98d\" y=\"181.96264\"/>\n     <use style=\"fill:#1f77b4;stroke:#1f77b4;\" x=\"420.713273\" xlink:href=\"#m68abf0a98d\" y=\"149.181437\"/>\n     <use style=\"fill:#1f77b4;stroke:#1f77b4;\" x=\"421.322\" xlink:href=\"#m68abf0a98d\" y=\"86.575631\"/>\n     <use style=\"fill:#1f77b4;stroke:#1f77b4;\" x=\"421.930727\" xlink:href=\"#m68abf0a98d\" y=\"252.095471\"/>\n     <use style=\"fill:#1f77b4;stroke:#1f77b4;\" x=\"422.539455\" xlink:href=\"#m68abf0a98d\" y=\"115.631472\"/>\n     <use style=\"fill:#1f77b4;stroke:#1f77b4;\" x=\"423.148182\" xlink:href=\"#m68abf0a98d\" y=\"198.269438\"/>\n     <use style=\"fill:#1f77b4;stroke:#1f77b4;\" x=\"423.756909\" xlink:href=\"#m68abf0a98d\" y=\"203.693544\"/>\n     <use style=\"fill:#1f77b4;stroke:#1f77b4;\" x=\"424.365636\" xlink:href=\"#m68abf0a98d\" y=\"194.416694\"/>\n     <use style=\"fill:#1f77b4;stroke:#1f77b4;\" x=\"424.974364\" xlink:href=\"#m68abf0a98d\" y=\"165.964879\"/>\n     <use style=\"fill:#1f77b4;stroke:#1f77b4;\" x=\"425.583091\" xlink:href=\"#m68abf0a98d\" y=\"173.975253\"/>\n     <use style=\"fill:#1f77b4;stroke:#1f77b4;\" x=\"426.191818\" xlink:href=\"#m68abf0a98d\" y=\"212.088936\"/>\n     <use style=\"fill:#1f77b4;stroke:#1f77b4;\" x=\"426.800545\" xlink:href=\"#m68abf0a98d\" y=\"161.189814\"/>\n     <use style=\"fill:#1f77b4;stroke:#1f77b4;\" x=\"427.409273\" xlink:href=\"#m68abf0a98d\" y=\"203.882542\"/>\n     <use style=\"fill:#1f77b4;stroke:#1f77b4;\" x=\"428.018\" xlink:href=\"#m68abf0a98d\" y=\"184.200603\"/>\n     <use style=\"fill:#1f77b4;stroke:#1f77b4;\" x=\"428.626727\" xlink:href=\"#m68abf0a98d\" y=\"52.475913\"/>\n     <use style=\"fill:#1f77b4;stroke:#1f77b4;\" x=\"429.235455\" xlink:href=\"#m68abf0a98d\" y=\"271.926501\"/>\n     <use style=\"fill:#1f77b4;stroke:#1f77b4;\" x=\"429.844182\" xlink:href=\"#m68abf0a98d\" y=\"216.335957\"/>\n     <use style=\"fill:#1f77b4;stroke:#1f77b4;\" x=\"430.452909\" xlink:href=\"#m68abf0a98d\" y=\"129.76767\"/>\n     <use style=\"fill:#1f77b4;stroke:#1f77b4;\" x=\"431.061636\" xlink:href=\"#m68abf0a98d\" y=\"163.334235\"/>\n     <use style=\"fill:#1f77b4;stroke:#1f77b4;\" x=\"431.670364\" xlink:href=\"#m68abf0a98d\" y=\"133.24178\"/>\n     <use style=\"fill:#1f77b4;stroke:#1f77b4;\" x=\"432.279091\" xlink:href=\"#m68abf0a98d\" y=\"146.300499\"/>\n     <use style=\"fill:#1f77b4;stroke:#1f77b4;\" x=\"432.887818\" xlink:href=\"#m68abf0a98d\" y=\"118.815381\"/>\n     <use style=\"fill:#1f77b4;stroke:#1f77b4;\" x=\"433.496545\" xlink:href=\"#m68abf0a98d\" y=\"134.659262\"/>\n     <use style=\"fill:#1f77b4;stroke:#1f77b4;\" x=\"434.105273\" xlink:href=\"#m68abf0a98d\" y=\"136.628733\"/>\n     <use style=\"fill:#1f77b4;stroke:#1f77b4;\" x=\"434.714\" xlink:href=\"#m68abf0a98d\" y=\"167.970106\"/>\n     <use style=\"fill:#1f77b4;stroke:#1f77b4;\" x=\"435.322727\" xlink:href=\"#m68abf0a98d\" y=\"214.426825\"/>\n     <use style=\"fill:#1f77b4;stroke:#1f77b4;\" x=\"435.931455\" xlink:href=\"#m68abf0a98d\" y=\"158.633875\"/>\n     <use style=\"fill:#1f77b4;stroke:#1f77b4;\" x=\"436.540182\" xlink:href=\"#m68abf0a98d\" y=\"240.264598\"/>\n     <use style=\"fill:#1f77b4;stroke:#1f77b4;\" x=\"437.148909\" xlink:href=\"#m68abf0a98d\" y=\"205.422617\"/>\n     <use style=\"fill:#1f77b4;stroke:#1f77b4;\" x=\"437.757636\" xlink:href=\"#m68abf0a98d\" y=\"141.525753\"/>\n     <use style=\"fill:#1f77b4;stroke:#1f77b4;\" x=\"438.366364\" xlink:href=\"#m68abf0a98d\" y=\"160.30261\"/>\n     <use style=\"fill:#1f77b4;stroke:#1f77b4;\" x=\"438.975091\" xlink:href=\"#m68abf0a98d\" y=\"255.507007\"/>\n     <use style=\"fill:#1f77b4;stroke:#1f77b4;\" x=\"439.583818\" xlink:href=\"#m68abf0a98d\" y=\"104.333433\"/>\n     <use style=\"fill:#1f77b4;stroke:#1f77b4;\" x=\"440.192545\" xlink:href=\"#m68abf0a98d\" y=\"166.561882\"/>\n     <use style=\"fill:#1f77b4;stroke:#1f77b4;\" x=\"440.801273\" xlink:href=\"#m68abf0a98d\" y=\"147.150031\"/>\n     <use style=\"fill:#1f77b4;stroke:#1f77b4;\" x=\"441.41\" xlink:href=\"#m68abf0a98d\" y=\"113.842699\"/>\n     <use style=\"fill:#1f77b4;stroke:#1f77b4;\" x=\"442.018727\" xlink:href=\"#m68abf0a98d\" y=\"271.445067\"/>\n     <use style=\"fill:#1f77b4;stroke:#1f77b4;\" x=\"442.627455\" xlink:href=\"#m68abf0a98d\" y=\"152.660335\"/>\n     <use style=\"fill:#1f77b4;stroke:#1f77b4;\" x=\"443.236182\" xlink:href=\"#m68abf0a98d\" y=\"124.711024\"/>\n     <use style=\"fill:#1f77b4;stroke:#1f77b4;\" x=\"443.844909\" xlink:href=\"#m68abf0a98d\" y=\"143.999963\"/>\n     <use style=\"fill:#1f77b4;stroke:#1f77b4;\" x=\"444.453636\" xlink:href=\"#m68abf0a98d\" y=\"145.997209\"/>\n     <use style=\"fill:#1f77b4;stroke:#1f77b4;\" x=\"445.062364\" xlink:href=\"#m68abf0a98d\" y=\"199.692986\"/>\n     <use style=\"fill:#1f77b4;stroke:#1f77b4;\" x=\"445.671091\" xlink:href=\"#m68abf0a98d\" y=\"202.379818\"/>\n     <use style=\"fill:#1f77b4;stroke:#1f77b4;\" x=\"446.279818\" xlink:href=\"#m68abf0a98d\" y=\"161.248556\"/>\n     <use style=\"fill:#1f77b4;stroke:#1f77b4;\" x=\"446.888545\" xlink:href=\"#m68abf0a98d\" y=\"146.125229\"/>\n     <use style=\"fill:#1f77b4;stroke:#1f77b4;\" x=\"447.497273\" xlink:href=\"#m68abf0a98d\" y=\"104.452195\"/>\n     <use style=\"fill:#1f77b4;stroke:#1f77b4;\" x=\"448.106\" xlink:href=\"#m68abf0a98d\" y=\"102.354384\"/>\n     <use style=\"fill:#1f77b4;stroke:#1f77b4;\" x=\"448.714727\" xlink:href=\"#m68abf0a98d\" y=\"168.50677\"/>\n     <use style=\"fill:#1f77b4;stroke:#1f77b4;\" x=\"449.323455\" xlink:href=\"#m68abf0a98d\" y=\"171.951509\"/>\n     <use style=\"fill:#1f77b4;stroke:#1f77b4;\" x=\"449.932182\" xlink:href=\"#m68abf0a98d\" y=\"168.726416\"/>\n     <use style=\"fill:#1f77b4;stroke:#1f77b4;\" x=\"450.540909\" xlink:href=\"#m68abf0a98d\" y=\"123.406876\"/>\n     <use style=\"fill:#1f77b4;stroke:#1f77b4;\" x=\"451.149636\" xlink:href=\"#m68abf0a98d\" y=\"129.646354\"/>\n     <use style=\"fill:#1f77b4;stroke:#1f77b4;\" x=\"451.758364\" xlink:href=\"#m68abf0a98d\" y=\"115.837391\"/>\n     <use style=\"fill:#1f77b4;stroke:#1f77b4;\" x=\"452.367091\" xlink:href=\"#m68abf0a98d\" y=\"183.17197\"/>\n     <use style=\"fill:#1f77b4;stroke:#1f77b4;\" x=\"452.975818\" xlink:href=\"#m68abf0a98d\" y=\"224.402519\"/>\n     <use style=\"fill:#1f77b4;stroke:#1f77b4;\" x=\"453.584545\" xlink:href=\"#m68abf0a98d\" y=\"268.913073\"/>\n     <use style=\"fill:#1f77b4;stroke:#1f77b4;\" x=\"454.193273\" xlink:href=\"#m68abf0a98d\" y=\"131.094804\"/>\n     <use style=\"fill:#1f77b4;stroke:#1f77b4;\" x=\"454.802\" xlink:href=\"#m68abf0a98d\" y=\"135.239983\"/>\n     <use style=\"fill:#1f77b4;stroke:#1f77b4;\" x=\"455.410727\" xlink:href=\"#m68abf0a98d\" y=\"175.83522\"/>\n     <use style=\"fill:#1f77b4;stroke:#1f77b4;\" x=\"456.019455\" xlink:href=\"#m68abf0a98d\" y=\"146.138318\"/>\n     <use style=\"fill:#1f77b4;stroke:#1f77b4;\" x=\"456.628182\" xlink:href=\"#m68abf0a98d\" y=\"124.646854\"/>\n     <use style=\"fill:#1f77b4;stroke:#1f77b4;\" x=\"457.236909\" xlink:href=\"#m68abf0a98d\" y=\"176.270042\"/>\n     <use style=\"fill:#1f77b4;stroke:#1f77b4;\" x=\"457.845636\" xlink:href=\"#m68abf0a98d\" y=\"205.907562\"/>\n     <use style=\"fill:#1f77b4;stroke:#1f77b4;\" x=\"458.454364\" xlink:href=\"#m68abf0a98d\" y=\"111.424678\"/>\n     <use style=\"fill:#1f77b4;stroke:#1f77b4;\" x=\"459.063091\" xlink:href=\"#m68abf0a98d\" y=\"176.246098\"/>\n     <use style=\"fill:#1f77b4;stroke:#1f77b4;\" x=\"459.671818\" xlink:href=\"#m68abf0a98d\" y=\"140.905445\"/>\n     <use style=\"fill:#1f77b4;stroke:#1f77b4;\" x=\"460.280545\" xlink:href=\"#m68abf0a98d\" y=\"220.110484\"/>\n     <use style=\"fill:#1f77b4;stroke:#1f77b4;\" x=\"460.889273\" xlink:href=\"#m68abf0a98d\" y=\"183.104927\"/>\n     <use style=\"fill:#1f77b4;stroke:#1f77b4;\" x=\"461.498\" xlink:href=\"#m68abf0a98d\" y=\"127.191619\"/>\n     <use style=\"fill:#1f77b4;stroke:#1f77b4;\" x=\"462.106727\" xlink:href=\"#m68abf0a98d\" y=\"215.970413\"/>\n     <use style=\"fill:#1f77b4;stroke:#1f77b4;\" x=\"462.715455\" xlink:href=\"#m68abf0a98d\" y=\"203.338535\"/>\n     <use style=\"fill:#1f77b4;stroke:#1f77b4;\" x=\"463.324182\" xlink:href=\"#m68abf0a98d\" y=\"170.451978\"/>\n     <use style=\"fill:#1f77b4;stroke:#1f77b4;\" x=\"463.932909\" xlink:href=\"#m68abf0a98d\" y=\"119.140061\"/>\n     <use style=\"fill:#1f77b4;stroke:#1f77b4;\" x=\"464.541636\" xlink:href=\"#m68abf0a98d\" y=\"175.586203\"/>\n     <use style=\"fill:#1f77b4;stroke:#1f77b4;\" x=\"465.150364\" xlink:href=\"#m68abf0a98d\" y=\"117.948929\"/>\n     <use style=\"fill:#1f77b4;stroke:#1f77b4;\" x=\"465.759091\" xlink:href=\"#m68abf0a98d\" y=\"208.888746\"/>\n     <use style=\"fill:#1f77b4;stroke:#1f77b4;\" x=\"466.367818\" xlink:href=\"#m68abf0a98d\" y=\"133.750669\"/>\n     <use style=\"fill:#1f77b4;stroke:#1f77b4;\" x=\"466.976545\" xlink:href=\"#m68abf0a98d\" y=\"213.080536\"/>\n     <use style=\"fill:#1f77b4;stroke:#1f77b4;\" x=\"467.585273\" xlink:href=\"#m68abf0a98d\" y=\"119.989274\"/>\n     <use style=\"fill:#1f77b4;stroke:#1f77b4;\" x=\"468.194\" xlink:href=\"#m68abf0a98d\" y=\"257.115083\"/>\n     <use style=\"fill:#1f77b4;stroke:#1f77b4;\" x=\"468.802727\" xlink:href=\"#m68abf0a98d\" y=\"237.579681\"/>\n     <use style=\"fill:#1f77b4;stroke:#1f77b4;\" x=\"469.411455\" xlink:href=\"#m68abf0a98d\" y=\"183.03086\"/>\n     <use style=\"fill:#1f77b4;stroke:#1f77b4;\" x=\"470.020182\" xlink:href=\"#m68abf0a98d\" y=\"106.200424\"/>\n     <use style=\"fill:#1f77b4;stroke:#1f77b4;\" x=\"470.628909\" xlink:href=\"#m68abf0a98d\" y=\"169.033218\"/>\n     <use style=\"fill:#1f77b4;stroke:#1f77b4;\" x=\"471.237636\" xlink:href=\"#m68abf0a98d\" y=\"148.409164\"/>\n     <use style=\"fill:#1f77b4;stroke:#1f77b4;\" x=\"471.846364\" xlink:href=\"#m68abf0a98d\" y=\"182.659888\"/>\n     <use style=\"fill:#1f77b4;stroke:#1f77b4;\" x=\"472.455091\" xlink:href=\"#m68abf0a98d\" y=\"196.99498\"/>\n     <use style=\"fill:#1f77b4;stroke:#1f77b4;\" x=\"473.063818\" xlink:href=\"#m68abf0a98d\" y=\"256.59534\"/>\n     <use style=\"fill:#1f77b4;stroke:#1f77b4;\" x=\"473.672545\" xlink:href=\"#m68abf0a98d\" y=\"170.332577\"/>\n     <use style=\"fill:#1f77b4;stroke:#1f77b4;\" x=\"474.281273\" xlink:href=\"#m68abf0a98d\" y=\"177.233547\"/>\n     <use style=\"fill:#1f77b4;stroke:#1f77b4;\" x=\"474.89\" xlink:href=\"#m68abf0a98d\" y=\"134.153566\"/>\n     <use style=\"fill:#1f77b4;stroke:#1f77b4;\" x=\"475.498727\" xlink:href=\"#m68abf0a98d\" y=\"126.923446\"/>\n     <use style=\"fill:#1f77b4;stroke:#1f77b4;\" x=\"476.107455\" xlink:href=\"#m68abf0a98d\" y=\"195.393927\"/>\n     <use style=\"fill:#1f77b4;stroke:#1f77b4;\" x=\"476.716182\" xlink:href=\"#m68abf0a98d\" y=\"147.239102\"/>\n     <use style=\"fill:#1f77b4;stroke:#1f77b4;\" x=\"477.324909\" xlink:href=\"#m68abf0a98d\" y=\"150.871561\"/>\n     <use style=\"fill:#1f77b4;stroke:#1f77b4;\" x=\"477.933636\" xlink:href=\"#m68abf0a98d\" y=\"199.807598\"/>\n     <use style=\"fill:#1f77b4;stroke:#1f77b4;\" x=\"478.542364\" xlink:href=\"#m68abf0a98d\" y=\"201.79367\"/>\n     <use style=\"fill:#1f77b4;stroke:#1f77b4;\" x=\"479.151091\" xlink:href=\"#m68abf0a98d\" y=\"121.428147\"/>\n     <use style=\"fill:#1f77b4;stroke:#1f77b4;\" x=\"479.759818\" xlink:href=\"#m68abf0a98d\" y=\"125.77669\"/>\n     <use style=\"fill:#1f77b4;stroke:#1f77b4;\" x=\"480.368545\" xlink:href=\"#m68abf0a98d\" y=\"200.894335\"/>\n     <use style=\"fill:#1f77b4;stroke:#1f77b4;\" x=\"480.977273\" xlink:href=\"#m68abf0a98d\" y=\"128.630172\"/>\n     <use style=\"fill:#1f77b4;stroke:#1f77b4;\" x=\"481.586\" xlink:href=\"#m68abf0a98d\" y=\"202.415575\"/>\n     <use style=\"fill:#1f77b4;stroke:#1f77b4;\" x=\"482.194727\" xlink:href=\"#m68abf0a98d\" y=\"128.351784\"/>\n     <use style=\"fill:#1f77b4;stroke:#1f77b4;\" x=\"482.803455\" xlink:href=\"#m68abf0a98d\" y=\"147.497378\"/>\n     <use style=\"fill:#1f77b4;stroke:#1f77b4;\" x=\"483.412182\" xlink:href=\"#m68abf0a98d\" y=\"179.432242\"/>\n     <use style=\"fill:#1f77b4;stroke:#1f77b4;\" x=\"484.020909\" xlink:href=\"#m68abf0a98d\" y=\"105.696643\"/>\n     <use style=\"fill:#1f77b4;stroke:#1f77b4;\" x=\"484.629636\" xlink:href=\"#m68abf0a98d\" y=\"223.493606\"/>\n     <use style=\"fill:#1f77b4;stroke:#1f77b4;\" x=\"485.238364\" xlink:href=\"#m68abf0a98d\" y=\"144.101485\"/>\n     <use style=\"fill:#1f77b4;stroke:#1f77b4;\" x=\"485.847091\" xlink:href=\"#m68abf0a98d\" y=\"228.437876\"/>\n     <use style=\"fill:#1f77b4;stroke:#1f77b4;\" x=\"486.455818\" xlink:href=\"#m68abf0a98d\" y=\"232.821217\"/>\n     <use style=\"fill:#1f77b4;stroke:#1f77b4;\" x=\"487.064545\" xlink:href=\"#m68abf0a98d\" y=\"125.856184\"/>\n     <use style=\"fill:#1f77b4;stroke:#1f77b4;\" x=\"487.673273\" xlink:href=\"#m68abf0a98d\" y=\"203.377803\"/>\n     <use style=\"fill:#1f77b4;stroke:#1f77b4;\" x=\"488.282\" xlink:href=\"#m68abf0a98d\" y=\"75.548318\"/>\n     <use style=\"fill:#1f77b4;stroke:#1f77b4;\" x=\"488.890727\" xlink:href=\"#m68abf0a98d\" y=\"146.45374\"/>\n     <use style=\"fill:#1f77b4;stroke:#1f77b4;\" x=\"489.499455\" xlink:href=\"#m68abf0a98d\" y=\"118.936697\"/>\n     <use style=\"fill:#1f77b4;stroke:#1f77b4;\" x=\"490.108182\" xlink:href=\"#m68abf0a98d\" y=\"94.734776\"/>\n     <use style=\"fill:#1f77b4;stroke:#1f77b4;\" x=\"490.716909\" xlink:href=\"#m68abf0a98d\" y=\"235.032363\"/>\n     <use style=\"fill:#1f77b4;stroke:#1f77b4;\" x=\"491.325636\" xlink:href=\"#m68abf0a98d\" y=\"167.785578\"/>\n     <use style=\"fill:#1f77b4;stroke:#1f77b4;\" x=\"491.934364\" xlink:href=\"#m68abf0a98d\" y=\"247.362547\"/>\n     <use style=\"fill:#1f77b4;stroke:#1f77b4;\" x=\"492.543091\" xlink:href=\"#m68abf0a98d\" y=\"139.167432\"/>\n     <use style=\"fill:#1f77b4;stroke:#1f77b4;\" x=\"493.151818\" xlink:href=\"#m68abf0a98d\" y=\"105.768794\"/>\n     <use style=\"fill:#1f77b4;stroke:#1f77b4;\" x=\"493.760545\" xlink:href=\"#m68abf0a98d\" y=\"167.646703\"/>\n     <use style=\"fill:#1f77b4;stroke:#1f77b4;\" x=\"494.369273\" xlink:href=\"#m68abf0a98d\" y=\"154.065048\"/>\n     <use style=\"fill:#1f77b4;stroke:#1f77b4;\" x=\"494.978\" xlink:href=\"#m68abf0a98d\" y=\"146.109905\"/>\n     <use style=\"fill:#1f77b4;stroke:#1f77b4;\" x=\"495.586727\" xlink:href=\"#m68abf0a98d\" y=\"202.231047\"/>\n     <use style=\"fill:#1f77b4;stroke:#1f77b4;\" x=\"496.195455\" xlink:href=\"#m68abf0a98d\" y=\"122.61896\"/>\n     <use style=\"fill:#1f77b4;stroke:#1f77b4;\" x=\"496.804182\" xlink:href=\"#m68abf0a98d\" y=\"214.786942\"/>\n     <use style=\"fill:#1f77b4;stroke:#1f77b4;\" x=\"497.412909\" xlink:href=\"#m68abf0a98d\" y=\"147.821739\"/>\n     <use style=\"fill:#1f77b4;stroke:#1f77b4;\" x=\"498.021636\" xlink:href=\"#m68abf0a98d\" y=\"140.602474\"/>\n     <use style=\"fill:#1f77b4;stroke:#1f77b4;\" x=\"498.630364\" xlink:href=\"#m68abf0a98d\" y=\"160.660173\"/>\n     <use style=\"fill:#1f77b4;stroke:#1f77b4;\" x=\"499.239091\" xlink:href=\"#m68abf0a98d\" y=\"144.195026\"/>\n     <use style=\"fill:#1f77b4;stroke:#1f77b4;\" x=\"499.847818\" xlink:href=\"#m68abf0a98d\" y=\"92.222256\"/>\n     <use style=\"fill:#1f77b4;stroke:#1f77b4;\" x=\"500.456545\" xlink:href=\"#m68abf0a98d\" y=\"137.270112\"/>\n     <use style=\"fill:#1f77b4;stroke:#1f77b4;\" x=\"501.065273\" xlink:href=\"#m68abf0a98d\" y=\"91.762532\"/>\n     <use style=\"fill:#1f77b4;stroke:#1f77b4;\" x=\"501.674\" xlink:href=\"#m68abf0a98d\" y=\"156.049204\"/>\n     <use style=\"fill:#1f77b4;stroke:#1f77b4;\" x=\"502.282727\" xlink:href=\"#m68abf0a98d\" y=\"104.459857\"/>\n     <use style=\"fill:#1f77b4;stroke:#1f77b4;\" x=\"502.891455\" xlink:href=\"#m68abf0a98d\" y=\"173.658873\"/>\n     <use style=\"fill:#1f77b4;stroke:#1f77b4;\" x=\"503.500182\" xlink:href=\"#m68abf0a98d\" y=\"208.766791\"/>\n     <use style=\"fill:#1f77b4;stroke:#1f77b4;\" x=\"504.108909\" xlink:href=\"#m68abf0a98d\" y=\"152.974161\"/>\n     <use style=\"fill:#1f77b4;stroke:#1f77b4;\" x=\"504.717636\" xlink:href=\"#m68abf0a98d\" y=\"142.175433\"/>\n     <use style=\"fill:#1f77b4;stroke:#1f77b4;\" x=\"505.326364\" xlink:href=\"#m68abf0a98d\" y=\"206.259379\"/>\n     <use style=\"fill:#1f77b4;stroke:#1f77b4;\" x=\"505.935091\" xlink:href=\"#m68abf0a98d\" y=\"187.518917\"/>\n     <use style=\"fill:#1f77b4;stroke:#1f77b4;\" x=\"506.543818\" xlink:href=\"#m68abf0a98d\" y=\"164.150884\"/>\n     <use style=\"fill:#1f77b4;stroke:#1f77b4;\" x=\"507.152545\" xlink:href=\"#m68abf0a98d\" y=\"153.896482\"/>\n     <use style=\"fill:#1f77b4;stroke:#1f77b4;\" x=\"507.761273\" xlink:href=\"#m68abf0a98d\" y=\"181.708195\"/>\n     <use style=\"fill:#1f77b4;stroke:#1f77b4;\" x=\"508.37\" xlink:href=\"#m68abf0a98d\" y=\"192.110092\"/>\n     <use style=\"fill:#1f77b4;stroke:#1f77b4;\" x=\"508.978727\" xlink:href=\"#m68abf0a98d\" y=\"62.755855\"/>\n     <use style=\"fill:#1f77b4;stroke:#1f77b4;\" x=\"509.587455\" xlink:href=\"#m68abf0a98d\" y=\"113.234841\"/>\n     <use style=\"fill:#1f77b4;stroke:#1f77b4;\" x=\"510.196182\" xlink:href=\"#m68abf0a98d\" y=\"177.331877\"/>\n     <use style=\"fill:#1f77b4;stroke:#1f77b4;\" x=\"510.804909\" xlink:href=\"#m68abf0a98d\" y=\"105.435494\"/>\n     <use style=\"fill:#1f77b4;stroke:#1f77b4;\" x=\"511.413636\" xlink:href=\"#m68abf0a98d\" y=\"205.545849\"/>\n     <use style=\"fill:#1f77b4;stroke:#1f77b4;\" x=\"512.022364\" xlink:href=\"#m68abf0a98d\" y=\"153.650658\"/>\n     <use style=\"fill:#1f77b4;stroke:#1f77b4;\" x=\"512.631091\" xlink:href=\"#m68abf0a98d\" y=\"166.244864\"/>\n     <use style=\"fill:#1f77b4;stroke:#1f77b4;\" x=\"513.239818\" xlink:href=\"#m68abf0a98d\" y=\"216.093006\"/>\n     <use style=\"fill:#1f77b4;stroke:#1f77b4;\" x=\"513.848545\" xlink:href=\"#m68abf0a98d\" y=\"120.638954\"/>\n     <use style=\"fill:#1f77b4;stroke:#1f77b4;\" x=\"514.457273\" xlink:href=\"#m68abf0a98d\" y=\"151.665543\"/>\n     <use style=\"fill:#1f77b4;stroke:#1f77b4;\" x=\"515.066\" xlink:href=\"#m68abf0a98d\" y=\"214.490037\"/>\n     <use style=\"fill:#1f77b4;stroke:#1f77b4;\" x=\"515.674727\" xlink:href=\"#m68abf0a98d\" y=\"181.25326\"/>\n     <use style=\"fill:#1f77b4;stroke:#1f77b4;\" x=\"516.283455\" xlink:href=\"#m68abf0a98d\" y=\"164.94742\"/>\n     <use style=\"fill:#1f77b4;stroke:#1f77b4;\" x=\"516.892182\" xlink:href=\"#m68abf0a98d\" y=\"200.945096\"/>\n     <use style=\"fill:#1f77b4;stroke:#1f77b4;\" x=\"517.500909\" xlink:href=\"#m68abf0a98d\" y=\"130.287094\"/>\n     <use style=\"fill:#1f77b4;stroke:#1f77b4;\" x=\"518.109636\" xlink:href=\"#m68abf0a98d\" y=\"87.42644\"/>\n     <use style=\"fill:#1f77b4;stroke:#1f77b4;\" x=\"518.718364\" xlink:href=\"#m68abf0a98d\" y=\"219.033005\"/>\n     <use style=\"fill:#1f77b4;stroke:#1f77b4;\" x=\"519.327091\" xlink:href=\"#m68abf0a98d\" y=\"186.404724\"/>\n     <use style=\"fill:#1f77b4;stroke:#1f77b4;\" x=\"519.935818\" xlink:href=\"#m68abf0a98d\" y=\"158.279186\"/>\n     <use style=\"fill:#1f77b4;stroke:#1f77b4;\" x=\"520.544545\" xlink:href=\"#m68abf0a98d\" y=\"173.812434\"/>\n     <use style=\"fill:#1f77b4;stroke:#1f77b4;\" x=\"521.153273\" xlink:href=\"#m68abf0a98d\" y=\"179.649972\"/>\n     <use style=\"fill:#1f77b4;stroke:#1f77b4;\" x=\"521.762\" xlink:href=\"#m68abf0a98d\" y=\"147.888782\"/>\n     <use style=\"fill:#1f77b4;stroke:#1f77b4;\" x=\"522.370727\" xlink:href=\"#m68abf0a98d\" y=\"167.783663\"/>\n     <use style=\"fill:#1f77b4;stroke:#1f77b4;\" x=\"522.979455\" xlink:href=\"#m68abf0a98d\" y=\"101.526562\"/>\n     <use style=\"fill:#1f77b4;stroke:#1f77b4;\" x=\"523.588182\" xlink:href=\"#m68abf0a98d\" y=\"198.753106\"/>\n     <use style=\"fill:#1f77b4;stroke:#1f77b4;\" x=\"524.196909\" xlink:href=\"#m68abf0a98d\" y=\"178.088506\"/>\n     <use style=\"fill:#1f77b4;stroke:#1f77b4;\" x=\"524.805636\" xlink:href=\"#m68abf0a98d\" y=\"234.407585\"/>\n     <use style=\"fill:#1f77b4;stroke:#1f77b4;\" x=\"525.414364\" xlink:href=\"#m68abf0a98d\" y=\"139.329293\"/>\n     <use style=\"fill:#1f77b4;stroke:#1f77b4;\" x=\"526.023091\" xlink:href=\"#m68abf0a98d\" y=\"163.018494\"/>\n     <use style=\"fill:#1f77b4;stroke:#1f77b4;\" x=\"526.631818\" xlink:href=\"#m68abf0a98d\" y=\"185.353105\"/>\n     <use style=\"fill:#1f77b4;stroke:#1f77b4;\" x=\"527.240545\" xlink:href=\"#m68abf0a98d\" y=\"104.391218\"/>\n     <use style=\"fill:#1f77b4;stroke:#1f77b4;\" x=\"527.849273\" xlink:href=\"#m68abf0a98d\" y=\"133.315527\"/>\n     <use style=\"fill:#1f77b4;stroke:#1f77b4;\" x=\"528.458\" xlink:href=\"#m68abf0a98d\" y=\"242.008676\"/>\n     <use style=\"fill:#1f77b4;stroke:#1f77b4;\" x=\"529.066727\" xlink:href=\"#m68abf0a98d\" y=\"193.932068\"/>\n     <use style=\"fill:#1f77b4;stroke:#1f77b4;\" x=\"529.675455\" xlink:href=\"#m68abf0a98d\" y=\"216.468128\"/>\n     <use style=\"fill:#1f77b4;stroke:#1f77b4;\" x=\"530.284182\" xlink:href=\"#m68abf0a98d\" y=\"130.632526\"/>\n     <use style=\"fill:#1f77b4;stroke:#1f77b4;\" x=\"530.892909\" xlink:href=\"#m68abf0a98d\" y=\"221.015885\"/>\n     <use style=\"fill:#1f77b4;stroke:#1f77b4;\" x=\"531.501636\" xlink:href=\"#m68abf0a98d\" y=\"122.536593\"/>\n     <use style=\"fill:#1f77b4;stroke:#1f77b4;\" x=\"532.110364\" xlink:href=\"#m68abf0a98d\" y=\"178.621659\"/>\n     <use style=\"fill:#1f77b4;stroke:#1f77b4;\" x=\"532.719091\" xlink:href=\"#m68abf0a98d\" y=\"211.023909\"/>\n     <use style=\"fill:#1f77b4;stroke:#1f77b4;\" x=\"533.327818\" xlink:href=\"#m68abf0a98d\" y=\"154.098889\"/>\n     <use style=\"fill:#1f77b4;stroke:#1f77b4;\" x=\"533.936545\" xlink:href=\"#m68abf0a98d\" y=\"97.819397\"/>\n     <use style=\"fill:#1f77b4;stroke:#1f77b4;\" x=\"534.545273\" xlink:href=\"#m68abf0a98d\" y=\"199.761626\"/>\n     <use style=\"fill:#1f77b4;stroke:#1f77b4;\" x=\"535.154\" xlink:href=\"#m68abf0a98d\" y=\"140.740072\"/>\n     <use style=\"fill:#1f77b4;stroke:#1f77b4;\" x=\"535.762727\" xlink:href=\"#m68abf0a98d\" y=\"126.853849\"/>\n     <use style=\"fill:#1f77b4;stroke:#1f77b4;\" x=\"536.371455\" xlink:href=\"#m68abf0a98d\" y=\"143.299841\"/>\n     <use style=\"fill:#1f77b4;stroke:#1f77b4;\" x=\"536.980182\" xlink:href=\"#m68abf0a98d\" y=\"205.040791\"/>\n     <use style=\"fill:#1f77b4;stroke:#1f77b4;\" x=\"537.588909\" xlink:href=\"#m68abf0a98d\" y=\"94.930798\"/>\n     <use style=\"fill:#1f77b4;stroke:#1f77b4;\" x=\"538.197636\" xlink:href=\"#m68abf0a98d\" y=\"214.324345\"/>\n     <use style=\"fill:#1f77b4;stroke:#1f77b4;\" x=\"538.806364\" xlink:href=\"#m68abf0a98d\" y=\"110.224925\"/>\n     <use style=\"fill:#1f77b4;stroke:#1f77b4;\" x=\"539.415091\" xlink:href=\"#m68abf0a98d\" y=\"176.676451\"/>\n     <use style=\"fill:#1f77b4;stroke:#1f77b4;\" x=\"540.023818\" xlink:href=\"#m68abf0a98d\" y=\"247.808862\"/>\n     <use style=\"fill:#1f77b4;stroke:#1f77b4;\" x=\"540.632545\" xlink:href=\"#m68abf0a98d\" y=\"167.346925\"/>\n     <use style=\"fill:#1f77b4;stroke:#1f77b4;\" x=\"541.241273\" xlink:href=\"#m68abf0a98d\" y=\"166.926149\"/>\n     <use style=\"fill:#1f77b4;stroke:#1f77b4;\" x=\"541.85\" xlink:href=\"#m68abf0a98d\" y=\"222.094321\"/>\n     <use style=\"fill:#1f77b4;stroke:#1f77b4;\" x=\"542.458727\" xlink:href=\"#m68abf0a98d\" y=\"128.755958\"/>\n     <use style=\"fill:#1f77b4;stroke:#1f77b4;\" x=\"543.067455\" xlink:href=\"#m68abf0a98d\" y=\"229.41862\"/>\n     <use style=\"fill:#1f77b4;stroke:#1f77b4;\" x=\"543.676182\" xlink:href=\"#m68abf0a98d\" y=\"174.573532\"/>\n     <use style=\"fill:#1f77b4;stroke:#1f77b4;\" x=\"544.284909\" xlink:href=\"#m68abf0a98d\" y=\"123.557244\"/>\n     <use style=\"fill:#1f77b4;stroke:#1f77b4;\" x=\"544.893636\" xlink:href=\"#m68abf0a98d\" y=\"267.599986\"/>\n     <use style=\"fill:#1f77b4;stroke:#1f77b4;\" x=\"545.502364\" xlink:href=\"#m68abf0a98d\" y=\"216.310417\"/>\n     <use style=\"fill:#1f77b4;stroke:#1f77b4;\" x=\"546.111091\" xlink:href=\"#m68abf0a98d\" y=\"95.138312\"/>\n     <use style=\"fill:#1f77b4;stroke:#1f77b4;\" x=\"546.719818\" xlink:href=\"#m68abf0a98d\" y=\"146.910272\"/>\n     <use style=\"fill:#1f77b4;stroke:#1f77b4;\" x=\"547.328545\" xlink:href=\"#m68abf0a98d\" y=\"199.185055\"/>\n     <use style=\"fill:#1f77b4;stroke:#1f77b4;\" x=\"547.937273\" xlink:href=\"#m68abf0a98d\" y=\"177.6042\"/>\n     <use style=\"fill:#1f77b4;stroke:#1f77b4;\" x=\"548.546\" xlink:href=\"#m68abf0a98d\" y=\"187.495292\"/>\n     <use style=\"fill:#1f77b4;stroke:#1f77b4;\" x=\"549.154727\" xlink:href=\"#m68abf0a98d\" y=\"110.090839\"/>\n     <use style=\"fill:#1f77b4;stroke:#1f77b4;\" x=\"549.763455\" xlink:href=\"#m68abf0a98d\" y=\"182.073101\"/>\n     <use style=\"fill:#1f77b4;stroke:#1f77b4;\" x=\"550.372182\" xlink:href=\"#m68abf0a98d\" y=\"210.580467\"/>\n     <use style=\"fill:#1f77b4;stroke:#1f77b4;\" x=\"550.980909\" xlink:href=\"#m68abf0a98d\" y=\"218.25786\"/>\n     <use style=\"fill:#1f77b4;stroke:#1f77b4;\" x=\"551.589636\" xlink:href=\"#m68abf0a98d\" y=\"171.161677\"/>\n     <use style=\"fill:#1f77b4;stroke:#1f77b4;\" x=\"552.198364\" xlink:href=\"#m68abf0a98d\" y=\"181.059154\"/>\n     <use style=\"fill:#1f77b4;stroke:#1f77b4;\" x=\"552.807091\" xlink:href=\"#m68abf0a98d\" y=\"178.8777\"/>\n     <use style=\"fill:#1f77b4;stroke:#1f77b4;\" x=\"553.415818\" xlink:href=\"#m68abf0a98d\" y=\"147.210369\"/>\n     <use style=\"fill:#1f77b4;stroke:#1f77b4;\" x=\"554.024545\" xlink:href=\"#m68abf0a98d\" y=\"156.697288\"/>\n     <use style=\"fill:#1f77b4;stroke:#1f77b4;\" x=\"554.633273\" xlink:href=\"#m68abf0a98d\" y=\"175.085295\"/>\n     <use style=\"fill:#1f77b4;stroke:#1f77b4;\" x=\"555.242\" xlink:href=\"#m68abf0a98d\" y=\"194.513109\"/>\n     <use style=\"fill:#1f77b4;stroke:#1f77b4;\" x=\"555.850727\" xlink:href=\"#m68abf0a98d\" y=\"241.829575\"/>\n     <use style=\"fill:#1f77b4;stroke:#1f77b4;\" x=\"556.459455\" xlink:href=\"#m68abf0a98d\" y=\"120.947033\"/>\n     <use style=\"fill:#1f77b4;stroke:#1f77b4;\" x=\"557.068182\" xlink:href=\"#m68abf0a98d\" y=\"161.591753\"/>\n     <use style=\"fill:#1f77b4;stroke:#1f77b4;\" x=\"557.676909\" xlink:href=\"#m68abf0a98d\" y=\"150.266577\"/>\n     <use style=\"fill:#1f77b4;stroke:#1f77b4;\" x=\"558.285636\" xlink:href=\"#m68abf0a98d\" y=\"140.138919\"/>\n     <use style=\"fill:#1f77b4;stroke:#1f77b4;\" x=\"558.894364\" xlink:href=\"#m68abf0a98d\" y=\"185.197948\"/>\n     <use style=\"fill:#1f77b4;stroke:#1f77b4;\" x=\"559.503091\" xlink:href=\"#m68abf0a98d\" y=\"161.063709\"/>\n     <use style=\"fill:#1f77b4;stroke:#1f77b4;\" x=\"560.111818\" xlink:href=\"#m68abf0a98d\" y=\"161.641876\"/>\n     <use style=\"fill:#1f77b4;stroke:#1f77b4;\" x=\"560.720545\" xlink:href=\"#m68abf0a98d\" y=\"142.272166\"/>\n     <use style=\"fill:#1f77b4;stroke:#1f77b4;\" x=\"561.329273\" xlink:href=\"#m68abf0a98d\" y=\"179.7748\"/>\n     <use style=\"fill:#1f77b4;stroke:#1f77b4;\" x=\"561.938\" xlink:href=\"#m68abf0a98d\" y=\"250.742796\"/>\n     <use style=\"fill:#1f77b4;stroke:#1f77b4;\" x=\"562.546727\" xlink:href=\"#m68abf0a98d\" y=\"153.280005\"/>\n     <use style=\"fill:#1f77b4;stroke:#1f77b4;\" x=\"563.155455\" xlink:href=\"#m68abf0a98d\" y=\"139.721017\"/>\n     <use style=\"fill:#1f77b4;stroke:#1f77b4;\" x=\"563.764182\" xlink:href=\"#m68abf0a98d\" y=\"116.486751\"/>\n     <use style=\"fill:#1f77b4;stroke:#1f77b4;\" x=\"564.372909\" xlink:href=\"#m68abf0a98d\" y=\"196.223346\"/>\n     <use style=\"fill:#1f77b4;stroke:#1f77b4;\" x=\"564.981636\" xlink:href=\"#m68abf0a98d\" y=\"71.273522\"/>\n     <use style=\"fill:#1f77b4;stroke:#1f77b4;\" x=\"565.590364\" xlink:href=\"#m68abf0a98d\" y=\"180.9969\"/>\n     <use style=\"fill:#1f77b4;stroke:#1f77b4;\" x=\"566.199091\" xlink:href=\"#m68abf0a98d\" y=\"142.738595\"/>\n     <use style=\"fill:#1f77b4;stroke:#1f77b4;\" x=\"566.807818\" xlink:href=\"#m68abf0a98d\" y=\"105.258947\"/>\n     <use style=\"fill:#1f77b4;stroke:#1f77b4;\" x=\"567.416545\" xlink:href=\"#m68abf0a98d\" y=\"212.593994\"/>\n     <use style=\"fill:#1f77b4;stroke:#1f77b4;\" x=\"568.025273\" xlink:href=\"#m68abf0a98d\" y=\"146.557497\"/>\n     <use style=\"fill:#1f77b4;stroke:#1f77b4;\" x=\"568.634\" xlink:href=\"#m68abf0a98d\" y=\"217.953931\"/>\n     <use style=\"fill:#1f77b4;stroke:#1f77b4;\" x=\"569.242727\" xlink:href=\"#m68abf0a98d\" y=\"128.991247\"/>\n     <use style=\"fill:#1f77b4;stroke:#1f77b4;\" x=\"569.851455\" xlink:href=\"#m68abf0a98d\" y=\"144.902171\"/>\n     <use style=\"fill:#1f77b4;stroke:#1f77b4;\" x=\"570.460182\" xlink:href=\"#m68abf0a98d\" y=\"234.064707\"/>\n     <use style=\"fill:#1f77b4;stroke:#1f77b4;\" x=\"571.068909\" xlink:href=\"#m68abf0a98d\" y=\"235.306601\"/>\n     <use style=\"fill:#1f77b4;stroke:#1f77b4;\" x=\"571.677636\" xlink:href=\"#m68abf0a98d\" y=\"209.902054\"/>\n     <use style=\"fill:#1f77b4;stroke:#1f77b4;\" x=\"572.286364\" xlink:href=\"#m68abf0a98d\" y=\"130.45119\"/>\n     <use style=\"fill:#1f77b4;stroke:#1f77b4;\" x=\"572.895091\" xlink:href=\"#m68abf0a98d\" y=\"126.128826\"/>\n     <use style=\"fill:#1f77b4;stroke:#1f77b4;\" x=\"573.503818\" xlink:href=\"#m68abf0a98d\" y=\"161.567171\"/>\n     <use style=\"fill:#1f77b4;stroke:#1f77b4;\" x=\"574.112545\" xlink:href=\"#m68abf0a98d\" y=\"258.398799\"/>\n     <use style=\"fill:#1f77b4;stroke:#1f77b4;\" x=\"574.721273\" xlink:href=\"#m68abf0a98d\" y=\"92.899711\"/>\n     <use style=\"fill:#1f77b4;stroke:#1f77b4;\" x=\"575.33\" xlink:href=\"#m68abf0a98d\" y=\"189.904374\"/>\n     <use style=\"fill:#1f77b4;stroke:#1f77b4;\" x=\"575.938727\" xlink:href=\"#m68abf0a98d\" y=\"181.946358\"/>\n     <use style=\"fill:#1f77b4;stroke:#1f77b4;\" x=\"576.547455\" xlink:href=\"#m68abf0a98d\" y=\"204.719303\"/>\n     <use style=\"fill:#1f77b4;stroke:#1f77b4;\" x=\"577.156182\" xlink:href=\"#m68abf0a98d\" y=\"159.088811\"/>\n     <use style=\"fill:#1f77b4;stroke:#1f77b4;\" x=\"577.764909\" xlink:href=\"#m68abf0a98d\" y=\"200.567739\"/>\n     <use style=\"fill:#1f77b4;stroke:#1f77b4;\" x=\"578.373636\" xlink:href=\"#m68abf0a98d\" y=\"155.38005\"/>\n     <use style=\"fill:#1f77b4;stroke:#1f77b4;\" x=\"578.982364\" xlink:href=\"#m68abf0a98d\" y=\"194.02114\"/>\n     <use style=\"fill:#1f77b4;stroke:#1f77b4;\" x=\"579.591091\" xlink:href=\"#m68abf0a98d\" y=\"144.997947\"/>\n     <use style=\"fill:#1f77b4;stroke:#1f77b4;\" x=\"580.199818\" xlink:href=\"#m68abf0a98d\" y=\"118.3033\"/>\n     <use style=\"fill:#1f77b4;stroke:#1f77b4;\" x=\"580.808545\" xlink:href=\"#m68abf0a98d\" y=\"136.880624\"/>\n     <use style=\"fill:#1f77b4;stroke:#1f77b4;\" x=\"581.417273\" xlink:href=\"#m68abf0a98d\" y=\"230.919747\"/>\n     <use style=\"fill:#1f77b4;stroke:#1f77b4;\" x=\"582.026\" xlink:href=\"#m68abf0a98d\" y=\"122.89256\"/>\n     <use style=\"fill:#1f77b4;stroke:#1f77b4;\" x=\"582.634727\" xlink:href=\"#m68abf0a98d\" y=\"164.870799\"/>\n     <use style=\"fill:#1f77b4;stroke:#1f77b4;\" x=\"583.243455\" xlink:href=\"#m68abf0a98d\" y=\"101.447068\"/>\n     <use style=\"fill:#1f77b4;stroke:#1f77b4;\" x=\"583.852182\" xlink:href=\"#m68abf0a98d\" y=\"136.118887\"/>\n     <use style=\"fill:#1f77b4;stroke:#1f77b4;\" x=\"584.460909\" xlink:href=\"#m68abf0a98d\" y=\"137.01024\"/>\n     <use style=\"fill:#1f77b4;stroke:#1f77b4;\" x=\"585.069636\" xlink:href=\"#m68abf0a98d\" y=\"137.063236\"/>\n     <use style=\"fill:#1f77b4;stroke:#1f77b4;\" x=\"585.678364\" xlink:href=\"#m68abf0a98d\" y=\"160.586745\"/>\n     <use style=\"fill:#1f77b4;stroke:#1f77b4;\" x=\"586.287091\" xlink:href=\"#m68abf0a98d\" y=\"104.210201\"/>\n     <use style=\"fill:#1f77b4;stroke:#1f77b4;\" x=\"586.895818\" xlink:href=\"#m68abf0a98d\" y=\"250.235503\"/>\n     <use style=\"fill:#1f77b4;stroke:#1f77b4;\" x=\"587.504545\" xlink:href=\"#m68abf0a98d\" y=\"140.968338\"/>\n     <use style=\"fill:#1f77b4;stroke:#1f77b4;\" x=\"588.113273\" xlink:href=\"#m68abf0a98d\" y=\"111.735949\"/>\n     <use style=\"fill:#1f77b4;stroke:#1f77b4;\" x=\"588.722\" xlink:href=\"#m68abf0a98d\" y=\"207.318341\"/>\n     <use style=\"fill:#1f77b4;stroke:#1f77b4;\" x=\"589.330727\" xlink:href=\"#m68abf0a98d\" y=\"267.43589\"/>\n     <use style=\"fill:#1f77b4;stroke:#1f77b4;\" x=\"589.939455\" xlink:href=\"#m68abf0a98d\" y=\"215.011058\"/>\n     <use style=\"fill:#1f77b4;stroke:#1f77b4;\" x=\"590.548182\" xlink:href=\"#m68abf0a98d\" y=\"56.172223\"/>\n     <use style=\"fill:#1f77b4;stroke:#1f77b4;\" x=\"591.156909\" xlink:href=\"#m68abf0a98d\" y=\"87.368655\"/>\n     <use style=\"fill:#1f77b4;stroke:#1f77b4;\" x=\"591.765636\" xlink:href=\"#m68abf0a98d\" y=\"119.270317\"/>\n     <use style=\"fill:#1f77b4;stroke:#1f77b4;\" x=\"592.374364\" xlink:href=\"#m68abf0a98d\" y=\"79.083405\"/>\n     <use style=\"fill:#1f77b4;stroke:#1f77b4;\" x=\"592.983091\" xlink:href=\"#m68abf0a98d\" y=\"174.394112\"/>\n     <use style=\"fill:#1f77b4;stroke:#1f77b4;\" x=\"593.591818\" xlink:href=\"#m68abf0a98d\" y=\"216.541875\"/>\n     <use style=\"fill:#1f77b4;stroke:#1f77b4;\" x=\"594.200545\" xlink:href=\"#m68abf0a98d\" y=\"102.05301\"/>\n     <use style=\"fill:#1f77b4;stroke:#1f77b4;\" x=\"594.809273\" xlink:href=\"#m68abf0a98d\" y=\"108.742953\"/>\n     <use style=\"fill:#1f77b4;stroke:#1f77b4;\" x=\"595.418\" xlink:href=\"#m68abf0a98d\" y=\"139.405914\"/>\n     <use style=\"fill:#1f77b4;stroke:#1f77b4;\" x=\"596.026727\" xlink:href=\"#m68abf0a98d\" y=\"119.305115\"/>\n     <use style=\"fill:#1f77b4;stroke:#1f77b4;\" x=\"596.635455\" xlink:href=\"#m68abf0a98d\" y=\"210.889184\"/>\n     <use style=\"fill:#1f77b4;stroke:#1f77b4;\" x=\"597.244182\" xlink:href=\"#m68abf0a98d\" y=\"152.445159\"/>\n     <use style=\"fill:#1f77b4;stroke:#1f77b4;\" x=\"597.852909\" xlink:href=\"#m68abf0a98d\" y=\"238.555637\"/>\n     <use style=\"fill:#1f77b4;stroke:#1f77b4;\" x=\"598.461636\" xlink:href=\"#m68abf0a98d\" y=\"163.346367\"/>\n     <use style=\"fill:#1f77b4;stroke:#1f77b4;\" x=\"599.070364\" xlink:href=\"#m68abf0a98d\" y=\"161.602927\"/>\n     <use style=\"fill:#1f77b4;stroke:#1f77b4;\" x=\"599.679091\" xlink:href=\"#m68abf0a98d\" y=\"152.616597\"/>\n     <use style=\"fill:#1f77b4;stroke:#1f77b4;\" x=\"600.287818\" xlink:href=\"#m68abf0a98d\" y=\"71.371852\"/>\n     <use style=\"fill:#1f77b4;stroke:#1f77b4;\" x=\"600.896545\" xlink:href=\"#m68abf0a98d\" y=\"197.427568\"/>\n     <use style=\"fill:#1f77b4;stroke:#1f77b4;\" x=\"601.505273\" xlink:href=\"#m68abf0a98d\" y=\"169.463571\"/>\n     <use style=\"fill:#1f77b4;stroke:#1f77b4;\" x=\"602.114\" xlink:href=\"#m68abf0a98d\" y=\"199.163346\"/>\n     <use style=\"fill:#1f77b4;stroke:#1f77b4;\" x=\"602.722727\" xlink:href=\"#m68abf0a98d\" y=\"111.249088\"/>\n     <use style=\"fill:#1f77b4;stroke:#1f77b4;\" x=\"603.331455\" xlink:href=\"#m68abf0a98d\" y=\"132.04969\"/>\n     <use style=\"fill:#1f77b4;stroke:#1f77b4;\" x=\"603.940182\" xlink:href=\"#m68abf0a98d\" y=\"227.819802\"/>\n     <use style=\"fill:#1f77b4;stroke:#1f77b4;\" x=\"604.548909\" xlink:href=\"#m68abf0a98d\" y=\"217.707468\"/>\n     <use style=\"fill:#1f77b4;stroke:#1f77b4;\" x=\"605.157636\" xlink:href=\"#m68abf0a98d\" y=\"194.175339\"/>\n     <use style=\"fill:#1f77b4;stroke:#1f77b4;\" x=\"605.766364\" xlink:href=\"#m68abf0a98d\" y=\"270.83306\"/>\n     <use style=\"fill:#1f77b4;stroke:#1f77b4;\" x=\"606.375091\" xlink:href=\"#m68abf0a98d\" y=\"209.552792\"/>\n     <use style=\"fill:#1f77b4;stroke:#1f77b4;\" x=\"606.983818\" xlink:href=\"#m68abf0a98d\" y=\"118.671398\"/>\n     <use style=\"fill:#1f77b4;stroke:#1f77b4;\" x=\"607.592545\" xlink:href=\"#m68abf0a98d\" y=\"148.622106\"/>\n     <use style=\"fill:#1f77b4;stroke:#1f77b4;\" x=\"608.201273\" xlink:href=\"#m68abf0a98d\" y=\"117.968403\"/>\n     <use style=\"fill:#1f77b4;stroke:#1f77b4;\" x=\"608.81\" xlink:href=\"#m68abf0a98d\" y=\"149.81228\"/>\n     <use style=\"fill:#1f77b4;stroke:#1f77b4;\" x=\"609.418727\" xlink:href=\"#m68abf0a98d\" y=\"187.789962\"/>\n     <use style=\"fill:#1f77b4;stroke:#1f77b4;\" x=\"610.027455\" xlink:href=\"#m68abf0a98d\" y=\"145.171621\"/>\n     <use style=\"fill:#1f77b4;stroke:#1f77b4;\" x=\"610.636182\" xlink:href=\"#m68abf0a98d\" y=\"166.430669\"/>\n     <use style=\"fill:#1f77b4;stroke:#1f77b4;\" x=\"611.244909\" xlink:href=\"#m68abf0a98d\" y=\"157.291736\"/>\n     <use style=\"fill:#1f77b4;stroke:#1f77b4;\" x=\"611.853636\" xlink:href=\"#m68abf0a98d\" y=\"181.627424\"/>\n     <use style=\"fill:#1f77b4;stroke:#1f77b4;\" x=\"612.462364\" xlink:href=\"#m68abf0a98d\" y=\"82.761836\"/>\n     <use style=\"fill:#1f77b4;stroke:#1f77b4;\" x=\"613.071091\" xlink:href=\"#m68abf0a98d\" y=\"167.116105\"/>\n     <use style=\"fill:#1f77b4;stroke:#1f77b4;\" x=\"613.679818\" xlink:href=\"#m68abf0a98d\" y=\"193.824799\"/>\n     <use style=\"fill:#1f77b4;stroke:#1f77b4;\" x=\"614.288545\" xlink:href=\"#m68abf0a98d\" y=\"165.704369\"/>\n     <use style=\"fill:#1f77b4;stroke:#1f77b4;\" x=\"614.897273\" xlink:href=\"#m68abf0a98d\" y=\"180.380423\"/>\n     <use style=\"fill:#1f77b4;stroke:#1f77b4;\" x=\"615.506\" xlink:href=\"#m68abf0a98d\" y=\"212.029236\"/>\n     <use style=\"fill:#1f77b4;stroke:#1f77b4;\" x=\"616.114727\" xlink:href=\"#m68abf0a98d\" y=\"183.330638\"/>\n     <use style=\"fill:#1f77b4;stroke:#1f77b4;\" x=\"616.723455\" xlink:href=\"#m68abf0a98d\" y=\"204.478267\"/>\n     <use style=\"fill:#1f77b4;stroke:#1f77b4;\" x=\"617.332182\" xlink:href=\"#m68abf0a98d\" y=\"237.547118\"/>\n     <use style=\"fill:#1f77b4;stroke:#1f77b4;\" x=\"617.940909\" xlink:href=\"#m68abf0a98d\" y=\"217.087479\"/>\n     <use style=\"fill:#1f77b4;stroke:#1f77b4;\" x=\"618.549636\" xlink:href=\"#m68abf0a98d\" y=\"165.390543\"/>\n     <use style=\"fill:#1f77b4;stroke:#1f77b4;\" x=\"619.158364\" xlink:href=\"#m68abf0a98d\" y=\"141.686337\"/>\n     <use style=\"fill:#1f77b4;stroke:#1f77b4;\" x=\"619.767091\" xlink:href=\"#m68abf0a98d\" y=\"206.286196\"/>\n     <use style=\"fill:#1f77b4;stroke:#1f77b4;\" x=\"620.375818\" xlink:href=\"#m68abf0a98d\" y=\"248.756724\"/>\n     <use style=\"fill:#1f77b4;stroke:#1f77b4;\" x=\"620.984545\" xlink:href=\"#m68abf0a98d\" y=\"183.803133\"/>\n     <use style=\"fill:#1f77b4;stroke:#1f77b4;\" x=\"621.593273\" xlink:href=\"#m68abf0a98d\" y=\"200.358628\"/>\n     <use style=\"fill:#1f77b4;stroke:#1f77b4;\" x=\"622.202\" xlink:href=\"#m68abf0a98d\" y=\"163.87058\"/>\n     <use style=\"fill:#1f77b4;stroke:#1f77b4;\" x=\"622.810727\" xlink:href=\"#m68abf0a98d\" y=\"177.29229\"/>\n     <use style=\"fill:#1f77b4;stroke:#1f77b4;\" x=\"623.419455\" xlink:href=\"#m68abf0a98d\" y=\"58.645156\"/>\n     <use style=\"fill:#1f77b4;stroke:#1f77b4;\" x=\"624.028182\" xlink:href=\"#m68abf0a98d\" y=\"167.819419\"/>\n     <use style=\"fill:#1f77b4;stroke:#1f77b4;\" x=\"624.636909\" xlink:href=\"#m68abf0a98d\" y=\"209.168092\"/>\n     <use style=\"fill:#1f77b4;stroke:#1f77b4;\" x=\"625.245636\" xlink:href=\"#m68abf0a98d\" y=\"268.738442\"/>\n     <use style=\"fill:#1f77b4;stroke:#1f77b4;\" x=\"625.854364\" xlink:href=\"#m68abf0a98d\" y=\"179.913675\"/>\n     <use style=\"fill:#1f77b4;stroke:#1f77b4;\" x=\"626.463091\" xlink:href=\"#m68abf0a98d\" y=\"122.570433\"/>\n     <use style=\"fill:#1f77b4;stroke:#1f77b4;\" x=\"627.071818\" xlink:href=\"#m68abf0a98d\" y=\"181.365318\"/>\n     <use style=\"fill:#1f77b4;stroke:#1f77b4;\" x=\"627.680545\" xlink:href=\"#m68abf0a98d\" y=\"143.577591\"/>\n     <use style=\"fill:#1f77b4;stroke:#1f77b4;\" x=\"628.289273\" xlink:href=\"#m68abf0a98d\" y=\"154.127941\"/>\n     <use style=\"fill:#1f77b4;stroke:#1f77b4;\" x=\"628.898\" xlink:href=\"#m68abf0a98d\" y=\"208.502131\"/>\n     <use style=\"fill:#1f77b4;stroke:#1f77b4;\" x=\"629.506727\" xlink:href=\"#m68abf0a98d\" y=\"193.744667\"/>\n     <use style=\"fill:#1f77b4;stroke:#1f77b4;\" x=\"630.115455\" xlink:href=\"#m68abf0a98d\" y=\"194.178851\"/>\n     <use style=\"fill:#1f77b4;stroke:#1f77b4;\" x=\"630.724182\" xlink:href=\"#m68abf0a98d\" y=\"163.243887\"/>\n     <use style=\"fill:#1f77b4;stroke:#1f77b4;\" x=\"631.332909\" xlink:href=\"#m68abf0a98d\" y=\"123.374631\"/>\n     <use style=\"fill:#1f77b4;stroke:#1f77b4;\" x=\"631.941636\" xlink:href=\"#m68abf0a98d\" y=\"249.038624\"/>\n     <use style=\"fill:#1f77b4;stroke:#1f77b4;\" x=\"632.550364\" xlink:href=\"#m68abf0a98d\" y=\"110.937498\"/>\n     <use style=\"fill:#1f77b4;stroke:#1f77b4;\" x=\"633.159091\" xlink:href=\"#m68abf0a98d\" y=\"151.304787\"/>\n     <use style=\"fill:#1f77b4;stroke:#1f77b4;\" x=\"633.767818\" xlink:href=\"#m68abf0a98d\" y=\"125.091573\"/>\n     <use style=\"fill:#1f77b4;stroke:#1f77b4;\" x=\"634.376545\" xlink:href=\"#m68abf0a98d\" y=\"101.026612\"/>\n     <use style=\"fill:#1f77b4;stroke:#1f77b4;\" x=\"634.985273\" xlink:href=\"#m68abf0a98d\" y=\"100.40758\"/>\n     <use style=\"fill:#1f77b4;stroke:#1f77b4;\" x=\"635.594\" xlink:href=\"#m68abf0a98d\" y=\"175.171174\"/>\n     <use style=\"fill:#1f77b4;stroke:#1f77b4;\" x=\"636.202727\" xlink:href=\"#m68abf0a98d\" y=\"173.222135\"/>\n     <use style=\"fill:#1f77b4;stroke:#1f77b4;\" x=\"636.811455\" xlink:href=\"#m68abf0a98d\" y=\"217.916259\"/>\n     <use style=\"fill:#1f77b4;stroke:#1f77b4;\" x=\"637.420182\" xlink:href=\"#m68abf0a98d\" y=\"138.023549\"/>\n     <use style=\"fill:#1f77b4;stroke:#1f77b4;\" x=\"638.028909\" xlink:href=\"#m68abf0a98d\" y=\"201.003519\"/>\n     <use style=\"fill:#1f77b4;stroke:#1f77b4;\" x=\"638.637636\" xlink:href=\"#m68abf0a98d\" y=\"108.185538\"/>\n     <use style=\"fill:#1f77b4;stroke:#1f77b4;\" x=\"639.246364\" xlink:href=\"#m68abf0a98d\" y=\"135.034385\"/>\n     <use style=\"fill:#1f77b4;stroke:#1f77b4;\" x=\"639.855091\" xlink:href=\"#m68abf0a98d\" y=\"28.64241\"/>\n     <use style=\"fill:#1f77b4;stroke:#1f77b4;\" x=\"640.463818\" xlink:href=\"#m68abf0a98d\" y=\"169.30586\"/>\n     <use style=\"fill:#1f77b4;stroke:#1f77b4;\" x=\"641.072545\" xlink:href=\"#m68abf0a98d\" y=\"124.194473\"/>\n     <use style=\"fill:#1f77b4;stroke:#1f77b4;\" x=\"641.681273\" xlink:href=\"#m68abf0a98d\" y=\"201.937653\"/>\n     <use style=\"fill:#1f77b4;stroke:#1f77b4;\" x=\"642.29\" xlink:href=\"#m68abf0a98d\" y=\"234.565296\"/>\n     <use style=\"fill:#1f77b4;stroke:#1f77b4;\" x=\"642.898727\" xlink:href=\"#m68abf0a98d\" y=\"100.243804\"/>\n     <use style=\"fill:#1f77b4;stroke:#1f77b4;\" x=\"643.507455\" xlink:href=\"#m68abf0a98d\" y=\"120.460491\"/>\n     <use style=\"fill:#1f77b4;stroke:#1f77b4;\" x=\"644.116182\" xlink:href=\"#m68abf0a98d\" y=\"232.472593\"/>\n     <use style=\"fill:#1f77b4;stroke:#1f77b4;\" x=\"644.724909\" xlink:href=\"#m68abf0a98d\" y=\"209.588548\"/>\n     <use style=\"fill:#1f77b4;stroke:#1f77b4;\" x=\"645.333636\" xlink:href=\"#m68abf0a98d\" y=\"165.980522\"/>\n     <use style=\"fill:#1f77b4;stroke:#1f77b4;\" x=\"645.942364\" xlink:href=\"#m68abf0a98d\" y=\"150.330428\"/>\n     <use style=\"fill:#1f77b4;stroke:#1f77b4;\" x=\"646.551091\" xlink:href=\"#m68abf0a98d\" y=\"249.297538\"/>\n     <use style=\"fill:#1f77b4;stroke:#1f77b4;\" x=\"647.159818\" xlink:href=\"#m68abf0a98d\" y=\"135.21987\"/>\n     <use style=\"fill:#1f77b4;stroke:#1f77b4;\" x=\"647.768545\" xlink:href=\"#m68abf0a98d\" y=\"148.634237\"/>\n     <use style=\"fill:#1f77b4;stroke:#1f77b4;\" x=\"648.377273\" xlink:href=\"#m68abf0a98d\" y=\"140.600558\"/>\n     <use style=\"fill:#1f77b4;stroke:#1f77b4;\" x=\"648.986\" xlink:href=\"#m68abf0a98d\" y=\"146.951775\"/>\n     <use style=\"fill:#1f77b4;stroke:#1f77b4;\" x=\"649.594727\" xlink:href=\"#m68abf0a98d\" y=\"119.242222\"/>\n     <use style=\"fill:#1f77b4;stroke:#1f77b4;\" x=\"650.203455\" xlink:href=\"#m68abf0a98d\" y=\"169.290536\"/>\n     <use style=\"fill:#1f77b4;stroke:#1f77b4;\" x=\"650.812182\" xlink:href=\"#m68abf0a98d\" y=\"184.427591\"/>\n     <use style=\"fill:#1f77b4;stroke:#1f77b4;\" x=\"651.420909\" xlink:href=\"#m68abf0a98d\" y=\"176.78787\"/>\n     <use style=\"fill:#1f77b4;stroke:#1f77b4;\" x=\"652.029636\" xlink:href=\"#m68abf0a98d\" y=\"112.353703\"/>\n     <use style=\"fill:#1f77b4;stroke:#1f77b4;\" x=\"652.638364\" xlink:href=\"#m68abf0a98d\" y=\"119.551578\"/>\n     <use style=\"fill:#1f77b4;stroke:#1f77b4;\" x=\"653.247091\" xlink:href=\"#m68abf0a98d\" y=\"155.554362\"/>\n     <use style=\"fill:#1f77b4;stroke:#1f77b4;\" x=\"653.855818\" xlink:href=\"#m68abf0a98d\" y=\"216.62967\"/>\n     <use style=\"fill:#1f77b4;stroke:#1f77b4;\" x=\"654.464545\" xlink:href=\"#m68abf0a98d\" y=\"228.616657\"/>\n     <use style=\"fill:#1f77b4;stroke:#1f77b4;\" x=\"655.073273\" xlink:href=\"#m68abf0a98d\" y=\"212.943257\"/>\n     <use style=\"fill:#1f77b4;stroke:#1f77b4;\" x=\"655.682\" xlink:href=\"#m68abf0a98d\" y=\"171.367276\"/>\n     <use style=\"fill:#1f77b4;stroke:#1f77b4;\" x=\"656.290727\" xlink:href=\"#m68abf0a98d\" y=\"222.264483\"/>\n     <use style=\"fill:#1f77b4;stroke:#1f77b4;\" x=\"656.899455\" xlink:href=\"#m68abf0a98d\" y=\"168.613081\"/>\n     <use style=\"fill:#1f77b4;stroke:#1f77b4;\" x=\"657.508182\" xlink:href=\"#m68abf0a98d\" y=\"66.98851\"/>\n     <use style=\"fill:#1f77b4;stroke:#1f77b4;\" x=\"658.116909\" xlink:href=\"#m68abf0a98d\" y=\"186.473044\"/>\n     <use style=\"fill:#1f77b4;stroke:#1f77b4;\" x=\"658.725636\" xlink:href=\"#m68abf0a98d\" y=\"99.344149\"/>\n     <use style=\"fill:#1f77b4;stroke:#1f77b4;\" x=\"659.334364\" xlink:href=\"#m68abf0a98d\" y=\"159.726997\"/>\n     <use style=\"fill:#1f77b4;stroke:#1f77b4;\" x=\"659.943091\" xlink:href=\"#m68abf0a98d\" y=\"115.237834\"/>\n     <use style=\"fill:#1f77b4;stroke:#1f77b4;\" x=\"660.551818\" xlink:href=\"#m68abf0a98d\" y=\"246.774802\"/>\n     <use style=\"fill:#1f77b4;stroke:#1f77b4;\" x=\"661.160545\" xlink:href=\"#m68abf0a98d\" y=\"115.218359\"/>\n     <use style=\"fill:#1f77b4;stroke:#1f77b4;\" x=\"661.769273\" xlink:href=\"#m68abf0a98d\" y=\"218.201352\"/>\n     <use style=\"fill:#1f77b4;stroke:#1f77b4;\" x=\"662.378\" xlink:href=\"#m68abf0a98d\" y=\"132.580288\"/>\n     <use style=\"fill:#1f77b4;stroke:#1f77b4;\" x=\"662.986727\" xlink:href=\"#m68abf0a98d\" y=\"154.506574\"/>\n     <use style=\"fill:#1f77b4;stroke:#1f77b4;\" x=\"663.595455\" xlink:href=\"#m68abf0a98d\" y=\"118.642985\"/>\n     <use style=\"fill:#1f77b4;stroke:#1f77b4;\" x=\"664.204182\" xlink:href=\"#m68abf0a98d\" y=\"158.37975\"/>\n     <use style=\"fill:#1f77b4;stroke:#1f77b4;\" x=\"664.812909\" xlink:href=\"#m68abf0a98d\" y=\"242.534167\"/>\n     <use style=\"fill:#1f77b4;stroke:#1f77b4;\" x=\"665.421636\" xlink:href=\"#m68abf0a98d\" y=\"149.407468\"/>\n     <use style=\"fill:#1f77b4;stroke:#1f77b4;\" x=\"666.030364\" xlink:href=\"#m68abf0a98d\" y=\"164.886443\"/>\n     <use style=\"fill:#1f77b4;stroke:#1f77b4;\" x=\"666.639091\" xlink:href=\"#m68abf0a98d\" y=\"191.535118\"/>\n     <use style=\"fill:#1f77b4;stroke:#1f77b4;\" x=\"667.247818\" xlink:href=\"#m68abf0a98d\" y=\"145.172898\"/>\n     <use style=\"fill:#1f77b4;stroke:#1f77b4;\" x=\"667.856545\" xlink:href=\"#m68abf0a98d\" y=\"191.766257\"/>\n     <use style=\"fill:#1f77b4;stroke:#1f77b4;\" x=\"668.465273\" xlink:href=\"#m68abf0a98d\" y=\"173.298117\"/>\n     <use style=\"fill:#1f77b4;stroke:#1f77b4;\" x=\"669.074\" xlink:href=\"#m68abf0a98d\" y=\"179.836416\"/>\n     <use style=\"fill:#1f77b4;stroke:#1f77b4;\" x=\"669.682727\" xlink:href=\"#m68abf0a98d\" y=\"108.873209\"/>\n     <use style=\"fill:#1f77b4;stroke:#1f77b4;\" x=\"670.291455\" xlink:href=\"#m68abf0a98d\" y=\"101.936802\"/>\n     <use style=\"fill:#1f77b4;stroke:#1f77b4;\" x=\"670.900182\" xlink:href=\"#m68abf0a98d\" y=\"241.224591\"/>\n     <use style=\"fill:#1f77b4;stroke:#1f77b4;\" x=\"671.508909\" xlink:href=\"#m68abf0a98d\" y=\"185.850821\"/>\n     <use style=\"fill:#1f77b4;stroke:#1f77b4;\" x=\"672.117636\" xlink:href=\"#m68abf0a98d\" y=\"191.188409\"/>\n     <use style=\"fill:#1f77b4;stroke:#1f77b4;\" x=\"672.726364\" xlink:href=\"#m68abf0a98d\" y=\"69.904566\"/>\n     <use style=\"fill:#1f77b4;stroke:#1f77b4;\" x=\"673.335091\" xlink:href=\"#m68abf0a98d\" y=\"150.413114\"/>\n     <use style=\"fill:#1f77b4;stroke:#1f77b4;\" x=\"673.943818\" xlink:href=\"#m68abf0a98d\" y=\"249.323717\"/>\n     <use style=\"fill:#1f77b4;stroke:#1f77b4;\" x=\"674.552545\" xlink:href=\"#m68abf0a98d\" y=\"169.076317\"/>\n     <use style=\"fill:#1f77b4;stroke:#1f77b4;\" x=\"675.161273\" xlink:href=\"#m68abf0a98d\" y=\"196.353601\"/>\n     <use style=\"fill:#1f77b4;stroke:#1f77b4;\" x=\"675.77\" xlink:href=\"#m68abf0a98d\" y=\"142.708585\"/>\n     <use style=\"fill:#1f77b4;stroke:#1f77b4;\" x=\"676.378727\" xlink:href=\"#m68abf0a98d\" y=\"227.275157\"/>\n     <use style=\"fill:#1f77b4;stroke:#1f77b4;\" x=\"676.987455\" xlink:href=\"#m68abf0a98d\" y=\"133.130999\"/>\n     <use style=\"fill:#1f77b4;stroke:#1f77b4;\" x=\"677.596182\" xlink:href=\"#m68abf0a98d\" y=\"139.780398\"/>\n    </g>\n   </g>\n   <g id=\"patch_3\">\n    <path d=\"M 39.65 333.36 \nL 39.65 7.2 \n\" style=\"fill:none;stroke:#000000;stroke-linecap:square;stroke-linejoin:miter;stroke-width:0.8;\"/>\n   </g>\n   <g id=\"patch_4\">\n    <path d=\"M 709.25 333.36 \nL 709.25 7.2 \n\" style=\"fill:none;stroke:#000000;stroke-linecap:square;stroke-linejoin:miter;stroke-width:0.8;\"/>\n   </g>\n   <g id=\"patch_5\">\n    <path d=\"M 39.65 333.36 \nL 709.25 333.36 \n\" style=\"fill:none;stroke:#000000;stroke-linecap:square;stroke-linejoin:miter;stroke-width:0.8;\"/>\n   </g>\n   <g id=\"patch_6\">\n    <path d=\"M 39.65 7.2 \nL 709.25 7.2 \n\" style=\"fill:none;stroke:#000000;stroke-linecap:square;stroke-linejoin:miter;stroke-width:0.8;\"/>\n   </g>\n   <g id=\"legend_1\">\n    <g id=\"patch_7\">\n     <path d=\"M 663.8875 29.878125 \nL 702.25 29.878125 \nQ 704.25 29.878125 704.25 27.878125 \nL 704.25 14.2 \nQ 704.25 12.2 702.25 12.2 \nL 663.8875 12.2 \nQ 661.8875 12.2 661.8875 14.2 \nL 661.8875 27.878125 \nQ 661.8875 29.878125 663.8875 29.878125 \nz\n\" style=\"fill:#ffffff;opacity:0.8;stroke:#cccccc;stroke-linejoin:miter;\"/>\n    </g>\n    <g id=\"line2d_13\"/>\n    <g id=\"line2d_14\">\n     <g>\n      <use style=\"fill:#1f77b4;stroke:#1f77b4;\" x=\"675.8875\" xlink:href=\"#m68abf0a98d\" y=\"20.298438\"/>\n     </g>\n    </g>\n    <g id=\"text_12\">\n     <!-- 0 -->\n     <g transform=\"translate(693.8875 23.798438)scale(0.1 -0.1)\">\n      <use xlink:href=\"#DejaVuSans-48\"/>\n     </g>\n    </g>\n   </g>\n  </g>\n </g>\n <defs>\n  <clipPath id=\"p10be098d85\">\n   <rect height=\"326.16\" width=\"669.6\" x=\"39.65\" y=\"7.2\"/>\n  </clipPath>\n </defs>\n</svg>\n",
      "image/png": "[encoded data removed]"
     },
     "metadata": {
      "needs_background": "light"
     }
    }
   ],
   "source": [
    "import matplotlib.pyplot as plt\n",
    "\n",
    "tamanho_simulacao = 1000\n",
    "\n",
    "medias = [renda_5k.sample(n = n).mean() for i in range(1, tamanho_simulacao)]\n",
    "medias = pd.DataFrame(medias)\n",
    "\n",
    "ax = medias.plot(style = '.')\n",
    "ax.figure.set_size_inches(12, 6)\n",
    "ax.hlines(y = media, xmin = 0, xmax = tamanho_simulacao, colors='black', linestyles='dashed')\n",
    "ax.hlines(y = intervalo[0], xmin = 0, xmax = tamanho_simulacao, colors='red', linestyles='dashed')\n",
    "ax.hlines(y = intervalo[1], xmin = 0, xmax = tamanho_simulacao, colors='red', linestyles='dashed')\n",
    "ax"
   ]
  }
 ],
 "metadata": {
  "colab": {
   "collapsed_sections": [],
   "name": "Curso_de_Estatística_Parte_2.ipynb",
   "provenance": [],
   "toc_visible": true,
   "version": "0.3.2"
  },
  "kernelspec": {
   "name": "python3",
   "display_name": "Python 3",
   "language": "python"
  },
  "language_info": {
   "codemirror_mode": {
    "name": "ipython",
    "version": 3
   },
   "file_extension": ".py",
   "mimetype": "text/x-python",
   "name": "python",
   "nbconvert_exporter": "python",
   "pygments_lexer": "ipython3",
   "version": "3.6.13-final"
  }
 },
 "nbformat": 4,
 "nbformat_minor": 1
}