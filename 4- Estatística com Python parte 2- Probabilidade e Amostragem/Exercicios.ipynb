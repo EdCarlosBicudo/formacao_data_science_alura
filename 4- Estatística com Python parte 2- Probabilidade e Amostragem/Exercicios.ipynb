{
 "metadata": {
  "language_info": {
   "codemirror_mode": {
    "name": "ipython",
    "version": 3
   },
   "file_extension": ".py",
   "mimetype": "text/x-python",
   "name": "python",
   "nbconvert_exporter": "python",
   "pygments_lexer": "ipython3",
   "version": "3.6.13-final"
  },
  "orig_nbformat": 2,
  "kernelspec": {
   "name": "python3",
   "display_name": "Python 3.6.13 64-bit ('data_science': conda)",
   "metadata": {
    "interpreter": {
     "hash": "e12987d93da84d4e0d0f92372138e8dd8660892a00c3d9be90bd2e21197fb2ae"
    }
   }
  }
 },
 "nbformat": 4,
 "nbformat_minor": 2,
 "cells": [
  {
   "source": [
    "# 1"
   ],
   "cell_type": "markdown",
   "metadata": {}
  },
  {
   "cell_type": "code",
   "execution_count": 1,
   "metadata": {},
   "outputs": [
    {
     "output_type": "execute_result",
     "data": {
      "text/plain": [
       "0.9986501019683699"
      ]
     },
     "metadata": {},
     "execution_count": 1
    }
   ],
   "source": [
    "from scipy.stats import norm\n",
    "media = 70\n",
    "desvio_padrao = 5\n",
    "z = (85 - media) / desvio_padrao\n",
    "norm.cdf(z)"
   ]
  },
  {
   "source": [
    "# 2"
   ],
   "cell_type": "markdown",
   "metadata": {}
  },
  {
   "cell_type": "code",
   "execution_count": 5,
   "metadata": {},
   "outputs": [
    {
     "output_type": "execute_result",
     "data": {
      "text/plain": [
       "0.6826894921370859"
      ]
     },
     "metadata": {},
     "execution_count": 5
    }
   ],
   "source": [
    "media = 300\n",
    "desvio_padrao = 50\n",
    "z_superior = (350 - media) / desvio_padrao\n",
    "z_inferior = (250 - media) / desvio_padrao\n",
    "probabilidade = norm.cdf(z_superior) - norm.cdf(z_inferior)\n",
    "probabilidade"
   ]
  },
  {
   "cell_type": "code",
   "execution_count": 6,
   "metadata": {},
   "outputs": [
    {
     "output_type": "execute_result",
     "data": {
      "text/plain": [
       "-0.02271846070634609"
      ]
     },
     "metadata": {},
     "execution_count": 6
    }
   ],
   "source": [
    "z_superior = (400 - media) / desvio_padrao\n",
    "z_inferior = (500 - media) / desvio_padrao\n",
    "probabilidade = norm.cdf(z_superior) - norm.cdf(z_inferior)\n",
    "probabilidade"
   ]
  },
  {
   "source": [
    "# 3"
   ],
   "cell_type": "markdown",
   "metadata": {}
  },
  {
   "cell_type": "code",
   "execution_count": 7,
   "metadata": {},
   "outputs": [
    {
     "output_type": "execute_result",
     "data": {
      "text/plain": [
       "0.8315294174398976"
      ]
     },
     "metadata": {},
     "execution_count": 7
    }
   ],
   "source": [
    "media = 720\n",
    "desvio_padrao = 30\n",
    "z_superior = (750 - media) / desvio_padrao\n",
    "z_inferior = (650 - media) / desvio_padrao\n",
    "probabilidade = norm.cdf(z_superior) - norm.cdf(z_inferior)\n",
    "probabilidade"
   ]
  },
  {
   "cell_type": "code",
   "execution_count": 8,
   "metadata": {},
   "outputs": [
    {
     "output_type": "execute_result",
     "data": {
      "text/plain": [
       "0.0038303805675897365"
      ]
     },
     "metadata": {},
     "execution_count": 8
    }
   ],
   "source": [
    "z = (800 - media) / desvio_padrao\n",
    "probabilidade = norm.cdf(z * -1)\n",
    "probabilidade"
   ]
  },
  {
   "cell_type": "code",
   "execution_count": 13,
   "metadata": {},
   "outputs": [
    {
     "output_type": "execute_result",
     "data": {
      "text/plain": [
       "0.2524925375469229"
      ]
     },
     "metadata": {},
     "execution_count": 13
    }
   ],
   "source": [
    "z = (700 - media) / desvio_padrao\n",
    "probabilidade = norm.cdf(z)\n",
    "probabilidade"
   ]
  },
  {
   "source": [
    "# 4"
   ],
   "cell_type": "markdown",
   "metadata": {}
  },
  {
   "cell_type": "code",
   "execution_count": 14,
   "metadata": {},
   "outputs": [
    {
     "output_type": "stream",
     "name": "stdout",
     "text": [
      "0.9750\n0.0158\n0.2177\n0.2776\n"
     ]
    }
   ],
   "source": [
    "probabilidade = norm.cdf(1.96)\n",
    "print(f\"{probabilidade:.4f}\")\n",
    "\n",
    "probabilidade = 1 - norm.cdf(2.15)\n",
    "\n",
    "print(f\"{probabilidade:.4f}\")\n",
    "\n",
    "\n",
    "probabilidade = norm.cdf(-0.78)\n",
    "print(f\"{probabilidade:.4f}\")\n",
    "\n",
    "\n",
    "probabilidade = 1 - norm.cdf(0.59)\n",
    "print(f\"{probabilidade:.4f}\")"
   ]
  },
  {
   "cell_type": "code",
   "execution_count": null,
   "metadata": {},
   "outputs": [],
   "source": []
  }
 ]
}