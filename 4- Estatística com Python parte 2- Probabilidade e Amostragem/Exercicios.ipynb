{
 "metadata": {
  "language_info": {
   "codemirror_mode": {
    "name": "ipython",
    "version": 3
   },
   "file_extension": ".py",
   "mimetype": "text/x-python",
   "name": "python",
   "nbconvert_exporter": "python",
   "pygments_lexer": "ipython3",
   "version": "3.6.13-final"
  },
  "orig_nbformat": 2,
  "kernelspec": {
   "name": "python3",
   "display_name": "Python 3.6.13 64-bit ('data_science': conda)",
   "metadata": {
    "interpreter": {
     "hash": "e12987d93da84d4e0d0f92372138e8dd8660892a00c3d9be90bd2e21197fb2ae"
    }
   }
  }
 },
 "nbformat": 4,
 "nbformat_minor": 2,
 "cells": [
  {
   "source": [
    "# 1"
   ],
   "cell_type": "markdown",
   "metadata": {}
  },
  {
   "cell_type": "code",
   "execution_count": 20,
   "metadata": {},
   "outputs": [
    {
     "output_type": "execute_result",
     "data": {
      "text/plain": [
       "0.9986501019683699"
      ]
     },
     "metadata": {},
     "execution_count": 20
    }
   ],
   "source": [
    "from scipy.stats import norm\n",
    "media = 70\n",
    "desvio_padrao = 5\n",
    "z = (85 - media) / desvio_padrao\n",
    "norm.cdf(z)"
   ]
  },
  {
   "source": [
    "# 2"
   ],
   "cell_type": "markdown",
   "metadata": {}
  },
  {
   "cell_type": "code",
   "execution_count": 21,
   "metadata": {},
   "outputs": [
    {
     "output_type": "execute_result",
     "data": {
      "text/plain": [
       "0.6826894921370859"
      ]
     },
     "metadata": {},
     "execution_count": 21
    }
   ],
   "source": [
    "media = 300\n",
    "desvio_padrao = 50\n",
    "z_superior = (350 - media) / desvio_padrao\n",
    "z_inferior = (250 - media) / desvio_padrao\n",
    "probabilidade = norm.cdf(z_superior) - norm.cdf(z_inferior)\n",
    "probabilidade"
   ]
  },
  {
   "cell_type": "code",
   "execution_count": 22,
   "metadata": {},
   "outputs": [
    {
     "output_type": "execute_result",
     "data": {
      "text/plain": [
       "-0.02271846070634609"
      ]
     },
     "metadata": {},
     "execution_count": 22
    }
   ],
   "source": [
    "z_superior = (400 - media) / desvio_padrao\n",
    "z_inferior = (500 - media) / desvio_padrao\n",
    "probabilidade = norm.cdf(z_superior) - norm.cdf(z_inferior)\n",
    "probabilidade"
   ]
  },
  {
   "source": [
    "# 3"
   ],
   "cell_type": "markdown",
   "metadata": {}
  },
  {
   "cell_type": "code",
   "execution_count": 23,
   "metadata": {},
   "outputs": [
    {
     "output_type": "execute_result",
     "data": {
      "text/plain": [
       "0.8315294174398976"
      ]
     },
     "metadata": {},
     "execution_count": 23
    }
   ],
   "source": [
    "media = 720\n",
    "desvio_padrao = 30\n",
    "z_superior = (750 - media) / desvio_padrao\n",
    "z_inferior = (650 - media) / desvio_padrao\n",
    "probabilidade = norm.cdf(z_superior) - norm.cdf(z_inferior)\n",
    "probabilidade"
   ]
  },
  {
   "cell_type": "code",
   "execution_count": 24,
   "metadata": {},
   "outputs": [
    {
     "output_type": "execute_result",
     "data": {
      "text/plain": [
       "0.0038303805675897365"
      ]
     },
     "metadata": {},
     "execution_count": 24
    }
   ],
   "source": [
    "z = (800 - media) / desvio_padrao\n",
    "probabilidade = norm.cdf(z * -1)\n",
    "probabilidade"
   ]
  },
  {
   "cell_type": "code",
   "execution_count": 25,
   "metadata": {},
   "outputs": [
    {
     "output_type": "execute_result",
     "data": {
      "text/plain": [
       "0.2524925375469229"
      ]
     },
     "metadata": {},
     "execution_count": 25
    }
   ],
   "source": [
    "z = (700 - media) / desvio_padrao\n",
    "probabilidade = norm.cdf(z)\n",
    "probabilidade"
   ]
  },
  {
   "source": [
    "# 4"
   ],
   "cell_type": "markdown",
   "metadata": {}
  },
  {
   "cell_type": "code",
   "execution_count": 26,
   "metadata": {},
   "outputs": [
    {
     "output_type": "stream",
     "name": "stdout",
     "text": [
      "0.9750\n0.0158\n0.2177\n0.2776\n"
     ]
    }
   ],
   "source": [
    "probabilidade = norm.cdf(1.96)\n",
    "print(f\"{probabilidade:.4f}\")\n",
    "\n",
    "probabilidade = 1 - norm.cdf(2.15)\n",
    "\n",
    "print(f\"{probabilidade:.4f}\")\n",
    "\n",
    "\n",
    "probabilidade = norm.cdf(-0.78)\n",
    "print(f\"{probabilidade:.4f}\")\n",
    "\n",
    "\n",
    "probabilidade = 1 - norm.cdf(0.59)\n",
    "print(f\"{probabilidade:.4f}\")"
   ]
  },
  {
   "source": [
    "# 5"
   ],
   "cell_type": "markdown",
   "metadata": {}
  },
  {
   "cell_type": "code",
   "execution_count": 27,
   "metadata": {},
   "outputs": [
    {
     "output_type": "stream",
     "name": "stdout",
     "text": [
      "R$ 1.66\n"
     ]
    }
   ],
   "source": [
    "import numpy as np\n",
    "\n",
    "n = 50\n",
    "desvio_padrao = 6\n",
    "z = norm.ppf(0.975)\n",
    "\n",
    "e = z * (desvio_padrao / np.sqrt(n))\n",
    "print(f\"R$ {e:0.2f}\")"
   ]
  },
  {
   "source": [
    "# 6"
   ],
   "cell_type": "markdown",
   "metadata": {}
  },
  {
   "cell_type": "code",
   "execution_count": 28,
   "metadata": {},
   "outputs": [
    {
     "output_type": "execute_result",
     "data": {
      "text/plain": [
       "(27.592969951356466, 28.407030048643534)"
      ]
     },
     "metadata": {},
     "execution_count": 28
    }
   ],
   "source": [
    "n = 1976\n",
    "desvio_padrao = 11\n",
    "media_amostral = 28\n",
    "raiz_de_n = np.sqrt(n)\n",
    "sigma = desvio_padrao / raiz_de_n\n",
    "\n",
    "norm.interval(alpha = 0.90, loc = media_amostral, scale = sigma)"
   ]
  },
  {
   "source": [
    "# 7"
   ],
   "cell_type": "markdown",
   "metadata": {}
  },
  {
   "cell_type": "code",
   "execution_count": 29,
   "metadata": {},
   "outputs": [
    {
     "output_type": "execute_result",
     "data": {
      "text/plain": [
       "45.5"
      ]
     },
     "metadata": {},
     "execution_count": 29
    }
   ],
   "source": [
    "media = 45.5\n",
    "media"
   ]
  },
  {
   "cell_type": "code",
   "execution_count": 30,
   "metadata": {},
   "outputs": [
    {
     "output_type": "execute_result",
     "data": {
      "text/plain": [
       "1.6448536269514722"
      ]
     },
     "metadata": {},
     "execution_count": 30
    }
   ],
   "source": [
    "z = norm.ppf((0.9 / 2) + 0.5)\n",
    "z"
   ]
  },
  {
   "cell_type": "code",
   "execution_count": 31,
   "metadata": {},
   "outputs": [
    {
     "output_type": "execute_result",
     "data": {
      "text/plain": [
       "15"
      ]
     },
     "metadata": {},
     "execution_count": 31
    }
   ],
   "source": [
    "sigma = 15\n",
    "sigma"
   ]
  },
  {
   "cell_type": "code",
   "execution_count": 32,
   "metadata": {},
   "outputs": [
    {
     "output_type": "execute_result",
     "data": {
      "text/plain": [
       "4.55"
      ]
     },
     "metadata": {},
     "execution_count": 32
    }
   ],
   "source": [
    "e = media * 0.10\n",
    "e"
   ]
  },
  {
   "cell_type": "code",
   "execution_count": 33,
   "metadata": {},
   "outputs": [
    {
     "output_type": "execute_result",
     "data": {
      "text/plain": [
       "29.0"
      ]
     },
     "metadata": {},
     "execution_count": 33
    }
   ],
   "source": [
    "n = (z * (sigma / e)) ** 2\n",
    "n.round()"
   ]
  },
  {
   "source": [
    "# 8"
   ],
   "cell_type": "markdown",
   "metadata": {}
  },
  {
   "cell_type": "code",
   "execution_count": 34,
   "metadata": {},
   "outputs": [
    {
     "output_type": "execute_result",
     "data": {
      "text/plain": [
       "2000"
      ]
     },
     "metadata": {},
     "execution_count": 34
    }
   ],
   "source": [
    "N = 2000\n",
    "N"
   ]
  },
  {
   "cell_type": "code",
   "execution_count": 35,
   "metadata": {},
   "outputs": [
    {
     "output_type": "execute_result",
     "data": {
      "text/plain": [
       "1.959963984540054"
      ]
     },
     "metadata": {},
     "execution_count": 35
    }
   ],
   "source": [
    "z = norm.ppf(0.975)\n",
    "z"
   ]
  },
  {
   "cell_type": "code",
   "execution_count": 39,
   "metadata": {},
   "outputs": [
    {
     "output_type": "execute_result",
     "data": {
      "text/plain": [
       "480"
      ]
     },
     "metadata": {},
     "execution_count": 39
    }
   ],
   "source": [
    "s = 480\n",
    "s"
   ]
  },
  {
   "cell_type": "code",
   "execution_count": 37,
   "metadata": {},
   "outputs": [
    {
     "output_type": "execute_result",
     "data": {
      "text/plain": [
       "300"
      ]
     },
     "metadata": {},
     "execution_count": 37
    }
   ],
   "source": [
    "e = 300\n",
    "e"
   ]
  },
  {
   "cell_type": "code",
   "execution_count": 40,
   "metadata": {},
   "outputs": [
    {
     "output_type": "execute_result",
     "data": {
      "text/plain": [
       "10"
      ]
     },
     "metadata": {},
     "execution_count": 40
    }
   ],
   "source": [
    "n = ((z ** 2) * (s ** 2) * (N)) / (((z ** 2) * (s ** 2)) + ((e ** 2) * (N - 1)))\n",
    "int(n.round())"
   ]
  },
  {
   "cell_type": "code",
   "execution_count": null,
   "metadata": {},
   "outputs": [],
   "source": []
  }
 ]
}